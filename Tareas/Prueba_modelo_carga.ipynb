{
 "cells": [
  {
   "cell_type": "code",
   "execution_count": 1,
   "metadata": {},
   "outputs": [],
   "source": [
    "import findspark\n",
    "findspark.init()\n",
    "findspark.find()\n",
    "\n",
    "from pyspark import SparkContext\n",
    "\n",
    "from pyspark.sql import SparkSession\n",
    "\n",
    "from pyspark import SparkConf\n",
    "\n",
    "import pyspark.sql as pysql\n",
    "\n",
    "from pyspark import StorageLevel"
   ]
  },
  {
   "cell_type": "code",
   "execution_count": 2,
   "metadata": {},
   "outputs": [],
   "source": [
    "import pyspark.ml as pyml\n",
    "import pyspark.sql.functions as pysqlfun"
   ]
  },
  {
   "cell_type": "code",
   "execution_count": 3,
   "metadata": {},
   "outputs": [],
   "source": [
    "conf = SparkConf().setAppName(\"Tarea\") \\\n",
    "    .setMaster(\"local[2]\") \\\n",
    "    .set(\"spark.executor.cores\",\"2\") \\\n",
    "    .set(\"spark.executor.memory\", \"4g\") \\\n",
    "    .set(\"spark.driver.memory\",\"4g\")"
   ]
  },
  {
   "cell_type": "code",
   "execution_count": 4,
   "metadata": {},
   "outputs": [
    {
     "name": "stderr",
     "output_type": "stream",
     "text": [
      "Setting default log level to \"WARN\".\n",
      "To adjust logging level use sc.setLogLevel(newLevel). For SparkR, use setLogLevel(newLevel).\n",
      "24/11/22 04:19:43 WARN NativeCodeLoader: Unable to load native-hadoop library for your platform... using builtin-java classes where applicable\n"
     ]
    }
   ],
   "source": [
    "spark  = SparkSession.builder.config(conf=conf).getOrCreate()"
   ]
  },
  {
   "cell_type": "code",
   "execution_count": 5,
   "metadata": {},
   "outputs": [
    {
     "name": "stderr",
     "output_type": "stream",
     "text": [
      "24/11/22 04:20:00 WARN GarbageCollectionMetrics: To enable non-built-in garbage collector(s) List(G1 Concurrent GC), users should configure it(them) to spark.eventLog.gcMetrics.youngGenerationGarbageCollectors or spark.eventLog.gcMetrics.oldGenerationGarbageCollectors\n",
      "                                                                                \r"
     ]
    }
   ],
   "source": [
    "modelo = pyml.classification.RandomForestClassificationModel.load(\"RandomForest_model\")"
   ]
  },
  {
   "cell_type": "code",
   "execution_count": 6,
   "metadata": {},
   "outputs": [
    {
     "data": {
      "text/plain": [
       "Param(parent='RandomForestClassifier_0a2eae84f5f7', name='featuresCol', doc='features column name.')"
      ]
     },
     "execution_count": 6,
     "metadata": {},
     "output_type": "execute_result"
    }
   ],
   "source": [
    "modelo.featuresCol"
   ]
  },
  {
   "cell_type": "code",
   "execution_count": 8,
   "metadata": {},
   "outputs": [
    {
     "data": {
      "text/plain": [
       "[DecisionTreeClassificationModel: uid=dtc_ad55d086f8a5, depth=5, numNodes=29, numClasses=2, numFeatures=11,\n",
       " DecisionTreeClassificationModel: uid=dtc_875921addaea, depth=5, numNodes=47, numClasses=2, numFeatures=11,\n",
       " DecisionTreeClassificationModel: uid=dtc_bdb1914fd99e, depth=5, numNodes=33, numClasses=2, numFeatures=11,\n",
       " DecisionTreeClassificationModel: uid=dtc_158ee2868fc9, depth=5, numNodes=39, numClasses=2, numFeatures=11,\n",
       " DecisionTreeClassificationModel: uid=dtc_ca7f40496c71, depth=5, numNodes=33, numClasses=2, numFeatures=11,\n",
       " DecisionTreeClassificationModel: uid=dtc_f4b825a44bed, depth=5, numNodes=49, numClasses=2, numFeatures=11,\n",
       " DecisionTreeClassificationModel: uid=dtc_a7540b813a3a, depth=5, numNodes=17, numClasses=2, numFeatures=11,\n",
       " DecisionTreeClassificationModel: uid=dtc_a2c872744521, depth=5, numNodes=51, numClasses=2, numFeatures=11,\n",
       " DecisionTreeClassificationModel: uid=dtc_52db85f06b39, depth=5, numNodes=43, numClasses=2, numFeatures=11,\n",
       " DecisionTreeClassificationModel: uid=dtc_cc9a0a8e767e, depth=5, numNodes=19, numClasses=2, numFeatures=11,\n",
       " DecisionTreeClassificationModel: uid=dtc_eb0493070227, depth=5, numNodes=27, numClasses=2, numFeatures=11,\n",
       " DecisionTreeClassificationModel: uid=dtc_30934bcd179b, depth=5, numNodes=49, numClasses=2, numFeatures=11,\n",
       " DecisionTreeClassificationModel: uid=dtc_104a7050d57a, depth=5, numNodes=31, numClasses=2, numFeatures=11,\n",
       " DecisionTreeClassificationModel: uid=dtc_c96b92cfbf82, depth=5, numNodes=51, numClasses=2, numFeatures=11,\n",
       " DecisionTreeClassificationModel: uid=dtc_e30af5ff108e, depth=5, numNodes=31, numClasses=2, numFeatures=11,\n",
       " DecisionTreeClassificationModel: uid=dtc_c5aca7a7815f, depth=5, numNodes=27, numClasses=2, numFeatures=11,\n",
       " DecisionTreeClassificationModel: uid=dtc_69f77919e48b, depth=5, numNodes=35, numClasses=2, numFeatures=11,\n",
       " DecisionTreeClassificationModel: uid=dtc_71b0b19c280f, depth=5, numNodes=37, numClasses=2, numFeatures=11,\n",
       " DecisionTreeClassificationModel: uid=dtc_2bf95e8593d9, depth=5, numNodes=29, numClasses=2, numFeatures=11,\n",
       " DecisionTreeClassificationModel: uid=dtc_a1fb1d7b4bd8, depth=5, numNodes=49, numClasses=2, numFeatures=11]"
      ]
     },
     "execution_count": 8,
     "metadata": {},
     "output_type": "execute_result"
    }
   ],
   "source": [
    "modelo.trees"
   ]
  },
  {
   "cell_type": "code",
   "execution_count": 9,
   "metadata": {},
   "outputs": [],
   "source": [
    "spark.stop()"
   ]
  }
 ],
 "metadata": {
  "kernelspec": {
   "display_name": ".venv",
   "language": "python",
   "name": "python3"
  },
  "language_info": {
   "codemirror_mode": {
    "name": "ipython",
    "version": 3
   },
   "file_extension": ".py",
   "mimetype": "text/x-python",
   "name": "python",
   "nbconvert_exporter": "python",
   "pygments_lexer": "ipython3",
   "version": "3.12.3"
  }
 },
 "nbformat": 4,
 "nbformat_minor": 2
}
