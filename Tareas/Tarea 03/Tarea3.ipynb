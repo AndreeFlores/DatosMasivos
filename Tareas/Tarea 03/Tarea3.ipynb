{
 "cells": [
  {
   "cell_type": "code",
   "execution_count": 26,
   "metadata": {},
   "outputs": [],
   "source": [
    "import os\n",
    "import sys\n",
    "\n",
    "import findspark\n",
    "findspark.init()\n",
    "findspark.find()\n",
    "\n",
    "from pyspark import SparkContext\n",
    "\n",
    "from pyspark.sql import SparkSession\n",
    "\n",
    "import pyspark.sql as pysql"
   ]
  },
  {
   "cell_type": "code",
   "execution_count": null,
   "metadata": {},
   "outputs": [],
   "source": [
    "from pyspark import SparkConf"
   ]
  },
  {
   "cell_type": "code",
   "execution_count": null,
   "metadata": {},
   "outputs": [],
   "source": [
    "conf = SparkConf().setAppName(\"Tarea3\")\\\n",
    "    .setMaster(\"local[8]\") \\\n",
    "    .set(\"spark.executor.cores\",\"2\")\n",
    "    \n",
    "spark : SparkSession = SparkSession.builder.config(conf=conf).getOrCreate()"
   ]
  },
  {
   "cell_type": "code",
   "execution_count": 27,
   "metadata": {},
   "outputs": [],
   "source": [
    "spark : SparkSession= SparkSession.builder.appName(\"Tarea 3\").getOrCreate()"
   ]
  },
  {
   "cell_type": "code",
   "execution_count": 28,
   "metadata": {},
   "outputs": [],
   "source": [
    "columnas = [\n",
    "    'Airline', # Aerolinea\n",
    "    'CRSDepTime', #Hora de salida programada\n",
    "    'DepTime', #Hora de salida actual\n",
    "    'DepDelay', #Diferencia en minutos entre CRSDepTime y DepTime, tiempos negativos significa salidas tempranas\n",
    "    'CRSArrTime',\n",
    "    'ArrTime', #Hora de llegada\n",
    "    'ArrDelay', #Diferencia de minutos entre la llegada programada y la hora de llegada, tiempos negativos significa llegadas tempranas\n",
    "    'ActualElapsedTime', #Tiempo de vuelo verdadero\n",
    "    'CRSElapsedTime', #Tiempo de vuelo programado\n",
    "    'Distance', #Distancia entre aeropuertos en millas\n",
    "    'Year', #Año del vuelo\n",
    "    'Month', #Mes del vuelo\n",
    "    'DayofMonth', #Dia del mes del vuelo\n",
    "    'DayOfWeek', #Dia de la semana del vuelo\n",
    "    'Tail_Number', #Numero de la cola, código para identificar la aeronave\n",
    "    'Flight_Number_Operating_Airline', #Numero del vuelo\n",
    "    \n",
    "    'Origin', #Aeropuerto de origen\n",
    "    'OriginAirportID', 'OriginAirportSeqID', #codigos del aeropuerto de origen\n",
    "    'OriginCityName', #Nombre de la ciudad del aeropuerto de origen\n",
    "    'OriginStateName', #Nombre de estado del aeropuerto de origen\n",
    "    \n",
    "    'Dest', #Aeropuerto de destino\n",
    "    'DestAirportID', 'DestAirportSeqID', #codigos del aeropuerto de destino\n",
    "    'DestCityName', #Nombre de la ciudad del aeropuerto de destino\n",
    "    'DestStateName', #Nombre de estado del aeropuerto de destino\n",
    "    \n",
    "    'Cancelled', #El vuelo fue cancelado, 1 = Sí\n",
    "    \n",
    "    'Diverted', #Si el vuelo fue desviado, 1 = Sí\n",
    "]"
   ]
  },
  {
   "cell_type": "code",
   "execution_count": 29,
   "metadata": {},
   "outputs": [
    {
     "data": {
      "text/plain": [
       "28"
      ]
     },
     "execution_count": 29,
     "metadata": {},
     "output_type": "execute_result"
    }
   ],
   "source": [
    "len(columnas)"
   ]
  },
  {
   "cell_type": "code",
   "execution_count": 30,
   "metadata": {},
   "outputs": [],
   "source": [
    "import zipfile\n",
    "import pathlib\n",
    "\n",
    "direccion = pathlib.Path.cwd()\n",
    "\n",
    "path_datos_zip = pathlib.Path.joinpath(direccion.parent.parent, 'Datos\\\\data.zip')\n",
    "\n",
    "path_guardar = pathlib.Path.joinpath(direccion.parent.parent, 'Datos')\n",
    "\n",
    "archivos_datos = [\n",
    "    #pathlib.Path.joinpath(direccion.parent.parent, 'Datos\\\\Combined_Flights_2022.csv').as_posix(),\n",
    "    pathlib.Path.joinpath(direccion.parent.parent, 'Datos\\\\Combined_Flights_2021.csv').as_posix()#,\n",
    "    #pathlib.Path.joinpath(direccion.parent.parent, 'Datos\\\\Combined_Flights_2020.csv').as_posix(),\n",
    "    #pathlib.Path.joinpath(direccion.parent.parent, 'Datos\\\\Combined_Flights_2019.csv').as_posix(),\n",
    "    #pathlib.Path.joinpath(direccion.parent.parent, 'Datos\\\\Combined_Flights_2018.csv').as_posix()\n",
    "]\n",
    "\n",
    "archivos_datos_en_zip  = [\n",
    "    #'Combined_Flights_2022.csv',\n",
    "    'Combined_Flights_2021.csv'#,\n",
    "    #'Combined_Flights_2020.csv',\n",
    "    #'Combined_Flights_2019.csv',\n",
    "    #'Combined_Flights_2018.csv'\n",
    "]"
   ]
  },
  {
   "cell_type": "code",
   "execution_count": 65,
   "metadata": {},
   "outputs": [],
   "source": [
    "df = spark.read.csv(archivos_datos[0], header = True)\n",
    "df = df.select(*columnas)"
   ]
  },
  {
   "cell_type": "code",
   "execution_count": 66,
   "metadata": {},
   "outputs": [],
   "source": [
    "df = df.withColumn(\"CRSDepTime\", df[\"CRSDepTime\"].cast(pysql.types.FloatType()))\n",
    "df = df.withColumn(\"DepTime\", df[\"DepTime\"].cast(pysql.types.FloatType()))\n",
    "df = df.withColumn(\"DepDelay\", df[\"DepDelay\"].cast(pysql.types.FloatType()))\n",
    "df = df.withColumn(\"ArrTime\", df[\"ArrTime\"].cast(pysql.types.FloatType()))\n",
    "df = df.withColumn(\"ArrDelay\", df[\"ArrDelay\"].cast(pysql.types.FloatType()))\n",
    "df = df.withColumn(\"ActualElapsedTime\", df[\"ActualElapsedTime\"].cast(pysql.types.FloatType()))\n",
    "df = df.withColumn(\"CRSElapsedTime\", df[\"CRSElapsedTime\"].cast(pysql.types.FloatType()))\n",
    "df = df.withColumn(\"Distance\", df[\"Distance\"].cast(pysql.types.FloatType()))\n",
    "df = df.withColumn(\"Year\", df[\"Year\"].cast(pysql.types.IntegerType()))\n",
    "df = df.withColumn(\"Month\", df[\"Month\"].cast(pysql.types.IntegerType()))\n",
    "df = df.withColumn(\"DayofMonth\", df[\"DayofMonth\"].cast(pysql.types.IntegerType()))\n",
    "df = df.withColumn(\"DayOfWeek\", df[\"DayOfWeek\"].cast(pysql.types.IntegerType()))"
   ]
  },
  {
   "cell_type": "code",
   "execution_count": 67,
   "metadata": {},
   "outputs": [],
   "source": [
    "df = df.withColumn(\"Cancelled\", pysql.functions.when(df[\"Cancelled\"] == \"False\",0).otherwise(1))\n",
    "df = df.withColumn(\"Diverted\", pysql.functions.when(df[\"Diverted\"] == \"False\",0).otherwise(1))"
   ]
  },
  {
   "cell_type": "code",
   "execution_count": 68,
   "metadata": {},
   "outputs": [
    {
     "name": "stdout",
     "output_type": "stream",
     "text": [
      "+---------------------+----------+-------+--------+----------+-------+--------+-----------------+--------------+--------+----+-----+----------+---------+-----------+-------------------------------+------+---------------+------------------+---------------------+---------------+----+-------------+----------------+----------------------------------+-------------+---------+--------+\n",
      "|Airline              |CRSDepTime|DepTime|DepDelay|CRSArrTime|ArrTime|ArrDelay|ActualElapsedTime|CRSElapsedTime|Distance|Year|Month|DayofMonth|DayOfWeek|Tail_Number|Flight_Number_Operating_Airline|Origin|OriginAirportID|OriginAirportSeqID|OriginCityName       |OriginStateName|Dest|DestAirportID|DestAirportSeqID|DestCityName                      |DestStateName|Cancelled|Diverted|\n",
      "+---------------------+----------+-------+--------+----------+-------+--------+-----------------+--------------+--------+----+-----+----------+---------+-----------+-------------------------------+------+---------------+------------------+---------------------+---------------+----+-------------+----------------+----------------------------------+-------------+---------+--------+\n",
      "|SkyWest Airlines Inc.|724.0     |714.0  |-10.0   |843       |818.0  |-25.0   |64.0             |79.0          |262.0   |2021|3    |3         |3        |N728SK     |3133                           |SGU   |14794          |1479405           |St. George, UT       |Utah           |PHX |14107        |1410702         |Phoenix, AZ                       |Arizona      |0        |0       |\n",
      "|SkyWest Airlines Inc.|922.0     |917.0  |-5.0    |1040      |1031.0 |-9.0    |74.0             |78.0          |262.0   |2021|3    |3         |3        |N752SK     |3134                           |PHX   |14107          |1410702           |Phoenix, AZ          |Arizona        |SGU |14794        |1479405         |St. George, UT                    |Utah         |0        |0       |\n",
      "|SkyWest Airlines Inc.|1330.0    |1321.0 |-9.0    |1530      |1501.0 |-29.0   |160.0            |180.0         |843.0   |2021|3    |3         |3        |N766SK     |3135                           |MHT   |13296          |1329604           |Manchester, NH       |New Hampshire  |ORD |13930        |1393007         |Chicago, IL                       |Illinois     |0        |0       |\n",
      "|SkyWest Airlines Inc.|1645.0    |1636.0 |-9.0    |2010      |2002.0 |-8.0    |146.0            |145.0         |868.0   |2021|3    |3         |3        |N752EV     |3136                           |DFW   |11298          |1129806           |Dallas/Fort Worth, TX|Texas          |TRI |15323        |1532305         |Bristol/Johnson City/Kingsport, TN|Tennessee    |0        |0       |\n",
      "|SkyWest Airlines Inc.|1844.0    |1838.0 |-6.0    |1925      |1903.0 |-22.0   |85.0             |101.0         |425.0   |2021|3    |3         |3        |N715SK     |3137                           |PHX   |14107          |1410702           |Phoenix, AZ          |Arizona        |BFL |10561        |1056103         |Bakersfield, CA                   |California   |0        |0       |\n",
      "|SkyWest Airlines Inc.|1650.0    |1648.0 |-2.0    |1834      |1808.0 |-26.0   |80.0             |104.0         |409.0   |2021|3    |3         |3        |N744SK     |3139                           |ORD   |13930          |1393007           |Chicago, IL          |Illinois       |BNA |10693        |1069302         |Nashville, TN                     |Tennessee    |0        |0       |\n",
      "|SkyWest Airlines Inc.|1652.0    |1651.0 |-1.0    |1902      |1929.0 |27.0    |98.0             |70.0          |261.0   |2021|3    |3         |3        |N727SK     |3140                           |PSP   |14262          |1426204           |Palm Springs, CA     |California     |PHX |14107        |1410702         |Phoenix, AZ                       |Arizona      |0        |0       |\n",
      "|SkyWest Airlines Inc.|1245.0    |1242.0 |-3.0    |1456      |1452.0 |-4.0    |190.0            |191.0         |1022.0  |2021|3    |3         |3        |N771SK     |3141                           |DFW   |11298          |1129806           |Dallas/Fort Worth, TX|Texas          |YUM |16218        |1621802         |Yuma, AZ                          |Arizona      |0        |0       |\n",
      "|SkyWest Airlines Inc.|726.0     |717.0  |-9.0    |836       |821.0  |-15.0   |124.0            |130.0         |588.0   |2021|3    |3         |3        |N614SK     |3142                           |LBB   |12896          |1289607           |Lubbock, TX          |Texas          |PHX |14107        |1410702         |Phoenix, AZ                       |Arizona      |0        |0       |\n",
      "|SkyWest Airlines Inc.|2045.0    |2040.0 |-5.0    |2215      |2144.0 |-31.0   |124.0            |150.0         |674.0   |2021|3    |3         |3        |N773SK     |3144                           |DFW   |11298          |1129806           |Dallas/Fort Worth, TX|Texas          |DRO |11413        |1141307         |Durango, CO                       |Colorado     |0        |0       |\n",
      "|SkyWest Airlines Inc.|1030.0    |1032.0 |2.0     |1441      |1435.0 |-6.0    |183.0            |191.0         |1225.0  |2021|3    |3         |3        |N762SK     |3145                           |PHX   |14107          |1410702           |Phoenix, AZ          |Arizona        |FAR |11637        |1163703         |Fargo, ND                         |North Dakota |0        |0       |\n",
      "|SkyWest Airlines Inc.|1506.0    |1456.0 |-10.0   |1516      |1447.0 |-29.0   |51.0             |70.0          |157.0   |2021|3    |3         |3        |N730SK     |3146                           |FWA   |11823          |1182304           |Fort Wayne, IN       |Indiana        |ORD |13930        |1393007         |Chicago, IL                       |Illinois     |0        |0       |\n",
      "|SkyWest Airlines Inc.|1032.0    |1040.0 |8.0     |1156      |1204.0 |8.0     |84.0             |84.0          |328.0   |2021|3    |3         |3        |N741EV     |3147                           |PHX   |14107          |1410702           |Phoenix, AZ          |Arizona        |ABQ |10140        |1014005         |Albuquerque, NM                   |New Mexico   |0        |0       |\n",
      "|SkyWest Airlines Inc.|732.0     |723.0  |-9.0    |949       |939.0  |-10.0   |76.0             |77.0          |261.0   |2021|3    |3         |3        |N716SK     |3148                           |PSP   |14262          |1426204           |Palm Springs, CA     |California     |PHX |14107        |1410702         |Phoenix, AZ                       |Arizona      |0        |0       |\n",
      "|SkyWest Airlines Inc.|902.0     |853.0  |-9.0    |1130      |1058.0 |-32.0   |185.0            |208.0         |1013.0  |2021|3    |3         |3        |N631SK     |3150                           |ORD   |13930          |1393007           |Chicago, IL          |Illinois       |ASE |10372        |1037205         |Aspen, CO                         |Colorado     |0        |0       |\n",
      "|SkyWest Airlines Inc.|700.0     |649.0  |-11.0   |849       |814.0  |-35.0   |85.0             |109.0         |351.0   |2021|3    |3         |3        |N772SK     |3153                           |DRO   |11413          |1141307           |Durango, CO          |Colorado       |PHX |14107        |1410702         |Phoenix, AZ                       |Arizona      |0        |0       |\n",
      "|SkyWest Airlines Inc.|2035.0    |2028.0 |-7.0    |2155      |2148.0 |-7.0    |80.0             |80.0          |337.0   |2021|3    |3         |3        |N716SK     |3159                           |LAX   |12892          |1289208           |Los Angeles, CA      |California     |SFO |14771        |1477104         |San Francisco, CA                 |California   |0        |0       |\n",
      "|SkyWest Airlines Inc.|538.0     |530.0  |-8.0    |700       |645.0  |-15.0   |75.0             |82.0          |337.0   |2021|3    |3         |3        |N732SK     |3160                           |SFO   |14771          |1477104           |San Francisco, CA    |California     |LAX |12892        |1289208         |Los Angeles, CA                   |California   |0        |0       |\n",
      "|SkyWest Airlines Inc.|600.0     |550.0  |-10.0   |744       |718.0  |-26.0   |88.0             |104.0         |327.0   |2021|3    |3         |3        |N771SK     |3161                           |JLN   |12511          |1251103           |Joplin, MO           |Missouri       |DFW |11298        |1129806         |Dallas/Fort Worth, TX             |Texas        |0        |0       |\n",
      "|SkyWest Airlines Inc.|2030.0    |2020.0 |-10.0   |2206      |2145.0 |-21.0   |85.0             |96.0          |327.0   |2021|3    |3         |3        |N709SK     |3162                           |DFW   |11298          |1129806           |Dallas/Fort Worth, TX|Texas          |JLN |12511        |1251103         |Joplin, MO                        |Missouri     |0        |0       |\n",
      "+---------------------+----------+-------+--------+----------+-------+--------+-----------------+--------------+--------+----+-----+----------+---------+-----------+-------------------------------+------+---------------+------------------+---------------------+---------------+----+-------------+----------------+----------------------------------+-------------+---------+--------+\n",
      "only showing top 20 rows\n",
      "\n"
     ]
    }
   ],
   "source": [
    "df.show(truncate=False)"
   ]
  },
  {
   "cell_type": "code",
   "execution_count": 69,
   "metadata": {},
   "outputs": [
    {
     "name": "stdout",
     "output_type": "stream",
     "text": [
      "root\n",
      " |-- Airline: string (nullable = true)\n",
      " |-- CRSDepTime: float (nullable = true)\n",
      " |-- DepTime: float (nullable = true)\n",
      " |-- DepDelay: float (nullable = true)\n",
      " |-- CRSArrTime: string (nullable = true)\n",
      " |-- ArrTime: float (nullable = true)\n",
      " |-- ArrDelay: float (nullable = true)\n",
      " |-- ActualElapsedTime: float (nullable = true)\n",
      " |-- CRSElapsedTime: float (nullable = true)\n",
      " |-- Distance: float (nullable = true)\n",
      " |-- Year: integer (nullable = true)\n",
      " |-- Month: integer (nullable = true)\n",
      " |-- DayofMonth: integer (nullable = true)\n",
      " |-- DayOfWeek: integer (nullable = true)\n",
      " |-- Tail_Number: string (nullable = true)\n",
      " |-- Flight_Number_Operating_Airline: string (nullable = true)\n",
      " |-- Origin: string (nullable = true)\n",
      " |-- OriginAirportID: string (nullable = true)\n",
      " |-- OriginAirportSeqID: string (nullable = true)\n",
      " |-- OriginCityName: string (nullable = true)\n",
      " |-- OriginStateName: string (nullable = true)\n",
      " |-- Dest: string (nullable = true)\n",
      " |-- DestAirportID: string (nullable = true)\n",
      " |-- DestAirportSeqID: string (nullable = true)\n",
      " |-- DestCityName: string (nullable = true)\n",
      " |-- DestStateName: string (nullable = true)\n",
      " |-- Cancelled: integer (nullable = false)\n",
      " |-- Diverted: integer (nullable = false)\n",
      "\n"
     ]
    }
   ],
   "source": [
    "df.printSchema()"
   ]
  },
  {
   "cell_type": "code",
   "execution_count": 70,
   "metadata": {},
   "outputs": [
    {
     "name": "stdout",
     "output_type": "stream",
     "text": [
      "+-----------------------------------------+---------------------+\n",
      "|Airline                                  |avg(ArrDelay)        |\n",
      "+-----------------------------------------+---------------------+\n",
      "|Commutair Aka Champlain Enterprises, Inc.|16.065892574398116   |\n",
      "|Allegiant Air                            |15.28626500420386    |\n",
      "|JetBlue Airways                          |10.610667687240975   |\n",
      "|Mesa Airlines Inc.                       |8.97437805312025     |\n",
      "|Air Wisconsin Airlines Corp              |7.345608955800039    |\n",
      "|GoJet Airlines, LLC d/b/a United Express |7.0096414686825055   |\n",
      "|Spirit Air Lines                         |6.646201008171151    |\n",
      "|Frontier Airlines Inc.                   |6.523572190295634    |\n",
      "|Southwest Airlines Co.                   |5.501016596711463    |\n",
      "|SkyWest Airlines Inc.                    |4.737164006364127    |\n",
      "|United Air Lines Inc.                    |3.405323276940503    |\n",
      "|American Airlines Inc.                   |3.0679115279223104   |\n",
      "|Envoy Air                                |1.4213409035320912   |\n",
      "|Comair Inc.                              |1.0456230526052446   |\n",
      "|Horizon Air                              |0.5147585954645209   |\n",
      "|Alaska Airlines Inc.                     |0.5005612338510356   |\n",
      "|Empire Airlines Inc.                     |-0.044642857142857144|\n",
      "|Capital Cargo International              |-0.12810539137911622 |\n",
      "|Republic Airlines                        |-0.3619525371406521  |\n",
      "|Hawaiian Airlines Inc.                   |-1.2289124624400285  |\n",
      "+-----------------------------------------+---------------------+\n",
      "only showing top 20 rows\n",
      "\n"
     ]
    }
   ],
   "source": [
    "df.groupBy(\"Airline\").agg({\n",
    "    \"ArrDelay\" : \"avg\"\n",
    "}).orderBy(pysql.functions.desc(\"avg(ArrDelay)\")).show(truncate=False)"
   ]
  },
  {
   "cell_type": "code",
   "execution_count": 73,
   "metadata": {},
   "outputs": [
    {
     "name": "stdout",
     "output_type": "stream",
     "text": [
      "+--------------------+\n",
      "|      avg(Cancelled)|\n",
      "+--------------------+\n",
      "|0.017588762507979014|\n",
      "+--------------------+\n",
      "\n"
     ]
    }
   ],
   "source": [
    "df.select(\"Cancelled\").agg(pysql.functions.avg(\"Cancelled\")).show()"
   ]
  },
  {
   "cell_type": "code",
   "execution_count": 71,
   "metadata": {},
   "outputs": [
    {
     "name": "stdout",
     "output_type": "stream",
     "text": [
      "+-----------------------------------------+--------------------+---------------------+\n",
      "|Airline                                  |avg(Cancelled)      |avg(Diverted)        |\n",
      "+-----------------------------------------+--------------------+---------------------+\n",
      "|GoJet Airlines, LLC d/b/a United Express |0.03548210099263422 |0.002228023211346291 |\n",
      "|Allegiant Air                            |0.03304251775528344 |0.0021573855938419586|\n",
      "|Commutair Aka Champlain Enterprises, Inc.|0.03246549969999739 |0.003704380038087288 |\n",
      "|Air Wisconsin Airlines Corp              |0.030016447368421052|0.001644736842105263 |\n",
      "|Mesa Airlines Inc.                       |0.02980805937830514 |0.0029476371965529544|\n",
      "|Spirit Air Lines                         |0.029582830357282833|0.0021634502328060578|\n",
      "|American Airlines Inc.                   |0.02237645624179283 |0.002838135304366247 |\n",
      "|Envoy Air                                |0.02223256214051949 |0.0026040953896563452|\n",
      "|Southwest Airlines Co.                   |0.02207788548241659 |0.002230801021941689 |\n",
      "|Horizon Air                              |0.018776651019457483|0.0015408320493066256|\n",
      "|SkyWest Airlines Inc.                    |0.017685171296474515|0.0028327070139365466|\n",
      "|Alaska Airlines Inc.                     |0.017025217644412692|0.002286258633007859 |\n",
      "|Republic Airlines                        |0.016961727230675887|0.0022497491935144745|\n",
      "|JetBlue Airways                          |0.01627512308709337 |0.004055214058075401 |\n",
      "|Frontier Airlines Inc.                   |0.014065712910705692|0.001319799915416138 |\n",
      "|United Air Lines Inc.                    |0.013667176173862056|0.002408036935168753 |\n",
      "|Capital Cargo International              |0.01331910481118684 |0.003171215431234962 |\n",
      "|Comair Inc.                              |0.010125695186925545|0.002259638278182586 |\n",
      "|Delta Air Lines Inc.                     |0.004854291054254156|0.0017633736988601574|\n",
      "|Hawaiian Airlines Inc.                   |0.004360609163886228|6.772158171186944E-4 |\n",
      "+-----------------------------------------+--------------------+---------------------+\n",
      "only showing top 20 rows\n",
      "\n"
     ]
    }
   ],
   "source": [
    "df.groupBy(\"Airline\").agg({\n",
    "    \"Cancelled\" : \"avg\",\n",
    "    \"Diverted\" : \"avg\"\n",
    "}).orderBy(pysql.functions.desc(\"avg(Cancelled)\")).show(truncate=False)"
   ]
  },
  {
   "cell_type": "code",
   "execution_count": 23,
   "metadata": {},
   "outputs": [],
   "source": [
    "spark.stop()"
   ]
  }
 ],
 "metadata": {
  "kernelspec": {
   "display_name": ".venv",
   "language": "python",
   "name": "python3"
  },
  "language_info": {
   "codemirror_mode": {
    "name": "ipython",
    "version": 3
   },
   "file_extension": ".py",
   "mimetype": "text/x-python",
   "name": "python",
   "nbconvert_exporter": "python",
   "pygments_lexer": "ipython3",
   "version": "3.12.3"
  }
 },
 "nbformat": 4,
 "nbformat_minor": 2
}
