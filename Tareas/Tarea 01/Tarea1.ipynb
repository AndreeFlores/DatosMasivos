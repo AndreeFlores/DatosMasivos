{
 "cells": [
  {
   "cell_type": "markdown",
   "metadata": {},
   "source": [
    "## Cargar modulos"
   ]
  },
  {
   "cell_type": "code",
   "execution_count": 1,
   "metadata": {},
   "outputs": [],
   "source": [
    "import os\n",
    "import sys\n",
    "\n",
    "import findspark\n",
    "findspark.init()\n",
    "findspark.find()\n",
    "\n",
    "import pyspark\n",
    "\n",
    "from pyspark.sql import DataFrame, SparkSession\n",
    "from typing import List\n",
    "import pyspark.sql.types as T\n",
    "import pyspark.sql.functions as F"
   ]
  },
  {
   "cell_type": "markdown",
   "metadata": {},
   "source": [
    "Crear sesión de spark"
   ]
  },
  {
   "cell_type": "code",
   "execution_count": 2,
   "metadata": {},
   "outputs": [],
   "source": [
    "spark : SparkSession= SparkSession.builder.appName(\"Mi primera app\").getOrCreate()"
   ]
  },
  {
   "cell_type": "code",
   "execution_count": 3,
   "metadata": {},
   "outputs": [
    {
     "data": {
      "text/html": [
       "\n",
       "            <div>\n",
       "                <p><b>SparkSession - in-memory</b></p>\n",
       "                \n",
       "        <div>\n",
       "            <p><b>SparkContext</b></p>\n",
       "\n",
       "            <p><a href=\"http://Andree:4040\">Spark UI</a></p>\n",
       "\n",
       "            <dl>\n",
       "              <dt>Version</dt>\n",
       "                <dd><code>v3.5.2</code></dd>\n",
       "              <dt>Master</dt>\n",
       "                <dd><code>local[*]</code></dd>\n",
       "              <dt>AppName</dt>\n",
       "                <dd><code>Mi primera app</code></dd>\n",
       "            </dl>\n",
       "        </div>\n",
       "        \n",
       "            </div>\n",
       "        "
      ],
      "text/plain": [
       "<pyspark.sql.session.SparkSession at 0x2897ec7b560>"
      ]
     },
     "execution_count": 3,
     "metadata": {},
     "output_type": "execute_result"
    }
   ],
   "source": [
    "spark"
   ]
  },
  {
   "cell_type": "markdown",
   "metadata": {},
   "source": [
    "## Datos\n",
    "\n",
    "Decidí utilizar estos datos por diversos motivos:\n",
    "* Los datos son de dominio público y en la plataforma de kaggle tiene una calficación de 10 en usabilidad.\n",
    "* Tiene una buena cantidad de columnas y registros.\n",
    "* Pero debido a las capacidades de mi computuradora solo analizaré los datos del 2021,\n",
    "    los cuales cuenta con 6,311,871 filas y 61 columnas. Pero cuenta con columnas redundantes que se eliminaran, en total se elegieron 28 columnas.\n",
    "* Los datos representan vuelos, por lo tanto tiene una variedad de diferentes tipos de datos: número, texto, hora, etc.\n",
    "\n",
    "Los datos representan vuelos comerciales en Estados Unidos durante el año 2021."
   ]
  },
  {
   "cell_type": "markdown",
   "metadata": {},
   "source": [
    "### Columnas\n",
    "\n",
    "1. **Airline**: nombre de la aerolinea.\n",
    "2. **CRSDepTime**: Hora de salida programada. (hhmm)\n",
    "3. **DepTime**: Hora de salida verdadera. (hhmm)\n",
    "4. **DepDelay**: Diferencia en minutos entre CRSDepTime y DepTime, tiempos negativos significa salidas tempranas.\n",
    "5. **CRSArrTime**: Hora de llegada programada. (hhmm)\n",
    "6. **ArrTime**: Hora de llegada verdadera. (hhmm)\n",
    "7. **ArrDelay**: Diferencia en minutos entre la llegada programada y la hora de llegada, tiempos negativos significa llegadas tempranas.\n",
    "8. **ActualElapsedTime**: Tiempo de vuelo verdadero.\n",
    "9. **CRSElapsedTime**: Tiempo de vuelo programado.\n",
    "10. **Distance**: Distancia entre aeropuertos en millas.\n",
    "11. **Year**: Año del vuelo.\n",
    "12. **Month**: Mes del vuelo.\n",
    "13. **DayofMonth**: Día del mes del vuelo.\n",
    "14. **DayOfWeek**: Día de la semana del vuelo.\n",
    "15. **Tail_Number**: Número de la cola, código para identificar la aeronave.\n",
    "16. **Flight_Number_Operating_Airline**: Número del vuelo.\n",
    "17. **Origin**: Aeropuerto de origen.\n",
    "18. **OriginAirportID**: Código del aeropuerto de origen.\n",
    "19. **OriginAirportSeqID**: Código del aeropuerto de origen.\n",
    "20. **OriginCityName**: Nombre de la ciudad del aeropuerto de origen.\n",
    "21. **OriginStateName**: Nombre de estado del aeropuerto de origen.\n",
    "22. **Dest**: Aeropuerto de destino.\n",
    "23. **DestAirportID**: Código del aeropuerto de destino.\n",
    "24. **DestAirportSeqID**: Código del aeropuerto de destino.\n",
    "25. **DestCityName**: Nombre de la ciudad del aeropuerto de destino.\n",
    "26. **DestStateName**: Nombre de estado del aeropuerto de destino.\n",
    "27. **Cancelled**: Si el vuelo fue cancelado, 1 = Sí, 0 = No.\n",
    "28. **Diverted**: Si el vuelo fue desviado, 1 = Sí, 0 = No."
   ]
  },
  {
   "cell_type": "markdown",
   "metadata": {},
   "source": [
    "## Cargar datos"
   ]
  },
  {
   "cell_type": "code",
   "execution_count": 24,
   "metadata": {},
   "outputs": [],
   "source": [
    "import os\n",
    "import zipfile\n",
    "import pathlib\n",
    "\n",
    "direccion = pathlib.Path.cwd()\n",
    "\n",
    "path_datos_zip = pathlib.Path.joinpath(direccion.parent.parent, 'Datos\\\\data.zip')\n",
    "\n",
    "path_datos_csv = pathlib.Path.joinpath(direccion.parent.parent, 'Datos\\\\Combined_Flights_2021.csv')\n",
    "\n",
    "\n",
    "if not os.path.isfile(path_datos_csv):\n",
    "    try:\n",
    "        with zipfile.ZipFile(path_datos_zip, mode=\"r\") as archivo_zip:\n",
    "            archivo_zip.extract('Combined_Flights_2021.csv', path=pathlib.Path.joinpath(direccion.parent.parent,'Datos'))\n",
    "    except:\n",
    "        print(\".zip no existe\")\n",
    "    \n"
   ]
  },
  {
   "cell_type": "code",
   "execution_count": 48,
   "metadata": {},
   "outputs": [],
   "source": [
    "df: DataFrame = spark.read.csv(path_datos_csv.absolute().as_posix(), header=True, inferSchema=True)"
   ]
  },
  {
   "cell_type": "code",
   "execution_count": 49,
   "metadata": {},
   "outputs": [
    {
     "name": "stdout",
     "output_type": "stream",
     "text": [
      "root\n",
      " |-- FlightDate: date (nullable = true)\n",
      " |-- Airline: string (nullable = true)\n",
      " |-- Origin: string (nullable = true)\n",
      " |-- Dest: string (nullable = true)\n",
      " |-- Cancelled: boolean (nullable = true)\n",
      " |-- Diverted: boolean (nullable = true)\n",
      " |-- CRSDepTime: integer (nullable = true)\n",
      " |-- DepTime: double (nullable = true)\n",
      " |-- DepDelayMinutes: double (nullable = true)\n",
      " |-- DepDelay: double (nullable = true)\n",
      " |-- ArrTime: double (nullable = true)\n",
      " |-- ArrDelayMinutes: double (nullable = true)\n",
      " |-- AirTime: double (nullable = true)\n",
      " |-- CRSElapsedTime: double (nullable = true)\n",
      " |-- ActualElapsedTime: double (nullable = true)\n",
      " |-- Distance: double (nullable = true)\n",
      " |-- Year: integer (nullable = true)\n",
      " |-- Quarter: integer (nullable = true)\n",
      " |-- Month: integer (nullable = true)\n",
      " |-- DayofMonth: integer (nullable = true)\n",
      " |-- DayOfWeek: integer (nullable = true)\n",
      " |-- Marketing_Airline_Network: string (nullable = true)\n",
      " |-- Operated_or_Branded_Code_Share_Partners: string (nullable = true)\n",
      " |-- DOT_ID_Marketing_Airline: integer (nullable = true)\n",
      " |-- IATA_Code_Marketing_Airline: string (nullable = true)\n",
      " |-- Flight_Number_Marketing_Airline: integer (nullable = true)\n",
      " |-- Operating_Airline: string (nullable = true)\n",
      " |-- DOT_ID_Operating_Airline: integer (nullable = true)\n",
      " |-- IATA_Code_Operating_Airline: string (nullable = true)\n",
      " |-- Tail_Number: string (nullable = true)\n",
      " |-- Flight_Number_Operating_Airline: integer (nullable = true)\n",
      " |-- OriginAirportID: integer (nullable = true)\n",
      " |-- OriginAirportSeqID: integer (nullable = true)\n",
      " |-- OriginCityMarketID: integer (nullable = true)\n",
      " |-- OriginCityName: string (nullable = true)\n",
      " |-- OriginState: string (nullable = true)\n",
      " |-- OriginStateFips: integer (nullable = true)\n",
      " |-- OriginStateName: string (nullable = true)\n",
      " |-- OriginWac: integer (nullable = true)\n",
      " |-- DestAirportID: integer (nullable = true)\n",
      " |-- DestAirportSeqID: integer (nullable = true)\n",
      " |-- DestCityMarketID: integer (nullable = true)\n",
      " |-- DestCityName: string (nullable = true)\n",
      " |-- DestState: string (nullable = true)\n",
      " |-- DestStateFips: integer (nullable = true)\n",
      " |-- DestStateName: string (nullable = true)\n",
      " |-- DestWac: integer (nullable = true)\n",
      " |-- DepDel15: double (nullable = true)\n",
      " |-- DepartureDelayGroups: double (nullable = true)\n",
      " |-- DepTimeBlk: string (nullable = true)\n",
      " |-- TaxiOut: double (nullable = true)\n",
      " |-- WheelsOff: double (nullable = true)\n",
      " |-- WheelsOn: double (nullable = true)\n",
      " |-- TaxiIn: double (nullable = true)\n",
      " |-- CRSArrTime: integer (nullable = true)\n",
      " |-- ArrDelay: double (nullable = true)\n",
      " |-- ArrDel15: double (nullable = true)\n",
      " |-- ArrivalDelayGroups: double (nullable = true)\n",
      " |-- ArrTimeBlk: string (nullable = true)\n",
      " |-- DistanceGroup: integer (nullable = true)\n",
      " |-- DivAirportLandings: double (nullable = true)\n",
      "\n"
     ]
    }
   ],
   "source": [
    "df.printSchema()"
   ]
  },
  {
   "cell_type": "code",
   "execution_count": 50,
   "metadata": {},
   "outputs": [
    {
     "name": "stdout",
     "output_type": "stream",
     "text": [
      "+-------+--------------------+-------+-------+------------------+------------------+------------------+-----------------+------------------+-----------------+------------------+-----------------+-----------------+-----------------+-------+------------------+------------------+------------------+------------------+-------------------------+---------------------------------------+------------------------+---------------------------+-------------------------------+-----------------+------------------------+---------------------------+-----------+-------------------------------+------------------+------------------+------------------+--------------+-----------+------------------+---------------+------------------+------------------+-----------------+------------------+------------+---------+------------------+-------------+------------------+------------------+--------------------+----------+-----------------+------------------+------------------+-----------------+------------------+------------------+-------------------+-------------------+----------+------------------+--------------------+\n",
      "|summary|             Airline| Origin|   Dest|        CRSDepTime|           DepTime|   DepDelayMinutes|         DepDelay|           ArrTime|  ArrDelayMinutes|           AirTime|   CRSElapsedTime|ActualElapsedTime|         Distance|   Year|           Quarter|             Month|        DayofMonth|         DayOfWeek|Marketing_Airline_Network|Operated_or_Branded_Code_Share_Partners|DOT_ID_Marketing_Airline|IATA_Code_Marketing_Airline|Flight_Number_Marketing_Airline|Operating_Airline|DOT_ID_Operating_Airline|IATA_Code_Operating_Airline|Tail_Number|Flight_Number_Operating_Airline|   OriginAirportID|OriginAirportSeqID|OriginCityMarketID|OriginCityName|OriginState|   OriginStateFips|OriginStateName|         OriginWac|     DestAirportID| DestAirportSeqID|  DestCityMarketID|DestCityName|DestState|     DestStateFips|DestStateName|           DestWac|          DepDel15|DepartureDelayGroups|DepTimeBlk|          TaxiOut|         WheelsOff|          WheelsOn|           TaxiIn|        CRSArrTime|          ArrDelay|           ArrDel15| ArrivalDelayGroups|ArrTimeBlk|     DistanceGroup|  DivAirportLandings|\n",
      "+-------+--------------------+-------+-------+------------------+------------------+------------------+-----------------+------------------+-----------------+------------------+-----------------+-----------------+-----------------+-------+------------------+------------------+------------------+------------------+-------------------------+---------------------------------------+------------------------+---------------------------+-------------------------------+-----------------+------------------------+---------------------------+-----------+-------------------------------+------------------+------------------+------------------+--------------+-----------+------------------+---------------+------------------+------------------+-----------------+------------------+------------+---------+------------------+-------------+------------------+------------------+--------------------+----------+-----------------+------------------+------------------+-----------------+------------------+------------------+-------------------+-------------------+----------+------------------+--------------------+\n",
      "|  count|             6311871|6311871|6311871|           6311871|           6203546|           6203458|          6203458|           6199463|          6185870|           6185870|          6311870|          6185870|          6311871|6311871|           6311871|           6311871|           6311871|           6311871|                  6311871|                                6311871|                 6311871|                    6311871|                        6311871|          6311871|                 6311871|                    6311871|    6288568|                        6311871|           6311871|           6311871|           6311871|       6311871|    6311871|           6311871|        6311871|           6311871|           6311871|          6311871|           6311871|     6311871|  6311871|           6311871|      6311871|           6311871|           6203458|             6203458|   6311871|          6201518|           6201518|           6199446|          6199446|           6311871|           6185870|            6185870|            6185870|   6311871|           6311871|             6311869|\n",
      "|   mean|                NULL|   NULL|   NULL|1323.9526441525818| 1326.878043944544|12.761322636503705|9.468347170239566|1476.7584958568186|12.52927542932522|110.57019497661607|140.5049265906934| 134.437154515048|795.5761881065059| 2021.0|2.6500514665144457| 6.969904961619146|15.792594778949063| 4.013676293447696|                     NULL|                                   NULL|      19831.554914382756|                       NULL|             2795.5973735838393|             NULL|      20012.370497115673|                       NULL|       NULL|             2795.5864744384035|12658.327866808431|1265836.6350698548| 31748.86570923265|          NULL|       NULL|27.422165313581345|           NULL| 55.04982009296451|12658.354210819582|1265839.269418846| 31748.96417306374|        NULL|     NULL|27.422146618649208|         NULL|  55.0486758997451|0.1731722855220427|-0.01554149314785...|      NULL|16.19499838587907|1349.8294091865894| 1471.499631579983|7.683752870821038|1498.2723252740748|3.2902443795294762|0.17266108081805792|-0.3158284930009845|      NULL|  3.65399419601573|0.003338472328877548|\n",
      "| stddev|                NULL|   NULL|   NULL|474.19715430143157|486.83304480956156|47.363188406446305|48.37843587512265| 513.7708519497529|46.74769541798098| 68.88632099609426|70.31368216257155|70.23791873628281|583.2931374290616|    0.0|1.0779190207254024|3.3009144792283354| 8.786534537795761|2.0062643373282967|                     NULL|                                   NULL|       268.1009108465956|                       NULL|             1827.3750083881603|             NULL|      377.34221518619245|                       NULL|       NULL|              1827.372774455185|1532.7830658534601|153278.07279958634|1347.1577052642126|          NULL|       NULL|16.839098024905915|           NULL|26.169575638950494|1532.8077801516893|153280.5442337408|1347.2074129070822|        NULL|     NULL|16.838863579045412|         NULL|26.169496776905063|0.3783961787999208|   2.135306290777009|      NULL| 8.58412054048919| 487.9919045851764|509.68151319666816|6.375447172026258|494.65645535543257| 50.12310873319565|0.37795403831898494| 2.2666040396792484|      NULL|2.2815629238905837|  0.1046246055362271|\n",
      "|    min|Air Wisconsin Air...|    ABE|    ABE|                 1|               1.0|               0.0|           -105.0|               1.0|              0.0|               8.0|           -292.0|             14.0|             31.0|   2021|                 1|                 1|                 1|                 1|                       AA|                                     AA|                   19393|                         AA|                              1|               9E|                   19393|                         9E|      206NV|                              1|             10135|           1013506|             30070|  Aberdeen, SD|         AK|                 1|        Alabama|                 1|             10135|          1013506|             30070|Aberdeen, SD|       AK|                 1|      Alabama|                 1|               0.0|                -2.0| 0001-0559|              1.0|               1.0|               1.0|              1.0|                 1|            -107.0|                0.0|               -2.0| 0001-0559|                 1|                 0.0|\n",
      "|    max|United Air Lines ...|    YUM|    YUM|              2359|            2400.0|            3095.0|           3095.0|            2400.0|           3089.0|             711.0|           1312.0|            794.0|           5812.0|   2021|                 4|                12|                31|                 7|                       WN|                                     WN|                   20436|                         WN|                           9695|               ZW|                   20500|                         ZW|     n714FR|                           9695|             16869|           1686901|             36101|      Yuma, AZ|         WY|                78|        Wyoming|                93|             16869|          1686901|             36101|    Yuma, AZ|       WY|                78|      Wyoming|                93|               1.0|                12.0| 2300-2359|            256.0|            2400.0|            2400.0|            251.0|              2400|            3089.0|                1.0|               12.0| 2300-2359|                11|                 9.0|\n",
      "+-------+--------------------+-------+-------+------------------+------------------+------------------+-----------------+------------------+-----------------+------------------+-----------------+-----------------+-----------------+-------+------------------+------------------+------------------+------------------+-------------------------+---------------------------------------+------------------------+---------------------------+-------------------------------+-----------------+------------------------+---------------------------+-----------+-------------------------------+------------------+------------------+------------------+--------------+-----------+------------------+---------------+------------------+------------------+-----------------+------------------+------------+---------+------------------+-------------+------------------+------------------+--------------------+----------+-----------------+------------------+------------------+-----------------+------------------+------------------+-------------------+-------------------+----------+------------------+--------------------+\n",
      "\n"
     ]
    }
   ],
   "source": [
    "#comprobacion de carga correcta con PySpark\n",
    "df.describe().show()"
   ]
  },
  {
   "cell_type": "code",
   "execution_count": 51,
   "metadata": {},
   "outputs": [
    {
     "name": "stdout",
     "output_type": "stream",
     "text": [
      "(6311871, 61)\n"
     ]
    }
   ],
   "source": [
    "print((df.count(), len(df.columns)))"
   ]
  },
  {
   "cell_type": "code",
   "execution_count": 52,
   "metadata": {},
   "outputs": [],
   "source": [
    "#limitar a columnas más relevantes\n",
    "columnas = [\n",
    "    'Airline', # Aerolinea\n",
    "    'CRSDepTime', #Hora de salida programada\n",
    "    'DepTime', #Hora de salida actual\n",
    "    'DepDelay', #Diferencia en minutos entre CRSDepTime y DepTime, tiempos negativos significa salidas tempranas\n",
    "    'CRSArrTime',\n",
    "    'ArrTime', #Hora de llegada\n",
    "    'ArrDelay', #Diferencia de minutos entre la llegada programada y la hora de llegada, tiempos negativos significa llegadas tempranas\n",
    "    'ActualElapsedTime', #Tiempo de vuelo verdadero\n",
    "    'CRSElapsedTime', #Tiempo de vuelo programado\n",
    "    'Distance', #Distancia entre aeropuertos en millas\n",
    "    'Year', #Año del vuelo\n",
    "    'Month', #Mes del vuelo\n",
    "    'DayofMonth', #Dia del mes del vuelo\n",
    "    'DayOfWeek', #Dia de la semana del vuelo\n",
    "    'Tail_Number', #Numero de la cola, código para identificar la aeronave\n",
    "    'Flight_Number_Operating_Airline', #Numero del vuelo\n",
    "    \n",
    "    'Origin', #Aeropuerto de origen\n",
    "    'OriginAirportID', 'OriginAirportSeqID', #codigos del aeropuerto de origen\n",
    "    'OriginCityName', #Nombre de la ciudad del aeropuerto de origen\n",
    "    'OriginStateName', #Nombre de estado del aeropuerto de origen\n",
    "    \n",
    "    'Dest', #Aeropuerto de destino\n",
    "    'DestAirportID', 'DestAirportSeqID', #codigos del aeropuerto de destino\n",
    "    'DestCityName', #Nombre de la ciudad del aeropuerto de destino\n",
    "    'DestStateName', #Nombre de estado del aeropuerto de destino\n",
    "    \n",
    "    'Cancelled', #El vuelo fue cancelado, 1 = Sí\n",
    "    \n",
    "    'Diverted', #Si el vuelo fue desviado, 1 = Sí\n",
    "]"
   ]
  },
  {
   "cell_type": "code",
   "execution_count": 53,
   "metadata": {},
   "outputs": [],
   "source": [
    "df: DataFrame = df.select(columnas)"
   ]
  },
  {
   "cell_type": "code",
   "execution_count": 54,
   "metadata": {},
   "outputs": [
    {
     "name": "stdout",
     "output_type": "stream",
     "text": [
      "(6311871, 28)\n"
     ]
    }
   ],
   "source": [
    "print((df.count(), len(df.columns)))"
   ]
  }
 ],
 "metadata": {
  "kernelspec": {
   "display_name": "Python 3",
   "language": "python",
   "name": "python3"
  },
  "language_info": {
   "codemirror_mode": {
    "name": "ipython",
    "version": 3
   },
   "file_extension": ".py",
   "mimetype": "text/x-python",
   "name": "python",
   "nbconvert_exporter": "python",
   "pygments_lexer": "ipython3",
   "version": "3.12.2"
  }
 },
 "nbformat": 4,
 "nbformat_minor": 2
}
