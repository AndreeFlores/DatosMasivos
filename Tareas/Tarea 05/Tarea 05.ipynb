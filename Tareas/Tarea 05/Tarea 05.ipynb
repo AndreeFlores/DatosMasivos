{
 "cells": [
  {
   "cell_type": "code",
   "execution_count": 1,
   "metadata": {},
   "outputs": [],
   "source": [
    "import findspark\n",
    "findspark.init()\n",
    "findspark.find()\n",
    "\n",
    "from pyspark import SparkContext\n",
    "\n",
    "from pyspark.sql import SparkSession\n",
    "\n",
    "from pyspark import SparkConf\n",
    "\n",
    "import pyspark.sql as pysql\n",
    "\n",
    "from pyspark import StorageLevel\n",
    "\n",
    "import pyspark.ml as pyml"
   ]
  },
  {
   "cell_type": "code",
   "execution_count": 2,
   "metadata": {},
   "outputs": [],
   "source": [
    "import os\n",
    "import sys"
   ]
  },
  {
   "cell_type": "code",
   "execution_count": 3,
   "metadata": {},
   "outputs": [],
   "source": [
    "conf = SparkConf().setAppName(\"Tarea\") \\\n",
    "    .setMaster(\"local[8]\") \\\n",
    "    .set(\"spark.executor.cores\",\"2\") \\\n",
    "    .set(\"spark.executor.memory\", \"4g\") \\\n",
    "    .set(\"spark.driver.memory\",\"4g\")"
   ]
  },
  {
   "cell_type": "code",
   "execution_count": 4,
   "metadata": {},
   "outputs": [
    {
     "name": "stderr",
     "output_type": "stream",
     "text": [
      "Setting default log level to \"WARN\".\n",
      "To adjust logging level use sc.setLogLevel(newLevel). For SparkR, use setLogLevel(newLevel).\n",
      "24/10/30 01:49:25 WARN NativeCodeLoader: Unable to load native-hadoop library for your platform... using builtin-java classes where applicable\n"
     ]
    }
   ],
   "source": [
    "spark : SparkSession = SparkSession.builder.config(conf=conf).getOrCreate()"
   ]
  },
  {
   "cell_type": "code",
   "execution_count": 5,
   "metadata": {},
   "outputs": [],
   "source": [
    "columnas = [\n",
    "    'Airline', # Aerolinea\n",
    "    'CRSDepTime', #Hora de salida programada\n",
    "    'DepTime', #Hora de salida actual\n",
    "    'DepDelay', #Diferencia en minutos entre CRSDepTime y DepTime, tiempos negativos significa salidas tempranas\n",
    "    'CRSArrTime',\n",
    "    'ArrTime', #Hora de llegada\n",
    "    'ArrDelay', #Diferencia de minutos entre la llegada programada y la hora de llegada, tiempos negativos significa llegadas tempranas\n",
    "    'ActualElapsedTime', #Tiempo de vuelo verdadero\n",
    "    'CRSElapsedTime', #Tiempo de vuelo programado\n",
    "    'Distance', #Distancia entre aeropuertos en millas\n",
    "    'Year', #Año del vuelo\n",
    "    'Month', #Mes del vuelo\n",
    "    'DayofMonth', #Dia del mes del vuelo\n",
    "    'DayOfWeek', #Dia de la semana del vuelo\n",
    "    'Tail_Number', #Numero de la cola, código para identificar la aeronave\n",
    "    'Flight_Number_Operating_Airline', #Numero del vuelo\n",
    "    \n",
    "    'Origin', #Aeropuerto de origen\n",
    "    'OriginAirportID', 'OriginAirportSeqID', #codigos del aeropuerto de origen\n",
    "    'OriginCityName', #Nombre de la ciudad del aeropuerto de origen\n",
    "    'OriginStateName', #Nombre de estado del aeropuerto de origen\n",
    "    \n",
    "    'Dest', #Aeropuerto de destino\n",
    "    'DestAirportID', 'DestAirportSeqID', #codigos del aeropuerto de destino\n",
    "    'DestCityName', #Nombre de la ciudad del aeropuerto de destino\n",
    "    'DestStateName', #Nombre de estado del aeropuerto de destino\n",
    "    \n",
    "    'Cancelled', #El vuelo fue cancelado, 1 = Sí\n",
    "    \n",
    "    'Diverted', #Si el vuelo fue desviado, 1 = Sí\n",
    "]"
   ]
  },
  {
   "cell_type": "code",
   "execution_count": 6,
   "metadata": {},
   "outputs": [],
   "source": [
    "import zipfile\n",
    "import pathlib\n",
    "\n",
    "direccion = pathlib.Path.cwd().parent.parent\n",
    "\n",
    "path_datos_zip = pathlib.Path.joinpath(direccion, 'Datos', 'data.zip')\n",
    "\n",
    "path_guardar = pathlib.Path.joinpath(direccion, 'Datos')\n",
    "\n",
    "archivos_datos = [\n",
    "    pathlib.Path.joinpath(direccion, 'Datos', 'Combined_Flights_2022.csv').as_posix(),\n",
    "    pathlib.Path.joinpath(direccion, 'Datos', 'Combined_Flights_2021.csv').as_posix(),\n",
    "    pathlib.Path.joinpath(direccion, 'Datos', 'Combined_Flights_2020.csv').as_posix(),\n",
    "    pathlib.Path.joinpath(direccion, 'Datos', 'Combined_Flights_2019.csv').as_posix(),\n",
    "    pathlib.Path.joinpath(direccion, 'Datos', 'Combined_Flights_2018.csv').as_posix()\n",
    "]\n",
    "\n",
    "archivos_datos_en_zip  = [\n",
    "    'Combined_Flights_2022.csv',\n",
    "    'Combined_Flights_2021.csv',\n",
    "    'Combined_Flights_2020.csv',\n",
    "    'Combined_Flights_2019.csv',\n",
    "    'Combined_Flights_2018.csv'\n",
    "]"
   ]
  },
  {
   "cell_type": "code",
   "execution_count": 7,
   "metadata": {},
   "outputs": [],
   "source": [
    "with zipfile.ZipFile(path_datos_zip, mode=\"r\") as archivo_zip:\n",
    "    for archivo in archivos_datos_en_zip:\n",
    "        \n",
    "        if os.path.isfile(path=pathlib.Path.joinpath(path_guardar,archivo).as_posix()):\n",
    "            continue\n",
    "        \n",
    "        archivo_zip.extract(archivo, path_guardar)"
   ]
  },
  {
   "cell_type": "code",
   "execution_count": 8,
   "metadata": {},
   "outputs": [],
   "source": [
    "df = spark.read.option(\"header\",\"true\").csv(archivos_datos)\n",
    "df = df.select(columnas)"
   ]
  },
  {
   "cell_type": "code",
   "execution_count": 9,
   "metadata": {},
   "outputs": [],
   "source": [
    "df = df.dropna()"
   ]
  },
  {
   "cell_type": "code",
   "execution_count": 10,
   "metadata": {},
   "outputs": [
    {
     "name": "stderr",
     "output_type": "stream",
     "text": [
      "24/10/30 01:49:38 WARN SparkStringUtils: Truncated the string representation of a plan since it was too large. This behavior can be adjusted by setting 'spark.sql.debug.maxToStringFields'.\n"
     ]
    }
   ],
   "source": [
    "df = df.persist(StorageLevel.DISK_ONLY)"
   ]
  },
  {
   "cell_type": "code",
   "execution_count": 11,
   "metadata": {},
   "outputs": [],
   "source": [
    "#schema del dataframe\n",
    "df = df.withColumn(\"CRSDepTime\", df[\"CRSDepTime\"].cast(pysql.types.FloatType()))\n",
    "df = df.withColumn(\"DepTime\", df[\"DepTime\"].cast(pysql.types.FloatType()))\n",
    "df = df.withColumn(\"DepDelay\", df[\"DepDelay\"].cast(pysql.types.FloatType()))\n",
    "df = df.withColumn(\"ArrTime\", df[\"ArrTime\"].cast(pysql.types.FloatType()))\n",
    "df = df.withColumn(\"ArrDelay\", df[\"ArrDelay\"].cast(pysql.types.FloatType()))\n",
    "df = df.withColumn(\"ActualElapsedTime\", df[\"ActualElapsedTime\"].cast(pysql.types.FloatType()))\n",
    "df = df.withColumn(\"CRSElapsedTime\", df[\"CRSElapsedTime\"].cast(pysql.types.FloatType()))\n",
    "df = df.withColumn(\"Distance\", df[\"Distance\"].cast(pysql.types.FloatType()))\n",
    "df = df.withColumn(\"Year\", df[\"Year\"].cast(pysql.types.IntegerType()))\n",
    "df = df.withColumn(\"Month\", df[\"Month\"].cast(pysql.types.IntegerType()))\n",
    "df = df.withColumn(\"DayofMonth\", df[\"DayofMonth\"].cast(pysql.types.IntegerType()))\n",
    "df = df.withColumn(\"DayOfWeek\", df[\"DayOfWeek\"].cast(pysql.types.IntegerType()))\n",
    "\n",
    "df = df.withColumn(\"Cancelled\", pysql.functions.when(df[\"Cancelled\"] == \"False\",0).otherwise(1))\n",
    "df = df.withColumn(\"Diverted\", pysql.functions.when(df[\"Diverted\"] == \"False\",0).otherwise(1))"
   ]
  },
  {
   "cell_type": "code",
   "execution_count": 12,
   "metadata": {},
   "outputs": [
    {
     "name": "stdout",
     "output_type": "stream",
     "text": [
      "root\n",
      " |-- Airline: string (nullable = true)\n",
      " |-- CRSDepTime: float (nullable = true)\n",
      " |-- DepTime: float (nullable = true)\n",
      " |-- DepDelay: float (nullable = true)\n",
      " |-- CRSArrTime: string (nullable = true)\n",
      " |-- ArrTime: float (nullable = true)\n",
      " |-- ArrDelay: float (nullable = true)\n",
      " |-- ActualElapsedTime: float (nullable = true)\n",
      " |-- CRSElapsedTime: float (nullable = true)\n",
      " |-- Distance: float (nullable = true)\n",
      " |-- Year: integer (nullable = true)\n",
      " |-- Month: integer (nullable = true)\n",
      " |-- DayofMonth: integer (nullable = true)\n",
      " |-- DayOfWeek: integer (nullable = true)\n",
      " |-- Tail_Number: string (nullable = true)\n",
      " |-- Flight_Number_Operating_Airline: string (nullable = true)\n",
      " |-- Origin: string (nullable = true)\n",
      " |-- OriginAirportID: string (nullable = true)\n",
      " |-- OriginAirportSeqID: string (nullable = true)\n",
      " |-- OriginCityName: string (nullable = true)\n",
      " |-- OriginStateName: string (nullable = true)\n",
      " |-- Dest: string (nullable = true)\n",
      " |-- DestAirportID: string (nullable = true)\n",
      " |-- DestAirportSeqID: string (nullable = true)\n",
      " |-- DestCityName: string (nullable = true)\n",
      " |-- DestStateName: string (nullable = true)\n",
      " |-- Cancelled: integer (nullable = false)\n",
      " |-- Diverted: integer (nullable = false)\n",
      "\n"
     ]
    }
   ],
   "source": [
    "df.printSchema()"
   ]
  },
  {
   "cell_type": "code",
   "execution_count": 13,
   "metadata": {},
   "outputs": [
    {
     "name": "stderr",
     "output_type": "stream",
     "text": [
      "24/10/30 01:49:43 WARN GarbageCollectionMetrics: To enable non-built-in garbage collector(s) List(G1 Concurrent GC), users should configure it(them) to spark.eventLog.gcMetrics.youngGenerationGarbageCollectors or spark.eventLog.gcMetrics.oldGenerationGarbageCollectors\n",
      "                                                                                \r"
     ]
    },
    {
     "data": {
      "text/plain": [
       "28"
      ]
     },
     "execution_count": 13,
     "metadata": {},
     "output_type": "execute_result"
    }
   ],
   "source": [
    "df.select(\"Airline\").distinct().count() #cantidad de aerolineas"
   ]
  },
  {
   "cell_type": "markdown",
   "metadata": {},
   "source": [
    "seleccionar el top 31 de aeropuertos para random forest"
   ]
  },
  {
   "cell_type": "code",
   "execution_count": 14,
   "metadata": {},
   "outputs": [
    {
     "name": "stderr",
     "output_type": "stream",
     "text": [
      "                                                                                \r"
     ]
    },
    {
     "data": {
      "text/plain": [
       "388"
      ]
     },
     "execution_count": 14,
     "metadata": {},
     "output_type": "execute_result"
    }
   ],
   "source": [
    "df.select(\"OriginAirportID\").distinct().count() #cantidad de aeropuerto de origen"
   ]
  },
  {
   "cell_type": "code",
   "execution_count": 15,
   "metadata": {},
   "outputs": [],
   "source": [
    "df_OriginAirpotId_count = df.groupby(\"OriginAirportID\"). \\\n",
    "    count().sort(\"count\", ascending = False)"
   ]
  },
  {
   "cell_type": "code",
   "execution_count": 16,
   "metadata": {},
   "outputs": [
    {
     "name": "stderr",
     "output_type": "stream",
     "text": [
      "[Stage 14:=================================================>      (68 + 8) / 77]\r"
     ]
    },
    {
     "name": "stdout",
     "output_type": "stream",
     "text": [
      "+----------+\n",
      "|sum(count)|\n",
      "+----------+\n",
      "|  18190230|\n",
      "+----------+\n",
      "\n"
     ]
    },
    {
     "name": "stderr",
     "output_type": "stream",
     "text": [
      "                                                                                \r"
     ]
    }
   ],
   "source": [
    "df_OriginAirpotId_count.limit(31).select(pysql.functions.sum(\"count\")).show()"
   ]
  },
  {
   "cell_type": "code",
   "execution_count": 17,
   "metadata": {},
   "outputs": [
    {
     "name": "stderr",
     "output_type": "stream",
     "text": [
      "                                                                                \r"
     ]
    },
    {
     "data": {
      "text/plain": [
       "28346521"
      ]
     },
     "execution_count": 17,
     "metadata": {},
     "output_type": "execute_result"
    }
   ],
   "source": [
    "df.count()"
   ]
  },
  {
   "cell_type": "code",
   "execution_count": 18,
   "metadata": {},
   "outputs": [
    {
     "data": {
      "text/plain": [
       "0.6411334441012131"
      ]
     },
     "execution_count": 18,
     "metadata": {},
     "output_type": "execute_result"
    }
   ],
   "source": [
    "18717110 / 29193782"
   ]
  },
  {
   "cell_type": "code",
   "execution_count": 19,
   "metadata": {},
   "outputs": [],
   "source": [
    "df_OriginAirpotId_count_top31 = df_OriginAirpotId_count.select(\"OriginAirportID\").limit(31)"
   ]
  },
  {
   "cell_type": "code",
   "execution_count": 20,
   "metadata": {},
   "outputs": [
    {
     "name": "stderr",
     "output_type": "stream",
     "text": [
      "                                                                                \r"
     ]
    },
    {
     "data": {
      "text/plain": [
       "31"
      ]
     },
     "execution_count": 20,
     "metadata": {},
     "output_type": "execute_result"
    }
   ],
   "source": [
    "df_OriginAirpotId_count_top31.distinct().count()"
   ]
  },
  {
   "cell_type": "code",
   "execution_count": 21,
   "metadata": {},
   "outputs": [],
   "source": [
    "df_OriginAirpotId_count_top31 = df_OriginAirpotId_count_top31.withColumn(\n",
    "    \"OriginAirportID_esTop\", pysql.functions.lit(1)\n",
    ")"
   ]
  },
  {
   "cell_type": "code",
   "execution_count": 22,
   "metadata": {},
   "outputs": [
    {
     "name": "stderr",
     "output_type": "stream",
     "text": [
      "[Stage 23:===================================================>    (71 + 6) / 77]\r"
     ]
    },
    {
     "name": "stdout",
     "output_type": "stream",
     "text": [
      "+---------------+---------------------+\n",
      "|OriginAirportID|OriginAirportID_esTop|\n",
      "+---------------+---------------------+\n",
      "|          10397|                    1|\n",
      "|          13930|                    1|\n",
      "|          11292|                    1|\n",
      "|          11298|                    1|\n",
      "|          11057|                    1|\n",
      "|          12892|                    1|\n",
      "|          14747|                    1|\n",
      "|          12266|                    1|\n",
      "|          14107|                    1|\n",
      "|          12889|                    1|\n",
      "|          14771|                    1|\n",
      "|          11433|                    1|\n",
      "|          13204|                    1|\n",
      "|          11618|                    1|\n",
      "|          13487|                    1|\n",
      "|          12953|                    1|\n",
      "|          10721|                    1|\n",
      "|          14100|                    1|\n",
      "|          14869|                    1|\n",
      "|          11278|                    1|\n",
      "+---------------+---------------------+\n",
      "only showing top 20 rows\n",
      "\n"
     ]
    },
    {
     "name": "stderr",
     "output_type": "stream",
     "text": [
      "                                                                                \r"
     ]
    }
   ],
   "source": [
    "df_OriginAirpotId_count_top31.show()"
   ]
  },
  {
   "cell_type": "code",
   "execution_count": 23,
   "metadata": {},
   "outputs": [],
   "source": [
    "df = df.join(other=df_OriginAirpotId_count_top31,\n",
    "        on=\"OriginAirportID\",\n",
    "        how=\"left\") #.show()"
   ]
  },
  {
   "cell_type": "code",
   "execution_count": 24,
   "metadata": {},
   "outputs": [
    {
     "name": "stderr",
     "output_type": "stream",
     "text": [
      "                                                                                \r"
     ]
    },
    {
     "data": {
      "text/plain": [
       "388"
      ]
     },
     "execution_count": 24,
     "metadata": {},
     "output_type": "execute_result"
    }
   ],
   "source": [
    "df.select(\"DestAirportID\").distinct().count() #cantidad de aeropuerto de destino"
   ]
  },
  {
   "cell_type": "code",
   "execution_count": 25,
   "metadata": {},
   "outputs": [
    {
     "name": "stderr",
     "output_type": "stream",
     "text": [
      "[Stage 32:==================================================>     (70 + 7) / 77]\r"
     ]
    },
    {
     "name": "stdout",
     "output_type": "stream",
     "text": [
      "+----------+\n",
      "|sum(count)|\n",
      "+----------+\n",
      "|  18178563|\n",
      "+----------+\n",
      "\n"
     ]
    },
    {
     "name": "stderr",
     "output_type": "stream",
     "text": [
      "                                                                                \r"
     ]
    }
   ],
   "source": [
    "df_DestAirportID_count = df.groupby(\"DestAirportID\"). \\\n",
    "    count().sort(\"count\", ascending = False)\n",
    "    \n",
    "df_DestAirportID_count.limit(31).select(pysql.functions.sum(\"count\")).show()"
   ]
  },
  {
   "cell_type": "code",
   "execution_count": 26,
   "metadata": {},
   "outputs": [
    {
     "data": {
      "text/plain": [
       "0.6411205303923966"
      ]
     },
     "execution_count": 26,
     "metadata": {},
     "output_type": "execute_result"
    }
   ],
   "source": [
    "18716733/ 29193782"
   ]
  },
  {
   "cell_type": "code",
   "execution_count": 27,
   "metadata": {},
   "outputs": [],
   "source": [
    "df_DestAirportID_count_top31 = df_DestAirportID_count.select(\"DestAirportID\").limit(31)\n",
    "\n",
    "df_DestAirportID_count_top31 = df_DestAirportID_count_top31.withColumn(\n",
    "    \"DestAirportID_esTop\", pysql.functions.lit(1)\n",
    ")"
   ]
  },
  {
   "cell_type": "code",
   "execution_count": 28,
   "metadata": {},
   "outputs": [],
   "source": [
    "df = df.join(other=df_DestAirportID_count_top31,\n",
    "        on=\"DestAirportID\",\n",
    "        how=\"left\") #.show()"
   ]
  },
  {
   "cell_type": "markdown",
   "metadata": {},
   "source": [
    "Eliminar aeropuertos afuera del top 31"
   ]
  },
  {
   "cell_type": "code",
   "execution_count": 29,
   "metadata": {},
   "outputs": [],
   "source": [
    "\n",
    "df = df.withColumn(\"OriginAirportID\",\n",
    "    pysql.functions.when(df[\"OriginAirportID_esTop\"] == 1, df[\"OriginAirportID\"]).otherwise(\"other\"))\n",
    "\n",
    "df = df.withColumn(\"DestAirportID\",\n",
    "    pysql.functions.when(df[\"DestAirportID_esTop\"] == 1, df[\"DestAirportID\"]).otherwise(\"other\"))"
   ]
  },
  {
   "cell_type": "code",
   "execution_count": 30,
   "metadata": {},
   "outputs": [
    {
     "name": "stderr",
     "output_type": "stream",
     "text": [
      "                                                                                \r"
     ]
    },
    {
     "data": {
      "text/plain": [
       "32"
      ]
     },
     "execution_count": 30,
     "metadata": {},
     "output_type": "execute_result"
    }
   ],
   "source": [
    "df.select(\"OriginAirportID\").distinct().count() #cantidad de aeropuerto de origen"
   ]
  },
  {
   "cell_type": "code",
   "execution_count": 31,
   "metadata": {},
   "outputs": [],
   "source": [
    "indexer_airline = pyml.feature.StringIndexer(\n",
    "    inputCols=[\"Airline\",\"OriginAirportID\",\"DestAirportID\"],\n",
    "    outputCols=[\"Airline_indexado\",\"OriginAirportID_indexado\",\"DestAirportID_indexado\"])"
   ]
  },
  {
   "cell_type": "code",
   "execution_count": 32,
   "metadata": {},
   "outputs": [
    {
     "name": "stderr",
     "output_type": "stream",
     "text": [
      "                                                                                \r"
     ]
    }
   ],
   "source": [
    "df_indexado = indexer_airline.fit(df).transform(df)"
   ]
  },
  {
   "cell_type": "code",
   "execution_count": 33,
   "metadata": {},
   "outputs": [],
   "source": [
    "encoder_airline = pyml.feature.OneHotEncoder(\n",
    "    inputCols=[\"Airline_indexado\",\"OriginAirportID_indexado\",\"DestAirportID_indexado\"],\n",
    "    outputCols=[\"Airline_OneHotEncoding\",\"OriginAirportID_OneHotEncoding\",\"DestAirportID_OneHotEncoding\"])"
   ]
  },
  {
   "cell_type": "code",
   "execution_count": 34,
   "metadata": {},
   "outputs": [],
   "source": [
    "df_encoder = encoder_airline.fit(df_indexado).transform(df_indexado)"
   ]
  },
  {
   "cell_type": "code",
   "execution_count": 35,
   "metadata": {},
   "outputs": [
    {
     "name": "stdout",
     "output_type": "stream",
     "text": [
      "+----------------------+\n",
      "|Airline_OneHotEncoding|\n",
      "+----------------------+\n",
      "|       (27,[21],[1.0])|\n",
      "|       (27,[21],[1.0])|\n",
      "|       (27,[21],[1.0])|\n",
      "|       (27,[21],[1.0])|\n",
      "|       (27,[21],[1.0])|\n",
      "|       (27,[21],[1.0])|\n",
      "|       (27,[21],[1.0])|\n",
      "|       (27,[21],[1.0])|\n",
      "|       (27,[21],[1.0])|\n",
      "|       (27,[21],[1.0])|\n",
      "|       (27,[21],[1.0])|\n",
      "|       (27,[21],[1.0])|\n",
      "|       (27,[21],[1.0])|\n",
      "|       (27,[21],[1.0])|\n",
      "|       (27,[21],[1.0])|\n",
      "|       (27,[21],[1.0])|\n",
      "|       (27,[21],[1.0])|\n",
      "|       (27,[21],[1.0])|\n",
      "|       (27,[21],[1.0])|\n",
      "|       (27,[21],[1.0])|\n",
      "+----------------------+\n",
      "only showing top 20 rows\n",
      "\n"
     ]
    }
   ],
   "source": [
    "df_encoder.select(\"Airline_OneHotEncoding\").show()"
   ]
  },
  {
   "cell_type": "code",
   "execution_count": 36,
   "metadata": {},
   "outputs": [],
   "source": [
    "assembler = pyml.feature.VectorAssembler(\n",
    "    inputCols=[\n",
    "        \"Distance\",\n",
    "        \"Airline_indexado\", #\"Airline_OneHotEncoding\",\n",
    "        \"OriginAirportID_indexado\", #\"OriginAirportID_OneHotEncoding\",\n",
    "        \"DestAirportID_indexado\" #,\"DestAirportID_OneHotEncoding\"\n",
    "    ],\n",
    "    outputCol=\"features\"\n",
    ")"
   ]
  },
  {
   "cell_type": "code",
   "execution_count": 37,
   "metadata": {},
   "outputs": [],
   "source": [
    "df_with_features = assembler.transform(df_encoder)"
   ]
  },
  {
   "cell_type": "code",
   "execution_count": 38,
   "metadata": {},
   "outputs": [
    {
     "name": "stderr",
     "output_type": "stream",
     "text": [
      "                                                                                \r"
     ]
    },
    {
     "name": "stdout",
     "output_type": "stream",
     "text": [
      "+--------+----------------+------------------------+----------------------+--------------------+\n",
      "|Distance|Airline_indexado|OriginAirportID_indexado|DestAirportID_indexado|features            |\n",
      "+--------+----------------+------------------------+----------------------+--------------------+\n",
      "|212.0   |21.0            |0.0                     |3.0                   |[212.0,21.0,0.0,3.0]|\n",
      "|295.0   |21.0            |0.0                     |8.0                   |[295.0,21.0,0.0,8.0]|\n",
      "|251.0   |21.0            |0.0                     |3.0                   |[251.0,21.0,0.0,3.0]|\n",
      "|376.0   |21.0            |8.0                     |0.0                   |[376.0,21.0,8.0,0.0]|\n",
      "|251.0   |21.0            |0.0                     |3.0                   |[251.0,21.0,0.0,3.0]|\n",
      "|541.0   |21.0            |3.0                     |0.0                   |[541.0,21.0,3.0,0.0]|\n",
      "|127.0   |21.0            |8.0                     |0.0                   |[127.0,21.0,8.0,0.0]|\n",
      "|771.0   |21.0            |0.0                     |8.0                   |[771.0,21.0,0.0,8.0]|\n",
      "|190.0   |21.0            |8.0                     |0.0                   |[190.0,21.0,8.0,0.0]|\n",
      "|427.0   |21.0            |8.0                     |0.0                   |[427.0,21.0,8.0,0.0]|\n",
      "+--------+----------------+------------------------+----------------------+--------------------+\n",
      "only showing top 10 rows\n",
      "\n"
     ]
    }
   ],
   "source": [
    "df_with_features.select([\n",
    "    \"Distance\",\n",
    "    \"Airline_indexado\", #\"Airline_OneHotEncoding\",\n",
    "    \"OriginAirportID_indexado\", #\"OriginAirportID_OneHotEncoding\",\n",
    "    \"DestAirportID_indexado\", #,\"DestAirportID_OneHotEncoding\",\n",
    "    \"features\"]).show(10, truncate=False)"
   ]
  },
  {
   "cell_type": "code",
   "execution_count": 39,
   "metadata": {},
   "outputs": [],
   "source": [
    "ml_class = pyml.classification.RandomForestClassifier(\n",
    "    featuresCol=\"features\",\n",
    "    labelCol=\"Cancelled\"\n",
    ")"
   ]
  },
  {
   "cell_type": "code",
   "execution_count": 41,
   "metadata": {},
   "outputs": [],
   "source": [
    "train, test = df_with_features.randomSplit([0.8,0.2], seed = 42)"
   ]
  },
  {
   "cell_type": "code",
   "execution_count": 42,
   "metadata": {},
   "outputs": [
    {
     "name": "stderr",
     "output_type": "stream",
     "text": [
      "24/10/30 02:07:34 WARN MemoryStore: Not enough space to cache rdd_266_32 in memory! (computed 41.1 MiB so far)\n",
      "24/10/30 02:07:34 WARN MemoryStore: Not enough space to cache rdd_266_35 in memory! (computed 17.8 MiB so far)\n",
      "24/10/30 02:07:34 WARN BlockManager: Persisting block rdd_266_32 to disk instead.\n",
      "24/10/30 02:07:34 WARN MemoryStore: Not enough space to cache rdd_266_38 in memory! (computed 5.1 MiB so far)\n",
      "24/10/30 02:07:34 WARN BlockManager: Persisting block rdd_266_35 to disk instead.\n",
      "24/10/30 02:07:34 WARN BlockManager: Persisting block rdd_266_38 to disk instead.\n",
      "24/10/30 02:07:34 WARN MemoryStore: Not enough space to cache rdd_266_34 in memory! (computed 3.4 MiB so far)\n",
      "24/10/30 02:07:34 WARN BlockManager: Persisting block rdd_266_34 to disk instead.\n",
      "24/10/30 02:07:34 WARN MemoryStore: Not enough space to cache rdd_266_33 in memory! (computed 41.1 MiB so far)\n",
      "24/10/30 02:07:34 WARN BlockManager: Persisting block rdd_266_33 to disk instead.\n",
      "24/10/30 02:09:07 WARN MemoryStore: Not enough space to cache rdd_266_64 in memory! (computed 27.4 MiB so far)\n",
      "24/10/30 02:09:07 WARN BlockManager: Persisting block rdd_266_64 to disk instead.\n",
      "24/10/30 02:09:22 WARN MemoryStore: Not enough space to cache rdd_266_73 in memory! (computed 17.8 MiB so far)\n",
      "24/10/30 02:09:22 WARN BlockManager: Persisting block rdd_266_73 to disk instead.\n",
      "24/10/30 02:09:22 WARN MemoryStore: Not enough space to cache rdd_266_72 in memory! (computed 27.4 MiB so far)\n",
      "24/10/30 02:09:22 WARN BlockManager: Persisting block rdd_266_72 to disk instead.\n",
      "24/10/30 02:09:22 WARN MemoryStore: Not enough space to cache rdd_266_76 in memory! (computed 11.5 MiB so far)\n",
      "24/10/30 02:09:22 WARN BlockManager: Persisting block rdd_266_76 to disk instead.\n",
      "                                                                                \r"
     ]
    }
   ],
   "source": [
    "model = ml_class.fit(train)"
   ]
  },
  {
   "cell_type": "code",
   "execution_count": 43,
   "metadata": {},
   "outputs": [],
   "source": [
    "#evaluar modelo\n",
    "prediction = model.transform(test)\n"
   ]
  },
  {
   "cell_type": "code",
   "execution_count": 44,
   "metadata": {},
   "outputs": [
    {
     "name": "stderr",
     "output_type": "stream",
     "text": [
      "[Stage 106:>                                                        (0 + 1) / 1]\r"
     ]
    },
    {
     "name": "stdout",
     "output_type": "stream",
     "text": [
      "+-------------+---------------+--------------------+----------+-------+--------+----------+-------+--------+-----------------+--------------+--------+----+-----+----------+---------+-----------+-------------------------------+------+------------------+--------------+---------------+----+----------------+------------+-------------+---------+--------+---------------------+-------------------+----------------+------------------------+----------------------+----------------------+------------------------------+----------------------------+--------------------+-------------+-----------+----------+\n",
      "|DestAirportID|OriginAirportID|Airline             |CRSDepTime|DepTime|DepDelay|CRSArrTime|ArrTime|ArrDelay|ActualElapsedTime|CRSElapsedTime|Distance|Year|Month|DayofMonth|DayOfWeek|Tail_Number|Flight_Number_Operating_Airline|Origin|OriginAirportSeqID|OriginCityName|OriginStateName|Dest|DestAirportSeqID|DestCityName|DestStateName|Cancelled|Diverted|OriginAirportID_esTop|DestAirportID_esTop|Airline_indexado|OriginAirportID_indexado|DestAirportID_indexado|Airline_OneHotEncoding|OriginAirportID_OneHotEncoding|DestAirportID_OneHotEncoding|features            |rawPrediction|probability|prediction|\n",
      "+-------------+---------------+--------------------+----------+-------+--------+----------+-------+--------+-----------------+--------------+--------+----+-----+----------+---------+-----------+-------------------------------+------+------------------+--------------+---------------+----+----------------+------------+-------------+---------+--------+---------------------+-------------------+----------------+------------------------+----------------------+----------------------+------------------------------+----------------------------+--------------------+-------------+-----------+----------+\n",
      "|10397        |10693          |Delta Air Lines Inc.|530.0     |524.0  |-6.0    |737       |727.0  |-10.0   |63.0             |67.0          |214.0   |2022|4    |16        |6        |N817DN     |694                            |BNA   |1069302           |Nashville, TN |Tennessee      |ATL |1039707         |Atlanta, GA |Georgia      |0        |0       |1                    |1                  |1.0             |28.0                    |1.0                   |(27,[1],[1.0])        |(31,[28],[1.0])               |(31,[1],[1.0])              |[214.0,1.0,28.0,1.0]|[20.0]       |[1.0]      |0.0       |\n",
      "|10397        |10693          |Delta Air Lines Inc.|530.0     |525.0  |-5.0    |737       |719.0  |-18.0   |54.0             |67.0          |214.0   |2022|4    |30        |6        |N885DN     |694                            |BNA   |1069302           |Nashville, TN |Tennessee      |ATL |1039707         |Atlanta, GA |Georgia      |0        |0       |1                    |1                  |1.0             |28.0                    |1.0                   |(27,[1],[1.0])        |(31,[28],[1.0])               |(31,[1],[1.0])              |[214.0,1.0,28.0,1.0]|[20.0]       |[1.0]      |0.0       |\n",
      "|10397        |10693          |Delta Air Lines Inc.|530.0     |525.0  |-5.0    |737       |721.0  |-16.0   |56.0             |67.0          |214.0   |2022|4    |23        |6        |N898DN     |694                            |BNA   |1069302           |Nashville, TN |Tennessee      |ATL |1039707         |Atlanta, GA |Georgia      |0        |0       |1                    |1                  |1.0             |28.0                    |1.0                   |(27,[1],[1.0])        |(31,[28],[1.0])               |(31,[1],[1.0])              |[214.0,1.0,28.0,1.0]|[20.0]       |[1.0]      |0.0       |\n",
      "|10397        |10693          |Delta Air Lines Inc.|530.0     |526.0  |-4.0    |737       |729.0  |-8.0    |63.0             |67.0          |214.0   |2022|4    |14        |4        |N824DN     |694                            |BNA   |1069302           |Nashville, TN |Tennessee      |ATL |1039707         |Atlanta, GA |Georgia      |0        |0       |1                    |1                  |1.0             |28.0                    |1.0                   |(27,[1],[1.0])        |(31,[28],[1.0])               |(31,[1],[1.0])              |[214.0,1.0,28.0,1.0]|[20.0]       |[1.0]      |0.0       |\n",
      "|10397        |10693          |Delta Air Lines Inc.|530.0     |528.0  |-2.0    |734       |725.0  |-9.0    |57.0             |64.0          |214.0   |2022|4    |10        |7        |N805DN     |694                            |BNA   |1069302           |Nashville, TN |Tennessee      |ATL |1039707         |Atlanta, GA |Georgia      |0        |0       |1                    |1                  |1.0             |28.0                    |1.0                   |(27,[1],[1.0])        |(31,[28],[1.0])               |(31,[1],[1.0])              |[214.0,1.0,28.0,1.0]|[20.0]       |[1.0]      |0.0       |\n",
      "|10397        |10693          |Delta Air Lines Inc.|530.0     |528.0  |-2.0    |737       |727.0  |-10.0   |59.0             |67.0          |214.0   |2022|4    |13        |3        |N825DN     |694                            |BNA   |1069302           |Nashville, TN |Tennessee      |ATL |1039707         |Atlanta, GA |Georgia      |0        |0       |1                    |1                  |1.0             |28.0                    |1.0                   |(27,[1],[1.0])        |(31,[28],[1.0])               |(31,[1],[1.0])              |[214.0,1.0,28.0,1.0]|[20.0]       |[1.0]      |0.0       |\n",
      "|10397        |10693          |Delta Air Lines Inc.|530.0     |539.0  |9.0     |737       |749.0  |12.0    |70.0             |67.0          |214.0   |2022|4    |18        |1        |N808DN     |694                            |BNA   |1069302           |Nashville, TN |Tennessee      |ATL |1039707         |Atlanta, GA |Georgia      |0        |0       |1                    |1                  |1.0             |28.0                    |1.0                   |(27,[1],[1.0])        |(31,[28],[1.0])               |(31,[1],[1.0])              |[214.0,1.0,28.0,1.0]|[20.0]       |[1.0]      |0.0       |\n",
      "|10397        |10693          |Delta Air Lines Inc.|630.0     |624.0  |-6.0    |842       |824.0  |-18.0   |60.0             |72.0          |214.0   |2022|4    |29        |5        |N857DZ     |1241                           |BNA   |1069302           |Nashville, TN |Tennessee      |ATL |1039707         |Atlanta, GA |Georgia      |0        |0       |1                    |1                  |1.0             |28.0                    |1.0                   |(27,[1],[1.0])        |(31,[28],[1.0])               |(31,[1],[1.0])              |[214.0,1.0,28.0,1.0]|[20.0]       |[1.0]      |0.0       |\n",
      "|10397        |10693          |Delta Air Lines Inc.|630.0     |628.0  |-2.0    |842       |853.0  |11.0    |85.0             |72.0          |214.0   |2022|4    |15        |5        |N882DN     |1241                           |BNA   |1069302           |Nashville, TN |Tennessee      |ATL |1039707         |Atlanta, GA |Georgia      |0        |0       |1                    |1                  |1.0             |28.0                    |1.0                   |(27,[1],[1.0])        |(31,[28],[1.0])               |(31,[1],[1.0])              |[214.0,1.0,28.0,1.0]|[20.0]       |[1.0]      |0.0       |\n",
      "|10397        |10693          |Delta Air Lines Inc.|630.0     |630.0  |0.0     |842       |832.0  |-10.0   |62.0             |72.0          |214.0   |2022|4    |28        |4        |N847DN     |1241                           |BNA   |1069302           |Nashville, TN |Tennessee      |ATL |1039707         |Atlanta, GA |Georgia      |0        |0       |1                    |1                  |1.0             |28.0                    |1.0                   |(27,[1],[1.0])        |(31,[28],[1.0])               |(31,[1],[1.0])              |[214.0,1.0,28.0,1.0]|[20.0]       |[1.0]      |0.0       |\n",
      "+-------------+---------------+--------------------+----------+-------+--------+----------+-------+--------+-----------------+--------------+--------+----+-----+----------+---------+-----------+-------------------------------+------+------------------+--------------+---------------+----+----------------+------------+-------------+---------+--------+---------------------+-------------------+----------------+------------------------+----------------------+----------------------+------------------------------+----------------------------+--------------------+-------------+-----------+----------+\n",
      "only showing top 10 rows\n",
      "\n"
     ]
    },
    {
     "name": "stderr",
     "output_type": "stream",
     "text": [
      "                                                                                \r"
     ]
    }
   ],
   "source": [
    "prediction.show(10, truncate = False)"
   ]
  },
  {
   "cell_type": "code",
   "execution_count": 45,
   "metadata": {},
   "outputs": [],
   "source": [
    "evaluator = pyml.evaluation.BinaryClassificationEvaluator(\n",
    "    labelCol=\"Cancelled\",\n",
    "    rawPredictionCol = \"prediction\",\n",
    "    metricName=\"areaUnderROC\"\n",
    ")"
   ]
  },
  {
   "cell_type": "code",
   "execution_count": 46,
   "metadata": {},
   "outputs": [
    {
     "name": "stderr",
     "output_type": "stream",
     "text": [
      "                                                                                \r"
     ]
    }
   ],
   "source": [
    "AUC = evaluator.evaluate(prediction)"
   ]
  },
  {
   "cell_type": "code",
   "execution_count": 48,
   "metadata": {},
   "outputs": [
    {
     "data": {
      "text/plain": [
       "0.0"
      ]
     },
     "execution_count": 48,
     "metadata": {},
     "output_type": "execute_result"
    }
   ],
   "source": [
    "AUC"
   ]
  },
  {
   "cell_type": "markdown",
   "metadata": {},
   "source": [
    "Posible motivo:\n",
    "- Desbalanceo de clases, cancelados son el ~3% de los datos\n",
    "- Se ocupa utilizar One Hot Encoding"
   ]
  },
  {
   "cell_type": "code",
   "execution_count": 49,
   "metadata": {},
   "outputs": [],
   "source": [
    "spark.stop()"
   ]
  }
 ],
 "metadata": {
  "kernelspec": {
   "display_name": ".venv",
   "language": "python",
   "name": "python3"
  },
  "language_info": {
   "codemirror_mode": {
    "name": "ipython",
    "version": 3
   },
   "file_extension": ".py",
   "mimetype": "text/x-python",
   "name": "python",
   "nbconvert_exporter": "python",
   "pygments_lexer": "ipython3",
   "version": "3.12.3"
  }
 },
 "nbformat": 4,
 "nbformat_minor": 2
}
