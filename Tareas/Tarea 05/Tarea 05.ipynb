{
 "cells": [
  {
   "cell_type": "code",
   "execution_count": 1,
   "metadata": {},
   "outputs": [],
   "source": [
    "import findspark\n",
    "findspark.init()\n",
    "findspark.find()\n",
    "\n",
    "from pyspark import SparkContext\n",
    "\n",
    "from pyspark.sql import SparkSession\n",
    "\n",
    "from pyspark import SparkConf\n",
    "\n",
    "import pyspark.sql as pysql\n",
    "\n",
    "from pyspark import StorageLevel\n",
    "\n",
    "import pyspark.ml as pyml"
   ]
  },
  {
   "cell_type": "code",
   "execution_count": 2,
   "metadata": {},
   "outputs": [],
   "source": [
    "import os\n",
    "import sys"
   ]
  },
  {
   "cell_type": "code",
   "execution_count": 3,
   "metadata": {},
   "outputs": [],
   "source": [
    "conf = SparkConf().setAppName(\"Tarea\") \\\n",
    "    .setMaster(\"local[8]\") \\\n",
    "    .set(\"spark.executor.cores\",\"2\") \\\n",
    "    .set(\"spark.executor.memory\", \"4g\") \\\n",
    "    .set(\"spark.driver.memory\",\"4g\")"
   ]
  },
  {
   "cell_type": "code",
   "execution_count": 4,
   "metadata": {},
   "outputs": [
    {
     "name": "stderr",
     "output_type": "stream",
     "text": [
      "Setting default log level to \"WARN\".\n",
      "To adjust logging level use sc.setLogLevel(newLevel). For SparkR, use setLogLevel(newLevel).\n",
      "24/10/27 21:42:49 WARN NativeCodeLoader: Unable to load native-hadoop library for your platform... using builtin-java classes where applicable\n"
     ]
    }
   ],
   "source": [
    "spark : SparkSession = SparkSession.builder.config(conf=conf).getOrCreate()"
   ]
  },
  {
   "cell_type": "code",
   "execution_count": 5,
   "metadata": {},
   "outputs": [],
   "source": [
    "columnas = [\n",
    "    'Airline', # Aerolinea\n",
    "    'CRSDepTime', #Hora de salida programada\n",
    "    'DepTime', #Hora de salida actual\n",
    "    'DepDelay', #Diferencia en minutos entre CRSDepTime y DepTime, tiempos negativos significa salidas tempranas\n",
    "    'CRSArrTime',\n",
    "    'ArrTime', #Hora de llegada\n",
    "    'ArrDelay', #Diferencia de minutos entre la llegada programada y la hora de llegada, tiempos negativos significa llegadas tempranas\n",
    "    'ActualElapsedTime', #Tiempo de vuelo verdadero\n",
    "    'CRSElapsedTime', #Tiempo de vuelo programado\n",
    "    'Distance', #Distancia entre aeropuertos en millas\n",
    "    'Year', #Año del vuelo\n",
    "    'Month', #Mes del vuelo\n",
    "    'DayofMonth', #Dia del mes del vuelo\n",
    "    'DayOfWeek', #Dia de la semana del vuelo\n",
    "    'Tail_Number', #Numero de la cola, código para identificar la aeronave\n",
    "    'Flight_Number_Operating_Airline', #Numero del vuelo\n",
    "    \n",
    "    'Origin', #Aeropuerto de origen\n",
    "    'OriginAirportID', 'OriginAirportSeqID', #codigos del aeropuerto de origen\n",
    "    'OriginCityName', #Nombre de la ciudad del aeropuerto de origen\n",
    "    'OriginStateName', #Nombre de estado del aeropuerto de origen\n",
    "    \n",
    "    'Dest', #Aeropuerto de destino\n",
    "    'DestAirportID', 'DestAirportSeqID', #codigos del aeropuerto de destino\n",
    "    'DestCityName', #Nombre de la ciudad del aeropuerto de destino\n",
    "    'DestStateName', #Nombre de estado del aeropuerto de destino\n",
    "    \n",
    "    'Cancelled', #El vuelo fue cancelado, 1 = Sí\n",
    "    \n",
    "    'Diverted', #Si el vuelo fue desviado, 1 = Sí\n",
    "]"
   ]
  },
  {
   "cell_type": "code",
   "execution_count": 6,
   "metadata": {},
   "outputs": [],
   "source": [
    "import zipfile\n",
    "import pathlib\n",
    "\n",
    "direccion = pathlib.Path.cwd().parent.parent\n",
    "\n",
    "path_datos_zip = pathlib.Path.joinpath(direccion, 'Datos', 'data.zip')\n",
    "\n",
    "path_guardar = pathlib.Path.joinpath(direccion, 'Datos')\n",
    "\n",
    "archivos_datos = [\n",
    "    pathlib.Path.joinpath(direccion, 'Datos', 'Combined_Flights_2022.csv').as_posix(),\n",
    "    pathlib.Path.joinpath(direccion, 'Datos', 'Combined_Flights_2021.csv').as_posix(),\n",
    "    pathlib.Path.joinpath(direccion, 'Datos', 'Combined_Flights_2020.csv').as_posix(),\n",
    "    pathlib.Path.joinpath(direccion, 'Datos', 'Combined_Flights_2019.csv').as_posix(),\n",
    "    pathlib.Path.joinpath(direccion, 'Datos', 'Combined_Flights_2018.csv').as_posix()\n",
    "]\n",
    "\n",
    "archivos_datos_en_zip  = [\n",
    "    'Combined_Flights_2022.csv',\n",
    "    'Combined_Flights_2021.csv',\n",
    "    'Combined_Flights_2020.csv',\n",
    "    'Combined_Flights_2019.csv',\n",
    "    'Combined_Flights_2018.csv'\n",
    "]"
   ]
  },
  {
   "cell_type": "code",
   "execution_count": 7,
   "metadata": {},
   "outputs": [],
   "source": [
    "with zipfile.ZipFile(path_datos_zip, mode=\"r\") as archivo_zip:\n",
    "    for archivo in archivos_datos_en_zip:\n",
    "        \n",
    "        if os.path.isfile(path=pathlib.Path.joinpath(path_guardar,archivo).as_posix()):\n",
    "            continue\n",
    "        \n",
    "        archivo_zip.extract(archivo, path_guardar)"
   ]
  },
  {
   "cell_type": "code",
   "execution_count": 8,
   "metadata": {},
   "outputs": [
    {
     "name": "stderr",
     "output_type": "stream",
     "text": [
      "24/10/27 21:43:07 WARN GarbageCollectionMetrics: To enable non-built-in garbage collector(s) List(G1 Concurrent GC), users should configure it(them) to spark.eventLog.gcMetrics.youngGenerationGarbageCollectors or spark.eventLog.gcMetrics.oldGenerationGarbageCollectors\n"
     ]
    }
   ],
   "source": [
    "df = spark.read.option(\"header\",\"true\").csv(archivos_datos)\n",
    "df = df.select(columnas)"
   ]
  },
  {
   "cell_type": "code",
   "execution_count": 9,
   "metadata": {},
   "outputs": [
    {
     "name": "stderr",
     "output_type": "stream",
     "text": [
      "24/10/27 21:43:08 WARN SparkStringUtils: Truncated the string representation of a plan since it was too large. This behavior can be adjusted by setting 'spark.sql.debug.maxToStringFields'.\n"
     ]
    }
   ],
   "source": [
    "df = df.persist(StorageLevel.DISK_ONLY)"
   ]
  },
  {
   "cell_type": "code",
   "execution_count": 10,
   "metadata": {},
   "outputs": [],
   "source": [
    "#schema del dataframe\n",
    "df = df.withColumn(\"CRSDepTime\", df[\"CRSDepTime\"].cast(pysql.types.FloatType()))\n",
    "df = df.withColumn(\"DepTime\", df[\"DepTime\"].cast(pysql.types.FloatType()))\n",
    "df = df.withColumn(\"DepDelay\", df[\"DepDelay\"].cast(pysql.types.FloatType()))\n",
    "df = df.withColumn(\"ArrTime\", df[\"ArrTime\"].cast(pysql.types.FloatType()))\n",
    "df = df.withColumn(\"ArrDelay\", df[\"ArrDelay\"].cast(pysql.types.FloatType()))\n",
    "df = df.withColumn(\"ActualElapsedTime\", df[\"ActualElapsedTime\"].cast(pysql.types.FloatType()))\n",
    "df = df.withColumn(\"CRSElapsedTime\", df[\"CRSElapsedTime\"].cast(pysql.types.FloatType()))\n",
    "df = df.withColumn(\"Distance\", df[\"Distance\"].cast(pysql.types.FloatType()))\n",
    "df = df.withColumn(\"Year\", df[\"Year\"].cast(pysql.types.IntegerType()))\n",
    "df = df.withColumn(\"Month\", df[\"Month\"].cast(pysql.types.IntegerType()))\n",
    "df = df.withColumn(\"DayofMonth\", df[\"DayofMonth\"].cast(pysql.types.IntegerType()))\n",
    "df = df.withColumn(\"DayOfWeek\", df[\"DayOfWeek\"].cast(pysql.types.IntegerType()))\n",
    "\n",
    "df = df.withColumn(\"Cancelled\", pysql.functions.when(df[\"Cancelled\"] == \"False\",0).otherwise(1))\n",
    "df = df.withColumn(\"Diverted\", pysql.functions.when(df[\"Diverted\"] == \"False\",0).otherwise(1))"
   ]
  },
  {
   "cell_type": "code",
   "execution_count": 11,
   "metadata": {},
   "outputs": [
    {
     "name": "stdout",
     "output_type": "stream",
     "text": [
      "root\n",
      " |-- Airline: string (nullable = true)\n",
      " |-- CRSDepTime: float (nullable = true)\n",
      " |-- DepTime: float (nullable = true)\n",
      " |-- DepDelay: float (nullable = true)\n",
      " |-- CRSArrTime: string (nullable = true)\n",
      " |-- ArrTime: float (nullable = true)\n",
      " |-- ArrDelay: float (nullable = true)\n",
      " |-- ActualElapsedTime: float (nullable = true)\n",
      " |-- CRSElapsedTime: float (nullable = true)\n",
      " |-- Distance: float (nullable = true)\n",
      " |-- Year: integer (nullable = true)\n",
      " |-- Month: integer (nullable = true)\n",
      " |-- DayofMonth: integer (nullable = true)\n",
      " |-- DayOfWeek: integer (nullable = true)\n",
      " |-- Tail_Number: string (nullable = true)\n",
      " |-- Flight_Number_Operating_Airline: string (nullable = true)\n",
      " |-- Origin: string (nullable = true)\n",
      " |-- OriginAirportID: string (nullable = true)\n",
      " |-- OriginAirportSeqID: string (nullable = true)\n",
      " |-- OriginCityName: string (nullable = true)\n",
      " |-- OriginStateName: string (nullable = true)\n",
      " |-- Dest: string (nullable = true)\n",
      " |-- DestAirportID: string (nullable = true)\n",
      " |-- DestAirportSeqID: string (nullable = true)\n",
      " |-- DestCityName: string (nullable = true)\n",
      " |-- DestStateName: string (nullable = true)\n",
      " |-- Cancelled: integer (nullable = false)\n",
      " |-- Diverted: integer (nullable = false)\n",
      "\n"
     ]
    }
   ],
   "source": [
    "df.printSchema()"
   ]
  },
  {
   "cell_type": "code",
   "execution_count": 17,
   "metadata": {},
   "outputs": [
    {
     "name": "stderr",
     "output_type": "stream",
     "text": [
      "                                                                                \r"
     ]
    },
    {
     "data": {
      "text/plain": [
       "28"
      ]
     },
     "execution_count": 17,
     "metadata": {},
     "output_type": "execute_result"
    }
   ],
   "source": [
    "df.select(\"Airline\").distinct().count() #cantidad de aerolineas"
   ]
  },
  {
   "cell_type": "code",
   "execution_count": 33,
   "metadata": {},
   "outputs": [],
   "source": [
    "indexer_airline = pyml.feature.StringIndexer(\n",
    "    inputCols=[\"Airline\",\"OriginAirportID\",\"DestAirportID\"],\n",
    "    outputCols=[\"Airline_indexado\",\"OriginAirportID_indexado\",\"DestAirportID_indexado\"])"
   ]
  },
  {
   "cell_type": "code",
   "execution_count": 34,
   "metadata": {},
   "outputs": [
    {
     "name": "stderr",
     "output_type": "stream",
     "text": [
      "                                                                                \r"
     ]
    }
   ],
   "source": [
    "df_indexado = indexer_airline.fit(df).transform(df)"
   ]
  },
  {
   "cell_type": "code",
   "execution_count": 35,
   "metadata": {},
   "outputs": [],
   "source": [
    "encoder_airline = pyml.feature.OneHotEncoder(\n",
    "    inputCols=[\"Airline_indexado\",\"OriginAirportID_indexado\",\"DestAirportID_indexado\"],\n",
    "    outputCols=[\"Airline_OneHotEncoding\",\"OriginAirportID_OneHotEncoding\",\"DestAirportID_OneHotEncoding\"])"
   ]
  },
  {
   "cell_type": "code",
   "execution_count": 36,
   "metadata": {},
   "outputs": [],
   "source": [
    "df_encoder = encoder_airline.fit(df_indexado).transform(df_indexado)"
   ]
  },
  {
   "cell_type": "code",
   "execution_count": 37,
   "metadata": {},
   "outputs": [
    {
     "name": "stdout",
     "output_type": "stream",
     "text": [
      "+--------------------+----------+-------+--------+----------+-------+--------+-----------------+--------------+--------+----+-----+----------+---------+-----------+-------------------------------+------+---------------+------------------+--------------------+---------------+----+-------------+----------------+-------------------+-------------+---------+--------+----------------+------------------------+----------------------+----------------------+------------------------------+----------------------------+\n",
      "|             Airline|CRSDepTime|DepTime|DepDelay|CRSArrTime|ArrTime|ArrDelay|ActualElapsedTime|CRSElapsedTime|Distance|Year|Month|DayofMonth|DayOfWeek|Tail_Number|Flight_Number_Operating_Airline|Origin|OriginAirportID|OriginAirportSeqID|      OriginCityName|OriginStateName|Dest|DestAirportID|DestAirportSeqID|       DestCityName|DestStateName|Cancelled|Diverted|Airline_indexado|OriginAirportID_indexado|DestAirportID_indexado|Airline_OneHotEncoding|OriginAirportID_OneHotEncoding|DestAirportID_OneHotEncoding|\n",
      "+--------------------+----------+-------+--------+----------+-------+--------+-----------------+--------------+--------+----+-----+----------+---------+-----------+-------------------------------+------+---------------+------------------+--------------------+---------------+----+-------------+----------------+-------------------+-------------+---------+--------+----------------+------------------------+----------------------+----------------------+------------------------------+----------------------------+\n",
      "|Commutair Aka Cha...|    1133.0| 1123.0|   -10.0|      1245| 1228.0|   -17.0|             65.0|          72.0|   212.0|2022|    4|         4|        1|     N21144|                           4301|   GJT|          11921|           1192102|  Grand Junction, CO|       Colorado| DEN|        11292|         1129202|         Denver, CO|     Colorado|        0|       0|            21.0|                   161.0|                   2.0|       (27,[21],[1.0])|             (387,[161],[1.0])|             (387,[2],[1.0])|\n",
      "|Commutair Aka Cha...|     732.0|  728.0|    -4.0|       849|  848.0|    -1.0|             80.0|          77.0|   295.0|2022|    4|         4|        1|     N16170|                           4299|   HRL|          12206|           1220605|Harlingen/San Ben...|          Texas| IAH|        12266|         1226603|        Houston, TX|        Texas|        0|       0|            21.0|                   165.0|                   7.0|       (27,[21],[1.0])|             (387,[165],[1.0])|             (387,[7],[1.0])|\n",
      "|Commutair Aka Cha...|    1529.0| 1514.0|   -15.0|      1639| 1636.0|    -3.0|             82.0|          70.0|   251.0|2022|    4|         4|        1|     N21144|                           4298|   DRO|          11413|           1141307|         Durango, CO|       Colorado| DEN|        11292|         1129202|         Denver, CO|     Colorado|        0|       0|            21.0|                   171.0|                   2.0|       (27,[21],[1.0])|             (387,[171],[1.0])|             (387,[2],[1.0])|\n",
      "|Commutair Aka Cha...|    1435.0| 1430.0|    -5.0|      1605| 1547.0|   -18.0|             77.0|          90.0|   376.0|2022|    4|         4|        1|     N11184|                           4296|   IAH|          12266|           1226603|         Houston, TX|          Texas| GPT|        11973|         1197302|Gulfport/Biloxi, MS|  Mississippi|        0|       0|            21.0|                     7.0|                 167.0|       (27,[21],[1.0])|               (387,[7],[1.0])|           (387,[167],[1.0])|\n",
      "|Commutair Aka Cha...|    1135.0| 1135.0|     0.0|      1245| 1251.0|     6.0|             76.0|          70.0|   251.0|2022|    4|         4|        1|     N17146|                           4295|   DRO|          11413|           1141307|         Durango, CO|       Colorado| DEN|        11292|         1129202|         Denver, CO|     Colorado|        0|       0|            21.0|                   171.0|                   2.0|       (27,[21],[1.0])|             (387,[171],[1.0])|             (387,[2],[1.0])|\n",
      "|Commutair Aka Cha...|     955.0|  952.0|    -3.0|      1240| 1238.0|    -2.0|            106.0|         105.0|   541.0|2022|    4|         4|        1|     N11191|                           4294|   DEN|          11292|           1129202|          Denver, CO|       Colorado| TUL|        15370|         1537002|          Tulsa, OK|     Oklahoma|        0|       0|            21.0|                     2.0|                  77.0|       (27,[21],[1.0])|               (387,[2],[1.0])|            (387,[77],[1.0])|\n",
      "|Commutair Aka Cha...|    2139.0| 2136.0|    -3.0|      2231| 2218.0|   -13.0|             42.0|          52.0|   127.0|2022|    4|         4|        1|     N14143|                           4293|   IAH|          12266|           1226603|         Houston, TX|          Texas| LCH|        12915|         1291503|   Lake Charles, LA|    Louisiana|        0|       0|            21.0|                     7.0|                 223.0|       (27,[21],[1.0])|               (387,[7],[1.0])|           (387,[223],[1.0])|\n",
      "|Commutair Aka Cha...|    1129.0| 1117.0|   -12.0|      1306| 1311.0|     5.0|            174.0|         157.0|   771.0|2022|    4|         4|        1|     N13124|                           4292|   TYS|          15412|           1541205|       Knoxville, TN|      Tennessee| IAH|        12266|         1226603|        Houston, TX|        Texas|        0|       0|            21.0|                    72.0|                   7.0|       (27,[21],[1.0])|              (387,[72],[1.0])|             (387,[7],[1.0])|\n",
      "|Commutair Aka Cha...|    1424.0| 1414.0|   -10.0|      1524| 1513.0|   -11.0|             59.0|          60.0|   190.0|2022|    4|         4|        1|     N33182|                           4291|   IAH|          12266|           1226603|         Houston, TX|          Texas| AEX|        10185|         1018502|     Alexandria, LA|    Louisiana|        0|       0|            21.0|                     7.0|                 188.0|       (27,[21],[1.0])|               (387,[7],[1.0])|           (387,[188],[1.0])|\n",
      "|Commutair Aka Cha...|     954.0|  947.0|    -7.0|      1121| 1110.0|   -11.0|             83.0|          87.0|   427.0|2022|    4|         4|        1|     N21154|                           4290|   IAH|          12266|           1226603|         Houston, TX|          Texas| MOB|        13422|         1342202|         Mobile, AL|      Alabama|        0|       0|            21.0|                     7.0|                 139.0|       (27,[21],[1.0])|               (387,[7],[1.0])|           (387,[139],[1.0])|\n",
      "|Commutair Aka Cha...|    1540.0| 1546.0|     6.0|      1650| 1650.0|     0.0|             64.0|          70.0|   230.0|2022|    4|         4|        1|     N14177|                           4288|   DEN|          11292|           1129202|          Denver, CO|       Colorado| CPR|        11122|         1112205|         Casper, WY|      Wyoming|        0|       0|            21.0|                     2.0|                 213.0|       (27,[21],[1.0])|               (387,[2],[1.0])|           (387,[213],[1.0])|\n",
      "|Commutair Aka Cha...|     705.0|  704.0|    -1.0|       852|  858.0|     6.0|            114.0|         107.0|   427.0|2022|    4|         4|        1|     N11184|                           4287|   MOB|          13422|           1342202|          Mobile, AL|        Alabama| IAH|        12266|         1226603|        Houston, TX|        Texas|        0|       0|            21.0|                   139.0|                   7.0|       (27,[21],[1.0])|             (387,[139],[1.0])|             (387,[7],[1.0])|\n",
      "|Commutair Aka Cha...|    1403.0| 1358.0|    -5.0|      1443| 1425.0|   -18.0|             87.0|         100.0|   423.0|2022|    4|         4|        1|     N14177|                           4286|   LNK|          13029|           1302902|         Lincoln, NE|       Nebraska| DEN|        11292|         1129202|         Denver, CO|     Colorado|        0|       0|            21.0|                   190.0|                   2.0|       (27,[21],[1.0])|             (387,[190],[1.0])|             (387,[2],[1.0])|\n",
      "|Commutair Aka Cha...|    1014.0| 1008.0|    -6.0|      1149| 1148.0|    -1.0|            100.0|          95.0|   395.0|2022|    4|         4|        1|     N11193|                           4281|   IAH|          12266|           1226603|         Houston, TX|          Texas| OKC|        13851|         1385103|  Oklahoma City, OK|     Oklahoma|        0|       0|            21.0|                     7.0|                  64.0|       (27,[21],[1.0])|               (387,[7],[1.0])|            (387,[64],[1.0])|\n",
      "|Commutair Aka Cha...|    1258.0| 1255.0|    -3.0|      1509| 1505.0|    -4.0|            130.0|         131.0|   562.0|2022|    4|         4|        1|     N12160|                           4280|   BHM|          10599|           1059904|      Birmingham, AL|        Alabama| IAH|        12266|         1226603|        Houston, TX|        Texas|        0|       0|            21.0|                    75.0|                   7.0|       (27,[21],[1.0])|              (387,[75],[1.0])|             (387,[7],[1.0])|\n",
      "|Commutair Aka Cha...|     941.0|  937.0|    -4.0|      1049| 1031.0|   -18.0|             54.0|          68.0|   212.0|2022|    4|         4|        1|     N21144|                           4273|   DEN|          11292|           1129202|          Denver, CO|       Colorado| GJT|        11921|         1192102| Grand Junction, CO|     Colorado|        0|       0|            21.0|                     2.0|                 161.0|       (27,[21],[1.0])|               (387,[2],[1.0])|           (387,[161],[1.0])|\n",
      "|Commutair Aka Cha...|    1330.0| 1322.0|    -8.0|      1444| 1427.0|   -17.0|             65.0|          74.0|   251.0|2022|    4|         4|        1|     N21144|                           4271|   DEN|          11292|           1129202|          Denver, CO|       Colorado| DRO|        11413|         1141307|        Durango, CO|     Colorado|        0|       0|            21.0|                     2.0|                 171.0|       (27,[21],[1.0])|               (387,[2],[1.0])|           (387,[171],[1.0])|\n",
      "|Commutair Aka Cha...|    1122.0| 1112.0|   -10.0|      1241| 1213.0|   -28.0|             61.0|          79.0|   303.0|2022|    4|         4|        1|     N14158|                           4270|   DEN|          11292|           1129202|          Denver, CO|       Colorado| SAF|        14674|         1467402|       Santa Fe, NM|   New Mexico|        0|       0|            21.0|                     2.0|                 206.0|       (27,[21],[1.0])|               (387,[2],[1.0])|           (387,[206],[1.0])|\n",
      "|Commutair Aka Cha...|    1731.0| 1800.0|    29.0|      2056| 2141.0|    45.0|            161.0|         145.0|   792.0|2022|    4|         4|        1|     N21144|                           4268|   DEN|          11292|           1129202|          Denver, CO|       Colorado| SHV|        14814|         1481402|     Shreveport, LA|    Louisiana|        0|       0|            21.0|                     2.0|                 138.0|       (27,[21],[1.0])|               (387,[2],[1.0])|           (387,[138],[1.0])|\n",
      "|Commutair Aka Cha...|    1940.0| 1954.0|    14.0|      2106| 2105.0|    -1.0|             71.0|          86.0|   427.0|2022|    4|         4|        1|     N14173|                           4267|   IAH|          12266|           1226603|         Houston, TX|          Texas| MOB|        13422|         1342202|         Mobile, AL|      Alabama|        0|       0|            21.0|                     7.0|                 139.0|       (27,[21],[1.0])|               (387,[7],[1.0])|           (387,[139],[1.0])|\n",
      "+--------------------+----------+-------+--------+----------+-------+--------+-----------------+--------------+--------+----+-----+----------+---------+-----------+-------------------------------+------+---------------+------------------+--------------------+---------------+----+-------------+----------------+-------------------+-------------+---------+--------+----------------+------------------------+----------------------+----------------------+------------------------------+----------------------------+\n",
      "only showing top 20 rows\n",
      "\n"
     ]
    }
   ],
   "source": [
    "df_encoder.show()"
   ]
  },
  {
   "cell_type": "code",
   "execution_count": 39,
   "metadata": {},
   "outputs": [],
   "source": [
    "assembler = pyml.feature.VectorAssembler(\n",
    "    inputCols=[\"Airline_OneHotEncoding\",\"Distance\"],\n",
    "    outputCol=\"features\"\n",
    ")"
   ]
  },
  {
   "cell_type": "code",
   "execution_count": 40,
   "metadata": {},
   "outputs": [],
   "source": [
    "df_with_features = assembler.transform(df_encoder)"
   ]
  },
  {
   "cell_type": "code",
   "execution_count": 41,
   "metadata": {},
   "outputs": [],
   "source": [
    "lr = pyml.classification.LogisticRegression(\n",
    "    featuresCol=\"features\",\n",
    "    labelCol=\"Cancelled\"\n",
    ")"
   ]
  },
  {
   "cell_type": "code",
   "execution_count": 42,
   "metadata": {},
   "outputs": [],
   "source": [
    "train, test = df_with_features.randomSplit([0.8,0.2])"
   ]
  },
  {
   "cell_type": "code",
   "execution_count": 43,
   "metadata": {},
   "outputs": [
    {
     "name": "stderr",
     "output_type": "stream",
     "text": [
      "24/10/27 23:16:39 WARN InstanceBuilder: Failed to load implementation from:dev.ludovic.netlib.blas.JNIBLAS\n",
      "24/10/27 23:16:39 WARN InstanceBuilder: Failed to load implementation from:dev.ludovic.netlib.blas.VectorBLAS\n",
      "                                                                                \r"
     ]
    }
   ],
   "source": [
    "model = lr.fit(train)"
   ]
  },
  {
   "cell_type": "code",
   "execution_count": 44,
   "metadata": {},
   "outputs": [
    {
     "name": "stderr",
     "output_type": "stream",
     "text": [
      "[Stage 131:>                                                        (0 + 1) / 1]\r"
     ]
    },
    {
     "name": "stdout",
     "output_type": "stream",
     "text": [
      "+--------------------+----------+-------+--------+----------+-------+--------+-----------------+--------------+--------+----+-----+----------+---------+-----------+-------------------------------+------+---------------+------------------+--------------------+---------------+----+-------------+----------------+--------------+-------------+---------+--------+----------------+------------------------+----------------------+----------------------+------------------------------+----------------------------+--------------------+--------------------+--------------------+----------+\n",
      "|             Airline|CRSDepTime|DepTime|DepDelay|CRSArrTime|ArrTime|ArrDelay|ActualElapsedTime|CRSElapsedTime|Distance|Year|Month|DayofMonth|DayOfWeek|Tail_Number|Flight_Number_Operating_Airline|Origin|OriginAirportID|OriginAirportSeqID|      OriginCityName|OriginStateName|Dest|DestAirportID|DestAirportSeqID|  DestCityName|DestStateName|Cancelled|Diverted|Airline_indexado|OriginAirportID_indexado|DestAirportID_indexado|Airline_OneHotEncoding|OriginAirportID_OneHotEncoding|DestAirportID_OneHotEncoding|            features|       rawPrediction|         probability|prediction|\n",
      "+--------------------+----------+-------+--------+----------+-------+--------+-----------------+--------------+--------+----+-----+----------+---------+-----------+-------------------------------+------+---------------+------------------+--------------------+---------------+----+-------------+----------------+--------------+-------------+---------+--------+----------------+------------------------+----------------------+----------------------+------------------------------+----------------------------+--------------------+--------------------+--------------------+----------+\n",
      "|Air Wisconsin Air...|     600.0|  558.0|    -2.0|       620|  600.0|   -20.0|             62.0|          80.0|   222.0|2022|    4|         4|        1|     N416AW|                           3869|   MBS|          13184|           1318403|Saginaw/Bay City/...|       Michigan| ORD|        13930|         1393007|   Chicago, IL|     Illinois|        0|       0|            17.0|                   207.0|                   0.0|       (27,[17],[1.0])|             (387,[207],[1.0])|             (387,[0],[1.0])|(28,[17,27],[1.0,...|[3.22828278696421...|[0.96188484570678...|       0.0|\n",
      "|Air Wisconsin Air...|     615.0|  613.0|    -2.0|       725|  730.0|     5.0|             77.0|          70.0|   177.0|2022|    4|         2|        6|     N432AW|                           3893|   ROA|          14574|           1457405|         Roanoke, VA|       Virginia| IAD|        12264|         1226402|Washington, DC|     Virginia|        0|       0|            17.0|                   135.0|                  23.0|       (27,[17],[1.0])|             (387,[135],[1.0])|            (387,[23],[1.0])|(28,[17,27],[1.0,...|[3.21922350046980...|[0.96155131730092...|       0.0|\n",
      "|Air Wisconsin Air...|     620.0|  615.0|    -5.0|       745|  747.0|     2.0|            152.0|         145.0|   654.0|2022|    4|         4|        1|     N431AW|                           3868|   ABE|          10135|           1013506|Allentown/Bethleh...|   Pennsylvania| ORD|        13930|         1393007|   Chicago, IL|     Illinois|        0|       0|            17.0|                   143.0|                   0.0|       (27,[17],[1.0])|             (387,[143],[1.0])|             (387,[0],[1.0])|(28,[17,27],[1.0,...|[3.31525193731057...|[0.96494835164714...|       0.0|\n",
      "|Air Wisconsin Air...|     630.0|  820.0|   110.0|       754|  937.0|   103.0|            137.0|         144.0|   666.0|2022|    4|         4|        1|     N415AW|                           3764|   CAE|          10868|           1086803|        Columbia, SC| South Carolina| ORD|        13930|         1393007|   Chicago, IL|     Illinois|        0|       0|            17.0|                   110.0|                   0.0|       (27,[17],[1.0])|             (387,[110],[1.0])|             (387,[0],[1.0])|(28,[17,27],[1.0,...|[3.31766774704241...|[0.96502996993736...|       0.0|\n",
      "|Air Wisconsin Air...|     632.0|  728.0|    56.0|       745|  827.0|    42.0|            119.0|         133.0|   589.0|2022|    4|         1|        5|     N439AW|                           3760|   GSO|          11995|           1199502|Greensboro/High P...| North Carolina| ORD|        13930|         1393007|   Chicago, IL|     Illinois|        0|       0|            17.0|                    85.0|                   0.0|       (27,[17],[1.0])|              (387,[85],[1.0])|             (387,[0],[1.0])|(28,[17,27],[1.0,...|[3.30216630126308...|[0.96450305287451...|       0.0|\n",
      "|Air Wisconsin Air...|     645.0|  639.0|    -6.0|       755|  728.0|   -27.0|            109.0|         130.0|   536.0|2022|    4|         1|        5|     N415AW|                           3931|   AVL|          10431|           1043105|       Asheville, NC| North Carolina| ORD|        13930|         1393007|   Chicago, IL|     Illinois|        0|       0|            17.0|                   101.0|                   0.0|       (27,[17],[1.0])|             (387,[101],[1.0])|             (387,[0],[1.0])|(28,[17,27],[1.0,...|[3.29149647494744...|[0.96413593493503...|       0.0|\n",
      "|Air Wisconsin Air...|     703.0|  711.0|     8.0|       805|  817.0|    12.0|            126.0|         122.0|   566.0|2022|    4|         2|        6|     N447AW|                           3735|   CHO|          10990|           1099005| Charlottesville, VA|       Virginia| ORD|        13930|         1393007|   Chicago, IL|     Illinois|        0|       0|            17.0|                   130.0|                   0.0|       (27,[17],[1.0])|             (387,[130],[1.0])|             (387,[0],[1.0])|(28,[17,27],[1.0,...|[3.29753599927705...|[0.96434418421503...|       0.0|\n",
      "|Air Wisconsin Air...|     715.0|  726.0|    11.0|      1001|  958.0|    -3.0|             92.0|         106.0|   528.0|2022|    4|         4|        1|     N467AW|                           3876|   ORD|          13930|           1393007|         Chicago, IL|       Illinois| ROC|        14576|         1457606| Rochester, NY|     New York|        0|       0|            17.0|                     0.0|                  79.0|       (27,[17],[1.0])|               (387,[0],[1.0])|            (387,[79],[1.0])|(28,[17,27],[1.0,...|[3.28988593512621...|[0.96408020430948...|       0.0|\n",
      "|Air Wisconsin Air...|     730.0|  722.0|    -8.0|       755|  746.0|    -9.0|             84.0|          85.0|   240.0|2022|    4|         1|        5|     N461AW|                           3856|   DAY|          11267|           1126702|          Dayton, OH|           Ohio| ORD|        13930|         1393007|   Chicago, IL|     Illinois|        0|       0|            17.0|                    89.0|                   0.0|       (27,[17],[1.0])|              (387,[89],[1.0])|             (387,[0],[1.0])|(28,[17,27],[1.0,...|[3.23190650156198...|[0.96201747760580...|       0.0|\n",
      "|Air Wisconsin Air...|     730.0|  723.0|    -7.0|      1035| 1007.0|   -28.0|            104.0|         125.0|   723.0|2022|    4|         4|        1|     N405AW|                           3800|   ORD|          13930|           1393007|         Chicago, IL|       Illinois| ALB|        10257|         1025702|    Albany, NY|     New York|        0|       0|            17.0|                     0.0|                  82.0|       (27,[17],[1.0])|               (387,[0],[1.0])|            (387,[82],[1.0])|(28,[17,27],[1.0,...|[3.32914284326867...|[0.96541516175587...|       0.0|\n",
      "+--------------------+----------+-------+--------+----------+-------+--------+-----------------+--------------+--------+----+-----+----------+---------+-----------+-------------------------------+------+---------------+------------------+--------------------+---------------+----+-------------+----------------+--------------+-------------+---------+--------+----------------+------------------------+----------------------+----------------------+------------------------------+----------------------------+--------------------+--------------------+--------------------+----------+\n",
      "only showing top 10 rows\n",
      "\n"
     ]
    },
    {
     "name": "stderr",
     "output_type": "stream",
     "text": [
      "                                                                                \r"
     ]
    }
   ],
   "source": [
    "#evaluar modelo\n",
    "prediction = model.transform(test)\n",
    "prediction.show(10)"
   ]
  },
  {
   "cell_type": "code",
   "execution_count": 46,
   "metadata": {},
   "outputs": [],
   "source": [
    "evaluator = pyml.evaluation.BinaryClassificationEvaluator(\n",
    "    labelCol=\"Cancelled\",\n",
    "    rawPredictionCol = \"prediction\",\n",
    "    metricName=\"areaUnderROC\"\n",
    ")"
   ]
  },
  {
   "cell_type": "code",
   "execution_count": 47,
   "metadata": {},
   "outputs": [
    {
     "name": "stderr",
     "output_type": "stream",
     "text": [
      "                                                                                \r"
     ]
    }
   ],
   "source": [
    "AUROC = evaluator.evaluate(prediction)"
   ]
  },
  {
   "cell_type": "code",
   "execution_count": 48,
   "metadata": {},
   "outputs": [
    {
     "data": {
      "text/plain": [
       "0.5"
      ]
     },
     "execution_count": 48,
     "metadata": {},
     "output_type": "execute_result"
    }
   ],
   "source": [
    "AUROC"
   ]
  },
  {
   "cell_type": "code",
   "execution_count": 13,
   "metadata": {},
   "outputs": [],
   "source": [
    "spark.stop()"
   ]
  }
 ],
 "metadata": {
  "kernelspec": {
   "display_name": ".venv",
   "language": "python",
   "name": "python3"
  },
  "language_info": {
   "codemirror_mode": {
    "name": "ipython",
    "version": 3
   },
   "file_extension": ".py",
   "mimetype": "text/x-python",
   "name": "python",
   "nbconvert_exporter": "python",
   "pygments_lexer": "ipython3",
   "version": "3.12.3"
  }
 },
 "nbformat": 4,
 "nbformat_minor": 2
}
