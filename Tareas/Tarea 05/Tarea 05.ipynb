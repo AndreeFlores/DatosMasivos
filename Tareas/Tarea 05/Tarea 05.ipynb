{
 "cells": [
  {
   "cell_type": "code",
   "execution_count": 1,
   "metadata": {},
   "outputs": [],
   "source": [
    "import findspark\n",
    "findspark.init()\n",
    "findspark.find()\n",
    "\n",
    "from pyspark import SparkContext\n",
    "\n",
    "from pyspark.sql import SparkSession\n",
    "\n",
    "from pyspark import SparkConf\n",
    "\n",
    "import pyspark.sql as pysql\n",
    "\n",
    "from pyspark import StorageLevel\n",
    "\n",
    "import pyspark.ml as pyml"
   ]
  },
  {
   "cell_type": "code",
   "execution_count": 2,
   "metadata": {},
   "outputs": [],
   "source": [
    "import os\n",
    "import sys"
   ]
  },
  {
   "cell_type": "code",
   "execution_count": 3,
   "metadata": {},
   "outputs": [],
   "source": [
    "conf = SparkConf().setAppName(\"Tarea\") \\\n",
    "    .setMaster(\"local[8]\") \\\n",
    "    .set(\"spark.executor.cores\",\"2\") \\\n",
    "    .set(\"spark.executor.memory\", \"4g\") \\\n",
    "    .set(\"spark.driver.memory\",\"4g\")"
   ]
  },
  {
   "cell_type": "code",
   "execution_count": 4,
   "metadata": {},
   "outputs": [
    {
     "name": "stderr",
     "output_type": "stream",
     "text": [
      "Setting default log level to \"WARN\".\n",
      "To adjust logging level use sc.setLogLevel(newLevel). For SparkR, use setLogLevel(newLevel).\n",
      "24/10/31 03:34:52 WARN NativeCodeLoader: Unable to load native-hadoop library for your platform... using builtin-java classes where applicable\n"
     ]
    }
   ],
   "source": [
    "spark : SparkSession = SparkSession.builder.config(conf=conf).getOrCreate()"
   ]
  },
  {
   "cell_type": "code",
   "execution_count": 5,
   "metadata": {},
   "outputs": [],
   "source": [
    "columnas = [\n",
    "    'Airline', # Aerolinea\n",
    "    'CRSDepTime', #Hora de salida programada\n",
    "    'DepTime', #Hora de salida actual\n",
    "    'DepDelay', #Diferencia en minutos entre CRSDepTime y DepTime, tiempos negativos significa salidas tempranas\n",
    "    'CRSArrTime',\n",
    "    'ArrTime', #Hora de llegada\n",
    "    'ArrDelay', #Diferencia de minutos entre la llegada programada y la hora de llegada, tiempos negativos significa llegadas tempranas\n",
    "    'ActualElapsedTime', #Tiempo de vuelo verdadero\n",
    "    'CRSElapsedTime', #Tiempo de vuelo programado\n",
    "    'Distance', #Distancia entre aeropuertos en millas\n",
    "    'Year', #Año del vuelo\n",
    "    'Month', #Mes del vuelo\n",
    "    'DayofMonth', #Dia del mes del vuelo\n",
    "    'DayOfWeek', #Dia de la semana del vuelo\n",
    "    'Tail_Number', #Numero de la cola, código para identificar la aeronave\n",
    "    'Flight_Number_Operating_Airline', #Numero del vuelo\n",
    "    \n",
    "    'Origin', #Aeropuerto de origen\n",
    "    'OriginAirportID', 'OriginAirportSeqID', #codigos del aeropuerto de origen\n",
    "    'OriginCityName', #Nombre de la ciudad del aeropuerto de origen\n",
    "    'OriginStateName', #Nombre de estado del aeropuerto de origen\n",
    "    \n",
    "    'Dest', #Aeropuerto de destino\n",
    "    'DestAirportID', 'DestAirportSeqID', #codigos del aeropuerto de destino\n",
    "    'DestCityName', #Nombre de la ciudad del aeropuerto de destino\n",
    "    'DestStateName', #Nombre de estado del aeropuerto de destino\n",
    "    \n",
    "    'Cancelled', #El vuelo fue cancelado, 1 = Sí\n",
    "    \n",
    "    'Diverted', #Si el vuelo fue desviado, 1 = Sí\n",
    "]"
   ]
  },
  {
   "cell_type": "code",
   "execution_count": 6,
   "metadata": {},
   "outputs": [],
   "source": [
    "import zipfile\n",
    "import pathlib\n",
    "\n",
    "direccion = pathlib.Path.cwd().parent.parent\n",
    "\n",
    "path_datos_zip = pathlib.Path.joinpath(direccion, 'Datos', 'data.zip')\n",
    "\n",
    "path_guardar = pathlib.Path.joinpath(direccion, 'Datos')\n",
    "\n",
    "archivos_datos = [\n",
    "    pathlib.Path.joinpath(direccion, 'Datos', 'Combined_Flights_2022.csv').as_posix(),\n",
    "    pathlib.Path.joinpath(direccion, 'Datos', 'Combined_Flights_2021.csv').as_posix(),\n",
    "    pathlib.Path.joinpath(direccion, 'Datos', 'Combined_Flights_2020.csv').as_posix(),\n",
    "    pathlib.Path.joinpath(direccion, 'Datos', 'Combined_Flights_2019.csv').as_posix(),\n",
    "    pathlib.Path.joinpath(direccion, 'Datos', 'Combined_Flights_2018.csv').as_posix()\n",
    "]\n",
    "\n",
    "archivos_datos_en_zip  = [\n",
    "    'Combined_Flights_2022.csv',\n",
    "    'Combined_Flights_2021.csv',\n",
    "    'Combined_Flights_2020.csv',\n",
    "    'Combined_Flights_2019.csv',\n",
    "    'Combined_Flights_2018.csv'\n",
    "]"
   ]
  },
  {
   "cell_type": "code",
   "execution_count": 7,
   "metadata": {},
   "outputs": [],
   "source": [
    "with zipfile.ZipFile(path_datos_zip, mode=\"r\") as archivo_zip:\n",
    "    for archivo in archivos_datos_en_zip:\n",
    "        \n",
    "        if os.path.isfile(path=pathlib.Path.joinpath(path_guardar,archivo).as_posix()):\n",
    "            continue\n",
    "        \n",
    "        archivo_zip.extract(archivo, path_guardar)"
   ]
  },
  {
   "cell_type": "code",
   "execution_count": 8,
   "metadata": {},
   "outputs": [],
   "source": [
    "df = spark.read.csv(archivos_datos, header=True)\n",
    "df = df.select(columnas)"
   ]
  },
  {
   "cell_type": "code",
   "execution_count": 9,
   "metadata": {},
   "outputs": [
    {
     "name": "stderr",
     "output_type": "stream",
     "text": [
      "24/10/31 03:35:03 WARN SparkStringUtils: Truncated the string representation of a plan since it was too large. This behavior can be adjusted by setting 'spark.sql.debug.maxToStringFields'.\n"
     ]
    }
   ],
   "source": [
    "df = df.persist(StorageLevel.DISK_ONLY)"
   ]
  },
  {
   "cell_type": "code",
   "execution_count": 10,
   "metadata": {},
   "outputs": [],
   "source": [
    "#schema del dataframe\n",
    "df = df.withColumn(\"CRSDepTime\", df[\"CRSDepTime\"].cast(pysql.types.FloatType()))\n",
    "df = df.withColumn(\"DepTime\", df[\"DepTime\"].cast(pysql.types.FloatType()))\n",
    "df = df.withColumn(\"DepDelay\", df[\"DepDelay\"].cast(pysql.types.FloatType()))\n",
    "df = df.withColumn(\"ArrTime\", df[\"ArrTime\"].cast(pysql.types.FloatType()))\n",
    "df = df.withColumn(\"ArrDelay\", df[\"ArrDelay\"].cast(pysql.types.FloatType()))\n",
    "df = df.withColumn(\"ActualElapsedTime\", df[\"ActualElapsedTime\"].cast(pysql.types.FloatType()))\n",
    "df = df.withColumn(\"CRSElapsedTime\", df[\"CRSElapsedTime\"].cast(pysql.types.FloatType()))\n",
    "df = df.withColumn(\"Distance\", df[\"Distance\"].cast(pysql.types.FloatType()))\n",
    "df = df.withColumn(\"Year\", df[\"Year\"].cast(pysql.types.IntegerType()))\n",
    "df = df.withColumn(\"Month\", df[\"Month\"].cast(pysql.types.IntegerType()))\n",
    "df = df.withColumn(\"DayofMonth\", df[\"DayofMonth\"].cast(pysql.types.IntegerType()))\n",
    "df = df.withColumn(\"DayOfWeek\", df[\"DayOfWeek\"].cast(pysql.types.IntegerType()))\n"
   ]
  },
  {
   "cell_type": "code",
   "execution_count": 11,
   "metadata": {},
   "outputs": [],
   "source": [
    "df = df.withColumn(\"Cancelled\", pysql.functions.when(df[\"Cancelled\"] == \"False\",0).otherwise(1))\n",
    "df = df.withColumn(\"Diverted\", pysql.functions.when(df[\"Diverted\"] == \"False\",0).otherwise(1))"
   ]
  },
  {
   "cell_type": "code",
   "execution_count": 12,
   "metadata": {},
   "outputs": [
    {
     "name": "stdout",
     "output_type": "stream",
     "text": [
      "root\n",
      " |-- Airline: string (nullable = true)\n",
      " |-- CRSDepTime: float (nullable = true)\n",
      " |-- DepTime: float (nullable = true)\n",
      " |-- DepDelay: float (nullable = true)\n",
      " |-- CRSArrTime: string (nullable = true)\n",
      " |-- ArrTime: float (nullable = true)\n",
      " |-- ArrDelay: float (nullable = true)\n",
      " |-- ActualElapsedTime: float (nullable = true)\n",
      " |-- CRSElapsedTime: float (nullable = true)\n",
      " |-- Distance: float (nullable = true)\n",
      " |-- Year: integer (nullable = true)\n",
      " |-- Month: integer (nullable = true)\n",
      " |-- DayofMonth: integer (nullable = true)\n",
      " |-- DayOfWeek: integer (nullable = true)\n",
      " |-- Tail_Number: string (nullable = true)\n",
      " |-- Flight_Number_Operating_Airline: string (nullable = true)\n",
      " |-- Origin: string (nullable = true)\n",
      " |-- OriginAirportID: string (nullable = true)\n",
      " |-- OriginAirportSeqID: string (nullable = true)\n",
      " |-- OriginCityName: string (nullable = true)\n",
      " |-- OriginStateName: string (nullable = true)\n",
      " |-- Dest: string (nullable = true)\n",
      " |-- DestAirportID: string (nullable = true)\n",
      " |-- DestAirportSeqID: string (nullable = true)\n",
      " |-- DestCityName: string (nullable = true)\n",
      " |-- DestStateName: string (nullable = true)\n",
      " |-- Cancelled: integer (nullable = false)\n",
      " |-- Diverted: integer (nullable = false)\n",
      "\n"
     ]
    }
   ],
   "source": [
    "df.printSchema()"
   ]
  },
  {
   "cell_type": "code",
   "execution_count": 13,
   "metadata": {},
   "outputs": [
    {
     "name": "stderr",
     "output_type": "stream",
     "text": [
      "24/10/31 03:35:07 WARN GarbageCollectionMetrics: To enable non-built-in garbage collector(s) List(G1 Concurrent GC), users should configure it(them) to spark.eventLog.gcMetrics.youngGenerationGarbageCollectors or spark.eventLog.gcMetrics.oldGenerationGarbageCollectors\n",
      "                                                                                \r"
     ]
    },
    {
     "data": {
      "text/plain": [
       "28"
      ]
     },
     "execution_count": 13,
     "metadata": {},
     "output_type": "execute_result"
    }
   ],
   "source": [
    "df.select(\"Airline\").distinct().count() #cantidad de aerolineas"
   ]
  },
  {
   "cell_type": "markdown",
   "metadata": {},
   "source": [
    "seleccionar el top 31 de aeropuertos para random forest"
   ]
  },
  {
   "cell_type": "code",
   "execution_count": 14,
   "metadata": {},
   "outputs": [
    {
     "name": "stderr",
     "output_type": "stream",
     "text": [
      "                                                                                \r"
     ]
    },
    {
     "data": {
      "text/plain": [
       "388"
      ]
     },
     "execution_count": 14,
     "metadata": {},
     "output_type": "execute_result"
    }
   ],
   "source": [
    "df.select(\"OriginAirportID\").distinct().count() #cantidad de aeropuerto de origen"
   ]
  },
  {
   "cell_type": "code",
   "execution_count": 15,
   "metadata": {},
   "outputs": [],
   "source": [
    "df_OriginAirpotId_count = df.groupby(\"OriginAirportID\"). \\\n",
    "    count().sort(\"count\", ascending = False)"
   ]
  },
  {
   "cell_type": "code",
   "execution_count": 16,
   "metadata": {},
   "outputs": [
    {
     "name": "stderr",
     "output_type": "stream",
     "text": [
      "[Stage 14:=====================================================>  (74 + 3) / 77]\r"
     ]
    },
    {
     "name": "stdout",
     "output_type": "stream",
     "text": [
      "+----------+\n",
      "|sum(count)|\n",
      "+----------+\n",
      "|  18717110|\n",
      "+----------+\n",
      "\n"
     ]
    },
    {
     "name": "stderr",
     "output_type": "stream",
     "text": [
      "                                                                                \r"
     ]
    }
   ],
   "source": [
    "df_OriginAirpotId_count.limit(31).select(pysql.functions.sum(\"count\")).show()"
   ]
  },
  {
   "cell_type": "code",
   "execution_count": 17,
   "metadata": {},
   "outputs": [
    {
     "name": "stderr",
     "output_type": "stream",
     "text": [
      "                                                                                \r"
     ]
    },
    {
     "data": {
      "text/plain": [
       "29193782"
      ]
     },
     "execution_count": 17,
     "metadata": {},
     "output_type": "execute_result"
    }
   ],
   "source": [
    "df.count()"
   ]
  },
  {
   "cell_type": "code",
   "execution_count": 18,
   "metadata": {},
   "outputs": [
    {
     "data": {
      "text/plain": [
       "0.6411334441012131"
      ]
     },
     "execution_count": 18,
     "metadata": {},
     "output_type": "execute_result"
    }
   ],
   "source": [
    "18717110 / 29193782"
   ]
  },
  {
   "cell_type": "code",
   "execution_count": 19,
   "metadata": {},
   "outputs": [],
   "source": [
    "df_OriginAirpotId_count_top31 = df_OriginAirpotId_count.select(\"OriginAirportID\").limit(31)"
   ]
  },
  {
   "cell_type": "code",
   "execution_count": 20,
   "metadata": {},
   "outputs": [
    {
     "name": "stderr",
     "output_type": "stream",
     "text": [
      "                                                                                \r"
     ]
    },
    {
     "data": {
      "text/plain": [
       "31"
      ]
     },
     "execution_count": 20,
     "metadata": {},
     "output_type": "execute_result"
    }
   ],
   "source": [
    "df_OriginAirpotId_count_top31.distinct().count()"
   ]
  },
  {
   "cell_type": "code",
   "execution_count": 21,
   "metadata": {},
   "outputs": [],
   "source": [
    "df_OriginAirpotId_count_top31 = df_OriginAirpotId_count_top31.withColumn(\n",
    "    \"OriginAirportID_esTop\", pysql.functions.lit(1)\n",
    ")"
   ]
  },
  {
   "cell_type": "code",
   "execution_count": 22,
   "metadata": {},
   "outputs": [
    {
     "name": "stderr",
     "output_type": "stream",
     "text": [
      "[Stage 23:================================================>       (67 + 8) / 77]\r"
     ]
    },
    {
     "name": "stdout",
     "output_type": "stream",
     "text": [
      "+---------------+---------------------+\n",
      "|OriginAirportID|OriginAirportID_esTop|\n",
      "+---------------+---------------------+\n",
      "|          13930|                    1|\n",
      "|          10397|                    1|\n",
      "|          11292|                    1|\n",
      "|          11298|                    1|\n",
      "|          11057|                    1|\n",
      "|          12892|                    1|\n",
      "|          14747|                    1|\n",
      "|          12266|                    1|\n",
      "|          14107|                    1|\n",
      "|          12889|                    1|\n",
      "|          14771|                    1|\n",
      "|          11433|                    1|\n",
      "|          11618|                    1|\n",
      "|          13204|                    1|\n",
      "|          13487|                    1|\n",
      "|          12953|                    1|\n",
      "|          10721|                    1|\n",
      "|          14100|                    1|\n",
      "|          11278|                    1|\n",
      "|          14869|                    1|\n",
      "+---------------+---------------------+\n",
      "only showing top 20 rows\n",
      "\n"
     ]
    },
    {
     "name": "stderr",
     "output_type": "stream",
     "text": [
      "                                                                                \r"
     ]
    }
   ],
   "source": [
    "df_OriginAirpotId_count_top31.show()"
   ]
  },
  {
   "cell_type": "code",
   "execution_count": 23,
   "metadata": {},
   "outputs": [],
   "source": [
    "df = df.join(other=df_OriginAirpotId_count_top31,\n",
    "        on=\"OriginAirportID\",\n",
    "        how=\"left\") #.show()"
   ]
  },
  {
   "cell_type": "code",
   "execution_count": 24,
   "metadata": {},
   "outputs": [
    {
     "name": "stderr",
     "output_type": "stream",
     "text": [
      "                                                                                \r"
     ]
    },
    {
     "data": {
      "text/plain": [
       "388"
      ]
     },
     "execution_count": 24,
     "metadata": {},
     "output_type": "execute_result"
    }
   ],
   "source": [
    "df.select(\"DestAirportID\").distinct().count() #cantidad de aeropuerto de destino"
   ]
  },
  {
   "cell_type": "code",
   "execution_count": 25,
   "metadata": {},
   "outputs": [
    {
     "name": "stderr",
     "output_type": "stream",
     "text": [
      "[Stage 32:=====================================================>  (73 + 4) / 77]\r"
     ]
    },
    {
     "name": "stdout",
     "output_type": "stream",
     "text": [
      "+----------+\n",
      "|sum(count)|\n",
      "+----------+\n",
      "|  18716733|\n",
      "+----------+\n",
      "\n"
     ]
    },
    {
     "name": "stderr",
     "output_type": "stream",
     "text": [
      "                                                                                \r"
     ]
    }
   ],
   "source": [
    "df_DestAirportID_count = df.groupby(\"DestAirportID\"). \\\n",
    "    count().sort(\"count\", ascending = False)\n",
    "    \n",
    "df_DestAirportID_count.limit(31).select(pysql.functions.sum(\"count\")).show()"
   ]
  },
  {
   "cell_type": "code",
   "execution_count": 26,
   "metadata": {},
   "outputs": [
    {
     "data": {
      "text/plain": [
       "0.6411205303923966"
      ]
     },
     "execution_count": 26,
     "metadata": {},
     "output_type": "execute_result"
    }
   ],
   "source": [
    "18716733/ 29193782"
   ]
  },
  {
   "cell_type": "code",
   "execution_count": 27,
   "metadata": {},
   "outputs": [],
   "source": [
    "df_DestAirportID_count_top31 = df_DestAirportID_count.select(\"DestAirportID\").limit(31)\n",
    "\n",
    "df_DestAirportID_count_top31 = df_DestAirportID_count_top31.withColumn(\n",
    "    \"DestAirportID_esTop\", pysql.functions.lit(1)\n",
    ")"
   ]
  },
  {
   "cell_type": "code",
   "execution_count": 28,
   "metadata": {},
   "outputs": [],
   "source": [
    "df = df.join(other=df_DestAirportID_count_top31,\n",
    "        on=\"DestAirportID\",\n",
    "        how=\"left\") #.show()"
   ]
  },
  {
   "cell_type": "markdown",
   "metadata": {},
   "source": [
    "Eliminar aeropuertos afuera del top 31"
   ]
  },
  {
   "cell_type": "code",
   "execution_count": 29,
   "metadata": {},
   "outputs": [],
   "source": [
    "\n",
    "df = df.withColumn(\"OriginAirportID\",\n",
    "    pysql.functions.when(df[\"OriginAirportID_esTop\"] == 1, df[\"OriginAirportID\"]).otherwise(\"other\"))\n",
    "\n",
    "df = df.withColumn(\"DestAirportID\",\n",
    "    pysql.functions.when(df[\"DestAirportID_esTop\"] == 1, df[\"DestAirportID\"]).otherwise(\"other\"))"
   ]
  },
  {
   "cell_type": "code",
   "execution_count": 30,
   "metadata": {},
   "outputs": [
    {
     "name": "stderr",
     "output_type": "stream",
     "text": [
      "                                                                                \r"
     ]
    },
    {
     "data": {
      "text/plain": [
       "32"
      ]
     },
     "execution_count": 30,
     "metadata": {},
     "output_type": "execute_result"
    }
   ],
   "source": [
    "df.select(\"OriginAirportID\").distinct().count() #cantidad de aeropuerto de origen"
   ]
  },
  {
   "cell_type": "code",
   "execution_count": 31,
   "metadata": {},
   "outputs": [],
   "source": [
    "indexer_airline = pyml.feature.StringIndexer(\n",
    "    inputCols=[\"Airline\",\"OriginAirportID\",\"DestAirportID\"],\n",
    "    outputCols=[\"Airline_indexado\",\"OriginAirportID_indexado\",\"DestAirportID_indexado\"])"
   ]
  },
  {
   "cell_type": "code",
   "execution_count": 32,
   "metadata": {},
   "outputs": [
    {
     "name": "stderr",
     "output_type": "stream",
     "text": [
      "                                                                                \r"
     ]
    }
   ],
   "source": [
    "df_indexado = indexer_airline.fit(df).transform(df)"
   ]
  },
  {
   "cell_type": "code",
   "execution_count": 33,
   "metadata": {},
   "outputs": [],
   "source": [
    "encoder_airline = pyml.feature.OneHotEncoder(\n",
    "    inputCols=[\"Airline_indexado\",\"OriginAirportID_indexado\",\"DestAirportID_indexado\"],\n",
    "    outputCols=[\"Airline_OneHotEncoding\",\"OriginAirportID_OneHotEncoding\",\"DestAirportID_OneHotEncoding\"])"
   ]
  },
  {
   "cell_type": "code",
   "execution_count": 34,
   "metadata": {},
   "outputs": [],
   "source": [
    "df_encoder = encoder_airline.fit(df_indexado).transform(df_indexado)"
   ]
  },
  {
   "cell_type": "code",
   "execution_count": 35,
   "metadata": {},
   "outputs": [
    {
     "name": "stdout",
     "output_type": "stream",
     "text": [
      "+----------------------+\n",
      "|Airline_OneHotEncoding|\n",
      "+----------------------+\n",
      "|       (27,[21],[1.0])|\n",
      "|       (27,[21],[1.0])|\n",
      "|       (27,[21],[1.0])|\n",
      "|       (27,[21],[1.0])|\n",
      "|       (27,[21],[1.0])|\n",
      "|       (27,[21],[1.0])|\n",
      "|       (27,[21],[1.0])|\n",
      "|       (27,[21],[1.0])|\n",
      "|       (27,[21],[1.0])|\n",
      "|       (27,[21],[1.0])|\n",
      "|       (27,[21],[1.0])|\n",
      "|       (27,[21],[1.0])|\n",
      "|       (27,[21],[1.0])|\n",
      "|       (27,[21],[1.0])|\n",
      "|       (27,[21],[1.0])|\n",
      "|       (27,[21],[1.0])|\n",
      "|       (27,[21],[1.0])|\n",
      "|       (27,[21],[1.0])|\n",
      "|       (27,[21],[1.0])|\n",
      "|       (27,[21],[1.0])|\n",
      "+----------------------+\n",
      "only showing top 20 rows\n",
      "\n"
     ]
    }
   ],
   "source": [
    "df_encoder.select(\"Airline_OneHotEncoding\").show()"
   ]
  },
  {
   "cell_type": "code",
   "execution_count": 36,
   "metadata": {},
   "outputs": [],
   "source": [
    "assembler = pyml.feature.VectorAssembler(\n",
    "    inputCols=[\n",
    "        \"Distance\",\n",
    "        \"Airline_indexado\", #\"Airline_OneHotEncoding\",\n",
    "        \"OriginAirportID_indexado\", #\"OriginAirportID_OneHotEncoding\",\n",
    "        \"DestAirportID_indexado\", #,\"DestAirportID_OneHotEncoding\"\n",
    "        \"Year\",\n",
    "        \"Month\",\n",
    "        \"DayofMonth\",\n",
    "        \"DayOfWeek\"\n",
    "    ],\n",
    "    outputCol=\"features\"\n",
    ")"
   ]
  },
  {
   "cell_type": "code",
   "execution_count": 37,
   "metadata": {},
   "outputs": [],
   "source": [
    "df_with_features = assembler.transform(df_encoder)"
   ]
  },
  {
   "cell_type": "code",
   "execution_count": 38,
   "metadata": {},
   "outputs": [
    {
     "name": "stderr",
     "output_type": "stream",
     "text": [
      "                                                                                \r"
     ]
    },
    {
     "name": "stdout",
     "output_type": "stream",
     "text": [
      "+--------+----------------+------------------------+----------------------+----+-----+----------+---------+---------------------------------------+\n",
      "|Distance|Airline_indexado|OriginAirportID_indexado|DestAirportID_indexado|Year|Month|DayofMonth|DayOfWeek|features                               |\n",
      "+--------+----------------+------------------------+----------------------+----+-----+----------+---------+---------------------------------------+\n",
      "|212.0   |21.0            |0.0                     |3.0                   |2022|4    |4         |1        |[212.0,21.0,0.0,3.0,2022.0,4.0,4.0,1.0]|\n",
      "|295.0   |21.0            |0.0                     |8.0                   |2022|4    |4         |1        |[295.0,21.0,0.0,8.0,2022.0,4.0,4.0,1.0]|\n",
      "|251.0   |21.0            |0.0                     |3.0                   |2022|4    |4         |1        |[251.0,21.0,0.0,3.0,2022.0,4.0,4.0,1.0]|\n",
      "|376.0   |21.0            |8.0                     |0.0                   |2022|4    |4         |1        |[376.0,21.0,8.0,0.0,2022.0,4.0,4.0,1.0]|\n",
      "|251.0   |21.0            |0.0                     |3.0                   |2022|4    |4         |1        |[251.0,21.0,0.0,3.0,2022.0,4.0,4.0,1.0]|\n",
      "|541.0   |21.0            |3.0                     |0.0                   |2022|4    |4         |1        |[541.0,21.0,3.0,0.0,2022.0,4.0,4.0,1.0]|\n",
      "|127.0   |21.0            |8.0                     |0.0                   |2022|4    |4         |1        |[127.0,21.0,8.0,0.0,2022.0,4.0,4.0,1.0]|\n",
      "|771.0   |21.0            |0.0                     |8.0                   |2022|4    |4         |1        |[771.0,21.0,0.0,8.0,2022.0,4.0,4.0,1.0]|\n",
      "|190.0   |21.0            |8.0                     |0.0                   |2022|4    |4         |1        |[190.0,21.0,8.0,0.0,2022.0,4.0,4.0,1.0]|\n",
      "|427.0   |21.0            |8.0                     |0.0                   |2022|4    |4         |1        |[427.0,21.0,8.0,0.0,2022.0,4.0,4.0,1.0]|\n",
      "+--------+----------------+------------------------+----------------------+----+-----+----------+---------+---------------------------------------+\n",
      "only showing top 10 rows\n",
      "\n"
     ]
    }
   ],
   "source": [
    "df_with_features.select([\n",
    "    \"Distance\",\n",
    "    \"Airline_indexado\", #\"Airline_OneHotEncoding\",\n",
    "    \"OriginAirportID_indexado\", #\"OriginAirportID_OneHotEncoding\",\n",
    "    \"DestAirportID_indexado\", #,\"DestAirportID_OneHotEncoding\",\n",
    "        \"Year\",\n",
    "        \"Month\",\n",
    "        \"DayofMonth\",\n",
    "        \"DayOfWeek\",\n",
    "    \"features\"]).show(10, truncate=False)"
   ]
  },
  {
   "cell_type": "code",
   "execution_count": 39,
   "metadata": {},
   "outputs": [],
   "source": [
    "train, test = df_with_features.randomSplit([0.8,0.2], seed = 42)"
   ]
  },
  {
   "cell_type": "code",
   "execution_count": 40,
   "metadata": {},
   "outputs": [
    {
     "name": "stderr",
     "output_type": "stream",
     "text": [
      "24/10/31 03:40:52 WARN RowBasedKeyValueBatch: Calling spill() on RowBasedKeyValueBatch. Will not spill but return 0.\n",
      "24/10/31 03:40:52 WARN RowBasedKeyValueBatch: Calling spill() on RowBasedKeyValueBatch. Will not spill but return 0.\n",
      "24/10/31 03:40:52 WARN RowBasedKeyValueBatch: Calling spill() on RowBasedKeyValueBatch. Will not spill but return 0.\n",
      "24/10/31 03:40:52 WARN RowBasedKeyValueBatch: Calling spill() on RowBasedKeyValueBatch. Will not spill but return 0.\n",
      "24/10/31 03:40:52 WARN RowBasedKeyValueBatch: Calling spill() on RowBasedKeyValueBatch. Will not spill but return 0.\n",
      "24/10/31 03:40:52 WARN RowBasedKeyValueBatch: Calling spill() on RowBasedKeyValueBatch. Will not spill but return 0.\n",
      "24/10/31 03:40:52 WARN RowBasedKeyValueBatch: Calling spill() on RowBasedKeyValueBatch. Will not spill but return 0.\n",
      "24/10/31 03:40:52 WARN RowBasedKeyValueBatch: Calling spill() on RowBasedKeyValueBatch. Will not spill but return 0.\n",
      "24/10/31 03:41:07 WARN RowBasedKeyValueBatch: Calling spill() on RowBasedKeyValueBatch. Will not spill but return 0.\n",
      "24/10/31 03:41:07 WARN RowBasedKeyValueBatch: Calling spill() on RowBasedKeyValueBatch. Will not spill but return 0.\n",
      "24/10/31 03:41:07 WARN RowBasedKeyValueBatch: Calling spill() on RowBasedKeyValueBatch. Will not spill but return 0.\n",
      "24/10/31 03:41:07 WARN RowBasedKeyValueBatch: Calling spill() on RowBasedKeyValueBatch. Will not spill but return 0.\n",
      "24/10/31 03:41:07 WARN RowBasedKeyValueBatch: Calling spill() on RowBasedKeyValueBatch. Will not spill but return 0.\n",
      "24/10/31 03:41:07 WARN RowBasedKeyValueBatch: Calling spill() on RowBasedKeyValueBatch. Will not spill but return 0.\n",
      "24/10/31 03:41:07 WARN RowBasedKeyValueBatch: Calling spill() on RowBasedKeyValueBatch. Will not spill but return 0.\n",
      "24/10/31 03:41:07 WARN RowBasedKeyValueBatch: Calling spill() on RowBasedKeyValueBatch. Will not spill but return 0.\n",
      "24/10/31 03:41:14 WARN RowBasedKeyValueBatch: Calling spill() on RowBasedKeyValueBatch. Will not spill but return 0.\n",
      "24/10/31 03:41:14 WARN RowBasedKeyValueBatch: Calling spill() on RowBasedKeyValueBatch. Will not spill but return 0.\n",
      "24/10/31 03:41:16 WARN RowBasedKeyValueBatch: Calling spill() on RowBasedKeyValueBatch. Will not spill but return 0.\n",
      "24/10/31 03:41:16 WARN RowBasedKeyValueBatch: Calling spill() on RowBasedKeyValueBatch. Will not spill but return 0.\n",
      "24/10/31 03:41:16 WARN RowBasedKeyValueBatch: Calling spill() on RowBasedKeyValueBatch. Will not spill but return 0.\n",
      "24/10/31 03:41:16 WARN RowBasedKeyValueBatch: Calling spill() on RowBasedKeyValueBatch. Will not spill but return 0.\n",
      "24/10/31 03:41:16 WARN RowBasedKeyValueBatch: Calling spill() on RowBasedKeyValueBatch. Will not spill but return 0.\n",
      "24/10/31 03:41:17 WARN RowBasedKeyValueBatch: Calling spill() on RowBasedKeyValueBatch. Will not spill but return 0.\n",
      "24/10/31 03:41:22 WARN RowBasedKeyValueBatch: Calling spill() on RowBasedKeyValueBatch. Will not spill but return 0.\n",
      "24/10/31 03:41:22 WARN RowBasedKeyValueBatch: Calling spill() on RowBasedKeyValueBatch. Will not spill but return 0.\n",
      "24/10/31 03:41:24 WARN RowBasedKeyValueBatch: Calling spill() on RowBasedKeyValueBatch. Will not spill but return 0.\n",
      "24/10/31 03:41:24 WARN RowBasedKeyValueBatch: Calling spill() on RowBasedKeyValueBatch. Will not spill but return 0.\n",
      "24/10/31 03:41:26 WARN RowBasedKeyValueBatch: Calling spill() on RowBasedKeyValueBatch. Will not spill but return 0.\n",
      "24/10/31 03:41:26 WARN RowBasedKeyValueBatch: Calling spill() on RowBasedKeyValueBatch. Will not spill but return 0.\n",
      "24/10/31 03:41:27 WARN RowBasedKeyValueBatch: Calling spill() on RowBasedKeyValueBatch. Will not spill but return 0.\n",
      "24/10/31 03:41:27 WARN RowBasedKeyValueBatch: Calling spill() on RowBasedKeyValueBatch. Will not spill but return 0.\n",
      "24/10/31 03:41:27 WARN RowBasedKeyValueBatch: Calling spill() on RowBasedKeyValueBatch. Will not spill but return 0.\n",
      "24/10/31 03:41:28 WARN RowBasedKeyValueBatch: Calling spill() on RowBasedKeyValueBatch. Will not spill but return 0.\n",
      "24/10/31 03:41:31 WARN RowBasedKeyValueBatch: Calling spill() on RowBasedKeyValueBatch. Will not spill but return 0.\n",
      "24/10/31 03:41:32 WARN RowBasedKeyValueBatch: Calling spill() on RowBasedKeyValueBatch. Will not spill but return 0.\n",
      "24/10/31 03:41:34 WARN RowBasedKeyValueBatch: Calling spill() on RowBasedKeyValueBatch. Will not spill but return 0.\n",
      "24/10/31 03:41:35 WARN RowBasedKeyValueBatch: Calling spill() on RowBasedKeyValueBatch. Will not spill but return 0.\n",
      "24/10/31 03:41:36 WARN RowBasedKeyValueBatch: Calling spill() on RowBasedKeyValueBatch. Will not spill but return 0.\n",
      "24/10/31 03:41:36 WARN RowBasedKeyValueBatch: Calling spill() on RowBasedKeyValueBatch. Will not spill but return 0.\n",
      "24/10/31 03:41:36 WARN RowBasedKeyValueBatch: Calling spill() on RowBasedKeyValueBatch. Will not spill but return 0.\n",
      "24/10/31 03:41:37 WARN RowBasedKeyValueBatch: Calling spill() on RowBasedKeyValueBatch. Will not spill but return 0.\n",
      "24/10/31 03:41:38 WARN RowBasedKeyValueBatch: Calling spill() on RowBasedKeyValueBatch. Will not spill but return 0.\n",
      "24/10/31 03:41:40 WARN RowBasedKeyValueBatch: Calling spill() on RowBasedKeyValueBatch. Will not spill but return 0.\n",
      "24/10/31 03:41:44 WARN RowBasedKeyValueBatch: Calling spill() on RowBasedKeyValueBatch. Will not spill but return 0.\n",
      "24/10/31 03:41:45 WARN RowBasedKeyValueBatch: Calling spill() on RowBasedKeyValueBatch. Will not spill but return 0.\n",
      "24/10/31 03:41:45 WARN RowBasedKeyValueBatch: Calling spill() on RowBasedKeyValueBatch. Will not spill but return 0.\n",
      "24/10/31 03:41:45 WARN RowBasedKeyValueBatch: Calling spill() on RowBasedKeyValueBatch. Will not spill but return 0.\n",
      "24/10/31 03:41:46 WARN RowBasedKeyValueBatch: Calling spill() on RowBasedKeyValueBatch. Will not spill but return 0.\n",
      "24/10/31 03:41:47 WARN RowBasedKeyValueBatch: Calling spill() on RowBasedKeyValueBatch. Will not spill but return 0.\n",
      "24/10/31 03:41:47 WARN RowBasedKeyValueBatch: Calling spill() on RowBasedKeyValueBatch. Will not spill but return 0.\n",
      "24/10/31 03:41:47 WARN RowBasedKeyValueBatch: Calling spill() on RowBasedKeyValueBatch. Will not spill but return 0.\n",
      "24/10/31 03:41:54 WARN RowBasedKeyValueBatch: Calling spill() on RowBasedKeyValueBatch. Will not spill but return 0.\n",
      "24/10/31 03:41:57 WARN RowBasedKeyValueBatch: Calling spill() on RowBasedKeyValueBatch. Will not spill but return 0.\n",
      "24/10/31 03:41:59 WARN RowBasedKeyValueBatch: Calling spill() on RowBasedKeyValueBatch. Will not spill but return 0.\n",
      "24/10/31 03:42:00 WARN RowBasedKeyValueBatch: Calling spill() on RowBasedKeyValueBatch. Will not spill but return 0.\n",
      "24/10/31 03:42:00 WARN RowBasedKeyValueBatch: Calling spill() on RowBasedKeyValueBatch. Will not spill but return 0.\n",
      "24/10/31 03:42:00 WARN RowBasedKeyValueBatch: Calling spill() on RowBasedKeyValueBatch. Will not spill but return 0.\n",
      "24/10/31 03:42:00 WARN RowBasedKeyValueBatch: Calling spill() on RowBasedKeyValueBatch. Will not spill but return 0.\n",
      "24/10/31 03:42:02 WARN RowBasedKeyValueBatch: Calling spill() on RowBasedKeyValueBatch. Will not spill but return 0.\n",
      "24/10/31 03:42:03 WARN RowBasedKeyValueBatch: Calling spill() on RowBasedKeyValueBatch. Will not spill but return 0.\n",
      "24/10/31 03:42:06 WARN RowBasedKeyValueBatch: Calling spill() on RowBasedKeyValueBatch. Will not spill but return 0.\n",
      "24/10/31 03:42:07 WARN RowBasedKeyValueBatch: Calling spill() on RowBasedKeyValueBatch. Will not spill but return 0.\n",
      "24/10/31 03:42:08 WARN RowBasedKeyValueBatch: Calling spill() on RowBasedKeyValueBatch. Will not spill but return 0.\n",
      "24/10/31 03:42:08 WARN RowBasedKeyValueBatch: Calling spill() on RowBasedKeyValueBatch. Will not spill but return 0.\n",
      "24/10/31 03:42:09 WARN RowBasedKeyValueBatch: Calling spill() on RowBasedKeyValueBatch. Will not spill but return 0.\n",
      "24/10/31 03:42:09 WARN RowBasedKeyValueBatch: Calling spill() on RowBasedKeyValueBatch. Will not spill but return 0.\n",
      "24/10/31 03:42:10 WARN RowBasedKeyValueBatch: Calling spill() on RowBasedKeyValueBatch. Will not spill but return 0.\n",
      "24/10/31 03:42:11 WARN RowBasedKeyValueBatch: Calling spill() on RowBasedKeyValueBatch. Will not spill but return 0.\n",
      "24/10/31 03:42:15 WARN RowBasedKeyValueBatch: Calling spill() on RowBasedKeyValueBatch. Will not spill but return 0.\n",
      "24/10/31 03:42:15 WARN RowBasedKeyValueBatch: Calling spill() on RowBasedKeyValueBatch. Will not spill but return 0.\n",
      "24/10/31 03:42:15 WARN RowBasedKeyValueBatch: Calling spill() on RowBasedKeyValueBatch. Will not spill but return 0.\n",
      "24/10/31 03:42:16 WARN RowBasedKeyValueBatch: Calling spill() on RowBasedKeyValueBatch. Will not spill but return 0.\n",
      "24/10/31 03:42:16 WARN RowBasedKeyValueBatch: Calling spill() on RowBasedKeyValueBatch. Will not spill but return 0.\n",
      "24/10/31 03:42:17 WARN RowBasedKeyValueBatch: Calling spill() on RowBasedKeyValueBatch. Will not spill but return 0.\n",
      "[Stage 67:======================================================> (75 + 2) / 77]\r"
     ]
    },
    {
     "name": "stdout",
     "output_type": "stream",
     "text": [
      "+---------+--------+\n",
      "|Cancelled|   count|\n",
      "+---------+--------+\n",
      "|        1|  621441|\n",
      "|        0|22730423|\n",
      "+---------+--------+\n",
      "\n"
     ]
    },
    {
     "name": "stderr",
     "output_type": "stream",
     "text": [
      "                                                                                \r"
     ]
    }
   ],
   "source": [
    "train.select(\"Cancelled\").groupby(\"Cancelled\").count().show()"
   ]
  },
  {
   "cell_type": "code",
   "execution_count": 41,
   "metadata": {},
   "outputs": [],
   "source": [
    "train = train.persist(StorageLevel.DISK_ONLY)"
   ]
  },
  {
   "cell_type": "code",
   "execution_count": 42,
   "metadata": {},
   "outputs": [],
   "source": [
    "test = test.persist(StorageLevel.DISK_ONLY)"
   ]
  },
  {
   "cell_type": "code",
   "execution_count": 43,
   "metadata": {},
   "outputs": [],
   "source": [
    "train_cancelled_1 = train.filter(train[\"Cancelled\"] == 1)\n",
    "train_cancelled_0 = train.filter(train[\"Cancelled\"] == 0)"
   ]
  },
  {
   "cell_type": "code",
   "execution_count": 45,
   "metadata": {},
   "outputs": [
    {
     "name": "stderr",
     "output_type": "stream",
     "text": [
      "                                                                                \r"
     ]
    },
    {
     "data": {
      "text/plain": [
       "621441"
      ]
     },
     "execution_count": 45,
     "metadata": {},
     "output_type": "execute_result"
    }
   ],
   "source": [
    "train_cancelled_1.count()"
   ]
  },
  {
   "cell_type": "code",
   "execution_count": 46,
   "metadata": {},
   "outputs": [
    {
     "name": "stderr",
     "output_type": "stream",
     "text": [
      "                                                                                \r"
     ]
    },
    {
     "data": {
      "text/plain": [
       "22730423"
      ]
     },
     "execution_count": 46,
     "metadata": {},
     "output_type": "execute_result"
    }
   ],
   "source": [
    "train_cancelled_0.count()"
   ]
  },
  {
   "cell_type": "code",
   "execution_count": 47,
   "metadata": {},
   "outputs": [
    {
     "data": {
      "text/plain": [
       "0.026612051183580034"
      ]
     },
     "execution_count": 47,
     "metadata": {},
     "output_type": "execute_result"
    }
   ],
   "source": [
    "621441 / (621441 + 22730423)"
   ]
  },
  {
   "cell_type": "code",
   "execution_count": 48,
   "metadata": {},
   "outputs": [],
   "source": [
    "oversampled_train_Cancelled_1 = train_cancelled_1.sample(\n",
    "    withReplacement = True,\n",
    "    fraction = 10.0,\n",
    "    seed = 123\n",
    ")\n",
    "\n",
    "balanced_df = train_cancelled_0.union(oversampled_train_Cancelled_1)\n",
    "\n",
    "balanced_df = balanced_df.persist(StorageLevel.DISK_ONLY)"
   ]
  },
  {
   "cell_type": "code",
   "execution_count": 49,
   "metadata": {},
   "outputs": [],
   "source": [
    "ml_class = pyml.classification.RandomForestClassifier(\n",
    "    featuresCol=\"features\",\n",
    "    labelCol=\"Cancelled\"\n",
    ")"
   ]
  },
  {
   "cell_type": "code",
   "execution_count": 50,
   "metadata": {},
   "outputs": [
    {
     "name": "stderr",
     "output_type": "stream",
     "text": [
      "24/10/31 03:50:32 WARN MemoryStore: Not enough space to cache rdd_295_32 in memory! (computed 44.4 MiB so far)\n",
      "24/10/31 03:50:32 WARN MemoryStore: Not enough space to cache rdd_295_36 in memory! (computed 44.4 MiB so far)\n",
      "24/10/31 03:50:32 WARN MemoryStore: Not enough space to cache rdd_295_37 in memory! (computed 12.5 MiB so far)\n",
      "24/10/31 03:50:32 WARN MemoryStore: Not enough space to cache rdd_295_39 in memory! (computed 12.5 MiB so far)\n",
      "24/10/31 03:50:32 WARN BlockManager: Persisting block rdd_295_32 to disk instead.\n",
      "24/10/31 03:50:32 WARN BlockManager: Persisting block rdd_295_39 to disk instead.\n",
      "24/10/31 03:50:32 WARN BlockManager: Persisting block rdd_295_37 to disk instead.\n",
      "24/10/31 03:50:32 WARN BlockManager: Persisting block rdd_295_36 to disk instead.\n",
      "24/10/31 03:50:33 WARN MemoryStore: Not enough space to cache rdd_295_38 in memory! (computed 29.6 MiB so far)\n",
      "24/10/31 03:50:33 WARN BlockManager: Persisting block rdd_295_38 to disk instead.\n",
      "24/10/31 03:50:35 WARN MemoryStore: Not enough space to cache rdd_295_38 in memory! (computed 44.4 MiB so far)\n",
      "24/10/31 03:50:35 WARN MemoryStore: Not enough space to cache rdd_295_41 in memory! (computed 19.2 MiB so far)\n",
      "24/10/31 03:50:35 WARN BlockManager: Persisting block rdd_295_41 to disk instead.\n",
      "24/10/31 03:50:35 WARN MemoryStore: Not enough space to cache rdd_295_42 in memory! (computed 19.2 MiB so far)\n",
      "24/10/31 03:50:35 WARN BlockManager: Persisting block rdd_295_42 to disk instead.\n",
      "24/10/31 03:50:35 WARN MemoryStore: Not enough space to cache rdd_295_32 in memory! (computed 8.3 MiB so far)\n",
      "24/10/31 03:50:35 WARN MemoryStore: Not enough space to cache rdd_295_40 in memory! (computed 29.6 MiB so far)\n",
      "24/10/31 03:50:35 WARN BlockManager: Persisting block rdd_295_40 to disk instead.\n",
      "24/10/31 03:50:35 WARN MemoryStore: Not enough space to cache rdd_295_36 in memory! (computed 44.4 MiB so far)\n",
      "24/10/31 03:50:36 WARN MemoryStore: Not enough space to cache rdd_295_44 in memory! (computed 12.5 MiB so far)\n",
      "24/10/31 03:50:36 WARN BlockManager: Persisting block rdd_295_44 to disk instead.\n",
      "24/10/31 03:50:37 WARN MemoryStore: Not enough space to cache rdd_295_43 in memory! (computed 29.6 MiB so far)\n",
      "24/10/31 03:50:37 WARN BlockManager: Persisting block rdd_295_43 to disk instead.\n",
      "24/10/31 03:50:38 WARN MemoryStore: Not enough space to cache rdd_295_46 in memory! (computed 8.3 MiB so far)\n",
      "24/10/31 03:50:38 WARN BlockManager: Persisting block rdd_295_46 to disk instead.\n",
      "24/10/31 03:50:38 WARN MemoryStore: Not enough space to cache rdd_295_41 in memory! (computed 12.5 MiB so far)\n",
      "24/10/31 03:50:38 WARN MemoryStore: Not enough space to cache rdd_295_45 in memory! (computed 5.5 MiB so far)\n",
      "24/10/31 03:50:38 WARN BlockManager: Persisting block rdd_295_45 to disk instead.\n",
      "24/10/31 03:50:38 WARN MemoryStore: Not enough space to cache rdd_295_40 in memory! (computed 2.3 MiB so far)\n",
      "24/10/31 03:50:38 WARN MemoryStore: Not enough space to cache rdd_295_42 in memory! (computed 12.5 MiB so far)\n",
      "24/10/31 03:50:38 WARN MemoryStore: Not enough space to cache rdd_295_47 in memory! (computed 1040.7 KiB so far)\n",
      "24/10/31 03:50:38 WARN BlockManager: Persisting block rdd_295_47 to disk instead.\n",
      "24/10/31 03:50:42 WARN MemoryStore: Not enough space to cache rdd_295_43 in memory! (computed 12.5 MiB so far)\n",
      "24/10/31 03:50:42 WARN MemoryStore: Not enough space to cache rdd_295_49 in memory! (computed 12.5 MiB so far)\n",
      "24/10/31 03:50:42 WARN BlockManager: Persisting block rdd_295_49 to disk instead.\n",
      "24/10/31 03:50:42 WARN MemoryStore: Not enough space to cache rdd_295_50 in memory! (computed 5.5 MiB so far)\n",
      "24/10/31 03:50:42 WARN BlockManager: Persisting block rdd_295_50 to disk instead.\n",
      "24/10/31 03:50:42 WARN MemoryStore: Not enough space to cache rdd_295_44 in memory! (computed 3.7 MiB so far)\n",
      "24/10/31 03:50:42 WARN MemoryStore: Not enough space to cache rdd_295_48 in memory! (computed 19.2 MiB so far)\n",
      "24/10/31 03:50:42 WARN BlockManager: Persisting block rdd_295_48 to disk instead.\n",
      "24/10/31 03:50:43 WARN MemoryStore: Not enough space to cache rdd_295_46 in memory! (computed 19.2 MiB so far)\n",
      "24/10/31 03:50:44 WARN MemoryStore: Not enough space to cache rdd_295_47 in memory! (computed 29.6 MiB so far)\n",
      "24/10/31 03:50:44 WARN MemoryStore: Not enough space to cache rdd_295_45 in memory! (computed 12.5 MiB so far)\n",
      "24/10/31 03:50:44 WARN MemoryStore: Not enough space to cache rdd_295_51 in memory! (computed 1040.7 KiB so far)\n",
      "24/10/31 03:50:44 WARN BlockManager: Persisting block rdd_295_51 to disk instead.\n",
      "24/10/31 03:50:46 WARN MemoryStore: Not enough space to cache rdd_295_49 in memory! (computed 3.7 MiB so far)\n",
      "24/10/31 03:50:46 WARN MemoryStore: Failed to reserve initial memory threshold of 1024.0 KiB for computing block rdd_295_50 in memory.\n",
      "24/10/31 03:50:46 WARN MemoryStore: Not enough space to cache rdd_295_50 in memory! (computed 384.0 B so far)\n",
      "24/10/31 03:50:46 WARN MemoryStore: Not enough space to cache rdd_295_48 in memory! (computed 1564.0 KiB so far)\n",
      "24/10/31 03:50:46 WARN MemoryStore: Failed to reserve initial memory threshold of 1024.0 KiB for computing block rdd_295_55 in memory.\n",
      "24/10/31 03:50:46 WARN MemoryStore: Failed to reserve initial memory threshold of 1024.0 KiB for computing block rdd_295_54 in memory.\n",
      "24/10/31 03:50:46 WARN MemoryStore: Not enough space to cache rdd_295_55 in memory! (computed 384.0 B so far)\n",
      "24/10/31 03:50:46 WARN BlockManager: Persisting block rdd_295_55 to disk instead.\n",
      "24/10/31 03:50:46 WARN MemoryStore: Not enough space to cache rdd_295_52 in memory! (computed 19.2 MiB so far)\n",
      "24/10/31 03:50:46 WARN BlockManager: Persisting block rdd_295_52 to disk instead.\n",
      "24/10/31 03:50:46 WARN MemoryStore: Not enough space to cache rdd_295_53 in memory! (computed 19.2 MiB so far)\n",
      "24/10/31 03:50:46 WARN BlockManager: Persisting block rdd_295_53 to disk instead.\n",
      "24/10/31 03:50:46 WARN MemoryStore: Not enough space to cache rdd_295_54 in memory! (computed 384.0 B so far)\n",
      "24/10/31 03:50:46 WARN BlockManager: Persisting block rdd_295_54 to disk instead.\n",
      "24/10/31 03:50:48 WARN MemoryStore: Not enough space to cache rdd_295_51 in memory! (computed 8.3 MiB so far)\n",
      "24/10/31 03:50:48 WARN MemoryStore: Failed to reserve initial memory threshold of 1024.0 KiB for computing block rdd_295_52 in memory.\n",
      "24/10/31 03:50:48 WARN MemoryStore: Not enough space to cache rdd_295_52 in memory! (computed 384.0 B so far)\n",
      "24/10/31 03:50:48 WARN MemoryStore: Not enough space to cache rdd_295_58 in memory! (computed 8.3 MiB so far)\n",
      "24/10/31 03:50:48 WARN BlockManager: Persisting block rdd_295_58 to disk instead.\n",
      "24/10/31 03:50:48 WARN MemoryStore: Not enough space to cache rdd_295_56 in memory! (computed 12.5 MiB so far)\n",
      "24/10/31 03:50:48 WARN BlockManager: Persisting block rdd_295_56 to disk instead.\n",
      "24/10/31 03:50:48 WARN MemoryStore: Not enough space to cache rdd_295_57 in memory! (computed 12.5 MiB so far)\n",
      "24/10/31 03:50:48 WARN BlockManager: Persisting block rdd_295_57 to disk instead.\n",
      "24/10/31 03:50:49 WARN MemoryStore: Not enough space to cache rdd_295_53 in memory! (computed 29.6 MiB so far)\n",
      "24/10/31 03:50:50 WARN MemoryStore: Not enough space to cache rdd_295_55 in memory! (computed 29.6 MiB so far)\n",
      "24/10/31 03:50:51 WARN MemoryStore: Not enough space to cache rdd_295_54 in memory! (computed 29.6 MiB so far)\n",
      "24/10/31 03:50:52 WARN MemoryStore: Not enough space to cache rdd_295_59 in memory! (computed 12.5 MiB so far)\n",
      "24/10/31 03:50:52 WARN BlockManager: Persisting block rdd_295_59 to disk instead.\n",
      "24/10/31 03:50:52 WARN MemoryStore: Not enough space to cache rdd_295_60 in memory! (computed 1040.7 KiB so far)\n",
      "24/10/31 03:50:52 WARN BlockManager: Persisting block rdd_295_60 to disk instead.\n",
      "24/10/31 03:50:52 WARN MemoryStore: Not enough space to cache rdd_295_61 in memory! (computed 12.5 MiB so far)\n",
      "24/10/31 03:50:52 WARN MemoryStore: Not enough space to cache rdd_295_62 in memory! (computed 8.3 MiB so far)\n",
      "24/10/31 03:50:52 WARN BlockManager: Persisting block rdd_295_61 to disk instead.\n",
      "24/10/31 03:50:52 WARN BlockManager: Persisting block rdd_295_62 to disk instead.\n",
      "24/10/31 03:50:53 WARN MemoryStore: Not enough space to cache rdd_295_56 in memory! (computed 19.2 MiB so far)\n",
      "24/10/31 03:50:53 WARN MemoryStore: Not enough space to cache rdd_295_58 in memory! (computed 19.2 MiB so far)\n",
      "24/10/31 03:50:53 WARN MemoryStore: Not enough space to cache rdd_295_57 in memory! (computed 19.2 MiB so far)\n",
      "24/10/31 03:50:55 WARN MemoryStore: Not enough space to cache rdd_295_63 in memory! (computed 29.6 MiB so far)\n",
      "24/10/31 03:50:55 WARN BlockManager: Persisting block rdd_295_63 to disk instead.\n",
      "24/10/31 03:50:55 WARN MemoryStore: Not enough space to cache rdd_295_65 in memory! (computed 3.7 MiB so far)\n",
      "24/10/31 03:50:55 WARN BlockManager: Persisting block rdd_295_65 to disk instead.\n",
      "24/10/31 03:50:55 WARN MemoryStore: Not enough space to cache rdd_295_64 in memory! (computed 8.3 MiB so far)\n",
      "24/10/31 03:50:55 WARN BlockManager: Persisting block rdd_295_64 to disk instead.\n",
      "24/10/31 03:50:56 WARN MemoryStore: Not enough space to cache rdd_295_59 in memory! (computed 29.6 MiB so far)\n",
      "24/10/31 03:50:57 WARN MemoryStore: Failed to reserve initial memory threshold of 1024.0 KiB for computing block rdd_295_61 in memory.\n",
      "24/10/31 03:50:57 WARN MemoryStore: Not enough space to cache rdd_295_66 in memory! (computed 1040.7 KiB so far)\n",
      "24/10/31 03:50:57 WARN BlockManager: Persisting block rdd_295_66 to disk instead.\n",
      "24/10/31 03:50:57 WARN MemoryStore: Not enough space to cache rdd_295_61 in memory! (computed 384.0 B so far)\n",
      "24/10/31 03:50:57 WARN MemoryStore: Not enough space to cache rdd_295_62 in memory! (computed 29.6 MiB so far)\n",
      "24/10/31 03:50:57 WARN MemoryStore: Not enough space to cache rdd_295_60 in memory! (computed 12.5 MiB so far)\n",
      "24/10/31 03:50:59 WARN MemoryStore: Not enough space to cache rdd_295_63 in memory! (computed 29.6 MiB so far)\n",
      "24/10/31 03:50:59 WARN MemoryStore: Not enough space to cache rdd_295_67 in memory! (computed 8.3 MiB so far)\n",
      "24/10/31 03:50:59 WARN BlockManager: Persisting block rdd_295_67 to disk instead.\n",
      "24/10/31 03:50:59 WARN MemoryStore: Not enough space to cache rdd_295_69 in memory! (computed 2.3 MiB so far)\n",
      "24/10/31 03:50:59 WARN BlockManager: Persisting block rdd_295_69 to disk instead.\n",
      "24/10/31 03:50:59 WARN MemoryStore: Not enough space to cache rdd_295_68 in memory! (computed 2.3 MiB so far)\n",
      "24/10/31 03:50:59 WARN BlockManager: Persisting block rdd_295_68 to disk instead.\n",
      "24/10/31 03:51:01 WARN MemoryStore: Not enough space to cache rdd_295_64 in memory! (computed 29.6 MiB so far)\n",
      "24/10/31 03:51:01 WARN MemoryStore: Not enough space to cache rdd_295_65 in memory! (computed 3.7 MiB so far)\n",
      "24/10/31 03:51:01 WARN MemoryStore: Not enough space to cache rdd_295_70 in memory! (computed 8.3 MiB so far)\n",
      "24/10/31 03:51:01 WARN BlockManager: Persisting block rdd_295_70 to disk instead.\n",
      "24/10/31 03:51:02 WARN MemoryStore: Not enough space to cache rdd_295_66 in memory! (computed 29.6 MiB so far)\n",
      "24/10/31 03:51:03 WARN MemoryStore: Not enough space to cache rdd_295_71 in memory! (computed 29.6 MiB so far)\n",
      "24/10/31 03:51:03 WARN BlockManager: Persisting block rdd_295_71 to disk instead.\n",
      "24/10/31 03:51:04 WARN MemoryStore: Not enough space to cache rdd_295_67 in memory! (computed 5.5 MiB so far)\n",
      "24/10/31 03:51:04 WARN MemoryStore: Not enough space to cache rdd_295_68 in memory! (computed 5.5 MiB so far)\n",
      "24/10/31 03:51:04 WARN MemoryStore: Not enough space to cache rdd_295_73 in memory! (computed 12.5 MiB so far)\n",
      "24/10/31 03:51:04 WARN BlockManager: Persisting block rdd_295_73 to disk instead.\n",
      "24/10/31 03:51:05 WARN MemoryStore: Not enough space to cache rdd_295_72 in memory! (computed 29.6 MiB so far)\n",
      "24/10/31 03:51:05 WARN BlockManager: Persisting block rdd_295_72 to disk instead.\n",
      "24/10/31 03:51:05 WARN MemoryStore: Not enough space to cache rdd_295_74 in memory! (computed 8.3 MiB so far)\n",
      "24/10/31 03:51:05 WARN BlockManager: Persisting block rdd_295_74 to disk instead.\n",
      "24/10/31 03:51:06 WARN MemoryStore: Not enough space to cache rdd_295_69 in memory! (computed 3.7 MiB so far)\n",
      "24/10/31 03:51:06 WARN MemoryStore: Not enough space to cache rdd_295_70 in memory! (computed 29.6 MiB so far)\n",
      "24/10/31 03:51:07 WARN MemoryStore: Not enough space to cache rdd_295_71 in memory! (computed 8.3 MiB so far)\n",
      "24/10/31 03:51:08 WARN MemoryStore: Not enough space to cache rdd_295_76 in memory! (computed 19.2 MiB so far)\n",
      "24/10/31 03:51:08 WARN BlockManager: Persisting block rdd_295_76 to disk instead.\n",
      "24/10/31 03:51:08 WARN MemoryStore: Not enough space to cache rdd_295_75 in memory! (computed 19.2 MiB so far)\n",
      "24/10/31 03:51:08 WARN BlockManager: Persisting block rdd_295_75 to disk instead.\n",
      "24/10/31 03:51:08 WARN MemoryStore: Not enough space to cache rdd_295_77 in memory! (computed 3.7 MiB so far)\n",
      "24/10/31 03:51:08 WARN BlockManager: Persisting block rdd_295_77 to disk instead.\n",
      "24/10/31 03:51:09 WARN MemoryStore: Not enough space to cache rdd_295_73 in memory! (computed 8.3 MiB so far)\n",
      "24/10/31 03:51:09 WARN MemoryStore: Not enough space to cache rdd_295_72 in memory! (computed 12.5 MiB so far)\n",
      "24/10/31 03:51:09 WARN MemoryStore: Not enough space to cache rdd_295_78 in memory! (computed 19.2 MiB so far)\n",
      "24/10/31 03:51:09 WARN BlockManager: Persisting block rdd_295_78 to disk instead.\n",
      "24/10/31 03:51:09 WARN MemoryStore: Not enough space to cache rdd_295_76 in memory! (computed 3.7 MiB so far)\n",
      "24/10/31 03:51:10 WARN MemoryStore: Not enough space to cache rdd_295_74 in memory! (computed 19.2 MiB so far)\n",
      "24/10/31 03:51:10 WARN MemoryStore: Not enough space to cache rdd_295_78 in memory! (computed 5.5 MiB so far)\n",
      "24/10/31 03:51:10 WARN MemoryStore: Not enough space to cache rdd_295_79 in memory! (computed 1040.7 KiB so far)\n",
      "24/10/31 03:51:10 WARN BlockManager: Persisting block rdd_295_79 to disk instead.\n",
      "24/10/31 03:51:10 WARN MemoryStore: Not enough space to cache rdd_295_75 in memory! (computed 1040.7 KiB so far)\n",
      "24/10/31 03:51:11 WARN MemoryStore: Not enough space to cache rdd_295_81 in memory! (computed 8.3 MiB so far)\n",
      "24/10/31 03:51:11 WARN MemoryStore: Not enough space to cache rdd_295_82 in memory! (computed 3.7 MiB so far)\n",
      "24/10/31 03:51:11 WARN BlockManager: Persisting block rdd_295_81 to disk instead.\n",
      "24/10/31 03:51:11 WARN BlockManager: Persisting block rdd_295_82 to disk instead.\n",
      "24/10/31 03:51:11 WARN MemoryStore: Not enough space to cache rdd_295_84 in memory! (computed 2.3 MiB so far)\n",
      "24/10/31 03:51:11 WARN BlockManager: Persisting block rdd_295_84 to disk instead.\n",
      "24/10/31 03:51:11 WARN MemoryStore: Not enough space to cache rdd_295_83 in memory! (computed 1564.0 KiB so far)\n",
      "24/10/31 03:51:11 WARN BlockManager: Persisting block rdd_295_83 to disk instead.\n",
      "24/10/31 03:51:11 WARN MemoryStore: Failed to reserve initial memory threshold of 1024.0 KiB for computing block rdd_295_79 in memory.\n",
      "24/10/31 03:51:11 WARN MemoryStore: Not enough space to cache rdd_295_79 in memory! (computed 384.0 B so far)\n",
      "24/10/31 03:51:11 WARN MemoryStore: Not enough space to cache rdd_295_86 in memory! (computed 3.7 MiB so far)\n",
      "24/10/31 03:51:11 WARN BlockManager: Persisting block rdd_295_86 to disk instead.\n",
      "24/10/31 03:51:11 WARN MemoryStore: Not enough space to cache rdd_295_87 in memory! (computed 2.3 MiB so far)\n",
      "24/10/31 03:51:11 WARN MemoryStore: Not enough space to cache rdd_295_81 in memory! (computed 2.3 MiB so far)\n",
      "24/10/31 03:51:11 WARN BlockManager: Persisting block rdd_295_87 to disk instead.\n",
      "24/10/31 03:51:12 WARN MemoryStore: Not enough space to cache rdd_295_85 in memory! (computed 12.5 MiB so far)\n",
      "24/10/31 03:51:12 WARN BlockManager: Persisting block rdd_295_85 to disk instead.\n",
      "24/10/31 03:51:12 WARN MemoryStore: Not enough space to cache rdd_295_82 in memory! (computed 3.7 MiB so far)\n",
      "24/10/31 03:51:13 WARN MemoryStore: Not enough space to cache rdd_295_83 in memory! (computed 8.3 MiB so far)\n",
      "24/10/31 03:51:13 WARN MemoryStore: Not enough space to cache rdd_295_87 in memory! (computed 3.7 MiB so far)\n",
      "24/10/31 03:51:13 WARN MemoryStore: Not enough space to cache rdd_295_86 in memory! (computed 8.3 MiB so far)\n",
      "24/10/31 03:51:13 WARN MemoryStore: Not enough space to cache rdd_295_89 in memory! (computed 2.3 MiB so far)\n",
      "24/10/31 03:51:13 WARN BlockManager: Persisting block rdd_295_89 to disk instead.\n",
      "24/10/31 03:51:13 WARN MemoryStore: Not enough space to cache rdd_295_88 in memory! (computed 5.5 MiB so far)\n",
      "24/10/31 03:51:13 WARN BlockManager: Persisting block rdd_295_88 to disk instead.\n",
      "24/10/31 03:51:14 WARN MemoryStore: Not enough space to cache rdd_295_91 in memory! (computed 3.7 MiB so far)\n",
      "24/10/31 03:51:14 WARN MemoryStore: Not enough space to cache rdd_295_92 in memory! (computed 1040.7 KiB so far)\n",
      "24/10/31 03:51:14 WARN BlockManager: Persisting block rdd_295_92 to disk instead.\n",
      "24/10/31 03:51:14 WARN BlockManager: Persisting block rdd_295_91 to disk instead.\n",
      "24/10/31 03:51:14 WARN MemoryStore: Not enough space to cache rdd_295_84 in memory! (computed 8.3 MiB so far)\n",
      "24/10/31 03:51:14 WARN MemoryStore: Not enough space to cache rdd_295_92 in memory! (computed 1564.0 KiB so far)\n",
      "24/10/31 03:51:14 WARN MemoryStore: Not enough space to cache rdd_295_93 in memory! (computed 1564.0 KiB so far)\n",
      "24/10/31 03:51:14 WARN BlockManager: Persisting block rdd_295_93 to disk instead.\n",
      "24/10/31 03:51:14 WARN MemoryStore: Not enough space to cache rdd_295_91 in memory! (computed 3.7 MiB so far)\n",
      "24/10/31 03:51:14 WARN MemoryStore: Not enough space to cache rdd_295_88 in memory! (computed 5.5 MiB so far)\n",
      "24/10/31 03:51:15 WARN MemoryStore: Not enough space to cache rdd_295_89 in memory! (computed 3.7 MiB so far)\n",
      "24/10/31 03:51:15 WARN MemoryStore: Not enough space to cache rdd_295_96 in memory! (computed 1564.0 KiB so far)\n",
      "24/10/31 03:51:15 WARN BlockManager: Persisting block rdd_295_96 to disk instead.\n",
      "24/10/31 03:51:15 WARN MemoryStore: Not enough space to cache rdd_295_85 in memory! (computed 1040.7 KiB so far)\n",
      "24/10/31 03:51:15 WARN MemoryStore: Failed to reserve initial memory threshold of 1024.0 KiB for computing block rdd_295_93 in memory.\n",
      "24/10/31 03:51:15 WARN MemoryStore: Not enough space to cache rdd_295_97 in memory! (computed 1564.0 KiB so far)\n",
      "24/10/31 03:51:15 WARN BlockManager: Persisting block rdd_295_97 to disk instead.\n",
      "24/10/31 03:51:15 WARN MemoryStore: Not enough space to cache rdd_295_93 in memory! (computed 384.0 B so far)\n",
      "24/10/31 03:51:15 WARN MemoryStore: Not enough space to cache rdd_295_95 in memory! (computed 3.7 MiB so far)\n",
      "24/10/31 03:51:15 WARN BlockManager: Persisting block rdd_295_95 to disk instead.\n",
      "24/10/31 03:51:15 WARN MemoryStore: Not enough space to cache rdd_295_98 in memory! (computed 1040.7 KiB so far)\n",
      "24/10/31 03:51:15 WARN BlockManager: Persisting block rdd_295_98 to disk instead.\n",
      "24/10/31 03:51:15 WARN MemoryStore: Not enough space to cache rdd_295_99 in memory! (computed 3.7 MiB so far)\n",
      "24/10/31 03:51:15 WARN BlockManager: Persisting block rdd_295_99 to disk instead.\n",
      "24/10/31 03:51:15 WARN MemoryStore: Not enough space to cache rdd_295_98 in memory! (computed 3.7 MiB so far)\n",
      "24/10/31 03:51:16 WARN MemoryStore: Failed to reserve initial memory threshold of 1024.0 KiB for computing block rdd_295_97 in memory.\n",
      "24/10/31 03:51:16 WARN MemoryStore: Not enough space to cache rdd_295_97 in memory! (computed 384.0 B so far)\n",
      "24/10/31 03:51:16 WARN MemoryStore: Not enough space to cache rdd_295_100 in memory! (computed 1040.7 KiB so far)\n",
      "24/10/31 03:51:16 WARN BlockManager: Persisting block rdd_295_100 to disk instead.\n",
      "24/10/31 03:51:16 WARN MemoryStore: Not enough space to cache rdd_295_96 in memory! (computed 2.3 MiB so far)\n",
      "24/10/31 03:51:16 WARN MemoryStore: Not enough space to cache rdd_295_101 in memory! (computed 2.3 MiB so far)\n",
      "24/10/31 03:51:16 WARN BlockManager: Persisting block rdd_295_101 to disk instead.\n",
      "24/10/31 03:51:16 WARN MemoryStore: Not enough space to cache rdd_295_102 in memory! (computed 5.5 MiB so far)\n",
      "24/10/31 03:51:16 WARN BlockManager: Persisting block rdd_295_102 to disk instead.\n",
      "24/10/31 03:51:16 WARN MemoryStore: Not enough space to cache rdd_295_99 in memory! (computed 3.7 MiB so far)\n",
      "24/10/31 03:51:16 WARN MemoryStore: Not enough space to cache rdd_295_103 in memory! (computed 1564.0 KiB so far)\n",
      "24/10/31 03:51:16 WARN MemoryStore: Not enough space to cache rdd_295_95 in memory! (computed 1040.7 KiB so far)\n",
      "24/10/31 03:51:16 WARN BlockManager: Persisting block rdd_295_103 to disk instead.\n",
      "24/10/31 03:51:16 WARN MemoryStore: Failed to reserve initial memory threshold of 1024.0 KiB for computing block rdd_295_101 in memory.\n",
      "24/10/31 03:51:16 WARN MemoryStore: Not enough space to cache rdd_295_101 in memory! (computed 384.0 B so far)\n",
      "24/10/31 03:51:16 WARN MemoryStore: Not enough space to cache rdd_295_102 in memory! (computed 5.5 MiB so far)\n",
      "24/10/31 03:51:17 WARN MemoryStore: Not enough space to cache rdd_295_104 in memory! (computed 1564.0 KiB so far)\n",
      "24/10/31 03:51:17 WARN BlockManager: Persisting block rdd_295_104 to disk instead.\n",
      "24/10/31 03:51:17 WARN MemoryStore: Failed to reserve initial memory threshold of 1024.0 KiB for computing block rdd_295_106 in memory.\n",
      "24/10/31 03:51:17 WARN MemoryStore: Not enough space to cache rdd_295_106 in memory! (computed 384.0 B so far)\n",
      "24/10/31 03:51:17 WARN BlockManager: Persisting block rdd_295_106 to disk instead.\n",
      "24/10/31 03:51:17 WARN MemoryStore: Failed to reserve initial memory threshold of 1024.0 KiB for computing block rdd_295_108 in memory.\n",
      "24/10/31 03:51:17 WARN MemoryStore: Not enough space to cache rdd_295_108 in memory! (computed 384.0 B so far)\n",
      "24/10/31 03:51:17 WARN BlockManager: Persisting block rdd_295_108 to disk instead.\n",
      "24/10/31 03:51:17 WARN MemoryStore: Not enough space to cache rdd_295_107 in memory! (computed 1564.0 KiB so far)\n",
      "24/10/31 03:51:17 WARN BlockManager: Persisting block rdd_295_107 to disk instead.\n",
      "24/10/31 03:51:17 WARN MemoryStore: Not enough space to cache rdd_295_105 in memory! (computed 1040.7 KiB so far)\n",
      "24/10/31 03:51:17 WARN BlockManager: Persisting block rdd_295_105 to disk instead.\n",
      "24/10/31 03:51:17 WARN MemoryStore: Not enough space to cache rdd_295_107 in memory! (computed 1564.0 KiB so far)\n",
      "24/10/31 03:51:17 WARN MemoryStore: Failed to reserve initial memory threshold of 1024.0 KiB for computing block rdd_295_110 in memory.\n",
      "24/10/31 03:51:17 WARN MemoryStore: Not enough space to cache rdd_295_110 in memory! (computed 384.0 B so far)\n",
      "24/10/31 03:51:17 WARN BlockManager: Persisting block rdd_295_110 to disk instead.\n",
      "24/10/31 03:51:18 WARN MemoryStore: Not enough space to cache rdd_295_109 in memory! (computed 1564.0 KiB so far)\n",
      "24/10/31 03:51:18 WARN BlockManager: Persisting block rdd_295_109 to disk instead.\n",
      "24/10/31 03:51:18 WARN MemoryStore: Not enough space to cache rdd_295_111 in memory! (computed 1564.0 KiB so far)\n",
      "24/10/31 03:51:18 WARN BlockManager: Persisting block rdd_295_111 to disk instead.\n",
      "24/10/31 03:51:18 WARN MemoryStore: Not enough space to cache rdd_295_100 in memory! (computed 2.3 MiB so far)\n",
      "24/10/31 03:51:18 WARN MemoryStore: Not enough space to cache rdd_295_109 in memory! (computed 2.3 MiB so far)\n",
      "24/10/31 03:51:18 WARN MemoryStore: Not enough space to cache rdd_295_111 in memory! (computed 1564.0 KiB so far)\n",
      "24/10/31 03:51:18 WARN MemoryStore: Not enough space to cache rdd_295_112 in memory! (computed 1564.0 KiB so far)\n",
      "24/10/31 03:51:18 WARN BlockManager: Persisting block rdd_295_112 to disk instead.\n",
      "24/10/31 03:51:18 WARN MemoryStore: Not enough space to cache rdd_295_110 in memory! (computed 2.3 MiB so far)\n",
      "24/10/31 03:51:18 WARN MemoryStore: Failed to reserve initial memory threshold of 1024.0 KiB for computing block rdd_295_114 in memory.\n",
      "24/10/31 03:51:18 WARN MemoryStore: Not enough space to cache rdd_295_114 in memory! (computed 384.0 B so far)\n",
      "24/10/31 03:51:18 WARN BlockManager: Persisting block rdd_295_114 to disk instead.\n",
      "24/10/31 03:51:18 WARN MemoryStore: Not enough space to cache rdd_295_108 in memory! (computed 1564.0 KiB so far)\n",
      "24/10/31 03:51:18 WARN MemoryStore: Not enough space to cache rdd_295_113 in memory! (computed 1040.7 KiB so far)\n",
      "24/10/31 03:51:18 WARN BlockManager: Persisting block rdd_295_113 to disk instead.\n",
      "24/10/31 03:51:19 WARN MemoryStore: Failed to reserve initial memory threshold of 1024.0 KiB for computing block rdd_295_114 in memory.\n",
      "24/10/31 03:51:19 WARN MemoryStore: Not enough space to cache rdd_295_114 in memory! (computed 384.0 B so far)\n",
      "24/10/31 03:51:19 WARN MemoryStore: Failed to reserve initial memory threshold of 1024.0 KiB for computing block rdd_295_113 in memory.\n",
      "24/10/31 03:51:19 WARN MemoryStore: Not enough space to cache rdd_295_113 in memory! (computed 384.0 B so far)\n",
      "24/10/31 03:51:19 WARN MemoryStore: Not enough space to cache rdd_295_115 in memory! (computed 1564.0 KiB so far)\n",
      "24/10/31 03:51:19 WARN BlockManager: Persisting block rdd_295_115 to disk instead.\n",
      "24/10/31 03:51:19 WARN MemoryStore: Not enough space to cache rdd_295_112 in memory! (computed 1040.7 KiB so far)\n",
      "24/10/31 03:51:19 WARN MemoryStore: Not enough space to cache rdd_295_116 in memory! (computed 1040.7 KiB so far)\n",
      "24/10/31 03:51:19 WARN BlockManager: Persisting block rdd_295_116 to disk instead.\n",
      "24/10/31 03:51:19 WARN MemoryStore: Not enough space to cache rdd_295_117 in memory! (computed 1564.0 KiB so far)\n",
      "24/10/31 03:51:19 WARN BlockManager: Persisting block rdd_295_117 to disk instead.\n",
      "24/10/31 03:51:20 WARN MemoryStore: Not enough space to cache rdd_295_118 in memory! (computed 1564.0 KiB so far)\n",
      "24/10/31 03:51:20 WARN BlockManager: Persisting block rdd_295_118 to disk instead.\n",
      "24/10/31 03:51:20 WARN MemoryStore: Not enough space to cache rdd_295_119 in memory! (computed 2.3 MiB so far)\n",
      "24/10/31 03:51:20 WARN BlockManager: Persisting block rdd_295_119 to disk instead.\n",
      "24/10/31 03:51:21 WARN MemoryStore: Not enough space to cache rdd_295_117 in memory! (computed 2.3 MiB so far)\n",
      "24/10/31 03:51:21 WARN MemoryStore: Failed to reserve initial memory threshold of 1024.0 KiB for computing block rdd_295_104 in memory.\n",
      "24/10/31 03:51:21 WARN MemoryStore: Not enough space to cache rdd_295_104 in memory! (computed 384.0 B so far)\n",
      "24/10/31 03:51:21 WARN MemoryStore: Not enough space to cache rdd_295_118 in memory! (computed 1564.0 KiB so far)\n",
      "24/10/31 03:51:21 WARN MemoryStore: Not enough space to cache rdd_295_116 in memory! (computed 1040.7 KiB so far)\n",
      "24/10/31 03:51:21 WARN MemoryStore: Failed to reserve initial memory threshold of 1024.0 KiB for computing block rdd_295_106 in memory.\n",
      "24/10/31 03:51:21 WARN MemoryStore: Not enough space to cache rdd_295_106 in memory! (computed 384.0 B so far)\n",
      "24/10/31 03:51:21 WARN MemoryStore: Not enough space to cache rdd_295_119 in memory! (computed 2.3 MiB so far)\n",
      "24/10/31 03:51:21 WARN MemoryStore: Not enough space to cache rdd_295_120 in memory! (computed 2.3 MiB so far)\n",
      "24/10/31 03:51:21 WARN BlockManager: Persisting block rdd_295_120 to disk instead.\n",
      "24/10/31 03:51:21 WARN MemoryStore: Failed to reserve initial memory threshold of 1024.0 KiB for computing block rdd_295_121 in memory.\n",
      "24/10/31 03:51:21 WARN MemoryStore: Not enough space to cache rdd_295_121 in memory! (computed 384.0 B so far)\n",
      "24/10/31 03:51:21 WARN BlockManager: Persisting block rdd_295_121 to disk instead.\n",
      "24/10/31 03:51:22 WARN MemoryStore: Not enough space to cache rdd_295_122 in memory! (computed 1040.7 KiB so far)\n",
      "24/10/31 03:51:22 WARN BlockManager: Persisting block rdd_295_122 to disk instead.\n",
      "24/10/31 03:51:22 WARN MemoryStore: Not enough space to cache rdd_295_123 in memory! (computed 1564.0 KiB so far)\n",
      "24/10/31 03:51:22 WARN BlockManager: Persisting block rdd_295_123 to disk instead.\n",
      "24/10/31 03:51:22 WARN MemoryStore: Not enough space to cache rdd_295_120 in memory! (computed 2.3 MiB so far)\n",
      "24/10/31 03:51:23 WARN MemoryStore: Not enough space to cache rdd_295_123 in memory! (computed 1564.0 KiB so far)\n",
      "24/10/31 03:51:23 WARN MemoryStore: Failed to reserve initial memory threshold of 1024.0 KiB for computing block rdd_295_124 in memory.\n",
      "24/10/31 03:51:23 WARN MemoryStore: Failed to reserve initial memory threshold of 1024.0 KiB for computing block rdd_295_121 in memory.\n",
      "24/10/31 03:51:23 WARN MemoryStore: Not enough space to cache rdd_295_121 in memory! (computed 384.0 B so far)\n",
      "24/10/31 03:51:23 WARN MemoryStore: Not enough space to cache rdd_295_124 in memory! (computed 384.0 B so far)\n",
      "24/10/31 03:51:23 WARN BlockManager: Persisting block rdd_295_124 to disk instead.\n",
      "24/10/31 03:51:23 WARN MemoryStore: Not enough space to cache rdd_295_122 in memory! (computed 1040.7 KiB so far)\n",
      "24/10/31 03:51:23 WARN MemoryStore: Not enough space to cache rdd_295_125 in memory! (computed 1564.0 KiB so far)\n",
      "24/10/31 03:51:23 WARN BlockManager: Persisting block rdd_295_125 to disk instead.\n",
      "24/10/31 03:51:23 WARN MemoryStore: Not enough space to cache rdd_295_126 in memory! (computed 1564.0 KiB so far)\n",
      "24/10/31 03:51:23 WARN BlockManager: Persisting block rdd_295_126 to disk instead.\n",
      "24/10/31 03:51:23 WARN MemoryStore: Failed to reserve initial memory threshold of 1024.0 KiB for computing block rdd_295_127 in memory.\n",
      "24/10/31 03:51:23 WARN MemoryStore: Not enough space to cache rdd_295_127 in memory! (computed 384.0 B so far)\n",
      "24/10/31 03:51:23 WARN BlockManager: Persisting block rdd_295_127 to disk instead.\n",
      "24/10/31 03:51:24 WARN MemoryStore: Failed to reserve initial memory threshold of 1024.0 KiB for computing block rdd_295_128 in memory.\n",
      "24/10/31 03:51:24 WARN MemoryStore: Not enough space to cache rdd_295_124 in memory! (computed 2.3 MiB so far)\n",
      "24/10/31 03:51:24 WARN MemoryStore: Not enough space to cache rdd_295_128 in memory! (computed 384.0 B so far)\n",
      "24/10/31 03:51:24 WARN BlockManager: Persisting block rdd_295_128 to disk instead.\n",
      "24/10/31 03:51:24 WARN MemoryStore: Not enough space to cache rdd_295_125 in memory! (computed 2.3 MiB so far)\n",
      "24/10/31 03:51:24 WARN MemoryStore: Failed to reserve initial memory threshold of 1024.0 KiB for computing block rdd_295_127 in memory.\n",
      "24/10/31 03:51:24 WARN MemoryStore: Not enough space to cache rdd_295_127 in memory! (computed 384.0 B so far)\n",
      "24/10/31 03:51:24 WARN MemoryStore: Failed to reserve initial memory threshold of 1024.0 KiB for computing block rdd_295_126 in memory.\n",
      "24/10/31 03:51:24 WARN MemoryStore: Not enough space to cache rdd_295_126 in memory! (computed 384.0 B so far)\n",
      "24/10/31 03:51:24 WARN MemoryStore: Failed to reserve initial memory threshold of 1024.0 KiB for computing block rdd_295_131 in memory.\n",
      "24/10/31 03:51:24 WARN MemoryStore: Not enough space to cache rdd_295_131 in memory! (computed 384.0 B so far)\n",
      "24/10/31 03:51:24 WARN MemoryStore: Not enough space to cache rdd_295_129 in memory! (computed 1564.0 KiB so far)\n",
      "24/10/31 03:51:24 WARN BlockManager: Persisting block rdd_295_129 to disk instead.\n",
      "24/10/31 03:51:24 WARN BlockManager: Persisting block rdd_295_131 to disk instead.\n",
      "24/10/31 03:51:25 WARN MemoryStore: Failed to reserve initial memory threshold of 1024.0 KiB for computing block rdd_295_132 in memory.\n",
      "24/10/31 03:51:25 WARN MemoryStore: Not enough space to cache rdd_295_130 in memory! (computed 2.3 MiB so far)\n",
      "24/10/31 03:51:25 WARN BlockManager: Persisting block rdd_295_130 to disk instead.\n",
      "24/10/31 03:51:25 WARN MemoryStore: Not enough space to cache rdd_295_132 in memory! (computed 384.0 B so far)\n",
      "24/10/31 03:51:25 WARN BlockManager: Persisting block rdd_295_132 to disk instead.\n",
      "24/10/31 03:51:25 WARN MemoryStore: Failed to reserve initial memory threshold of 1024.0 KiB for computing block rdd_295_105 in memory.\n",
      "24/10/31 03:51:25 WARN MemoryStore: Not enough space to cache rdd_295_105 in memory! (computed 384.0 B so far)\n",
      "24/10/31 03:51:25 WARN MemoryStore: Failed to reserve initial memory threshold of 1024.0 KiB for computing block rdd_295_128 in memory.\n",
      "24/10/31 03:51:25 WARN MemoryStore: Not enough space to cache rdd_295_128 in memory! (computed 384.0 B so far)\n",
      "24/10/31 03:51:25 WARN MemoryStore: Not enough space to cache rdd_295_131 in memory! (computed 1564.0 KiB so far)\n",
      "24/10/31 03:51:25 WARN MemoryStore: Failed to reserve initial memory threshold of 1024.0 KiB for computing block rdd_295_132 in memory.\n",
      "24/10/31 03:51:25 WARN MemoryStore: Not enough space to cache rdd_295_132 in memory! (computed 384.0 B so far)\n",
      "24/10/31 03:51:25 WARN MemoryStore: Not enough space to cache rdd_295_133 in memory! (computed 2.3 MiB so far)\n",
      "24/10/31 03:51:25 WARN BlockManager: Persisting block rdd_295_133 to disk instead.\n",
      "24/10/31 03:51:25 WARN MemoryStore: Failed to reserve initial memory threshold of 1024.0 KiB for computing block rdd_295_136 in memory.\n",
      "24/10/31 03:51:26 WARN MemoryStore: Not enough space to cache rdd_295_136 in memory! (computed 384.0 B so far)\n",
      "24/10/31 03:51:26 WARN BlockManager: Persisting block rdd_295_136 to disk instead.\n",
      "24/10/31 03:51:26 WARN MemoryStore: Failed to reserve initial memory threshold of 1024.0 KiB for computing block rdd_295_130 in memory.\n",
      "24/10/31 03:51:26 WARN MemoryStore: Not enough space to cache rdd_295_130 in memory! (computed 384.0 B so far)\n",
      "24/10/31 03:51:26 WARN MemoryStore: Not enough space to cache rdd_295_135 in memory! (computed 1564.0 KiB so far)\n",
      "24/10/31 03:51:26 WARN BlockManager: Persisting block rdd_295_135 to disk instead.\n",
      "24/10/31 03:51:26 WARN MemoryStore: Not enough space to cache rdd_295_134 in memory! (computed 1040.7 KiB so far)\n",
      "24/10/31 03:51:26 WARN BlockManager: Persisting block rdd_295_134 to disk instead.\n",
      "24/10/31 03:51:27 WARN MemoryStore: Failed to reserve initial memory threshold of 1024.0 KiB for computing block rdd_295_134 in memory.\n",
      "24/10/31 03:51:27 WARN MemoryStore: Not enough space to cache rdd_295_134 in memory! (computed 384.0 B so far)\n",
      "24/10/31 03:51:27 WARN MemoryStore: Not enough space to cache rdd_295_129 in memory! (computed 1564.0 KiB so far)\n",
      "24/10/31 03:51:27 WARN MemoryStore: Not enough space to cache rdd_295_133 in memory! (computed 1040.7 KiB so far)\n",
      "24/10/31 03:51:27 WARN MemoryStore: Failed to reserve initial memory threshold of 1024.0 KiB for computing block rdd_295_139 in memory.\n",
      "24/10/31 03:51:27 WARN MemoryStore: Not enough space to cache rdd_295_139 in memory! (computed 384.0 B so far)\n",
      "24/10/31 03:51:27 WARN BlockManager: Persisting block rdd_295_139 to disk instead.\n",
      "24/10/31 03:51:27 WARN MemoryStore: Failed to reserve initial memory threshold of 1024.0 KiB for computing block rdd_295_135 in memory.\n",
      "24/10/31 03:51:27 WARN MemoryStore: Not enough space to cache rdd_295_135 in memory! (computed 384.0 B so far)\n",
      "24/10/31 03:51:27 WARN MemoryStore: Not enough space to cache rdd_295_138 in memory! (computed 1564.0 KiB so far)\n",
      "24/10/31 03:51:27 WARN BlockManager: Persisting block rdd_295_138 to disk instead.\n",
      "24/10/31 03:51:27 WARN MemoryStore: Not enough space to cache rdd_295_137 in memory! (computed 1564.0 KiB so far)\n",
      "24/10/31 03:51:27 WARN BlockManager: Persisting block rdd_295_137 to disk instead.\n",
      "24/10/31 03:51:27 WARN MemoryStore: Failed to reserve initial memory threshold of 1024.0 KiB for computing block rdd_295_139 in memory.\n",
      "24/10/31 03:51:27 WARN MemoryStore: Not enough space to cache rdd_295_139 in memory! (computed 384.0 B so far)\n",
      "24/10/31 03:51:27 WARN MemoryStore: Not enough space to cache rdd_295_136 in memory! (computed 1040.7 KiB so far)\n",
      "24/10/31 03:51:27 WARN MemoryStore: Not enough space to cache rdd_295_140 in memory! (computed 2.3 MiB so far)\n",
      "24/10/31 03:51:27 WARN BlockManager: Persisting block rdd_295_140 to disk instead.\n",
      "24/10/31 03:51:28 WARN MemoryStore: Not enough space to cache rdd_295_141 in memory! (computed 1040.7 KiB so far)\n",
      "24/10/31 03:51:28 WARN BlockManager: Persisting block rdd_295_141 to disk instead.\n",
      "24/10/31 03:51:28 WARN MemoryStore: Failed to reserve initial memory threshold of 1024.0 KiB for computing block rdd_295_142 in memory.\n",
      "24/10/31 03:51:28 WARN MemoryStore: Not enough space to cache rdd_295_142 in memory! (computed 384.0 B so far)\n",
      "24/10/31 03:51:28 WARN BlockManager: Persisting block rdd_295_142 to disk instead.\n",
      "24/10/31 03:51:28 WARN MemoryStore: Not enough space to cache rdd_295_138 in memory! (computed 2.3 MiB so far)\n",
      "24/10/31 03:51:28 WARN MemoryStore: Failed to reserve initial memory threshold of 1024.0 KiB for computing block rdd_295_143 in memory.\n",
      "24/10/31 03:51:28 WARN MemoryStore: Not enough space to cache rdd_295_140 in memory! (computed 2.3 MiB so far)\n",
      "24/10/31 03:51:28 WARN MemoryStore: Failed to reserve initial memory threshold of 1024.0 KiB for computing block rdd_295_141 in memory.\n",
      "24/10/31 03:51:28 WARN MemoryStore: Not enough space to cache rdd_295_141 in memory! (computed 384.0 B so far)\n",
      "24/10/31 03:51:28 WARN MemoryStore: Failed to reserve initial memory threshold of 1024.0 KiB for computing block rdd_295_144 in memory.\n",
      "24/10/31 03:51:28 WARN MemoryStore: Not enough space to cache rdd_295_143 in memory! (computed 384.0 B so far)\n",
      "24/10/31 03:51:28 WARN MemoryStore: Not enough space to cache rdd_295_144 in memory! (computed 384.0 B so far)\n",
      "24/10/31 03:51:28 WARN BlockManager: Persisting block rdd_295_143 to disk instead.\n",
      "24/10/31 03:51:28 WARN BlockManager: Persisting block rdd_295_144 to disk instead.\n",
      "24/10/31 03:51:28 WARN MemoryStore: Not enough space to cache rdd_295_137 in memory! (computed 2.3 MiB so far)\n",
      "24/10/31 03:51:29 WARN MemoryStore: Failed to reserve initial memory threshold of 1024.0 KiB for computing block rdd_295_142 in memory.\n",
      "24/10/31 03:51:29 WARN MemoryStore: Not enough space to cache rdd_295_142 in memory! (computed 384.0 B so far)\n",
      "24/10/31 03:51:29 WARN MemoryStore: Not enough space to cache rdd_295_146 in memory! (computed 1040.7 KiB so far)\n",
      "24/10/31 03:51:29 WARN BlockManager: Persisting block rdd_295_146 to disk instead.\n",
      "24/10/31 03:51:29 WARN MemoryStore: Not enough space to cache rdd_295_145 in memory! (computed 1564.0 KiB so far)\n",
      "24/10/31 03:51:29 WARN BlockManager: Persisting block rdd_295_145 to disk instead.\n",
      "24/10/31 03:51:29 WARN MemoryStore: Not enough space to cache rdd_295_143 in memory! (computed 1564.0 KiB so far)\n",
      "24/10/31 03:51:29 WARN MemoryStore: Not enough space to cache rdd_295_145 in memory! (computed 2.3 MiB so far)\n",
      "24/10/31 03:51:29 WARN MemoryStore: Failed to reserve initial memory threshold of 1024.0 KiB for computing block rdd_295_144 in memory.\n",
      "24/10/31 03:51:29 WARN MemoryStore: Not enough space to cache rdd_295_144 in memory! (computed 384.0 B so far)\n",
      "24/10/31 03:51:29 WARN MemoryStore: Failed to reserve initial memory threshold of 1024.0 KiB for computing block rdd_295_147 in memory.\n",
      "24/10/31 03:51:29 WARN MemoryStore: Not enough space to cache rdd_295_147 in memory! (computed 384.0 B so far)\n",
      "24/10/31 03:51:29 WARN BlockManager: Persisting block rdd_295_147 to disk instead.\n",
      "24/10/31 03:51:29 WARN MemoryStore: Failed to reserve initial memory threshold of 1024.0 KiB for computing block rdd_295_148 in memory.\n",
      "24/10/31 03:51:29 WARN MemoryStore: Not enough space to cache rdd_295_148 in memory! (computed 384.0 B so far)\n",
      "24/10/31 03:51:29 WARN MemoryStore: Not enough space to cache rdd_295_146 in memory! (computed 2.3 MiB so far)\n",
      "24/10/31 03:51:29 WARN BlockManager: Persisting block rdd_295_148 to disk instead.\n",
      "24/10/31 03:51:30 WARN MemoryStore: Failed to reserve initial memory threshold of 1024.0 KiB for computing block rdd_295_152 in memory.\n",
      "24/10/31 03:51:30 WARN MemoryStore: Not enough space to cache rdd_295_152 in memory! (computed 384.0 B so far)\n",
      "24/10/31 03:51:30 WARN BlockManager: Persisting block rdd_295_152 to disk instead.\n",
      "24/10/31 03:51:30 WARN MemoryStore: Failed to reserve initial memory threshold of 1024.0 KiB for computing block rdd_295_151 in memory.\n",
      "24/10/31 03:51:30 WARN MemoryStore: Failed to reserve initial memory threshold of 1024.0 KiB for computing block rdd_295_147 in memory.\n",
      "24/10/31 03:51:30 WARN MemoryStore: Not enough space to cache rdd_295_147 in memory! (computed 384.0 B so far)\n",
      "24/10/31 03:51:30 WARN MemoryStore: Failed to reserve initial memory threshold of 1024.0 KiB for computing block rdd_295_153 in memory.\n",
      "24/10/31 03:51:30 WARN MemoryStore: Not enough space to cache rdd_295_151 in memory! (computed 384.0 B so far)\n",
      "24/10/31 03:51:30 WARN BlockManager: Persisting block rdd_295_151 to disk instead.\n",
      "24/10/31 03:51:30 WARN MemoryStore: Not enough space to cache rdd_295_153 in memory! (computed 384.0 B so far)\n",
      "24/10/31 03:51:30 WARN BlockManager: Persisting block rdd_295_153 to disk instead.\n",
      "24/10/31 03:51:30 WARN MemoryStore: Not enough space to cache rdd_295_149 in memory! (computed 1564.0 KiB so far)\n",
      "24/10/31 03:51:30 WARN BlockManager: Persisting block rdd_295_149 to disk instead.\n",
      "24/10/31 03:51:30 WARN MemoryStore: Not enough space to cache rdd_295_150 in memory! (computed 2.3 MiB so far)\n",
      "24/10/31 03:51:30 WARN BlockManager: Persisting block rdd_295_150 to disk instead.\n",
      "24/10/31 03:51:30 WARN MemoryStore: Not enough space to cache rdd_295_152 in memory! (computed 1564.0 KiB so far)\n",
      "24/10/31 03:51:30 WARN MemoryStore: Not enough space to cache rdd_295_153 in memory! (computed 1040.7 KiB so far)\n",
      "24/10/31 03:51:30 WARN MemoryStore: Failed to reserve initial memory threshold of 1024.0 KiB for computing block rdd_295_151 in memory.\n",
      "24/10/31 03:51:30 WARN MemoryStore: Not enough space to cache rdd_295_151 in memory! (computed 384.0 B so far)\n",
      "24/10/31 03:51:30 WARN MemoryStore: Not enough space to cache rdd_295_148 in memory! (computed 1040.7 KiB so far)\n",
      "24/10/31 03:51:30 WARN MemoryStore: Not enough space to cache rdd_295_150 in memory! (computed 1564.0 KiB so far)\n",
      "24/10/31 03:51:30 WARN MemoryStore: Failed to reserve initial memory threshold of 1024.0 KiB for computing block rdd_295_149 in memory.\n",
      "24/10/31 03:51:30 WARN MemoryStore: Not enough space to cache rdd_295_149 in memory! (computed 384.0 B so far)\n",
      "24/10/31 03:51:32 WARN MemoryStore: Not enough space to cache rdd_295_115 in memory! (computed 2.3 MiB so far)\n",
      "24/10/31 03:51:40 WARN MemoryStore: Not enough space to cache rdd_295_32 in memory! (computed 1040.7 KiB so far)\n",
      "24/10/31 03:51:40 WARN MemoryStore: Not enough space to cache rdd_295_36 in memory! (computed 1564.0 KiB so far)\n",
      "24/10/31 03:51:40 WARN MemoryStore: Failed to reserve initial memory threshold of 1024.0 KiB for computing block rdd_295_38 in memory.\n",
      "24/10/31 03:51:40 WARN MemoryStore: Not enough space to cache rdd_295_38 in memory! (computed 384.0 B so far)\n",
      "24/10/31 03:51:40 WARN MemoryStore: Not enough space to cache rdd_295_40 in memory! (computed 2.3 MiB so far)\n",
      "24/10/31 03:51:40 WARN MemoryStore: Failed to reserve initial memory threshold of 1024.0 KiB for computing block rdd_295_41 in memory.\n",
      "24/10/31 03:51:40 WARN MemoryStore: Not enough space to cache rdd_295_41 in memory! (computed 384.0 B so far)\n",
      "24/10/31 03:51:41 WARN MemoryStore: Not enough space to cache rdd_295_42 in memory! (computed 2.3 MiB so far)\n",
      "24/10/31 03:51:41 WARN MemoryStore: Not enough space to cache rdd_295_43 in memory! (computed 1564.0 KiB so far)\n",
      "24/10/31 03:51:41 WARN MemoryStore: Not enough space to cache rdd_295_44 in memory! (computed 2.3 MiB so far)\n",
      "24/10/31 03:51:42 WARN MemoryStore: Not enough space to cache rdd_295_45 in memory! (computed 2.3 MiB so far)\n",
      "24/10/31 03:51:43 WARN MemoryStore: Not enough space to cache rdd_295_46 in memory! (computed 1564.0 KiB so far)\n",
      "24/10/31 03:51:43 WARN MemoryStore: Not enough space to cache rdd_295_47 in memory! (computed 2.3 MiB so far)\n",
      "24/10/31 03:51:44 WARN MemoryStore: Not enough space to cache rdd_295_48 in memory! (computed 2.3 MiB so far)\n",
      "24/10/31 03:51:44 WARN MemoryStore: Not enough space to cache rdd_295_49 in memory! (computed 2.3 MiB so far)\n",
      "24/10/31 03:51:45 WARN MemoryStore: Failed to reserve initial memory threshold of 1024.0 KiB for computing block rdd_295_51 in memory.\n",
      "24/10/31 03:51:45 WARN MemoryStore: Not enough space to cache rdd_295_51 in memory! (computed 384.0 B so far)\n",
      "24/10/31 03:51:45 WARN MemoryStore: Not enough space to cache rdd_295_52 in memory! (computed 1564.0 KiB so far)\n",
      "24/10/31 03:51:45 WARN MemoryStore: Not enough space to cache rdd_295_50 in memory! (computed 2.3 MiB so far)\n",
      "24/10/31 03:51:46 WARN MemoryStore: Not enough space to cache rdd_295_53 in memory! (computed 2.3 MiB so far)\n",
      "24/10/31 03:51:47 WARN MemoryStore: Not enough space to cache rdd_295_54 in memory! (computed 2.3 MiB so far)\n",
      "24/10/31 03:51:47 WARN MemoryStore: Not enough space to cache rdd_295_55 in memory! (computed 2.3 MiB so far)\n",
      "24/10/31 03:51:48 WARN MemoryStore: Not enough space to cache rdd_295_56 in memory! (computed 2.3 MiB so far)\n",
      "24/10/31 03:51:48 WARN MemoryStore: Failed to reserve initial memory threshold of 1024.0 KiB for computing block rdd_295_57 in memory.\n",
      "24/10/31 03:51:48 WARN MemoryStore: Not enough space to cache rdd_295_57 in memory! (computed 384.0 B so far)\n",
      "24/10/31 03:51:48 WARN MemoryStore: Not enough space to cache rdd_295_58 in memory! (computed 2.3 MiB so far)\n",
      "24/10/31 03:51:48 WARN MemoryStore: Not enough space to cache rdd_295_59 in memory! (computed 2.3 MiB so far)\n",
      "24/10/31 03:51:48 WARN MemoryStore: Failed to reserve initial memory threshold of 1024.0 KiB for computing block rdd_295_60 in memory.\n",
      "24/10/31 03:51:48 WARN MemoryStore: Not enough space to cache rdd_295_60 in memory! (computed 384.0 B so far)\n",
      "24/10/31 03:51:49 WARN MemoryStore: Not enough space to cache rdd_295_61 in memory! (computed 2.3 MiB so far)\n",
      "24/10/31 03:51:49 WARN MemoryStore: Not enough space to cache rdd_295_62 in memory! (computed 2.3 MiB so far)\n",
      "24/10/31 03:51:50 WARN MemoryStore: Not enough space to cache rdd_295_63 in memory! (computed 2.3 MiB so far)\n",
      "24/10/31 03:51:50 WARN MemoryStore: Failed to reserve initial memory threshold of 1024.0 KiB for computing block rdd_295_64 in memory.\n",
      "24/10/31 03:51:50 WARN MemoryStore: Not enough space to cache rdd_295_64 in memory! (computed 384.0 B so far)\n",
      "24/10/31 03:51:51 WARN MemoryStore: Failed to reserve initial memory threshold of 1024.0 KiB for computing block rdd_295_67 in memory.\n",
      "24/10/31 03:51:51 WARN MemoryStore: Not enough space to cache rdd_295_67 in memory! (computed 384.0 B so far)\n",
      "24/10/31 03:51:51 WARN MemoryStore: Not enough space to cache rdd_295_65 in memory! (computed 1564.0 KiB so far)\n",
      "24/10/31 03:51:51 WARN MemoryStore: Not enough space to cache rdd_295_66 in memory! (computed 1040.7 KiB so far)\n",
      "24/10/31 03:51:51 WARN MemoryStore: Not enough space to cache rdd_295_68 in memory! (computed 2.3 MiB so far)\n",
      "24/10/31 03:51:52 WARN MemoryStore: Not enough space to cache rdd_295_69 in memory! (computed 2.3 MiB so far)\n",
      "24/10/31 03:51:52 WARN MemoryStore: Failed to reserve initial memory threshold of 1024.0 KiB for computing block rdd_295_71 in memory.\n",
      "24/10/31 03:51:52 WARN MemoryStore: Not enough space to cache rdd_295_71 in memory! (computed 384.0 B so far)\n",
      "24/10/31 03:51:52 WARN MemoryStore: Not enough space to cache rdd_295_70 in memory! (computed 2.3 MiB so far)\n",
      "24/10/31 03:51:53 WARN MemoryStore: Not enough space to cache rdd_295_72 in memory! (computed 2.3 MiB so far)\n",
      "24/10/31 03:51:54 WARN MemoryStore: Not enough space to cache rdd_295_73 in memory! (computed 2.3 MiB so far)\n",
      "24/10/31 03:51:54 WARN MemoryStore: Failed to reserve initial memory threshold of 1024.0 KiB for computing block rdd_295_74 in memory.\n",
      "24/10/31 03:51:54 WARN MemoryStore: Not enough space to cache rdd_295_74 in memory! (computed 384.0 B so far)\n",
      "24/10/31 03:51:54 WARN MemoryStore: Not enough space to cache rdd_295_75 in memory! (computed 2.3 MiB so far)\n",
      "24/10/31 03:51:55 WARN MemoryStore: Not enough space to cache rdd_295_76 in memory! (computed 2.3 MiB so far)\n",
      "24/10/31 03:51:56 WARN MemoryStore: Not enough space to cache rdd_295_78 in memory! (computed 1564.0 KiB so far)\n",
      "24/10/31 03:51:56 WARN MemoryStore: Not enough space to cache rdd_295_79 in memory! (computed 2.3 MiB so far)\n",
      "24/10/31 03:51:56 WARN MemoryStore: Not enough space to cache rdd_295_81 in memory! (computed 2.3 MiB so far)\n",
      "24/10/31 03:51:56 WARN MemoryStore: Not enough space to cache rdd_295_82 in memory! (computed 1564.0 KiB so far)\n",
      "24/10/31 03:51:56 WARN MemoryStore: Not enough space to cache rdd_295_83 in memory! (computed 1040.7 KiB so far)\n",
      "24/10/31 03:51:57 WARN MemoryStore: Not enough space to cache rdd_295_85 in memory! (computed 1040.7 KiB so far)\n",
      "24/10/31 03:51:57 WARN MemoryStore: Not enough space to cache rdd_295_84 in memory! (computed 1564.0 KiB so far)\n",
      "24/10/31 03:51:57 WARN MemoryStore: Failed to reserve initial memory threshold of 1024.0 KiB for computing block rdd_295_86 in memory.\n",
      "24/10/31 03:51:57 WARN MemoryStore: Not enough space to cache rdd_295_86 in memory! (computed 384.0 B so far)\n",
      "24/10/31 03:51:57 WARN MemoryStore: Failed to reserve initial memory threshold of 1024.0 KiB for computing block rdd_295_89 in memory.\n",
      "24/10/31 03:51:57 WARN MemoryStore: Not enough space to cache rdd_295_89 in memory! (computed 384.0 B so far)\n",
      "24/10/31 03:51:57 WARN MemoryStore: Not enough space to cache rdd_295_88 in memory! (computed 1564.0 KiB so far)\n",
      "24/10/31 03:51:57 WARN MemoryStore: Not enough space to cache rdd_295_87 in memory! (computed 1040.7 KiB so far)\n",
      "24/10/31 03:51:57 WARN MemoryStore: Not enough space to cache rdd_295_91 in memory! (computed 1564.0 KiB so far)\n",
      "24/10/31 03:51:57 WARN MemoryStore: Not enough space to cache rdd_295_92 in memory! (computed 1040.7 KiB so far)\n",
      "24/10/31 03:51:57 WARN MemoryStore: Failed to reserve initial memory threshold of 1024.0 KiB for computing block rdd_295_96 in memory.\n",
      "24/10/31 03:51:57 WARN MemoryStore: Not enough space to cache rdd_295_96 in memory! (computed 384.0 B so far)\n",
      "24/10/31 03:51:57 WARN MemoryStore: Not enough space to cache rdd_295_93 in memory! (computed 1564.0 KiB so far)\n",
      "24/10/31 03:51:57 WARN MemoryStore: Not enough space to cache rdd_295_95 in memory! (computed 1040.7 KiB so far)\n",
      "24/10/31 03:51:58 WARN MemoryStore: Not enough space to cache rdd_295_97 in memory! (computed 1564.0 KiB so far)\n",
      "24/10/31 03:51:58 WARN MemoryStore: Not enough space to cache rdd_295_98 in memory! (computed 2.3 MiB so far)\n",
      "24/10/31 03:51:58 WARN MemoryStore: Failed to reserve initial memory threshold of 1024.0 KiB for computing block rdd_295_100 in memory.\n",
      "24/10/31 03:51:58 WARN MemoryStore: Not enough space to cache rdd_295_100 in memory! (computed 384.0 B so far)\n",
      "24/10/31 03:51:58 WARN MemoryStore: Failed to reserve initial memory threshold of 1024.0 KiB for computing block rdd_295_99 in memory.\n",
      "24/10/31 03:51:58 WARN MemoryStore: Not enough space to cache rdd_295_99 in memory! (computed 384.0 B so far)\n",
      "24/10/31 03:51:59 WARN MemoryStore: Failed to reserve initial memory threshold of 1024.0 KiB for computing block rdd_295_104 in memory.\n",
      "24/10/31 03:51:59 WARN MemoryStore: Not enough space to cache rdd_295_104 in memory! (computed 384.0 B so far)\n",
      "24/10/31 03:51:59 WARN MemoryStore: Not enough space to cache rdd_295_101 in memory! (computed 1564.0 KiB so far)\n",
      "24/10/31 03:51:59 WARN MemoryStore: Not enough space to cache rdd_295_102 in memory! (computed 1564.0 KiB so far)\n",
      "24/10/31 03:51:59 WARN MemoryStore: Failed to reserve initial memory threshold of 1024.0 KiB for computing block rdd_295_106 in memory.\n",
      "24/10/31 03:51:59 WARN MemoryStore: Not enough space to cache rdd_295_106 in memory! (computed 384.0 B so far)\n",
      "24/10/31 03:51:59 WARN MemoryStore: Not enough space to cache rdd_295_105 in memory! (computed 2.3 MiB so far)\n",
      "24/10/31 03:51:59 WARN MemoryStore: Failed to reserve initial memory threshold of 1024.0 KiB for computing block rdd_295_107 in memory.\n",
      "24/10/31 03:51:59 WARN MemoryStore: Not enough space to cache rdd_295_107 in memory! (computed 384.0 B so far)\n",
      "24/10/31 03:51:59 WARN MemoryStore: Failed to reserve initial memory threshold of 1024.0 KiB for computing block rdd_295_110 in memory.\n",
      "24/10/31 03:51:59 WARN MemoryStore: Not enough space to cache rdd_295_110 in memory! (computed 384.0 B so far)\n",
      "24/10/31 03:51:59 WARN MemoryStore: Not enough space to cache rdd_295_108 in memory! (computed 1564.0 KiB so far)\n",
      "24/10/31 03:52:00 WARN MemoryStore: Not enough space to cache rdd_295_109 in memory! (computed 2.3 MiB so far)\n",
      "24/10/31 03:52:00 WARN MemoryStore: Failed to reserve initial memory threshold of 1024.0 KiB for computing block rdd_295_113 in memory.\n",
      "24/10/31 03:52:00 WARN MemoryStore: Not enough space to cache rdd_295_113 in memory! (computed 384.0 B so far)\n",
      "24/10/31 03:52:00 WARN MemoryStore: Not enough space to cache rdd_295_111 in memory! (computed 1040.7 KiB so far)\n",
      "24/10/31 03:52:00 WARN MemoryStore: Failed to reserve initial memory threshold of 1024.0 KiB for computing block rdd_295_114 in memory.\n",
      "24/10/31 03:52:00 WARN MemoryStore: Not enough space to cache rdd_295_114 in memory! (computed 384.0 B so far)\n",
      "24/10/31 03:52:00 WARN MemoryStore: Not enough space to cache rdd_295_112 in memory! (computed 2.3 MiB so far)\n",
      "24/10/31 03:52:01 WARN MemoryStore: Failed to reserve initial memory threshold of 1024.0 KiB for computing block rdd_295_117 in memory.\n",
      "24/10/31 03:52:01 WARN MemoryStore: Not enough space to cache rdd_295_117 in memory! (computed 384.0 B so far)\n",
      "24/10/31 03:52:01 WARN MemoryStore: Not enough space to cache rdd_295_115 in memory! (computed 1564.0 KiB so far)\n",
      "24/10/31 03:52:01 WARN MemoryStore: Failed to reserve initial memory threshold of 1024.0 KiB for computing block rdd_295_118 in memory.\n",
      "24/10/31 03:52:01 WARN MemoryStore: Not enough space to cache rdd_295_118 in memory! (computed 384.0 B so far)\n",
      "24/10/31 03:52:01 WARN MemoryStore: Not enough space to cache rdd_295_116 in memory! (computed 1564.0 KiB so far)\n",
      "24/10/31 03:52:01 WARN MemoryStore: Not enough space to cache rdd_295_119 in memory! (computed 1040.7 KiB so far)\n",
      "24/10/31 03:52:01 WARN MemoryStore: Not enough space to cache rdd_295_120 in memory! (computed 2.3 MiB so far)\n",
      "24/10/31 03:52:01 WARN MemoryStore: Not enough space to cache rdd_295_121 in memory! (computed 2.3 MiB so far)\n",
      "24/10/31 03:52:02 WARN MemoryStore: Failed to reserve initial memory threshold of 1024.0 KiB for computing block rdd_295_125 in memory.\n",
      "24/10/31 03:52:02 WARN MemoryStore: Not enough space to cache rdd_295_125 in memory! (computed 384.0 B so far)\n",
      "24/10/31 03:52:02 WARN MemoryStore: Failed to reserve initial memory threshold of 1024.0 KiB for computing block rdd_295_124 in memory.\n",
      "24/10/31 03:52:02 WARN MemoryStore: Not enough space to cache rdd_295_124 in memory! (computed 384.0 B so far)\n",
      "24/10/31 03:52:02 WARN MemoryStore: Failed to reserve initial memory threshold of 1024.0 KiB for computing block rdd_295_126 in memory.\n",
      "24/10/31 03:52:02 WARN MemoryStore: Not enough space to cache rdd_295_126 in memory! (computed 384.0 B so far)\n",
      "24/10/31 03:52:02 WARN MemoryStore: Not enough space to cache rdd_295_123 in memory! (computed 1040.7 KiB so far)\n",
      "24/10/31 03:52:02 WARN MemoryStore: Not enough space to cache rdd_295_122 in memory! (computed 1564.0 KiB so far)\n",
      "24/10/31 03:52:02 WARN MemoryStore: Not enough space to cache rdd_295_127 in memory! (computed 2.3 MiB so far)\n",
      "24/10/31 03:52:02 WARN MemoryStore: Failed to reserve initial memory threshold of 1024.0 KiB for computing block rdd_295_128 in memory.\n",
      "24/10/31 03:52:02 WARN MemoryStore: Not enough space to cache rdd_295_128 in memory! (computed 384.0 B so far)\n",
      "24/10/31 03:52:02 WARN MemoryStore: Not enough space to cache rdd_295_130 in memory! (computed 1040.7 KiB so far)\n",
      "24/10/31 03:52:02 WARN MemoryStore: Not enough space to cache rdd_295_129 in memory! (computed 1564.0 KiB so far)\n",
      "24/10/31 03:52:02 WARN MemoryStore: Failed to reserve initial memory threshold of 1024.0 KiB for computing block rdd_295_131 in memory.\n",
      "24/10/31 03:52:02 WARN MemoryStore: Not enough space to cache rdd_295_131 in memory! (computed 384.0 B so far)\n",
      "24/10/31 03:52:02 WARN MemoryStore: Not enough space to cache rdd_295_132 in memory! (computed 1564.0 KiB so far)\n",
      "24/10/31 03:52:02 WARN MemoryStore: Not enough space to cache rdd_295_133 in memory! (computed 1564.0 KiB so far)\n",
      "24/10/31 03:52:02 WARN MemoryStore: Not enough space to cache rdd_295_134 in memory! (computed 1564.0 KiB so far)\n",
      "24/10/31 03:52:02 WARN MemoryStore: Not enough space to cache rdd_295_135 in memory! (computed 1040.7 KiB so far)\n",
      "24/10/31 03:52:02 WARN MemoryStore: Failed to reserve initial memory threshold of 1024.0 KiB for computing block rdd_295_137 in memory.\n",
      "24/10/31 03:52:02 WARN MemoryStore: Not enough space to cache rdd_295_137 in memory! (computed 384.0 B so far)\n",
      "24/10/31 03:52:02 WARN MemoryStore: Not enough space to cache rdd_295_136 in memory! (computed 1564.0 KiB so far)\n",
      "24/10/31 03:52:02 WARN MemoryStore: Not enough space to cache rdd_295_138 in memory! (computed 2.3 MiB so far)\n",
      "24/10/31 03:52:02 WARN MemoryStore: Not enough space to cache rdd_295_139 in memory! (computed 1564.0 KiB so far)\n",
      "24/10/31 03:52:03 WARN MemoryStore: Not enough space to cache rdd_295_140 in memory! (computed 1564.0 KiB so far)\n",
      "24/10/31 03:52:03 WARN MemoryStore: Failed to reserve initial memory threshold of 1024.0 KiB for computing block rdd_295_142 in memory.\n",
      "24/10/31 03:52:03 WARN MemoryStore: Not enough space to cache rdd_295_142 in memory! (computed 384.0 B so far)\n",
      "24/10/31 03:52:03 WARN MemoryStore: Failed to reserve initial memory threshold of 1024.0 KiB for computing block rdd_295_143 in memory.\n",
      "24/10/31 03:52:03 WARN MemoryStore: Not enough space to cache rdd_295_143 in memory! (computed 384.0 B so far)\n",
      "24/10/31 03:52:03 WARN MemoryStore: Not enough space to cache rdd_295_141 in memory! (computed 2.3 MiB so far)\n",
      "24/10/31 03:52:03 WARN MemoryStore: Failed to reserve initial memory threshold of 1024.0 KiB for computing block rdd_295_146 in memory.\n",
      "24/10/31 03:52:03 WARN MemoryStore: Not enough space to cache rdd_295_146 in memory! (computed 384.0 B so far)\n",
      "24/10/31 03:52:03 WARN MemoryStore: Failed to reserve initial memory threshold of 1024.0 KiB for computing block rdd_295_147 in memory.\n",
      "24/10/31 03:52:03 WARN MemoryStore: Not enough space to cache rdd_295_147 in memory! (computed 384.0 B so far)\n",
      "24/10/31 03:52:03 WARN MemoryStore: Not enough space to cache rdd_295_145 in memory! (computed 1564.0 KiB so far)\n",
      "24/10/31 03:52:03 WARN MemoryStore: Failed to reserve initial memory threshold of 1024.0 KiB for computing block rdd_295_148 in memory.\n",
      "24/10/31 03:52:03 WARN MemoryStore: Not enough space to cache rdd_295_148 in memory! (computed 384.0 B so far)\n",
      "24/10/31 03:52:03 WARN MemoryStore: Not enough space to cache rdd_295_144 in memory! (computed 2.3 MiB so far)\n",
      "24/10/31 03:52:03 WARN MemoryStore: Failed to reserve initial memory threshold of 1024.0 KiB for computing block rdd_295_149 in memory.\n",
      "24/10/31 03:52:03 WARN MemoryStore: Not enough space to cache rdd_295_149 in memory! (computed 384.0 B so far)\n",
      "24/10/31 03:52:03 WARN MemoryStore: Not enough space to cache rdd_295_150 in memory! (computed 2.3 MiB so far)\n",
      "24/10/31 03:52:03 WARN MemoryStore: Failed to reserve initial memory threshold of 1024.0 KiB for computing block rdd_295_151 in memory.\n",
      "24/10/31 03:52:03 WARN MemoryStore: Not enough space to cache rdd_295_151 in memory! (computed 384.0 B so far)\n",
      "24/10/31 03:52:03 WARN MemoryStore: Failed to reserve initial memory threshold of 1024.0 KiB for computing block rdd_295_152 in memory.\n",
      "24/10/31 03:52:03 WARN MemoryStore: Not enough space to cache rdd_295_152 in memory! (computed 384.0 B so far)\n",
      "24/10/31 03:52:03 WARN MemoryStore: Failed to reserve initial memory threshold of 1024.0 KiB for computing block rdd_295_153 in memory.\n",
      "24/10/31 03:52:03 WARN MemoryStore: Not enough space to cache rdd_295_153 in memory! (computed 384.0 B so far)\n",
      "24/10/31 03:52:10 WARN MemoryStore: Not enough space to cache rdd_295_32 in memory! (computed 2.3 MiB so far)\n",
      "24/10/31 03:52:10 WARN MemoryStore: Not enough space to cache rdd_295_36 in memory! (computed 2.3 MiB so far)\n",
      "24/10/31 03:52:10 WARN MemoryStore: Failed to reserve initial memory threshold of 1024.0 KiB for computing block rdd_295_38 in memory.\n",
      "24/10/31 03:52:10 WARN MemoryStore: Not enough space to cache rdd_295_38 in memory! (computed 384.0 B so far)\n",
      "24/10/31 03:52:11 WARN MemoryStore: Failed to reserve initial memory threshold of 1024.0 KiB for computing block rdd_295_41 in memory.\n",
      "24/10/31 03:52:11 WARN MemoryStore: Not enough space to cache rdd_295_41 in memory! (computed 384.0 B so far)\n",
      "24/10/31 03:52:11 WARN MemoryStore: Failed to reserve initial memory threshold of 1024.0 KiB for computing block rdd_295_43 in memory.\n",
      "24/10/31 03:52:11 WARN MemoryStore: Not enough space to cache rdd_295_43 in memory! (computed 384.0 B so far)\n",
      "24/10/31 03:52:11 WARN MemoryStore: Not enough space to cache rdd_295_42 in memory! (computed 1040.7 KiB so far)\n",
      "24/10/31 03:52:11 WARN MemoryStore: Not enough space to cache rdd_295_40 in memory! (computed 1564.0 KiB so far)\n",
      "24/10/31 03:52:11 WARN MemoryStore: Not enough space to cache rdd_295_44 in memory! (computed 2.3 MiB so far)\n",
      "24/10/31 03:52:12 WARN MemoryStore: Not enough space to cache rdd_295_45 in memory! (computed 2.3 MiB so far)\n",
      "24/10/31 03:52:12 WARN MemoryStore: Not enough space to cache rdd_295_46 in memory! (computed 2.3 MiB so far)\n",
      "24/10/31 03:52:13 WARN MemoryStore: Not enough space to cache rdd_295_47 in memory! (computed 2.3 MiB so far)\n",
      "24/10/31 03:52:15 WARN MemoryStore: Failed to reserve initial memory threshold of 1024.0 KiB for computing block rdd_295_50 in memory.\n",
      "24/10/31 03:52:15 WARN MemoryStore: Not enough space to cache rdd_295_50 in memory! (computed 384.0 B so far)\n",
      "24/10/31 03:52:15 WARN MemoryStore: Not enough space to cache rdd_295_48 in memory! (computed 1564.0 KiB so far)\n",
      "24/10/31 03:52:15 WARN MemoryStore: Not enough space to cache rdd_295_49 in memory! (computed 1040.7 KiB so far)\n",
      "24/10/31 03:52:15 WARN MemoryStore: Not enough space to cache rdd_295_51 in memory! (computed 2.3 MiB so far)\n",
      "24/10/31 03:52:16 WARN MemoryStore: Not enough space to cache rdd_295_52 in memory! (computed 2.3 MiB so far)\n",
      "24/10/31 03:52:16 WARN MemoryStore: Not enough space to cache rdd_295_53 in memory! (computed 2.3 MiB so far)\n",
      "24/10/31 03:52:16 WARN MemoryStore: Failed to reserve initial memory threshold of 1024.0 KiB for computing block rdd_295_54 in memory.\n",
      "24/10/31 03:52:16 WARN MemoryStore: Not enough space to cache rdd_295_54 in memory! (computed 384.0 B so far)\n",
      "24/10/31 03:52:16 WARN MemoryStore: Not enough space to cache rdd_295_55 in memory! (computed 2.3 MiB so far)\n",
      "24/10/31 03:52:17 WARN MemoryStore: Not enough space to cache rdd_295_57 in memory! (computed 1040.7 KiB so far)\n",
      "24/10/31 03:52:17 WARN MemoryStore: Failed to reserve initial memory threshold of 1024.0 KiB for computing block rdd_295_58 in memory.\n",
      "24/10/31 03:52:17 WARN MemoryStore: Not enough space to cache rdd_295_58 in memory! (computed 384.0 B so far)\n",
      "24/10/31 03:52:17 WARN MemoryStore: Not enough space to cache rdd_295_56 in memory! (computed 1564.0 KiB so far)\n",
      "24/10/31 03:52:18 WARN MemoryStore: Not enough space to cache rdd_295_59 in memory! (computed 2.3 MiB so far)\n",
      "24/10/31 03:52:18 WARN MemoryStore: Failed to reserve initial memory threshold of 1024.0 KiB for computing block rdd_295_60 in memory.\n",
      "24/10/31 03:52:18 WARN MemoryStore: Not enough space to cache rdd_295_60 in memory! (computed 384.0 B so far)\n",
      "24/10/31 03:52:18 WARN MemoryStore: Not enough space to cache rdd_295_61 in memory! (computed 1564.0 KiB so far)\n",
      "24/10/31 03:52:18 WARN MemoryStore: Not enough space to cache rdd_295_62 in memory! (computed 2.3 MiB so far)\n",
      "24/10/31 03:52:18 WARN MemoryStore: Not enough space to cache rdd_295_63 in memory! (computed 2.3 MiB so far)\n",
      "24/10/31 03:52:19 WARN MemoryStore: Not enough space to cache rdd_295_64 in memory! (computed 1564.0 KiB so far)\n",
      "24/10/31 03:52:19 WARN MemoryStore: Not enough space to cache rdd_295_65 in memory! (computed 1040.7 KiB so far)\n",
      "24/10/31 03:52:19 WARN MemoryStore: Failed to reserve initial memory threshold of 1024.0 KiB for computing block rdd_295_66 in memory.\n",
      "24/10/31 03:52:19 WARN MemoryStore: Not enough space to cache rdd_295_66 in memory! (computed 384.0 B so far)\n",
      "24/10/31 03:52:19 WARN MemoryStore: Not enough space to cache rdd_295_67 in memory! (computed 1564.0 KiB so far)\n",
      "24/10/31 03:52:19 WARN MemoryStore: Not enough space to cache rdd_295_68 in memory! (computed 1040.7 KiB so far)\n",
      "24/10/31 03:52:19 WARN MemoryStore: Not enough space to cache rdd_295_69 in memory! (computed 2.3 MiB so far)\n",
      "24/10/31 03:52:20 WARN MemoryStore: Not enough space to cache rdd_295_70 in memory! (computed 2.3 MiB so far)\n",
      "24/10/31 03:52:20 WARN MemoryStore: Not enough space to cache rdd_295_71 in memory! (computed 2.3 MiB so far)\n",
      "24/10/31 03:52:21 WARN MemoryStore: Not enough space to cache rdd_295_72 in memory! (computed 2.3 MiB so far)\n",
      "24/10/31 03:52:21 WARN MemoryStore: Failed to reserve initial memory threshold of 1024.0 KiB for computing block rdd_295_74 in memory.\n",
      "24/10/31 03:52:21 WARN MemoryStore: Not enough space to cache rdd_295_74 in memory! (computed 384.0 B so far)\n",
      "24/10/31 03:52:21 WARN MemoryStore: Not enough space to cache rdd_295_73 in memory! (computed 1040.7 KiB so far)\n",
      "24/10/31 03:52:21 WARN MemoryStore: Failed to reserve initial memory threshold of 1024.0 KiB for computing block rdd_295_76 in memory.\n",
      "24/10/31 03:52:21 WARN MemoryStore: Not enough space to cache rdd_295_76 in memory! (computed 384.0 B so far)\n",
      "24/10/31 03:52:21 WARN MemoryStore: Not enough space to cache rdd_295_75 in memory! (computed 1564.0 KiB so far)\n",
      "24/10/31 03:52:21 WARN MemoryStore: Not enough space to cache rdd_295_78 in memory! (computed 2.3 MiB so far)\n",
      "24/10/31 03:52:22 WARN MemoryStore: Not enough space to cache rdd_295_79 in memory! (computed 2.3 MiB so far)\n",
      "24/10/31 03:52:23 WARN MemoryStore: Failed to reserve initial memory threshold of 1024.0 KiB for computing block rdd_295_82 in memory.\n",
      "24/10/31 03:52:23 WARN MemoryStore: Not enough space to cache rdd_295_82 in memory! (computed 384.0 B so far)\n",
      "24/10/31 03:52:23 WARN MemoryStore: Not enough space to cache rdd_295_81 in memory! (computed 2.3 MiB so far)\n",
      "24/10/31 03:52:23 WARN MemoryStore: Failed to reserve initial memory threshold of 1024.0 KiB for computing block rdd_295_83 in memory.\n",
      "24/10/31 03:52:23 WARN MemoryStore: Not enough space to cache rdd_295_83 in memory! (computed 384.0 B so far)\n",
      "24/10/31 03:52:24 WARN MemoryStore: Failed to reserve initial memory threshold of 1024.0 KiB for computing block rdd_295_84 in memory.\n",
      "24/10/31 03:52:24 WARN MemoryStore: Not enough space to cache rdd_295_84 in memory! (computed 384.0 B so far)\n",
      "24/10/31 03:52:24 WARN MemoryStore: Failed to reserve initial memory threshold of 1024.0 KiB for computing block rdd_295_85 in memory.\n",
      "24/10/31 03:52:24 WARN MemoryStore: Not enough space to cache rdd_295_85 in memory! (computed 384.0 B so far)\n",
      "24/10/31 03:52:24 WARN MemoryStore: Not enough space to cache rdd_295_86 in memory! (computed 1564.0 KiB so far)\n",
      "24/10/31 03:52:24 WARN MemoryStore: Not enough space to cache rdd_295_87 in memory! (computed 2.3 MiB so far)\n",
      "24/10/31 03:52:24 WARN MemoryStore: Failed to reserve initial memory threshold of 1024.0 KiB for computing block rdd_295_88 in memory.\n",
      "24/10/31 03:52:24 WARN MemoryStore: Not enough space to cache rdd_295_88 in memory! (computed 384.0 B so far)\n",
      "24/10/31 03:52:25 WARN MemoryStore: Failed to reserve initial memory threshold of 1024.0 KiB for computing block rdd_295_89 in memory.\n",
      "24/10/31 03:52:25 WARN MemoryStore: Not enough space to cache rdd_295_89 in memory! (computed 384.0 B so far)\n",
      "24/10/31 03:52:25 WARN MemoryStore: Not enough space to cache rdd_295_92 in memory! (computed 1564.0 KiB so far)\n",
      "24/10/31 03:52:25 WARN MemoryStore: Not enough space to cache rdd_295_91 in memory! (computed 1040.7 KiB so far)\n",
      "24/10/31 03:52:25 WARN MemoryStore: Not enough space to cache rdd_295_93 in memory! (computed 2.3 MiB so far)\n",
      "24/10/31 03:52:26 WARN MemoryStore: Failed to reserve initial memory threshold of 1024.0 KiB for computing block rdd_295_95 in memory.\n",
      "24/10/31 03:52:26 WARN MemoryStore: Not enough space to cache rdd_295_95 in memory! (computed 384.0 B so far)\n",
      "24/10/31 03:52:26 WARN MemoryStore: Failed to reserve initial memory threshold of 1024.0 KiB for computing block rdd_295_98 in memory.\n",
      "24/10/31 03:52:26 WARN MemoryStore: Not enough space to cache rdd_295_98 in memory! (computed 384.0 B so far)\n",
      "24/10/31 03:52:26 WARN MemoryStore: Not enough space to cache rdd_295_97 in memory! (computed 1564.0 KiB so far)\n",
      "24/10/31 03:52:26 WARN MemoryStore: Not enough space to cache rdd_295_96 in memory! (computed 1040.7 KiB so far)\n",
      "24/10/31 03:52:26 WARN MemoryStore: Not enough space to cache rdd_295_99 in memory! (computed 1564.0 KiB so far)\n",
      "24/10/31 03:52:26 WARN MemoryStore: Not enough space to cache rdd_295_100 in memory! (computed 2.3 MiB so far)\n",
      "24/10/31 03:52:26 WARN MemoryStore: Failed to reserve initial memory threshold of 1024.0 KiB for computing block rdd_295_101 in memory.\n",
      "24/10/31 03:52:26 WARN MemoryStore: Not enough space to cache rdd_295_101 in memory! (computed 384.0 B so far)\n",
      "24/10/31 03:52:27 WARN MemoryStore: Not enough space to cache rdd_295_102 in memory! (computed 2.3 MiB so far)\n",
      "24/10/31 03:52:28 WARN MemoryStore: Failed to reserve initial memory threshold of 1024.0 KiB for computing block rdd_295_106 in memory.\n",
      "24/10/31 03:52:28 WARN MemoryStore: Not enough space to cache rdd_295_106 in memory! (computed 384.0 B so far)\n",
      "24/10/31 03:52:28 WARN MemoryStore: Not enough space to cache rdd_295_105 in memory! (computed 1564.0 KiB so far)\n",
      "24/10/31 03:52:28 WARN MemoryStore: Not enough space to cache rdd_295_104 in memory! (computed 1040.7 KiB so far)\n",
      "24/10/31 03:52:28 WARN MemoryStore: Failed to reserve initial memory threshold of 1024.0 KiB for computing block rdd_295_108 in memory.\n",
      "24/10/31 03:52:28 WARN MemoryStore: Not enough space to cache rdd_295_108 in memory! (computed 384.0 B so far)\n",
      "24/10/31 03:52:28 WARN MemoryStore: Not enough space to cache rdd_295_107 in memory! (computed 2.3 MiB so far)\n",
      "24/10/31 03:52:28 WARN MemoryStore: Failed to reserve initial memory threshold of 1024.0 KiB for computing block rdd_295_109 in memory.\n",
      "24/10/31 03:52:28 WARN MemoryStore: Not enough space to cache rdd_295_109 in memory! (computed 384.0 B so far)\n",
      "24/10/31 03:52:28 WARN MemoryStore: Failed to reserve initial memory threshold of 1024.0 KiB for computing block rdd_295_111 in memory.\n",
      "24/10/31 03:52:28 WARN MemoryStore: Not enough space to cache rdd_295_111 in memory! (computed 384.0 B so far)\n",
      "24/10/31 03:52:28 WARN MemoryStore: Not enough space to cache rdd_295_112 in memory! (computed 1564.0 KiB so far)\n",
      "24/10/31 03:52:28 WARN MemoryStore: Not enough space to cache rdd_295_110 in memory! (computed 1040.7 KiB so far)\n",
      "24/10/31 03:52:29 WARN MemoryStore: Failed to reserve initial memory threshold of 1024.0 KiB for computing block rdd_295_115 in memory.\n",
      "24/10/31 03:52:29 WARN MemoryStore: Not enough space to cache rdd_295_115 in memory! (computed 384.0 B so far)\n",
      "24/10/31 03:52:29 WARN MemoryStore: Failed to reserve initial memory threshold of 1024.0 KiB for computing block rdd_295_116 in memory.\n",
      "24/10/31 03:52:29 WARN MemoryStore: Not enough space to cache rdd_295_116 in memory! (computed 384.0 B so far)\n",
      "24/10/31 03:52:29 WARN MemoryStore: Not enough space to cache rdd_295_113 in memory! (computed 1564.0 KiB so far)\n",
      "24/10/31 03:52:29 WARN MemoryStore: Failed to reserve initial memory threshold of 1024.0 KiB for computing block rdd_295_117 in memory.\n",
      "24/10/31 03:52:29 WARN MemoryStore: Not enough space to cache rdd_295_117 in memory! (computed 384.0 B so far)\n",
      "24/10/31 03:52:29 WARN MemoryStore: Not enough space to cache rdd_295_114 in memory! (computed 1040.7 KiB so far)\n",
      "24/10/31 03:52:29 WARN MemoryStore: Not enough space to cache rdd_295_118 in memory! (computed 1564.0 KiB so far)\n",
      "24/10/31 03:52:29 WARN MemoryStore: Not enough space to cache rdd_295_119 in memory! (computed 2.3 MiB so far)\n",
      "24/10/31 03:52:30 WARN MemoryStore: Failed to reserve initial memory threshold of 1024.0 KiB for computing block rdd_295_121 in memory.\n",
      "24/10/31 03:52:30 WARN MemoryStore: Not enough space to cache rdd_295_121 in memory! (computed 384.0 B so far)\n",
      "24/10/31 03:52:30 WARN MemoryStore: Not enough space to cache rdd_295_120 in memory! (computed 2.3 MiB so far)\n",
      "24/10/31 03:52:31 WARN MemoryStore: Failed to reserve initial memory threshold of 1024.0 KiB for computing block rdd_295_123 in memory.\n",
      "24/10/31 03:52:31 WARN MemoryStore: Not enough space to cache rdd_295_123 in memory! (computed 384.0 B so far)\n",
      "24/10/31 03:52:31 WARN MemoryStore: Failed to reserve initial memory threshold of 1024.0 KiB for computing block rdd_295_124 in memory.\n",
      "24/10/31 03:52:31 WARN MemoryStore: Not enough space to cache rdd_295_124 in memory! (computed 384.0 B so far)\n",
      "24/10/31 03:52:31 WARN MemoryStore: Not enough space to cache rdd_295_122 in memory! (computed 2.3 MiB so far)\n",
      "24/10/31 03:52:32 WARN MemoryStore: Failed to reserve initial memory threshold of 1024.0 KiB for computing block rdd_295_127 in memory.\n",
      "24/10/31 03:52:32 WARN MemoryStore: Not enough space to cache rdd_295_127 in memory! (computed 384.0 B so far)\n",
      "24/10/31 03:52:32 WARN MemoryStore: Not enough space to cache rdd_295_125 in memory! (computed 1564.0 KiB so far)\n",
      "24/10/31 03:52:32 WARN MemoryStore: Not enough space to cache rdd_295_126 in memory! (computed 1564.0 KiB so far)\n",
      "24/10/31 03:52:32 WARN MemoryStore: Failed to reserve initial memory threshold of 1024.0 KiB for computing block rdd_295_129 in memory.\n",
      "24/10/31 03:52:32 WARN MemoryStore: Not enough space to cache rdd_295_129 in memory! (computed 384.0 B so far)\n",
      "24/10/31 03:52:32 WARN MemoryStore: Not enough space to cache rdd_295_128 in memory! (computed 2.3 MiB so far)\n",
      "24/10/31 03:52:32 WARN MemoryStore: Failed to reserve initial memory threshold of 1024.0 KiB for computing block rdd_295_132 in memory.\n",
      "24/10/31 03:52:32 WARN MemoryStore: Not enough space to cache rdd_295_132 in memory! (computed 384.0 B so far)\n",
      "24/10/31 03:52:32 WARN MemoryStore: Not enough space to cache rdd_295_130 in memory! (computed 1564.0 KiB so far)\n",
      "24/10/31 03:52:32 WARN MemoryStore: Not enough space to cache rdd_295_131 in memory! (computed 1564.0 KiB so far)\n",
      "24/10/31 03:52:32 WARN MemoryStore: Not enough space to cache rdd_295_133 in memory! (computed 1040.7 KiB so far)\n",
      "24/10/31 03:52:33 WARN MemoryStore: Not enough space to cache rdd_295_134 in memory! (computed 1564.0 KiB so far)\n",
      "24/10/31 03:52:33 WARN MemoryStore: Not enough space to cache rdd_295_136 in memory! (computed 1040.7 KiB so far)\n",
      "24/10/31 03:52:33 WARN MemoryStore: Not enough space to cache rdd_295_135 in memory! (computed 1564.0 KiB so far)\n",
      "24/10/31 03:52:33 WARN MemoryStore: Failed to reserve initial memory threshold of 1024.0 KiB for computing block rdd_295_139 in memory.\n",
      "24/10/31 03:52:33 WARN MemoryStore: Not enough space to cache rdd_295_139 in memory! (computed 384.0 B so far)\n",
      "24/10/31 03:52:33 WARN MemoryStore: Not enough space to cache rdd_295_137 in memory! (computed 1564.0 KiB so far)\n",
      "24/10/31 03:52:34 WARN MemoryStore: Not enough space to cache rdd_295_138 in memory! (computed 2.3 MiB so far)\n",
      "24/10/31 03:52:34 WARN MemoryStore: Not enough space to cache rdd_295_140 in memory! (computed 1564.0 KiB so far)\n",
      "24/10/31 03:52:34 WARN MemoryStore: Not enough space to cache rdd_295_141 in memory! (computed 1564.0 KiB so far)\n",
      "24/10/31 03:52:34 WARN MemoryStore: Failed to reserve initial memory threshold of 1024.0 KiB for computing block rdd_295_143 in memory.\n",
      "24/10/31 03:52:34 WARN MemoryStore: Not enough space to cache rdd_295_143 in memory! (computed 384.0 B so far)\n",
      "24/10/31 03:52:35 WARN MemoryStore: Not enough space to cache rdd_295_142 in memory! (computed 2.3 MiB so far)\n",
      "24/10/31 03:52:35 WARN MemoryStore: Failed to reserve initial memory threshold of 1024.0 KiB for computing block rdd_295_144 in memory.\n",
      "24/10/31 03:52:35 WARN MemoryStore: Not enough space to cache rdd_295_144 in memory! (computed 384.0 B so far)\n",
      "24/10/31 03:52:35 WARN MemoryStore: Failed to reserve initial memory threshold of 1024.0 KiB for computing block rdd_295_147 in memory.\n",
      "24/10/31 03:52:35 WARN MemoryStore: Not enough space to cache rdd_295_147 in memory! (computed 384.0 B so far)\n",
      "24/10/31 03:52:35 WARN MemoryStore: Failed to reserve initial memory threshold of 1024.0 KiB for computing block rdd_295_148 in memory.\n",
      "24/10/31 03:52:35 WARN MemoryStore: Not enough space to cache rdd_295_148 in memory! (computed 384.0 B so far)\n",
      "24/10/31 03:52:35 WARN MemoryStore: Failed to reserve initial memory threshold of 1024.0 KiB for computing block rdd_295_150 in memory.\n",
      "24/10/31 03:52:35 WARN MemoryStore: Not enough space to cache rdd_295_150 in memory! (computed 384.0 B so far)\n",
      "24/10/31 03:52:35 WARN MemoryStore: Failed to reserve initial memory threshold of 1024.0 KiB for computing block rdd_295_149 in memory.\n",
      "24/10/31 03:52:35 WARN MemoryStore: Not enough space to cache rdd_295_149 in memory! (computed 384.0 B so far)\n",
      "24/10/31 03:52:35 WARN MemoryStore: Not enough space to cache rdd_295_146 in memory! (computed 1040.7 KiB so far)\n",
      "24/10/31 03:52:35 WARN MemoryStore: Not enough space to cache rdd_295_145 in memory! (computed 1564.0 KiB so far)\n",
      "24/10/31 03:52:36 WARN MemoryStore: Failed to reserve initial memory threshold of 1024.0 KiB for computing block rdd_295_153 in memory.\n",
      "24/10/31 03:52:36 WARN MemoryStore: Not enough space to cache rdd_295_153 in memory! (computed 384.0 B so far)\n",
      "24/10/31 03:52:36 WARN MemoryStore: Not enough space to cache rdd_295_151 in memory! (computed 1040.7 KiB so far)\n",
      "24/10/31 03:52:36 WARN MemoryStore: Not enough space to cache rdd_295_152 in memory! (computed 1564.0 KiB so far)\n",
      "24/10/31 03:52:45 WARN MemoryStore: Not enough space to cache rdd_295_32 in memory! (computed 2.3 MiB so far)\n",
      "24/10/31 03:52:46 WARN MemoryStore: Not enough space to cache rdd_295_36 in memory! (computed 2.3 MiB so far)\n",
      "24/10/31 03:52:47 WARN MemoryStore: Not enough space to cache rdd_295_38 in memory! (computed 2.3 MiB so far)\n",
      "24/10/31 03:52:48 WARN MemoryStore: Not enough space to cache rdd_295_40 in memory! (computed 2.3 MiB so far)\n",
      "24/10/31 03:52:48 WARN MemoryStore: Failed to reserve initial memory threshold of 1024.0 KiB for computing block rdd_295_41 in memory.\n",
      "24/10/31 03:52:48 WARN MemoryStore: Not enough space to cache rdd_295_41 in memory! (computed 384.0 B so far)\n",
      "24/10/31 03:52:49 WARN MemoryStore: Not enough space to cache rdd_295_43 in memory! (computed 1040.7 KiB so far)\n",
      "24/10/31 03:52:49 WARN MemoryStore: Not enough space to cache rdd_295_42 in memory! (computed 1564.0 KiB so far)\n",
      "24/10/31 03:52:49 WARN MemoryStore: Failed to reserve initial memory threshold of 1024.0 KiB for computing block rdd_295_45 in memory.\n",
      "24/10/31 03:52:49 WARN MemoryStore: Not enough space to cache rdd_295_45 in memory! (computed 384.0 B so far)\n",
      "24/10/31 03:52:49 WARN MemoryStore: Not enough space to cache rdd_295_44 in memory! (computed 2.3 MiB so far)\n",
      "24/10/31 03:52:50 WARN MemoryStore: Not enough space to cache rdd_295_46 in memory! (computed 2.3 MiB so far)\n",
      "24/10/31 03:52:51 WARN MemoryStore: Not enough space to cache rdd_295_47 in memory! (computed 2.3 MiB so far)\n",
      "24/10/31 03:52:51 WARN MemoryStore: Not enough space to cache rdd_295_49 in memory! (computed 1564.0 KiB so far)\n",
      "24/10/31 03:52:51 WARN MemoryStore: Not enough space to cache rdd_295_48 in memory! (computed 1040.7 KiB so far)\n",
      "24/10/31 03:52:52 WARN MemoryStore: Not enough space to cache rdd_295_50 in memory! (computed 2.3 MiB so far)\n",
      "24/10/31 03:52:53 WARN MemoryStore: Not enough space to cache rdd_295_51 in memory! (computed 2.3 MiB so far)\n",
      "24/10/31 03:52:54 WARN MemoryStore: Not enough space to cache rdd_295_52 in memory! (computed 2.3 MiB so far)\n",
      "24/10/31 03:52:54 WARN MemoryStore: Failed to reserve initial memory threshold of 1024.0 KiB for computing block rdd_295_53 in memory.\n",
      "24/10/31 03:52:54 WARN MemoryStore: Not enough space to cache rdd_295_53 in memory! (computed 384.0 B so far)\n",
      "24/10/31 03:52:54 WARN MemoryStore: Not enough space to cache rdd_295_54 in memory! (computed 2.3 MiB so far)\n",
      "24/10/31 03:52:56 WARN MemoryStore: Not enough space to cache rdd_295_55 in memory! (computed 2.3 MiB so far)\n",
      "24/10/31 03:52:56 WARN MemoryStore: Not enough space to cache rdd_295_56 in memory! (computed 2.3 MiB so far)\n",
      "24/10/31 03:52:56 WARN MemoryStore: Not enough space to cache rdd_295_57 in memory! (computed 1564.0 KiB so far)\n",
      "24/10/31 03:52:56 WARN MemoryStore: Not enough space to cache rdd_295_58 in memory! (computed 2.3 MiB so far)\n",
      "24/10/31 03:52:56 WARN MemoryStore: Not enough space to cache rdd_295_59 in memory! (computed 2.3 MiB so far)\n",
      "24/10/31 03:52:57 WARN MemoryStore: Failed to reserve initial memory threshold of 1024.0 KiB for computing block rdd_295_61 in memory.\n",
      "24/10/31 03:52:57 WARN MemoryStore: Not enough space to cache rdd_295_61 in memory! (computed 384.0 B so far)\n",
      "24/10/31 03:52:57 WARN MemoryStore: Not enough space to cache rdd_295_60 in memory! (computed 2.3 MiB so far)\n",
      "24/10/31 03:52:57 WARN MemoryStore: Failed to reserve initial memory threshold of 1024.0 KiB for computing block rdd_295_62 in memory.\n",
      "24/10/31 03:52:57 WARN MemoryStore: Not enough space to cache rdd_295_62 in memory! (computed 384.0 B so far)\n",
      "24/10/31 03:52:59 WARN MemoryStore: Not enough space to cache rdd_295_63 in memory! (computed 1564.0 KiB so far)\n",
      "24/10/31 03:52:59 WARN MemoryStore: Not enough space to cache rdd_295_64 in memory! (computed 1040.7 KiB so far)\n",
      "24/10/31 03:52:59 WARN MemoryStore: Not enough space to cache rdd_295_65 in memory! (computed 2.3 MiB so far)\n",
      "24/10/31 03:53:00 WARN MemoryStore: Not enough space to cache rdd_295_66 in memory! (computed 2.3 MiB so far)\n",
      "24/10/31 03:53:00 WARN MemoryStore: Not enough space to cache rdd_295_67 in memory! (computed 2.3 MiB so far)\n",
      "24/10/31 03:53:01 WARN MemoryStore: Not enough space to cache rdd_295_68 in memory! (computed 1040.7 KiB so far)\n",
      "24/10/31 03:53:01 WARN MemoryStore: Not enough space to cache rdd_295_69 in memory! (computed 1564.0 KiB so far)\n",
      "24/10/31 03:53:01 WARN MemoryStore: Not enough space to cache rdd_295_70 in memory! (computed 2.3 MiB so far)\n",
      "24/10/31 03:53:02 WARN MemoryStore: Not enough space to cache rdd_295_71 in memory! (computed 1564.0 KiB so far)\n",
      "24/10/31 03:53:02 WARN MemoryStore: Not enough space to cache rdd_295_72 in memory! (computed 1040.7 KiB so far)\n",
      "24/10/31 03:53:04 WARN MemoryStore: Not enough space to cache rdd_295_73 in memory! (computed 2.3 MiB so far)\n",
      "24/10/31 03:53:04 WARN MemoryStore: Not enough space to cache rdd_295_74 in memory! (computed 2.3 MiB so far)\n",
      "24/10/31 03:53:04 WARN MemoryStore: Failed to reserve initial memory threshold of 1024.0 KiB for computing block rdd_295_75 in memory.\n",
      "24/10/31 03:53:04 WARN MemoryStore: Not enough space to cache rdd_295_75 in memory! (computed 384.0 B so far)\n",
      "24/10/31 03:53:05 WARN MemoryStore: Not enough space to cache rdd_295_76 in memory! (computed 2.3 MiB so far)\n",
      "24/10/31 03:53:06 WARN MemoryStore: Not enough space to cache rdd_295_78 in memory! (computed 2.3 MiB so far)\n",
      "24/10/31 03:53:06 WARN MemoryStore: Not enough space to cache rdd_295_79 in memory! (computed 2.3 MiB so far)\n",
      "24/10/31 03:53:07 WARN MemoryStore: Not enough space to cache rdd_295_81 in memory! (computed 2.3 MiB so far)\n",
      "24/10/31 03:53:07 WARN MemoryStore: Failed to reserve initial memory threshold of 1024.0 KiB for computing block rdd_295_83 in memory.\n",
      "24/10/31 03:53:07 WARN MemoryStore: Not enough space to cache rdd_295_83 in memory! (computed 384.0 B so far)\n",
      "24/10/31 03:53:07 WARN MemoryStore: Failed to reserve initial memory threshold of 1024.0 KiB for computing block rdd_295_84 in memory.\n",
      "24/10/31 03:53:07 WARN MemoryStore: Failed to reserve initial memory threshold of 1024.0 KiB for computing block rdd_295_82 in memory.\n",
      "24/10/31 03:53:07 WARN MemoryStore: Not enough space to cache rdd_295_82 in memory! (computed 384.0 B so far)\n",
      "24/10/31 03:53:07 WARN MemoryStore: Not enough space to cache rdd_295_84 in memory! (computed 384.0 B so far)\n",
      "24/10/31 03:53:07 WARN MemoryStore: Failed to reserve initial memory threshold of 1024.0 KiB for computing block rdd_295_85 in memory.\n",
      "24/10/31 03:53:08 WARN MemoryStore: Not enough space to cache rdd_295_85 in memory! (computed 384.0 B so far)\n",
      "24/10/31 03:53:08 WARN MemoryStore: Not enough space to cache rdd_295_86 in memory! (computed 2.3 MiB so far)\n",
      "24/10/31 03:53:08 WARN MemoryStore: Not enough space to cache rdd_295_87 in memory! (computed 2.3 MiB so far)\n",
      "24/10/31 03:53:09 WARN MemoryStore: Not enough space to cache rdd_295_88 in memory! (computed 1564.0 KiB so far)\n",
      "24/10/31 03:53:09 WARN MemoryStore: Not enough space to cache rdd_295_89 in memory! (computed 1040.7 KiB so far)\n",
      "24/10/31 03:53:09 WARN MemoryStore: Not enough space to cache rdd_295_92 in memory! (computed 1564.0 KiB so far)\n",
      "24/10/31 03:53:09 WARN MemoryStore: Not enough space to cache rdd_295_91 in memory! (computed 1564.0 KiB so far)\n",
      "24/10/31 03:53:09 WARN MemoryStore: Failed to reserve initial memory threshold of 1024.0 KiB for computing block rdd_295_95 in memory.\n",
      "24/10/31 03:53:09 WARN MemoryStore: Not enough space to cache rdd_295_95 in memory! (computed 384.0 B so far)\n",
      "24/10/31 03:53:09 WARN MemoryStore: Not enough space to cache rdd_295_93 in memory! (computed 1564.0 KiB so far)\n",
      "24/10/31 03:53:09 WARN MemoryStore: Not enough space to cache rdd_295_96 in memory! (computed 1040.7 KiB so far)\n",
      "24/10/31 03:53:09 WARN MemoryStore: Failed to reserve initial memory threshold of 1024.0 KiB for computing block rdd_295_98 in memory.\n",
      "24/10/31 03:53:09 WARN MemoryStore: Not enough space to cache rdd_295_98 in memory! (computed 384.0 B so far)\n",
      "24/10/31 03:53:09 WARN MemoryStore: Not enough space to cache rdd_295_97 in memory! (computed 2.3 MiB so far)\n",
      "24/10/31 03:53:09 WARN MemoryStore: Failed to reserve initial memory threshold of 1024.0 KiB for computing block rdd_295_99 in memory.\n",
      "24/10/31 03:53:09 WARN MemoryStore: Not enough space to cache rdd_295_99 in memory! (computed 384.0 B so far)\n",
      "24/10/31 03:53:10 WARN MemoryStore: Not enough space to cache rdd_295_100 in memory! (computed 2.3 MiB so far)\n",
      "24/10/31 03:53:10 WARN MemoryStore: Failed to reserve initial memory threshold of 1024.0 KiB for computing block rdd_295_101 in memory.\n",
      "24/10/31 03:53:10 WARN MemoryStore: Not enough space to cache rdd_295_101 in memory! (computed 384.0 B so far)\n",
      "24/10/31 03:53:10 WARN MemoryStore: Not enough space to cache rdd_295_102 in memory! (computed 2.3 MiB so far)\n",
      "24/10/31 03:53:10 WARN MemoryStore: Failed to reserve initial memory threshold of 1024.0 KiB for computing block rdd_295_104 in memory.\n",
      "24/10/31 03:53:10 WARN MemoryStore: Not enough space to cache rdd_295_104 in memory! (computed 384.0 B so far)\n",
      "24/10/31 03:53:10 WARN MemoryStore: Failed to reserve initial memory threshold of 1024.0 KiB for computing block rdd_295_107 in memory.\n",
      "24/10/31 03:53:10 WARN MemoryStore: Not enough space to cache rdd_295_107 in memory! (computed 384.0 B so far)\n",
      "24/10/31 03:53:10 WARN MemoryStore: Not enough space to cache rdd_295_105 in memory! (computed 1564.0 KiB so far)\n",
      "24/10/31 03:53:10 WARN MemoryStore: Not enough space to cache rdd_295_106 in memory! (computed 1040.7 KiB so far)\n",
      "24/10/31 03:53:11 WARN MemoryStore: Not enough space to cache rdd_295_108 in memory! (computed 2.3 MiB so far)\n",
      "24/10/31 03:53:11 WARN MemoryStore: Not enough space to cache rdd_295_109 in memory! (computed 1564.0 KiB so far)\n",
      "24/10/31 03:53:11 WARN MemoryStore: Not enough space to cache rdd_295_110 in memory! (computed 1040.7 KiB so far)\n",
      "24/10/31 03:53:11 WARN MemoryStore: Failed to reserve initial memory threshold of 1024.0 KiB for computing block rdd_295_113 in memory.\n",
      "24/10/31 03:53:11 WARN MemoryStore: Not enough space to cache rdd_295_113 in memory! (computed 384.0 B so far)\n",
      "24/10/31 03:53:11 WARN MemoryStore: Not enough space to cache rdd_295_111 in memory! (computed 1564.0 KiB so far)\n",
      "24/10/31 03:53:11 WARN MemoryStore: Not enough space to cache rdd_295_112 in memory! (computed 1040.7 KiB so far)\n",
      "24/10/31 03:53:12 WARN MemoryStore: Not enough space to cache rdd_295_114 in memory! (computed 1040.7 KiB so far)\n",
      "24/10/31 03:53:12 WARN MemoryStore: Not enough space to cache rdd_295_115 in memory! (computed 1564.0 KiB so far)\n",
      "24/10/31 03:53:12 WARN MemoryStore: Not enough space to cache rdd_295_116 in memory! (computed 2.3 MiB so far)\n",
      "24/10/31 03:53:12 WARN MemoryStore: Failed to reserve initial memory threshold of 1024.0 KiB for computing block rdd_295_117 in memory.\n",
      "24/10/31 03:53:12 WARN MemoryStore: Not enough space to cache rdd_295_117 in memory! (computed 384.0 B so far)\n",
      "24/10/31 03:53:12 WARN MemoryStore: Not enough space to cache rdd_295_118 in memory! (computed 1564.0 KiB so far)\n",
      "24/10/31 03:53:12 WARN MemoryStore: Not enough space to cache rdd_295_119 in memory! (computed 2.3 MiB so far)\n",
      "24/10/31 03:53:13 WARN MemoryStore: Not enough space to cache rdd_295_120 in memory! (computed 1564.0 KiB so far)\n",
      "24/10/31 03:53:13 WARN MemoryStore: Failed to reserve initial memory threshold of 1024.0 KiB for computing block rdd_295_121 in memory.\n",
      "24/10/31 03:53:13 WARN MemoryStore: Not enough space to cache rdd_295_121 in memory! (computed 384.0 B so far)\n",
      "24/10/31 03:53:13 WARN MemoryStore: Not enough space to cache rdd_295_122 in memory! (computed 1564.0 KiB so far)\n",
      "24/10/31 03:53:13 WARN MemoryStore: Not enough space to cache rdd_295_123 in memory! (computed 1040.7 KiB so far)\n",
      "24/10/31 03:53:14 WARN MemoryStore: Not enough space to cache rdd_295_124 in memory! (computed 2.3 MiB so far)\n",
      "24/10/31 03:53:14 WARN MemoryStore: Not enough space to cache rdd_295_125 in memory! (computed 2.3 MiB so far)\n",
      "24/10/31 03:53:14 WARN MemoryStore: Failed to reserve initial memory threshold of 1024.0 KiB for computing block rdd_295_126 in memory.\n",
      "24/10/31 03:53:14 WARN MemoryStore: Not enough space to cache rdd_295_126 in memory! (computed 384.0 B so far)\n",
      "24/10/31 03:53:14 WARN MemoryStore: Failed to reserve initial memory threshold of 1024.0 KiB for computing block rdd_295_128 in memory.\n",
      "24/10/31 03:53:14 WARN MemoryStore: Not enough space to cache rdd_295_128 in memory! (computed 384.0 B so far)\n",
      "24/10/31 03:53:14 WARN MemoryStore: Failed to reserve initial memory threshold of 1024.0 KiB for computing block rdd_295_127 in memory.\n",
      "24/10/31 03:53:14 WARN MemoryStore: Not enough space to cache rdd_295_127 in memory! (computed 384.0 B so far)\n",
      "24/10/31 03:53:14 WARN MemoryStore: Not enough space to cache rdd_295_129 in memory! (computed 1564.0 KiB so far)\n",
      "24/10/31 03:53:14 WARN MemoryStore: Not enough space to cache rdd_295_130 in memory! (computed 1040.7 KiB so far)\n",
      "24/10/31 03:53:14 WARN MemoryStore: Not enough space to cache rdd_295_132 in memory! (computed 1564.0 KiB so far)\n",
      "24/10/31 03:53:14 WARN MemoryStore: Not enough space to cache rdd_295_131 in memory! (computed 1040.7 KiB so far)\n",
      "24/10/31 03:53:14 WARN MemoryStore: Not enough space to cache rdd_295_133 in memory! (computed 1564.0 KiB so far)\n",
      "24/10/31 03:53:15 WARN MemoryStore: Not enough space to cache rdd_295_134 in memory! (computed 1040.7 KiB so far)\n",
      "24/10/31 03:53:15 WARN MemoryStore: Failed to reserve initial memory threshold of 1024.0 KiB for computing block rdd_295_137 in memory.\n",
      "24/10/31 03:53:15 WARN MemoryStore: Not enough space to cache rdd_295_137 in memory! (computed 384.0 B so far)\n",
      "24/10/31 03:53:15 WARN MemoryStore: Failed to reserve initial memory threshold of 1024.0 KiB for computing block rdd_295_138 in memory.\n",
      "24/10/31 03:53:15 WARN MemoryStore: Not enough space to cache rdd_295_138 in memory! (computed 384.0 B so far)\n",
      "24/10/31 03:53:15 WARN MemoryStore: Not enough space to cache rdd_295_135 in memory! (computed 1564.0 KiB so far)\n",
      "24/10/31 03:53:15 WARN MemoryStore: Failed to reserve initial memory threshold of 1024.0 KiB for computing block rdd_295_139 in memory.\n",
      "24/10/31 03:53:15 WARN MemoryStore: Not enough space to cache rdd_295_139 in memory! (computed 384.0 B so far)\n",
      "24/10/31 03:53:15 WARN MemoryStore: Not enough space to cache rdd_295_136 in memory! (computed 1040.7 KiB so far)\n",
      "24/10/31 03:53:15 WARN MemoryStore: Not enough space to cache rdd_295_140 in memory! (computed 2.3 MiB so far)\n",
      "24/10/31 03:53:15 WARN MemoryStore: Failed to reserve initial memory threshold of 1024.0 KiB for computing block rdd_295_142 in memory.\n",
      "24/10/31 03:53:15 WARN MemoryStore: Not enough space to cache rdd_295_142 in memory! (computed 384.0 B so far)\n",
      "24/10/31 03:53:15 WARN MemoryStore: Not enough space to cache rdd_295_141 in memory! (computed 2.3 MiB so far)\n",
      "24/10/31 03:53:16 WARN MemoryStore: Not enough space to cache rdd_295_143 in memory! (computed 2.3 MiB so far)\n",
      "24/10/31 03:53:16 WARN MemoryStore: Failed to reserve initial memory threshold of 1024.0 KiB for computing block rdd_295_144 in memory.\n",
      "24/10/31 03:53:16 WARN MemoryStore: Not enough space to cache rdd_295_144 in memory! (computed 384.0 B so far)\n",
      "24/10/31 03:53:16 WARN MemoryStore: Not enough space to cache rdd_295_145 in memory! (computed 1564.0 KiB so far)\n",
      "24/10/31 03:53:16 WARN MemoryStore: Not enough space to cache rdd_295_146 in memory! (computed 1040.7 KiB so far)\n",
      "24/10/31 03:53:16 WARN MemoryStore: Failed to reserve initial memory threshold of 1024.0 KiB for computing block rdd_295_147 in memory.\n",
      "24/10/31 03:53:16 WARN MemoryStore: Not enough space to cache rdd_295_147 in memory! (computed 384.0 B so far)\n",
      "24/10/31 03:53:16 WARN MemoryStore: Not enough space to cache rdd_295_148 in memory! (computed 1564.0 KiB so far)\n",
      "24/10/31 03:53:16 WARN MemoryStore: Not enough space to cache rdd_295_149 in memory! (computed 1040.7 KiB so far)\n",
      "24/10/31 03:53:16 WARN MemoryStore: Not enough space to cache rdd_295_150 in memory! (computed 2.3 MiB so far)\n",
      "24/10/31 03:53:16 WARN MemoryStore: Failed to reserve initial memory threshold of 1024.0 KiB for computing block rdd_295_151 in memory.\n",
      "24/10/31 03:53:16 WARN MemoryStore: Not enough space to cache rdd_295_151 in memory! (computed 384.0 B so far)\n",
      "24/10/31 03:53:17 WARN MemoryStore: Not enough space to cache rdd_295_152 in memory! (computed 1564.0 KiB so far)\n",
      "24/10/31 03:53:17 WARN MemoryStore: Not enough space to cache rdd_295_153 in memory! (computed 1040.7 KiB so far)\n",
      "24/10/31 03:53:27 WARN MemoryStore: Not enough space to cache rdd_295_32 in memory! (computed 2.3 MiB so far)\n",
      "24/10/31 03:53:28 WARN MemoryStore: Not enough space to cache rdd_295_36 in memory! (computed 2.3 MiB so far)\n",
      "24/10/31 03:53:28 WARN MemoryStore: Failed to reserve initial memory threshold of 1024.0 KiB for computing block rdd_295_38 in memory.\n",
      "24/10/31 03:53:28 WARN MemoryStore: Not enough space to cache rdd_295_38 in memory! (computed 384.0 B so far)\n",
      "24/10/31 03:53:28 WARN MemoryStore: Failed to reserve initial memory threshold of 1024.0 KiB for computing block rdd_295_41 in memory.\n",
      "24/10/31 03:53:28 WARN MemoryStore: Not enough space to cache rdd_295_41 in memory! (computed 384.0 B so far)\n",
      "24/10/31 03:53:28 WARN MemoryStore: Not enough space to cache rdd_295_40 in memory! (computed 2.3 MiB so far)\n",
      "24/10/31 03:53:29 WARN MemoryStore: Not enough space to cache rdd_295_42 in memory! (computed 2.3 MiB so far)\n",
      "24/10/31 03:53:29 WARN MemoryStore: Not enough space to cache rdd_295_43 in memory! (computed 2.3 MiB so far)\n",
      "24/10/31 03:53:29 WARN MemoryStore: Failed to reserve initial memory threshold of 1024.0 KiB for computing block rdd_295_44 in memory.\n",
      "24/10/31 03:53:29 WARN MemoryStore: Not enough space to cache rdd_295_44 in memory! (computed 384.0 B so far)\n",
      "24/10/31 03:53:29 WARN MemoryStore: Failed to reserve initial memory threshold of 1024.0 KiB for computing block rdd_295_45 in memory.\n",
      "24/10/31 03:53:29 WARN MemoryStore: Not enough space to cache rdd_295_45 in memory! (computed 384.0 B so far)\n",
      "24/10/31 03:53:30 WARN MemoryStore: Not enough space to cache rdd_295_46 in memory! (computed 2.3 MiB so far)\n",
      "24/10/31 03:53:31 WARN MemoryStore: Not enough space to cache rdd_295_47 in memory! (computed 2.3 MiB so far)\n",
      "24/10/31 03:53:31 WARN MemoryStore: Not enough space to cache rdd_295_48 in memory! (computed 2.3 MiB so far)\n",
      "24/10/31 03:53:31 WARN MemoryStore: Not enough space to cache rdd_295_49 in memory! (computed 2.3 MiB so far)\n",
      "24/10/31 03:53:31 WARN MemoryStore: Not enough space to cache rdd_295_50 in memory! (computed 1564.0 KiB so far)\n",
      "24/10/31 03:53:31 WARN MemoryStore: Not enough space to cache rdd_295_51 in memory! (computed 1040.7 KiB so far)\n",
      "24/10/31 03:53:32 WARN MemoryStore: Not enough space to cache rdd_295_52 in memory! (computed 2.3 MiB so far)\n",
      "24/10/31 03:53:32 WARN MemoryStore: Not enough space to cache rdd_295_53 in memory! (computed 2.3 MiB so far)\n",
      "24/10/31 03:53:32 WARN MemoryStore: Not enough space to cache rdd_295_54 in memory! (computed 2.3 MiB so far)\n",
      "24/10/31 03:53:33 WARN MemoryStore: Not enough space to cache rdd_295_55 in memory! (computed 2.3 MiB so far)\n",
      "24/10/31 03:53:33 WARN MemoryStore: Not enough space to cache rdd_295_56 in memory! (computed 1564.0 KiB so far)\n",
      "24/10/31 03:53:33 WARN MemoryStore: Not enough space to cache rdd_295_57 in memory! (computed 1040.7 KiB so far)\n",
      "24/10/31 03:53:34 WARN MemoryStore: Failed to reserve initial memory threshold of 1024.0 KiB for computing block rdd_295_59 in memory.\n",
      "24/10/31 03:53:34 WARN MemoryStore: Not enough space to cache rdd_295_59 in memory! (computed 384.0 B so far)\n",
      "24/10/31 03:53:34 WARN MemoryStore: Not enough space to cache rdd_295_58 in memory! (computed 2.3 MiB so far)\n",
      "24/10/31 03:53:34 WARN MemoryStore: Not enough space to cache rdd_295_60 in memory! (computed 1564.0 KiB so far)\n",
      "24/10/31 03:53:34 WARN MemoryStore: Failed to reserve initial memory threshold of 1024.0 KiB for computing block rdd_295_62 in memory.\n",
      "24/10/31 03:53:34 WARN MemoryStore: Not enough space to cache rdd_295_62 in memory! (computed 384.0 B so far)\n",
      "24/10/31 03:53:34 WARN MemoryStore: Not enough space to cache rdd_295_61 in memory! (computed 1040.7 KiB so far)\n",
      "24/10/31 03:53:35 WARN MemoryStore: Not enough space to cache rdd_295_63 in memory! (computed 2.3 MiB so far)\n",
      "24/10/31 03:53:35 WARN MemoryStore: Failed to reserve initial memory threshold of 1024.0 KiB for computing block rdd_295_64 in memory.\n",
      "24/10/31 03:53:35 WARN MemoryStore: Not enough space to cache rdd_295_64 in memory! (computed 384.0 B so far)\n",
      "24/10/31 03:53:35 WARN MemoryStore: Not enough space to cache rdd_295_65 in memory! (computed 2.3 MiB so far)\n",
      "24/10/31 03:53:35 WARN MemoryStore: Failed to reserve initial memory threshold of 1024.0 KiB for computing block rdd_295_67 in memory.\n",
      "24/10/31 03:53:35 WARN MemoryStore: Not enough space to cache rdd_295_67 in memory! (computed 384.0 B so far)\n",
      "24/10/31 03:53:35 WARN MemoryStore: Not enough space to cache rdd_295_66 in memory! (computed 2.3 MiB so far)\n",
      "24/10/31 03:53:36 WARN MemoryStore: Not enough space to cache rdd_295_68 in memory! (computed 2.3 MiB so far)\n",
      "24/10/31 03:53:36 WARN MemoryStore: Not enough space to cache rdd_295_69 in memory! (computed 2.3 MiB so far)\n",
      "24/10/31 03:53:36 WARN MemoryStore: Not enough space to cache rdd_295_70 in memory! (computed 2.3 MiB so far)\n",
      "24/10/31 03:53:38 WARN MemoryStore: Not enough space to cache rdd_295_71 in memory! (computed 2.3 MiB so far)\n",
      "24/10/31 03:53:38 WARN MemoryStore: Not enough space to cache rdd_295_72 in memory! (computed 1564.0 KiB so far)\n",
      "24/10/31 03:53:38 WARN MemoryStore: Not enough space to cache rdd_295_73 in memory! (computed 1040.7 KiB so far)\n",
      "24/10/31 03:53:38 WARN MemoryStore: Not enough space to cache rdd_295_74 in memory! (computed 2.3 MiB so far)\n",
      "24/10/31 03:53:39 WARN MemoryStore: Not enough space to cache rdd_295_75 in memory! (computed 2.3 MiB so far)\n",
      "24/10/31 03:53:39 WARN MemoryStore: Failed to reserve initial memory threshold of 1024.0 KiB for computing block rdd_295_76 in memory.\n",
      "24/10/31 03:53:39 WARN MemoryStore: Not enough space to cache rdd_295_76 in memory! (computed 384.0 B so far)\n",
      "24/10/31 03:53:40 WARN MemoryStore: Not enough space to cache rdd_295_78 in memory! (computed 2.3 MiB so far)\n",
      "24/10/31 03:53:40 WARN MemoryStore: Failed to reserve initial memory threshold of 1024.0 KiB for computing block rdd_295_79 in memory.\n",
      "24/10/31 03:53:40 WARN MemoryStore: Not enough space to cache rdd_295_79 in memory! (computed 384.0 B so far)\n",
      "24/10/31 03:53:41 WARN MemoryStore: Not enough space to cache rdd_295_81 in memory! (computed 2.3 MiB so far)\n",
      "24/10/31 03:53:41 WARN MemoryStore: Not enough space to cache rdd_295_83 in memory! (computed 1564.0 KiB so far)\n",
      "24/10/31 03:53:41 WARN MemoryStore: Not enough space to cache rdd_295_82 in memory! (computed 1040.7 KiB so far)\n",
      "24/10/31 03:53:42 WARN MemoryStore: Failed to reserve initial memory threshold of 1024.0 KiB for computing block rdd_295_84 in memory.\n",
      "24/10/31 03:53:42 WARN MemoryStore: Not enough space to cache rdd_295_84 in memory! (computed 384.0 B so far)\n",
      "24/10/31 03:53:42 WARN MemoryStore: Failed to reserve initial memory threshold of 1024.0 KiB for computing block rdd_295_88 in memory.\n",
      "24/10/31 03:53:42 WARN MemoryStore: Not enough space to cache rdd_295_88 in memory! (computed 384.0 B so far)\n",
      "24/10/31 03:53:42 WARN MemoryStore: Failed to reserve initial memory threshold of 1024.0 KiB for computing block rdd_295_85 in memory.\n",
      "24/10/31 03:53:42 WARN MemoryStore: Not enough space to cache rdd_295_85 in memory! (computed 384.0 B so far)\n",
      "24/10/31 03:53:42 WARN MemoryStore: Failed to reserve initial memory threshold of 1024.0 KiB for computing block rdd_295_89 in memory.\n",
      "24/10/31 03:53:42 WARN MemoryStore: Not enough space to cache rdd_295_89 in memory! (computed 384.0 B so far)\n",
      "24/10/31 03:53:42 WARN MemoryStore: Not enough space to cache rdd_295_87 in memory! (computed 1564.0 KiB so far)\n",
      "24/10/31 03:53:42 WARN MemoryStore: Not enough space to cache rdd_295_86 in memory! (computed 1040.7 KiB so far)\n",
      "24/10/31 03:53:42 WARN MemoryStore: Failed to reserve initial memory threshold of 1024.0 KiB for computing block rdd_295_93 in memory.\n",
      "24/10/31 03:53:42 WARN MemoryStore: Not enough space to cache rdd_295_93 in memory! (computed 384.0 B so far)\n",
      "24/10/31 03:53:42 WARN MemoryStore: Not enough space to cache rdd_295_91 in memory! (computed 1564.0 KiB so far)\n",
      "24/10/31 03:53:42 WARN MemoryStore: Not enough space to cache rdd_295_92 in memory! (computed 1040.7 KiB so far)\n",
      "24/10/31 03:53:42 WARN MemoryStore: Not enough space to cache rdd_295_95 in memory! (computed 2.3 MiB so far)\n",
      "24/10/31 03:53:43 WARN MemoryStore: Failed to reserve initial memory threshold of 1024.0 KiB for computing block rdd_295_96 in memory.\n",
      "24/10/31 03:53:43 WARN MemoryStore: Not enough space to cache rdd_295_96 in memory! (computed 384.0 B so far)\n",
      "24/10/31 03:53:43 WARN MemoryStore: Failed to reserve initial memory threshold of 1024.0 KiB for computing block rdd_295_98 in memory.\n",
      "24/10/31 03:53:43 WARN MemoryStore: Not enough space to cache rdd_295_98 in memory! (computed 384.0 B so far)\n",
      "24/10/31 03:53:43 WARN MemoryStore: Not enough space to cache rdd_295_97 in memory! (computed 2.3 MiB so far)\n",
      "24/10/31 03:53:43 WARN MemoryStore: Not enough space to cache rdd_295_99 in memory! (computed 2.3 MiB so far)\n",
      "24/10/31 03:53:43 WARN MemoryStore: Failed to reserve initial memory threshold of 1024.0 KiB for computing block rdd_295_100 in memory.\n",
      "24/10/31 03:53:43 WARN MemoryStore: Not enough space to cache rdd_295_100 in memory! (computed 384.0 B so far)\n",
      "24/10/31 03:53:43 WARN MemoryStore: Failed to reserve initial memory threshold of 1024.0 KiB for computing block rdd_295_101 in memory.\n",
      "24/10/31 03:53:43 WARN MemoryStore: Not enough space to cache rdd_295_101 in memory! (computed 384.0 B so far)\n",
      "24/10/31 03:53:44 WARN MemoryStore: Not enough space to cache rdd_295_102 in memory! (computed 2.3 MiB so far)\n",
      "24/10/31 03:53:44 WARN MemoryStore: Not enough space to cache rdd_295_105 in memory! (computed 1040.7 KiB so far)\n",
      "24/10/31 03:53:44 WARN MemoryStore: Not enough space to cache rdd_295_104 in memory! (computed 1564.0 KiB so far)\n",
      "24/10/31 03:53:44 WARN MemoryStore: Not enough space to cache rdd_295_106 in memory! (computed 2.3 MiB so far)\n",
      "24/10/31 03:53:45 WARN MemoryStore: Not enough space to cache rdd_295_108 in memory! (computed 1564.0 KiB so far)\n",
      "24/10/31 03:53:45 WARN MemoryStore: Failed to reserve initial memory threshold of 1024.0 KiB for computing block rdd_295_109 in memory.\n",
      "24/10/31 03:53:45 WARN MemoryStore: Not enough space to cache rdd_295_109 in memory! (computed 384.0 B so far)\n",
      "24/10/31 03:53:45 WARN MemoryStore: Failed to reserve initial memory threshold of 1024.0 KiB for computing block rdd_295_110 in memory.\n",
      "24/10/31 03:53:45 WARN MemoryStore: Not enough space to cache rdd_295_110 in memory! (computed 384.0 B so far)\n",
      "24/10/31 03:53:45 WARN MemoryStore: Not enough space to cache rdd_295_107 in memory! (computed 1040.7 KiB so far)\n",
      "24/10/31 03:53:45 WARN MemoryStore: Not enough space to cache rdd_295_111 in memory! (computed 1564.0 KiB so far)\n",
      "24/10/31 03:53:46 WARN MemoryStore: Not enough space to cache rdd_295_112 in memory! (computed 2.3 MiB so far)\n",
      "24/10/31 03:53:46 WARN MemoryStore: Failed to reserve initial memory threshold of 1024.0 KiB for computing block rdd_295_115 in memory.\n",
      "24/10/31 03:53:46 WARN MemoryStore: Not enough space to cache rdd_295_115 in memory! (computed 384.0 B so far)\n",
      "24/10/31 03:53:46 WARN MemoryStore: Not enough space to cache rdd_295_114 in memory! (computed 1564.0 KiB so far)\n",
      "24/10/31 03:53:46 WARN MemoryStore: Not enough space to cache rdd_295_113 in memory! (computed 1040.7 KiB so far)\n",
      "24/10/31 03:53:47 WARN MemoryStore: Not enough space to cache rdd_295_116 in memory! (computed 2.3 MiB so far)\n",
      "24/10/31 03:53:47 WARN MemoryStore: Failed to reserve initial memory threshold of 1024.0 KiB for computing block rdd_295_117 in memory.\n",
      "24/10/31 03:53:47 WARN MemoryStore: Not enough space to cache rdd_295_117 in memory! (computed 384.0 B so far)\n",
      "24/10/31 03:53:47 WARN MemoryStore: Not enough space to cache rdd_295_119 in memory! (computed 1564.0 KiB so far)\n",
      "24/10/31 03:53:47 WARN MemoryStore: Not enough space to cache rdd_295_118 in memory! (computed 1040.7 KiB so far)\n",
      "24/10/31 03:53:48 WARN MemoryStore: Not enough space to cache rdd_295_120 in memory! (computed 2.3 MiB so far)\n",
      "24/10/31 03:53:48 WARN MemoryStore: Failed to reserve initial memory threshold of 1024.0 KiB for computing block rdd_295_123 in memory.\n",
      "24/10/31 03:53:48 WARN MemoryStore: Not enough space to cache rdd_295_123 in memory! (computed 384.0 B so far)\n",
      "24/10/31 03:53:48 WARN MemoryStore: Not enough space to cache rdd_295_121 in memory! (computed 1564.0 KiB so far)\n",
      "24/10/31 03:53:49 WARN MemoryStore: Not enough space to cache rdd_295_122 in memory! (computed 2.3 MiB so far)\n",
      "24/10/31 03:53:49 WARN MemoryStore: Failed to reserve initial memory threshold of 1024.0 KiB for computing block rdd_295_124 in memory.\n",
      "24/10/31 03:53:49 WARN MemoryStore: Not enough space to cache rdd_295_124 in memory! (computed 384.0 B so far)\n",
      "24/10/31 03:53:49 WARN MemoryStore: Failed to reserve initial memory threshold of 1024.0 KiB for computing block rdd_295_125 in memory.\n",
      "24/10/31 03:53:49 WARN MemoryStore: Not enough space to cache rdd_295_125 in memory! (computed 384.0 B so far)\n",
      "24/10/31 03:53:49 WARN MemoryStore: Not enough space to cache rdd_295_126 in memory! (computed 1564.0 KiB so far)\n",
      "24/10/31 03:53:49 WARN MemoryStore: Not enough space to cache rdd_295_127 in memory! (computed 1040.7 KiB so far)\n",
      "24/10/31 03:53:49 WARN MemoryStore: Failed to reserve initial memory threshold of 1024.0 KiB for computing block rdd_295_129 in memory.\n",
      "24/10/31 03:53:49 WARN MemoryStore: Not enough space to cache rdd_295_129 in memory! (computed 384.0 B so far)\n",
      "24/10/31 03:53:49 WARN MemoryStore: Failed to reserve initial memory threshold of 1024.0 KiB for computing block rdd_295_128 in memory.\n",
      "24/10/31 03:53:49 WARN MemoryStore: Not enough space to cache rdd_295_128 in memory! (computed 384.0 B so far)\n",
      "24/10/31 03:53:49 WARN MemoryStore: Failed to reserve initial memory threshold of 1024.0 KiB for computing block rdd_295_131 in memory.\n",
      "24/10/31 03:53:49 WARN MemoryStore: Not enough space to cache rdd_295_131 in memory! (computed 384.0 B so far)\n",
      "24/10/31 03:53:49 WARN MemoryStore: Not enough space to cache rdd_295_130 in memory! (computed 2.3 MiB so far)\n",
      "24/10/31 03:53:49 WARN MemoryStore: Failed to reserve initial memory threshold of 1024.0 KiB for computing block rdd_295_132 in memory.\n",
      "24/10/31 03:53:49 WARN MemoryStore: Not enough space to cache rdd_295_132 in memory! (computed 384.0 B so far)\n",
      "24/10/31 03:53:49 WARN MemoryStore: Failed to reserve initial memory threshold of 1024.0 KiB for computing block rdd_295_133 in memory.\n",
      "24/10/31 03:53:49 WARN MemoryStore: Not enough space to cache rdd_295_133 in memory! (computed 384.0 B so far)\n",
      "24/10/31 03:53:49 WARN MemoryStore: Not enough space to cache rdd_295_134 in memory! (computed 2.3 MiB so far)\n",
      "24/10/31 03:53:49 WARN MemoryStore: Failed to reserve initial memory threshold of 1024.0 KiB for computing block rdd_295_135 in memory.\n",
      "24/10/31 03:53:49 WARN MemoryStore: Not enough space to cache rdd_295_135 in memory! (computed 384.0 B so far)\n",
      "24/10/31 03:53:50 WARN MemoryStore: Not enough space to cache rdd_295_136 in memory! (computed 1564.0 KiB so far)\n",
      "24/10/31 03:53:50 WARN MemoryStore: Failed to reserve initial memory threshold of 1024.0 KiB for computing block rdd_295_138 in memory.\n",
      "24/10/31 03:53:50 WARN MemoryStore: Not enough space to cache rdd_295_138 in memory! (computed 384.0 B so far)\n",
      "24/10/31 03:53:50 WARN MemoryStore: Not enough space to cache rdd_295_137 in memory! (computed 2.3 MiB so far)\n",
      "24/10/31 03:53:50 WARN MemoryStore: Not enough space to cache rdd_295_139 in memory! (computed 2.3 MiB so far)\n",
      "24/10/31 03:53:50 WARN MemoryStore: Failed to reserve initial memory threshold of 1024.0 KiB for computing block rdd_295_140 in memory.\n",
      "24/10/31 03:53:50 WARN MemoryStore: Not enough space to cache rdd_295_140 in memory! (computed 384.0 B so far)\n",
      "24/10/31 03:53:50 WARN MemoryStore: Failed to reserve initial memory threshold of 1024.0 KiB for computing block rdd_295_141 in memory.\n",
      "24/10/31 03:53:50 WARN MemoryStore: Not enough space to cache rdd_295_141 in memory! (computed 384.0 B so far)\n",
      "24/10/31 03:53:50 WARN MemoryStore: Failed to reserve initial memory threshold of 1024.0 KiB for computing block rdd_295_143 in memory.\n",
      "24/10/31 03:53:50 WARN MemoryStore: Failed to reserve initial memory threshold of 1024.0 KiB for computing block rdd_295_145 in memory.\n",
      "24/10/31 03:53:50 WARN MemoryStore: Not enough space to cache rdd_295_145 in memory! (computed 384.0 B so far)\n",
      "24/10/31 03:53:50 WARN MemoryStore: Not enough space to cache rdd_295_143 in memory! (computed 384.0 B so far)\n",
      "24/10/31 03:53:50 WARN MemoryStore: Not enough space to cache rdd_295_142 in memory! (computed 1564.0 KiB so far)\n",
      "24/10/31 03:53:50 WARN MemoryStore: Not enough space to cache rdd_295_144 in memory! (computed 1040.7 KiB so far)\n",
      "24/10/31 03:53:50 WARN MemoryStore: Not enough space to cache rdd_295_147 in memory! (computed 2.3 MiB so far)\n",
      "24/10/31 03:53:50 WARN MemoryStore: Failed to reserve initial memory threshold of 1024.0 KiB for computing block rdd_295_146 in memory.\n",
      "24/10/31 03:53:50 WARN MemoryStore: Not enough space to cache rdd_295_146 in memory! (computed 384.0 B so far)\n",
      "24/10/31 03:53:50 WARN MemoryStore: Failed to reserve initial memory threshold of 1024.0 KiB for computing block rdd_295_148 in memory.\n",
      "24/10/31 03:53:50 WARN MemoryStore: Not enough space to cache rdd_295_148 in memory! (computed 384.0 B so far)\n",
      "24/10/31 03:53:50 WARN MemoryStore: Not enough space to cache rdd_295_149 in memory! (computed 1564.0 KiB so far)\n",
      "24/10/31 03:53:50 WARN MemoryStore: Not enough space to cache rdd_295_150 in memory! (computed 2.3 MiB so far)\n",
      "24/10/31 03:53:50 WARN MemoryStore: Failed to reserve initial memory threshold of 1024.0 KiB for computing block rdd_295_151 in memory.\n",
      "24/10/31 03:53:50 WARN MemoryStore: Not enough space to cache rdd_295_151 in memory! (computed 384.0 B so far)\n",
      "24/10/31 03:53:50 WARN MemoryStore: Not enough space to cache rdd_295_152 in memory! (computed 1564.0 KiB so far)\n",
      "24/10/31 03:53:50 WARN MemoryStore: Not enough space to cache rdd_295_153 in memory! (computed 1040.7 KiB so far)\n",
      "                                                                                \r"
     ]
    }
   ],
   "source": [
    "model = ml_class.fit(balanced_df)"
   ]
  },
  {
   "cell_type": "code",
   "execution_count": 51,
   "metadata": {},
   "outputs": [],
   "source": [
    "#evaluar modelo\n",
    "prediction = model.transform(test)\n"
   ]
  },
  {
   "cell_type": "code",
   "execution_count": 52,
   "metadata": {},
   "outputs": [
    {
     "name": "stderr",
     "output_type": "stream",
     "text": [
      "[Stage 110:======================================================>(76 + 1) / 77]\r"
     ]
    },
    {
     "name": "stdout",
     "output_type": "stream",
     "text": [
      "+-------------+---------------+--------------------+----------+-------+--------+----------+-------+--------+-----------------+--------------+--------+----+-----+----------+---------+-----------+-------------------------------+------+------------------+--------------+---------------+----+----------------+------------+-------------+---------+--------+---------------------+-------------------+----------------+------------------------+----------------------+----------------------+------------------------------+----------------------------+----------------------------------------+---------------------------------------+----------------------------------------+----------+\n",
      "|DestAirportID|OriginAirportID|Airline             |CRSDepTime|DepTime|DepDelay|CRSArrTime|ArrTime|ArrDelay|ActualElapsedTime|CRSElapsedTime|Distance|Year|Month|DayofMonth|DayOfWeek|Tail_Number|Flight_Number_Operating_Airline|Origin|OriginAirportSeqID|OriginCityName|OriginStateName|Dest|DestAirportSeqID|DestCityName|DestStateName|Cancelled|Diverted|OriginAirportID_esTop|DestAirportID_esTop|Airline_indexado|OriginAirportID_indexado|DestAirportID_indexado|Airline_OneHotEncoding|OriginAirportID_OneHotEncoding|DestAirportID_OneHotEncoding|features                                |rawPrediction                          |probability                             |prediction|\n",
      "+-------------+---------------+--------------------+----------+-------+--------+----------+-------+--------+-----------------+--------------+--------+----+-----+----------+---------+-----------+-------------------------------+------+------------------+--------------+---------------+----+----------------+------------+-------------+---------+--------+---------------------+-------------------+----------------+------------------------+----------------------+----------------------+------------------------------+----------------------------+----------------------------------------+---------------------------------------+----------------------------------------+----------+\n",
      "|10397        |10693          |Delta Air Lines Inc.|530.0     |524.0  |-6.0    |737       |727.0  |-10.0   |63.0             |67.0          |214.0   |2022|4    |16        |6        |N817DN     |694                            |BNA   |1069302           |Nashville, TN |Tennessee      |ATL |1039707         |Atlanta, GA |Georgia      |0        |0       |1                    |1                  |1.0             |28.0                    |2.0                   |(27,[1],[1.0])        |(31,[28],[1.0])               |(31,[2],[1.0])              |[214.0,1.0,28.0,2.0,2022.0,4.0,16.0,6.0]|[15.616129429697615,4.383870570302385] |[0.7808064714848808,0.21919352851511925]|0.0       |\n",
      "|10397        |10693          |Delta Air Lines Inc.|530.0     |525.0  |-5.0    |737       |719.0  |-18.0   |54.0             |67.0          |214.0   |2022|4    |30        |6        |N885DN     |694                            |BNA   |1069302           |Nashville, TN |Tennessee      |ATL |1039707         |Atlanta, GA |Georgia      |0        |0       |1                    |1                  |1.0             |28.0                    |2.0                   |(27,[1],[1.0])        |(31,[28],[1.0])               |(31,[2],[1.0])              |[214.0,1.0,28.0,2.0,2022.0,4.0,30.0,6.0]|[15.503853956700796,4.496146043299204] |[0.7751926978350399,0.2248073021649602] |0.0       |\n",
      "|10397        |10693          |Delta Air Lines Inc.|530.0     |525.0  |-5.0    |737       |721.0  |-16.0   |56.0             |67.0          |214.0   |2022|4    |23        |6        |N898DN     |694                            |BNA   |1069302           |Nashville, TN |Tennessee      |ATL |1039707         |Atlanta, GA |Georgia      |0        |0       |1                    |1                  |1.0             |28.0                    |2.0                   |(27,[1],[1.0])        |(31,[28],[1.0])               |(31,[2],[1.0])              |[214.0,1.0,28.0,2.0,2022.0,4.0,23.0,6.0]|[15.441460076781787,4.5585399232182136]|[0.7720730038390894,0.22792699616091067]|0.0       |\n",
      "|10397        |10693          |Delta Air Lines Inc.|530.0     |526.0  |-4.0    |737       |729.0  |-8.0    |63.0             |67.0          |214.0   |2022|4    |14        |4        |N824DN     |694                            |BNA   |1069302           |Nashville, TN |Tennessee      |ATL |1039707         |Atlanta, GA |Georgia      |0        |0       |1                    |1                  |1.0             |28.0                    |2.0                   |(27,[1],[1.0])        |(31,[28],[1.0])               |(31,[2],[1.0])              |[214.0,1.0,28.0,2.0,2022.0,4.0,14.0,4.0]|[15.616129429697615,4.383870570302385] |[0.7808064714848808,0.21919352851511925]|0.0       |\n",
      "|10397        |10693          |Delta Air Lines Inc.|530.0     |528.0  |-2.0    |734       |725.0  |-9.0    |57.0             |64.0          |214.0   |2022|4    |10        |7        |N805DN     |694                            |BNA   |1069302           |Nashville, TN |Tennessee      |ATL |1039707         |Atlanta, GA |Georgia      |0        |0       |1                    |1                  |1.0             |28.0                    |2.0                   |(27,[1],[1.0])        |(31,[28],[1.0])               |(31,[2],[1.0])              |[214.0,1.0,28.0,2.0,2022.0,4.0,10.0,7.0]|[15.616129429697615,4.383870570302385] |[0.7808064714848808,0.21919352851511925]|0.0       |\n",
      "|10397        |10693          |Delta Air Lines Inc.|530.0     |528.0  |-2.0    |737       |727.0  |-10.0   |59.0             |67.0          |214.0   |2022|4    |13        |3        |N825DN     |694                            |BNA   |1069302           |Nashville, TN |Tennessee      |ATL |1039707         |Atlanta, GA |Georgia      |0        |0       |1                    |1                  |1.0             |28.0                    |2.0                   |(27,[1],[1.0])        |(31,[28],[1.0])               |(31,[2],[1.0])              |[214.0,1.0,28.0,2.0,2022.0,4.0,13.0,3.0]|[15.616129429697615,4.383870570302385] |[0.7808064714848808,0.21919352851511925]|0.0       |\n",
      "|10397        |10693          |Delta Air Lines Inc.|530.0     |539.0  |9.0     |737       |749.0  |12.0    |70.0             |67.0          |214.0   |2022|4    |18        |1        |N808DN     |694                            |BNA   |1069302           |Nashville, TN |Tennessee      |ATL |1039707         |Atlanta, GA |Georgia      |0        |0       |1                    |1                  |1.0             |28.0                    |2.0                   |(27,[1],[1.0])        |(31,[28],[1.0])               |(31,[2],[1.0])              |[214.0,1.0,28.0,2.0,2022.0,4.0,18.0,1.0]|[15.616129429697615,4.383870570302385] |[0.7808064714848808,0.21919352851511925]|0.0       |\n",
      "|10397        |10693          |Delta Air Lines Inc.|630.0     |624.0  |-6.0    |842       |824.0  |-18.0   |60.0             |72.0          |214.0   |2022|4    |29        |5        |N857DZ     |1241                           |BNA   |1069302           |Nashville, TN |Tennessee      |ATL |1039707         |Atlanta, GA |Georgia      |0        |0       |1                    |1                  |1.0             |28.0                    |2.0                   |(27,[1],[1.0])        |(31,[28],[1.0])               |(31,[2],[1.0])              |[214.0,1.0,28.0,2.0,2022.0,4.0,29.0,5.0]|[15.503853956700796,4.496146043299204] |[0.7751926978350399,0.2248073021649602] |0.0       |\n",
      "|10397        |10693          |Delta Air Lines Inc.|630.0     |628.0  |-2.0    |842       |853.0  |11.0    |85.0             |72.0          |214.0   |2022|4    |15        |5        |N882DN     |1241                           |BNA   |1069302           |Nashville, TN |Tennessee      |ATL |1039707         |Atlanta, GA |Georgia      |0        |0       |1                    |1                  |1.0             |28.0                    |2.0                   |(27,[1],[1.0])        |(31,[28],[1.0])               |(31,[2],[1.0])              |[214.0,1.0,28.0,2.0,2022.0,4.0,15.0,5.0]|[15.616129429697615,4.383870570302385] |[0.7808064714848808,0.21919352851511925]|0.0       |\n",
      "|10397        |10693          |Delta Air Lines Inc.|630.0     |630.0  |0.0     |842       |832.0  |-10.0   |62.0             |72.0          |214.0   |2022|4    |28        |4        |N847DN     |1241                           |BNA   |1069302           |Nashville, TN |Tennessee      |ATL |1039707         |Atlanta, GA |Georgia      |0        |0       |1                    |1                  |1.0             |28.0                    |2.0                   |(27,[1],[1.0])        |(31,[28],[1.0])               |(31,[2],[1.0])              |[214.0,1.0,28.0,2.0,2022.0,4.0,28.0,4.0]|[15.441460076781787,4.5585399232182136]|[0.7720730038390894,0.22792699616091067]|0.0       |\n",
      "+-------------+---------------+--------------------+----------+-------+--------+----------+-------+--------+-----------------+--------------+--------+----+-----+----------+---------+-----------+-------------------------------+------+------------------+--------------+---------------+----+----------------+------------+-------------+---------+--------+---------------------+-------------------+----------------+------------------------+----------------------+----------------------+------------------------------+----------------------------+----------------------------------------+---------------------------------------+----------------------------------------+----------+\n",
      "only showing top 10 rows\n",
      "\n"
     ]
    },
    {
     "name": "stderr",
     "output_type": "stream",
     "text": [
      "                                                                                \r"
     ]
    }
   ],
   "source": [
    "prediction.show(10, truncate = False)"
   ]
  },
  {
   "cell_type": "code",
   "execution_count": 53,
   "metadata": {},
   "outputs": [],
   "source": [
    "evaluator = pyml.evaluation.BinaryClassificationEvaluator(\n",
    "    labelCol=\"Cancelled\",\n",
    "    rawPredictionCol = \"prediction\",\n",
    "    metricName=\"areaUnderROC\"\n",
    ")"
   ]
  },
  {
   "cell_type": "code",
   "execution_count": 54,
   "metadata": {},
   "outputs": [
    {
     "name": "stderr",
     "output_type": "stream",
     "text": [
      "                                                                                \r"
     ]
    }
   ],
   "source": [
    "AUC = evaluator.evaluate(prediction)"
   ]
  },
  {
   "cell_type": "code",
   "execution_count": 55,
   "metadata": {},
   "outputs": [
    {
     "data": {
      "text/plain": [
       "0.6004254454643927"
      ]
     },
     "execution_count": 55,
     "metadata": {},
     "output_type": "execute_result"
    }
   ],
   "source": [
    "AUC"
   ]
  },
  {
   "cell_type": "markdown",
   "metadata": {},
   "source": [
    "Posible motivo:\n",
    "- Se necesita un mejor balanceo de clases, cancelados son el ~2.6% de los datos\n",
    "- Se ocupa utilizar One Hot Encoding"
   ]
  },
  {
   "cell_type": "code",
   "execution_count": 56,
   "metadata": {},
   "outputs": [],
   "source": [
    "spark.stop()"
   ]
  }
 ],
 "metadata": {
  "kernelspec": {
   "display_name": ".venv",
   "language": "python",
   "name": "python3"
  },
  "language_info": {
   "codemirror_mode": {
    "name": "ipython",
    "version": 3
   },
   "file_extension": ".py",
   "mimetype": "text/x-python",
   "name": "python",
   "nbconvert_exporter": "python",
   "pygments_lexer": "ipython3",
   "version": "3.12.3"
  }
 },
 "nbformat": 4,
 "nbformat_minor": 2
}
