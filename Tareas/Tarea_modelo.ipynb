{
 "cells": [
  {
   "cell_type": "code",
   "execution_count": 1,
   "metadata": {},
   "outputs": [],
   "source": [
    "import findspark\n",
    "findspark.init()\n",
    "findspark.find()\n",
    "\n",
    "from pyspark import SparkContext\n",
    "\n",
    "from pyspark.sql import SparkSession\n",
    "\n",
    "from pyspark import SparkConf\n",
    "\n",
    "import pyspark.sql as pysql\n",
    "\n",
    "from pyspark import StorageLevel\n"
   ]
  },
  {
   "cell_type": "code",
   "execution_count": 2,
   "metadata": {},
   "outputs": [],
   "source": [
    "import pyspark.ml as pyml\n",
    "import pyspark.sql.functions as pysqlfun\n"
   ]
  },
  {
   "cell_type": "code",
   "execution_count": 3,
   "metadata": {},
   "outputs": [],
   "source": [
    "import joblib"
   ]
  },
  {
   "cell_type": "code",
   "execution_count": 4,
   "metadata": {},
   "outputs": [],
   "source": [
    "import os\n",
    "import sys\n",
    "\n",
    "#os.environ['PYSPARK_PYTHON'] = sys.executable\n",
    "#os.environ['PYSPARK_DRIVER_PYTHON'] = sys.executable"
   ]
  },
  {
   "cell_type": "code",
   "execution_count": 5,
   "metadata": {},
   "outputs": [],
   "source": [
    "conf = SparkConf().setAppName(\"Tarea\") \\\n",
    "    .setMaster(\"local[8]\") \\\n",
    "    .set(\"spark.executor.cores\",\"2\") \\\n",
    "    .set(\"spark.executor.memory\", \"4g\") \\\n",
    "    .set(\"spark.driver.memory\",\"4g\")"
   ]
  },
  {
   "cell_type": "code",
   "execution_count": 6,
   "metadata": {},
   "outputs": [
    {
     "name": "stderr",
     "output_type": "stream",
     "text": [
      "Setting default log level to \"WARN\".\n",
      "To adjust logging level use sc.setLogLevel(newLevel). For SparkR, use setLogLevel(newLevel).\n",
      "24/11/22 16:41:39 WARN NativeCodeLoader: Unable to load native-hadoop library for your platform... using builtin-java classes where applicable\n"
     ]
    }
   ],
   "source": [
    "spark  = SparkSession.builder.config(conf=conf).getOrCreate()"
   ]
  },
  {
   "cell_type": "code",
   "execution_count": 7,
   "metadata": {},
   "outputs": [],
   "source": [
    "columnas = [\n",
    "    'Airline', # Aerolinea\n",
    "    'CRSDepTime', #Hora de salida programada\n",
    "    'DepTime', #Hora de salida actual\n",
    "    'DepDelay', #Diferencia en minutos entre CRSDepTime y DepTime, tiempos negativos significa salidas tempranas\n",
    "    'CRSArrTime', #Hora de llegada programada\n",
    "    'ArrTime', #Hora de llegada\n",
    "    'ArrDelay', #Diferencia de minutos entre la llegada programada y la hora de llegada, tiempos negativos significa llegadas tempranas\n",
    "    'ActualElapsedTime', #Tiempo de vuelo verdadero\n",
    "    'CRSElapsedTime', #Tiempo de vuelo programado\n",
    "    'Distance', #Distancia entre aeropuertos en millas\n",
    "    'Year', #Año del vuelo\n",
    "    'Month', #Mes del vuelo\n",
    "    'DayofMonth', #Dia del mes del vuelo\n",
    "    'DayOfWeek', #Dia de la semana del vuelo\n",
    "    'Tail_Number', #Numero de la cola, código para identificar la aeronave\n",
    "    'Flight_Number_Operating_Airline', #Numero del vuelo\n",
    "    \n",
    "    'Origin', #Aeropuerto de origen\n",
    "    'OriginAirportID', 'OriginAirportSeqID', #codigos del aeropuerto de origen\n",
    "    'OriginCityName', #Nombre de la ciudad del aeropuerto de origen\n",
    "    'OriginStateName', #Nombre de estado del aeropuerto de origen\n",
    "    \n",
    "    'Dest', #Aeropuerto de destino\n",
    "    'DestAirportID', 'DestAirportSeqID', #codigos del aeropuerto de destino\n",
    "    'DestCityName', #Nombre de la ciudad del aeropuerto de destino\n",
    "    'DestStateName', #Nombre de estado del aeropuerto de destino\n",
    "    \n",
    "    'Cancelled', #El vuelo fue cancelado, 1 = Sí\n",
    "    \n",
    "    'Diverted', #Si el vuelo fue desviado, 1 = Sí\n",
    "]"
   ]
  },
  {
   "cell_type": "code",
   "execution_count": 8,
   "metadata": {},
   "outputs": [],
   "source": [
    "import zipfile\n",
    "import pathlib\n",
    "\n",
    "direccion = pathlib.Path.cwd()\n",
    "\n",
    "path_datos_zip = pathlib.Path.joinpath(direccion.parent, 'Datos', 'data.zip')\n",
    "\n",
    "path_guardar = pathlib.Path.joinpath(direccion.parent, 'Datos')\n",
    "\n",
    "archivos_datos = [\n",
    "    pathlib.Path.joinpath(direccion.parent, 'Datos', 'Combined_Flights_2022.csv').as_posix(),\n",
    "    pathlib.Path.joinpath(direccion.parent, 'Datos', 'Combined_Flights_2021.csv').as_posix(),\n",
    "    pathlib.Path.joinpath(direccion.parent, 'Datos', 'Combined_Flights_2020.csv').as_posix(),\n",
    "    pathlib.Path.joinpath(direccion.parent, 'Datos', 'Combined_Flights_2019.csv').as_posix(),\n",
    "    pathlib.Path.joinpath(direccion.parent, 'Datos', 'Combined_Flights_2018.csv').as_posix()\n",
    "]\n",
    "\n",
    "archivos_datos_en_zip  = [\n",
    "    'Combined_Flights_2022.csv',\n",
    "    'Combined_Flights_2021.csv',\n",
    "    'Combined_Flights_2020.csv',\n",
    "    'Combined_Flights_2019.csv',\n",
    "    'Combined_Flights_2018.csv'\n",
    "]"
   ]
  },
  {
   "cell_type": "code",
   "execution_count": 9,
   "metadata": {},
   "outputs": [],
   "source": [
    "with zipfile.ZipFile(path_datos_zip, mode=\"r\") as archivo_zip:\n",
    "    for archivo in archivos_datos_en_zip:\n",
    "        \n",
    "        if os.path.isfile(path=pathlib.Path.joinpath(path_guardar,archivo).as_posix()):\n",
    "            continue\n",
    "        \n",
    "        archivo_zip.extract(archivo, path_guardar)"
   ]
  },
  {
   "cell_type": "code",
   "execution_count": 10,
   "metadata": {},
   "outputs": [],
   "source": [
    "df = spark.read.option(\"header\",\"true\").csv(archivos_datos)"
   ]
  },
  {
   "cell_type": "code",
   "execution_count": 11,
   "metadata": {},
   "outputs": [],
   "source": [
    "df = df.select(columnas)"
   ]
  },
  {
   "cell_type": "code",
   "execution_count": 12,
   "metadata": {},
   "outputs": [
    {
     "name": "stderr",
     "output_type": "stream",
     "text": [
      "24/11/22 16:41:54 WARN SparkStringUtils: Truncated the string representation of a plan since it was too large. This behavior can be adjusted by setting 'spark.sql.debug.maxToStringFields'.\n"
     ]
    }
   ],
   "source": [
    "df = df.persist(StorageLevel.DISK_ONLY)"
   ]
  },
  {
   "cell_type": "code",
   "execution_count": 13,
   "metadata": {},
   "outputs": [
    {
     "name": "stderr",
     "output_type": "stream",
     "text": [
      "24/11/22 16:41:55 WARN GarbageCollectionMetrics: To enable non-built-in garbage collector(s) List(G1 Concurrent GC), users should configure it(them) to spark.eventLog.gcMetrics.youngGenerationGarbageCollectors or spark.eventLog.gcMetrics.oldGenerationGarbageCollectors\n"
     ]
    }
   ],
   "source": [
    "df = df.withColumn(\"CRSDepTime\", df[\"CRSDepTime\"].cast(pysql.types.FloatType()))\n",
    "df = df.withColumn(\"DepTime\", df[\"DepTime\"].cast(pysql.types.FloatType()))\n",
    "df = df.withColumn(\"DepDelay\", df[\"DepDelay\"].cast(pysql.types.FloatType()))\n",
    "df = df.withColumn(\"ArrTime\", df[\"ArrTime\"].cast(pysql.types.FloatType()))\n",
    "df = df.withColumn(\"ArrDelay\", df[\"ArrDelay\"].cast(pysql.types.FloatType()))\n",
    "df = df.withColumn(\"ActualElapsedTime\", df[\"ActualElapsedTime\"].cast(pysql.types.FloatType()))\n",
    "df = df.withColumn(\"CRSElapsedTime\", df[\"CRSElapsedTime\"].cast(pysql.types.FloatType()))\n",
    "df = df.withColumn(\"Distance\", df[\"Distance\"].cast(pysql.types.FloatType()))\n",
    "df = df.withColumn(\"Year\", df[\"Year\"].cast(pysql.types.IntegerType()))\n",
    "df = df.withColumn(\"Month\", df[\"Month\"].cast(pysql.types.IntegerType()))\n",
    "df = df.withColumn(\"DayofMonth\", df[\"DayofMonth\"].cast(pysql.types.IntegerType()))\n",
    "df = df.withColumn(\"DayOfWeek\", df[\"DayOfWeek\"].cast(pysql.types.IntegerType()))\n",
    "\n",
    "df = df.withColumn(\"Cancelled\", pysql.functions.when(df[\"Cancelled\"] == \"False\",0).otherwise(1))\n",
    "df = df.withColumn(\"Diverted\", pysql.functions.when(df[\"Diverted\"] == \"False\",0).otherwise(1))"
   ]
  },
  {
   "cell_type": "code",
   "execution_count": 77,
   "metadata": {},
   "outputs": [],
   "source": [
    "#cambiar None a Otros\n",
    "\n",
    "for columna in ['Airline','Tail_Number','Flight_Number_Operating_Airline',\n",
    "                'Origin','OriginAirportID', 'OriginAirportSeqID',\n",
    "                'OriginCityName','OriginStateName','Dest','DestAirportID',\n",
    "                'DestAirportSeqID','DestCityName','DestStateName']:\n",
    "\n",
    "    df = df.withColumn(columna,pysqlfun.when(\n",
    "        df[columna].isNull() | (df[columna] == \"None\"),\"Otros\").otherwise(df[columna]))\n",
    "\n"
   ]
  },
  {
   "cell_type": "code",
   "execution_count": 78,
   "metadata": {},
   "outputs": [],
   "source": [
    "#df.select(['Airline']).distinct().toPandas().to_csv(\"airlines.csv\", header=True, index=False)\n",
    "#\n",
    "#df.select([\n",
    "#    'Origin', #Aeropuerto de origen\n",
    "#    'OriginAirportID', 'OriginAirportSeqID', #codigos del aeropuerto de origen\n",
    "#    'OriginCityName', #Nombre de la ciudad del aeropuerto de origen\n",
    "#    'OriginStateName', #Nombre de estado del aeropuerto de origen\n",
    "#]).distinct().toPandas().to_csv(\"airports_origin.csv\", header=True, index=False)\n",
    "\n",
    "#df.select([\n",
    "#    'Dest', #Aeropuerto de destino\n",
    "#    'DestAirportID', 'DestAirportSeqID', #codigos del aeropuerto de destino\n",
    "#    'DestCityName', #Nombre de la ciudad del aeropuerto de destino\n",
    "#    'DestStateName', #Nombre de estado del aeropuerto de destino\n",
    "#]).distinct().toPandas().to_csv(\"airports_dest.csv\", header=True, index=False)\n"
   ]
  },
  {
   "cell_type": "markdown",
   "metadata": {},
   "source": [
    "## String a categorico"
   ]
  },
  {
   "cell_type": "markdown",
   "metadata": {},
   "source": [
    "Tail_Number"
   ]
  },
  {
   "cell_type": "code",
   "execution_count": 79,
   "metadata": {},
   "outputs": [],
   "source": [
    "df_tail_number = df.groupBy(\"Tail_Number\").count() \\\n",
    "    .sort(\"count\", ascending = False).persist(StorageLevel.DISK_ONLY)"
   ]
  },
  {
   "cell_type": "code",
   "execution_count": 80,
   "metadata": {},
   "outputs": [],
   "source": [
    "df_tail_number = df_tail_number.withColumn(\n",
    "    \"Tail_Number_Grupo\", pysqlfun.when((df_tail_number[\"Tail_Number\"] == \"Otros\"), \"0\")\n",
    "    .when(df_tail_number[\"count\"] < 100, \"1\")\n",
    "    .when((df_tail_number[\"count\"] >= 100) & (df_tail_number[\"count\"] < 1000), \"2\")\n",
    "    .when((df_tail_number[\"count\"] >= 1000) & (df_tail_number[\"count\"] < 10000), \"3\")\n",
    "    .when((df_tail_number[\"count\"] >= 10000) & (df_tail_number[\"count\"] < 100000), \"4\")\n",
    "    .otherwise(\"5\")\n",
    ")"
   ]
  },
  {
   "cell_type": "code",
   "execution_count": 81,
   "metadata": {},
   "outputs": [],
   "source": [
    "#df_tail_number.toPandas().to_csv(\"df_tail_number.csv\", header=True, index=False)"
   ]
  },
  {
   "cell_type": "code",
   "execution_count": 82,
   "metadata": {},
   "outputs": [],
   "source": [
    "df = df.join(other=df_tail_number,on=\"Tail_Number\",how=\"left\")"
   ]
  },
  {
   "cell_type": "markdown",
   "metadata": {},
   "source": [
    "Aeropuerto de origen"
   ]
  },
  {
   "cell_type": "code",
   "execution_count": 83,
   "metadata": {},
   "outputs": [],
   "source": [
    "df_origin = df.groupBy(\"Origin\").count() \\\n",
    "    .sort(\"count\", ascending = False).persist(StorageLevel.DISK_ONLY)"
   ]
  },
  {
   "cell_type": "code",
   "execution_count": 84,
   "metadata": {},
   "outputs": [],
   "source": [
    "df_origin = df_origin.withColumn(\n",
    "    \"Origin_Grupo\", pysqlfun.when((df_origin[\"Origin\"] == \"Otros\"), \"0\")\n",
    "    .when((df_origin[\"count\"] < 1000), \"1\")\n",
    "    .when((df_origin[\"count\"] >= 1000) & (df_origin[\"count\"] < 5000), \"2\")\n",
    "    .when((df_origin[\"count\"] >= 5000) & (df_origin[\"count\"] < 10000), \"3\")\n",
    "    .when((df_origin[\"count\"] >= 10000) & (df_origin[\"count\"] < 50000), \"4\")\n",
    "    .when((df_origin[\"count\"] >= 50000) & (df_origin[\"count\"] < 100000), \"5\")\n",
    "    .when((df_origin[\"count\"] >= 100000) & (df_origin[\"count\"] < 500000), \"6\")\n",
    "    .when((df_origin[\"count\"] >= 500000) & (df_origin[\"count\"] < 1000000), \"7\")\n",
    "    .when((df_origin[\"count\"] >= 1000000) & (df_origin[\"count\"] < 5000000), \"8\")\n",
    "    .otherwise(\"9\")\n",
    ")"
   ]
  },
  {
   "cell_type": "code",
   "execution_count": 85,
   "metadata": {},
   "outputs": [],
   "source": [
    "#df_origin.toPandas().to_csv(\"df_origin.csv\", header=True, index=False)"
   ]
  },
  {
   "cell_type": "code",
   "execution_count": 86,
   "metadata": {},
   "outputs": [],
   "source": [
    "df = df.join(other=df_origin,on=\"Origin\",how=\"left\")"
   ]
  },
  {
   "cell_type": "markdown",
   "metadata": {},
   "source": [
    "Aeropuerto de destino"
   ]
  },
  {
   "cell_type": "code",
   "execution_count": 87,
   "metadata": {},
   "outputs": [],
   "source": [
    "df_dest = df.groupBy(\"Dest\").count() \\\n",
    "    .sort(\"count\", ascending = False).persist(StorageLevel.DISK_ONLY)"
   ]
  },
  {
   "cell_type": "code",
   "execution_count": 88,
   "metadata": {},
   "outputs": [],
   "source": [
    "df_dest = df_dest.withColumn(\n",
    "    \"Dest_Grupo\", pysqlfun.when((df_dest[\"Dest\"] == \"Otros\"), \"0\")\n",
    "    .when((df_dest[\"count\"] < 1000), \"1\")\n",
    "    .when((df_dest[\"count\"] >= 1000) & (df_dest[\"count\"] < 5000), \"2\")\n",
    "    .when((df_dest[\"count\"] >= 5000) & (df_dest[\"count\"] < 10000), \"3\")\n",
    "    .when((df_dest[\"count\"] >= 10000) & (df_dest[\"count\"] < 50000), \"4\")\n",
    "    .when((df_dest[\"count\"] >= 50000) & (df_dest[\"count\"] < 100000), \"5\")\n",
    "    .when((df_dest[\"count\"] >= 100000) & (df_dest[\"count\"] < 500000), \"6\")\n",
    "    .when((df_dest[\"count\"] >= 500000) & (df_dest[\"count\"] < 1000000), \"7\")\n",
    "    .when((df_dest[\"count\"] >= 1000000) & (df_dest[\"count\"] < 5000000), \"8\")\n",
    "    .otherwise(\"9\")\n",
    ")"
   ]
  },
  {
   "cell_type": "code",
   "execution_count": 89,
   "metadata": {},
   "outputs": [],
   "source": [
    "#df_dest.toPandas().to_csv(\"df_dest.csv\", header=True, index=False)"
   ]
  },
  {
   "cell_type": "code",
   "execution_count": 90,
   "metadata": {},
   "outputs": [],
   "source": [
    "df = df.join(other=df_dest,on=\"Dest\",how=\"left\")"
   ]
  },
  {
   "cell_type": "markdown",
   "metadata": {},
   "source": [
    "Estado de origen"
   ]
  },
  {
   "cell_type": "code",
   "execution_count": 91,
   "metadata": {},
   "outputs": [],
   "source": [
    "df_origin_state = df.groupBy(\"OriginStateName\").agg({\"Cancelled\" : \"avg\"}) \\\n",
    "    .sort(\"avg(Cancelled)\", ascending = False).persist(StorageLevel.DISK_ONLY)"
   ]
  },
  {
   "cell_type": "code",
   "execution_count": 92,
   "metadata": {},
   "outputs": [],
   "source": [
    "df_origin_state = df_origin_state.withColumn(\n",
    "    \"OriginStateName_Grupo\", pysqlfun.when((df_origin_state[\"OriginStateName\"] == \"Otros\"), \"0\")\n",
    "    .when((df_origin_state[\"avg(Cancelled)\"] < 0.01), \"1\")\n",
    "    .when((df_origin_state[\"avg(Cancelled)\"] >= 0.010) & (df_origin_state[\"avg(Cancelled)\"] < 0.015), \"2\")\n",
    "    .when((df_origin_state[\"avg(Cancelled)\"] >= 0.015) & (df_origin_state[\"avg(Cancelled)\"] < 0.020), \"3\")\n",
    "    .when((df_origin_state[\"avg(Cancelled)\"] >= 0.020) & (df_origin_state[\"avg(Cancelled)\"] < 0.025), \"4\")\n",
    "    .when((df_origin_state[\"avg(Cancelled)\"] >= 0.025) & (df_origin_state[\"avg(Cancelled)\"] < 0.030), \"5\")\n",
    "    .when((df_origin_state[\"avg(Cancelled)\"] >= 0.030) & (df_origin_state[\"avg(Cancelled)\"] < 0.035), \"6\")\n",
    "    .when((df_origin_state[\"avg(Cancelled)\"] >= 0.035) & (df_origin_state[\"avg(Cancelled)\"] < 0.040), \"7\")\n",
    "    .otherwise(\"8\")\n",
    ")"
   ]
  },
  {
   "cell_type": "code",
   "execution_count": 93,
   "metadata": {},
   "outputs": [],
   "source": [
    "#df_origin_state.toPandas().to_csv(\"df_origin_state.csv\", header=True, index=False)"
   ]
  },
  {
   "cell_type": "code",
   "execution_count": 94,
   "metadata": {},
   "outputs": [],
   "source": [
    "df = df.join(other=df_origin_state,on=\"OriginStateName\",how=\"left\")"
   ]
  },
  {
   "cell_type": "markdown",
   "metadata": {},
   "source": [
    "Estado de destino"
   ]
  },
  {
   "cell_type": "code",
   "execution_count": 95,
   "metadata": {},
   "outputs": [],
   "source": [
    "df_dest_state = df.groupBy(\"DestStateName\").agg({\"Cancelled\" : \"avg\"}) \\\n",
    "    .sort(\"avg(Cancelled)\", ascending = False).persist(StorageLevel.DISK_ONLY)"
   ]
  },
  {
   "cell_type": "code",
   "execution_count": 96,
   "metadata": {},
   "outputs": [],
   "source": [
    "df_dest_state = df_dest_state.withColumn(\n",
    "    \"DestStateName_Grupo\", pysqlfun.when((df_dest_state[\"DestStateName\"] == \"Otros\"), \"0\")\n",
    "    .when((df_dest_state[\"avg(Cancelled)\"] < 0.01), \"1\")\n",
    "    .when((df_dest_state[\"avg(Cancelled)\"] >= 0.010) & (df_dest_state[\"avg(Cancelled)\"] < 0.015), \"2\")\n",
    "    .when((df_dest_state[\"avg(Cancelled)\"] >= 0.015) & (df_dest_state[\"avg(Cancelled)\"] < 0.020), \"3\")\n",
    "    .when((df_dest_state[\"avg(Cancelled)\"] >= 0.020) & (df_dest_state[\"avg(Cancelled)\"] < 0.025), \"4\")\n",
    "    .when((df_dest_state[\"avg(Cancelled)\"] >= 0.025) & (df_dest_state[\"avg(Cancelled)\"] < 0.030), \"5\")\n",
    "    .when((df_dest_state[\"avg(Cancelled)\"] >= 0.030) & (df_dest_state[\"avg(Cancelled)\"] < 0.035), \"6\")\n",
    "    .when((df_dest_state[\"avg(Cancelled)\"] >= 0.035) & (df_dest_state[\"avg(Cancelled)\"] < 0.040), \"7\")\n",
    "    .otherwise(\"8\")\n",
    ")"
   ]
  },
  {
   "cell_type": "code",
   "execution_count": 97,
   "metadata": {},
   "outputs": [],
   "source": [
    "#df_dest_state.toPandas().to_csv(\"df_dest_state.csv\", header=True, index=False)"
   ]
  },
  {
   "cell_type": "code",
   "execution_count": 98,
   "metadata": {},
   "outputs": [],
   "source": [
    "df = df.join(other=df_dest_state,on=\"DestStateName\",how=\"left\")"
   ]
  },
  {
   "cell_type": "code",
   "execution_count": 99,
   "metadata": {},
   "outputs": [],
   "source": [
    "df_seleccion = df.select([\"Cancelled\",\"Distance\",\"CRSDepTime\",\"CRSArrTime\",\n",
    "                          \"Year\",\"Month\",\"DayOfWeek\",\"DayofMonth\",\"Airline\",\n",
    "                          \"Tail_Number_Grupo\",\"origin_Grupo\",\"Dest_Grupo\",\n",
    "                          \"OriginStateName_Grupo\",\"DestStateName_Grupo\"])"
   ]
  },
  {
   "cell_type": "code",
   "execution_count": 100,
   "metadata": {},
   "outputs": [],
   "source": [
    "df_seleccion = df_seleccion.persist(StorageLevel.DISK_ONLY)"
   ]
  },
  {
   "cell_type": "code",
   "execution_count": 101,
   "metadata": {},
   "outputs": [],
   "source": [
    "indexer = pyml.feature.StringIndexer(\n",
    "    inputCols=[\"Airline\",\"Tail_Number_Grupo\",\"origin_Grupo\",\n",
    "               \"Dest_Grupo\",\"OriginStateName_Grupo\",\"DestStateName_Grupo\"],\n",
    "    outputCols=[\"Airline_indexado\",\"Tail_Number_indexado\",\"Origin_indexado\",\n",
    "                \"Dest_indexado\",\"OriginStateName_indexado\",\"DestStateName_indexado\"])"
   ]
  },
  {
   "cell_type": "code",
   "execution_count": 102,
   "metadata": {},
   "outputs": [],
   "source": [
    "#df_indexado = indexer.fit(df_seleccion) \\\n",
    "#    .transform(df_seleccion).persist(StorageLevel.DISK_ONLY)"
   ]
  },
  {
   "cell_type": "code",
   "execution_count": 103,
   "metadata": {},
   "outputs": [
    {
     "name": "stderr",
     "output_type": "stream",
     "text": [
      "                                                                                \r"
     ]
    }
   ],
   "source": [
    "indexer_2 = indexer.fit(df_seleccion)"
   ]
  },
  {
   "cell_type": "code",
   "execution_count": 104,
   "metadata": {},
   "outputs": [],
   "source": [
    "indexer_2.write().overwrite().save(\"indexer\")"
   ]
  },
  {
   "cell_type": "code",
   "execution_count": 105,
   "metadata": {},
   "outputs": [],
   "source": [
    "df_indexado = indexer_2 \\\n",
    "    .transform(df_seleccion).persist(StorageLevel.DISK_ONLY)"
   ]
  },
  {
   "cell_type": "code",
   "execution_count": 106,
   "metadata": {},
   "outputs": [],
   "source": [
    "assembler = pyml.feature.VectorAssembler(\n",
    "    inputCols=[\n",
    "        \"Distance\",\n",
    "        #\"CRSDepTime\",\n",
    "        #\"CRSArrTime\",\n",
    "        \"Year\",\n",
    "        \"Month\",\n",
    "        \"DayofMonth\",\n",
    "        \"DayOfWeek\",\n",
    "        \"Airline_indexado\",\n",
    "        \"Tail_Number_indexado\",\n",
    "        \"Origin_indexado\",\n",
    "        \"Dest_indexado\",\n",
    "        \"OriginStateName_indexado\",\n",
    "        \"DestStateName_indexado\"\n",
    "    ],\n",
    "    outputCol=\"features\"\n",
    ")"
   ]
  },
  {
   "cell_type": "code",
   "execution_count": 107,
   "metadata": {},
   "outputs": [],
   "source": [
    "df_with_features = assembler.transform(df_indexado)"
   ]
  },
  {
   "cell_type": "code",
   "execution_count": 108,
   "metadata": {},
   "outputs": [
    {
     "name": "stderr",
     "output_type": "stream",
     "text": [
      "[Stage 109:=======================================================(77 + 0) / 77]\r"
     ]
    },
    {
     "name": "stdout",
     "output_type": "stream",
     "text": [
      "+---------+--------+----------+----------+----+-----+---------+----------+--------------------+-----------------+------------+----------+---------------------+-------------------+----------------+--------------------+---------------+-------------+------------------------+----------------------+--------------------+\n",
      "|Cancelled|Distance|CRSDepTime|CRSArrTime|Year|Month|DayOfWeek|DayofMonth|             Airline|Tail_Number_Grupo|origin_Grupo|Dest_Grupo|OriginStateName_Grupo|DestStateName_Grupo|Airline_indexado|Tail_Number_indexado|Origin_indexado|Dest_indexado|OriginStateName_indexado|DestStateName_indexado|            features|\n",
      "+---------+--------+----------+----------+----+-----+---------+----------+--------------------+-----------------+------------+----------+---------------------+-------------------+----------------+--------------------+---------------+-------------+------------------------+----------------------+--------------------+\n",
      "|        0|   212.0|    1133.0|      1245|2022|    4|        1|         4|Commutair Aka Cha...|                3|           4|         8|                    5|                  5|            21.0|                 0.0|            4.0|          2.0|                     0.0|                   0.0|[212.0,2022.0,4.0...|\n",
      "|        0|   295.0|     732.0|       849|2022|    4|        1|         4|Commutair Aka Cha...|                3|           4|         7|                    5|                  6|            21.0|                 0.0|            4.0|          1.0|                     0.0|                   1.0|[295.0,2022.0,4.0...|\n",
      "|        0|   251.0|    1529.0|      1639|2022|    4|        1|         4|Commutair Aka Cha...|                3|           4|         8|                    5|                  5|            21.0|                 0.0|            4.0|          2.0|                     0.0|                   0.0|[251.0,2022.0,4.0...|\n",
      "+---------+--------+----------+----------+----+-----+---------+----------+--------------------+-----------------+------------+----------+---------------------+-------------------+----------------+--------------------+---------------+-------------+------------------------+----------------------+--------------------+\n",
      "only showing top 3 rows\n",
      "\n"
     ]
    },
    {
     "name": "stderr",
     "output_type": "stream",
     "text": [
      "                                                                                \r"
     ]
    }
   ],
   "source": [
    "df_with_features.show(3)"
   ]
  },
  {
   "cell_type": "code",
   "execution_count": 109,
   "metadata": {},
   "outputs": [],
   "source": [
    "train, test = df_with_features.randomSplit([0.8,0.2], seed = 42)"
   ]
  },
  {
   "cell_type": "code",
   "execution_count": 110,
   "metadata": {},
   "outputs": [],
   "source": [
    "train = train.persist(StorageLevel.DISK_ONLY)"
   ]
  },
  {
   "cell_type": "code",
   "execution_count": 111,
   "metadata": {},
   "outputs": [],
   "source": [
    "test = test.persist(StorageLevel.DISK_ONLY)"
   ]
  },
  {
   "cell_type": "code",
   "execution_count": 112,
   "metadata": {},
   "outputs": [
    {
     "name": "stderr",
     "output_type": "stream",
     "text": [
      "                                                                                \r"
     ]
    }
   ],
   "source": [
    "cantidad_total = train.count()"
   ]
  },
  {
   "cell_type": "code",
   "execution_count": 113,
   "metadata": {},
   "outputs": [
    {
     "name": "stderr",
     "output_type": "stream",
     "text": [
      "                                                                                \r"
     ]
    }
   ],
   "source": [
    "cantidad_cancelados = train.filter(train[\"Cancelled\"] == 1).count()"
   ]
  },
  {
   "cell_type": "code",
   "execution_count": 114,
   "metadata": {},
   "outputs": [
    {
     "name": "stdout",
     "output_type": "stream",
     "text": [
      "23351864 621004\n"
     ]
    }
   ],
   "source": [
    "print(cantidad_total, cantidad_cancelados)"
   ]
  },
  {
   "cell_type": "code",
   "execution_count": 115,
   "metadata": {},
   "outputs": [],
   "source": [
    "weight_cancelled = cantidad_total / (2 * cantidad_cancelados)\n",
    "\n",
    "weight_no_cancelled = cantidad_total / (2 * (cantidad_total - cantidad_cancelados))"
   ]
  },
  {
   "cell_type": "code",
   "execution_count": 116,
   "metadata": {},
   "outputs": [
    {
     "name": "stdout",
     "output_type": "stream",
     "text": [
      "18.801701760375135 0.5136599319163463\n"
     ]
    }
   ],
   "source": [
    "print(weight_cancelled, weight_no_cancelled)"
   ]
  },
  {
   "cell_type": "code",
   "execution_count": 117,
   "metadata": {},
   "outputs": [],
   "source": [
    "train = train.withColumn(\"weight\", pysqlfun.when(\n",
    "    train[\"Cancelled\"] == 1, weight_cancelled).otherwise(weight_no_cancelled))"
   ]
  },
  {
   "cell_type": "code",
   "execution_count": 118,
   "metadata": {},
   "outputs": [],
   "source": [
    "ml_class = pyml.classification.RandomForestClassifier(\n",
    "    featuresCol=\"features\",\n",
    "    labelCol=\"Cancelled\",\n",
    "    weightCol=\"weight\", seed= 255\n",
    ")"
   ]
  },
  {
   "cell_type": "code",
   "execution_count": 119,
   "metadata": {},
   "outputs": [
    {
     "name": "stderr",
     "output_type": "stream",
     "text": [
      "24/11/22 04:08:49 WARN MemoryStore: Not enough space to cache rdd_253_32 in memory! (computed 63.6 MiB so far)\n",
      "24/11/22 04:08:49 WARN BlockManager: Persisting block rdd_253_32 to disk instead.\n",
      "24/11/22 04:08:49 WARN MemoryStore: Not enough space to cache rdd_253_33 in memory! (computed 63.6 MiB so far)\n",
      "24/11/22 04:08:49 WARN BlockManager: Persisting block rdd_253_33 to disk instead.\n",
      "24/11/22 04:08:50 WARN MemoryStore: Not enough space to cache rdd_253_33 in memory! (computed 40.8 MiB so far)\n",
      "24/11/22 04:08:51 WARN MemoryStore: Not enough space to cache rdd_253_35 in memory! (computed 27.0 MiB so far)\n",
      "24/11/22 04:08:51 WARN BlockManager: Persisting block rdd_253_35 to disk instead.\n",
      "24/11/22 04:08:51 WARN MemoryStore: Not enough space to cache rdd_253_34 in memory! (computed 40.8 MiB so far)\n",
      "24/11/22 04:08:51 WARN BlockManager: Persisting block rdd_253_34 to disk instead.\n",
      "24/11/22 04:08:52 WARN MemoryStore: Not enough space to cache rdd_253_34 in memory! (computed 40.8 MiB so far)\n",
      "24/11/22 04:08:52 WARN MemoryStore: Not enough space to cache rdd_253_35 in memory! (computed 27.0 MiB so far)\n",
      "24/11/22 04:08:53 WARN MemoryStore: Not enough space to cache rdd_253_37 in memory! (computed 27.0 MiB so far)\n",
      "24/11/22 04:08:53 WARN BlockManager: Persisting block rdd_253_37 to disk instead.\n",
      "24/11/22 04:08:54 WARN MemoryStore: Not enough space to cache rdd_253_36 in memory! (computed 40.8 MiB so far)\n",
      "24/11/22 04:08:54 WARN BlockManager: Persisting block rdd_253_36 to disk instead.\n",
      "24/11/22 04:08:55 WARN MemoryStore: Not enough space to cache rdd_253_37 in memory! (computed 27.0 MiB so far)\n",
      "24/11/22 04:08:55 WARN MemoryStore: Not enough space to cache rdd_253_36 in memory! (computed 40.8 MiB so far)\n",
      "24/11/22 04:08:56 WARN MemoryStore: Not enough space to cache rdd_253_38 in memory! (computed 27.0 MiB so far)\n",
      "24/11/22 04:08:56 WARN BlockManager: Persisting block rdd_253_38 to disk instead.\n",
      "24/11/22 04:08:56 WARN MemoryStore: Not enough space to cache rdd_253_39 in memory! (computed 63.6 MiB so far)\n",
      "24/11/22 04:08:56 WARN BlockManager: Persisting block rdd_253_39 to disk instead.\n",
      "24/11/22 04:08:57 WARN MemoryStore: Not enough space to cache rdd_253_39 in memory! (computed 40.8 MiB so far)\n",
      "24/11/22 04:08:57 WARN MemoryStore: Not enough space to cache rdd_253_38 in memory! (computed 27.0 MiB so far)\n",
      "24/11/22 04:08:58 WARN MemoryStore: Not enough space to cache rdd_253_41 in memory! (computed 27.0 MiB so far)\n",
      "24/11/22 04:08:58 WARN BlockManager: Persisting block rdd_253_41 to disk instead.\n",
      "24/11/22 04:08:58 WARN MemoryStore: Not enough space to cache rdd_253_40 in memory! (computed 40.8 MiB so far)\n",
      "24/11/22 04:08:58 WARN BlockManager: Persisting block rdd_253_40 to disk instead.\n",
      "24/11/22 04:09:00 WARN MemoryStore: Not enough space to cache rdd_253_40 in memory! (computed 40.8 MiB so far)\n",
      "24/11/22 04:09:00 WARN MemoryStore: Not enough space to cache rdd_253_41 in memory! (computed 27.0 MiB so far)\n",
      "24/11/22 04:09:01 WARN MemoryStore: Not enough space to cache rdd_253_43 in memory! (computed 27.0 MiB so far)\n",
      "24/11/22 04:09:01 WARN BlockManager: Persisting block rdd_253_43 to disk instead.\n",
      "24/11/22 04:09:01 WARN MemoryStore: Not enough space to cache rdd_253_42 in memory! (computed 40.8 MiB so far)\n",
      "24/11/22 04:09:01 WARN BlockManager: Persisting block rdd_253_42 to disk instead.\n",
      "24/11/22 04:09:02 WARN MemoryStore: Not enough space to cache rdd_253_42 in memory! (computed 27.0 MiB so far)\n",
      "24/11/22 04:09:02 WARN MemoryStore: Not enough space to cache rdd_253_43 in memory! (computed 40.8 MiB so far)\n",
      "24/11/22 04:09:03 WARN MemoryStore: Not enough space to cache rdd_253_44 in memory! (computed 27.0 MiB so far)\n",
      "24/11/22 04:09:03 WARN BlockManager: Persisting block rdd_253_44 to disk instead.\n",
      "24/11/22 04:09:04 WARN MemoryStore: Not enough space to cache rdd_253_45 in memory! (computed 63.6 MiB so far)\n",
      "24/11/22 04:09:04 WARN BlockManager: Persisting block rdd_253_45 to disk instead.\n",
      "24/11/22 04:09:05 WARN MemoryStore: Not enough space to cache rdd_253_44 in memory! (computed 27.0 MiB so far)\n",
      "24/11/22 04:09:05 WARN MemoryStore: Not enough space to cache rdd_253_45 in memory! (computed 40.8 MiB so far)\n",
      "24/11/22 04:09:06 WARN MemoryStore: Not enough space to cache rdd_253_46 in memory! (computed 27.0 MiB so far)\n",
      "24/11/22 04:09:06 WARN BlockManager: Persisting block rdd_253_46 to disk instead.\n",
      "24/11/22 04:09:06 WARN MemoryStore: Not enough space to cache rdd_253_47 in memory! (computed 63.6 MiB so far)\n",
      "24/11/22 04:09:06 WARN BlockManager: Persisting block rdd_253_47 to disk instead.\n",
      "24/11/22 04:09:07 WARN MemoryStore: Not enough space to cache rdd_253_47 in memory! (computed 27.0 MiB so far)\n",
      "24/11/22 04:09:07 WARN MemoryStore: Not enough space to cache rdd_253_46 in memory! (computed 40.8 MiB so far)\n",
      "24/11/22 04:09:08 WARN MemoryStore: Not enough space to cache rdd_253_48 in memory! (computed 27.0 MiB so far)\n",
      "24/11/22 04:09:08 WARN BlockManager: Persisting block rdd_253_48 to disk instead.\n",
      "24/11/22 04:09:08 WARN MemoryStore: Not enough space to cache rdd_253_49 in memory! (computed 63.6 MiB so far)\n",
      "24/11/22 04:09:08 WARN BlockManager: Persisting block rdd_253_49 to disk instead.\n",
      "24/11/22 04:09:09 WARN MemoryStore: Not enough space to cache rdd_253_48 in memory! (computed 27.0 MiB so far)\n",
      "24/11/22 04:09:09 WARN MemoryStore: Not enough space to cache rdd_253_49 in memory! (computed 40.8 MiB so far)\n",
      "24/11/22 04:09:12 WARN MemoryStore: Not enough space to cache rdd_253_51 in memory! (computed 27.0 MiB so far)\n",
      "24/11/22 04:09:12 WARN BlockManager: Persisting block rdd_253_51 to disk instead.\n",
      "24/11/22 04:09:12 WARN MemoryStore: Not enough space to cache rdd_253_50 in memory! (computed 40.8 MiB so far)\n",
      "24/11/22 04:09:12 WARN BlockManager: Persisting block rdd_253_50 to disk instead.\n",
      "24/11/22 04:09:13 WARN MemoryStore: Not enough space to cache rdd_253_50 in memory! (computed 40.8 MiB so far)\n",
      "24/11/22 04:09:13 WARN MemoryStore: Not enough space to cache rdd_253_51 in memory! (computed 27.0 MiB so far)\n",
      "24/11/22 04:09:14 WARN MemoryStore: Not enough space to cache rdd_253_53 in memory! (computed 27.0 MiB so far)\n",
      "24/11/22 04:09:14 WARN BlockManager: Persisting block rdd_253_53 to disk instead.\n",
      "24/11/22 04:09:15 WARN MemoryStore: Not enough space to cache rdd_253_52 in memory! (computed 63.6 MiB so far)\n",
      "24/11/22 04:09:15 WARN BlockManager: Persisting block rdd_253_52 to disk instead.\n",
      "24/11/22 04:09:18 WARN MemoryStore: Not enough space to cache rdd_253_52 in memory! (computed 40.8 MiB so far)\n",
      "24/11/22 04:09:18 WARN MemoryStore: Not enough space to cache rdd_253_53 in memory! (computed 27.0 MiB so far)\n",
      "24/11/22 04:09:20 WARN MemoryStore: Not enough space to cache rdd_253_54 in memory! (computed 40.8 MiB so far)\n",
      "24/11/22 04:09:20 WARN BlockManager: Persisting block rdd_253_54 to disk instead.\n",
      "24/11/22 04:09:20 WARN MemoryStore: Not enough space to cache rdd_253_55 in memory! (computed 27.0 MiB so far)\n",
      "24/11/22 04:09:20 WARN BlockManager: Persisting block rdd_253_55 to disk instead.\n",
      "24/11/22 04:09:22 WARN MemoryStore: Not enough space to cache rdd_253_54 in memory! (computed 63.6 MiB so far)\n",
      "24/11/22 04:09:22 WARN MemoryStore: Not enough space to cache rdd_253_55 in memory! (computed 7.9 MiB so far)\n",
      "24/11/22 04:09:23 WARN MemoryStore: Not enough space to cache rdd_253_56 in memory! (computed 40.8 MiB so far)\n",
      "24/11/22 04:09:23 WARN BlockManager: Persisting block rdd_253_56 to disk instead.\n",
      "24/11/22 04:09:24 WARN MemoryStore: Not enough space to cache rdd_253_57 in memory! (computed 63.6 MiB so far)\n",
      "24/11/22 04:09:24 WARN BlockManager: Persisting block rdd_253_57 to disk instead.\n",
      "24/11/22 04:09:24 WARN MemoryStore: Not enough space to cache rdd_253_56 in memory! (computed 7.9 MiB so far)\n",
      "24/11/22 04:09:24 WARN MemoryStore: Not enough space to cache rdd_253_57 in memory! (computed 63.6 MiB so far)\n",
      "24/11/22 04:09:25 WARN MemoryStore: Not enough space to cache rdd_253_58 in memory! (computed 7.9 MiB so far)\n",
      "24/11/22 04:09:25 WARN BlockManager: Persisting block rdd_253_58 to disk instead.\n",
      "24/11/22 04:09:26 WARN MemoryStore: Not enough space to cache rdd_253_59 in memory! (computed 63.6 MiB so far)\n",
      "24/11/22 04:09:26 WARN BlockManager: Persisting block rdd_253_59 to disk instead.\n",
      "24/11/22 04:09:26 WARN MemoryStore: Not enough space to cache rdd_253_58 in memory! (computed 7.9 MiB so far)\n",
      "24/11/22 04:09:27 WARN MemoryStore: Not enough space to cache rdd_253_59 in memory! (computed 63.6 MiB so far)\n",
      "24/11/22 04:09:28 WARN MemoryStore: Not enough space to cache rdd_253_60 in memory! (computed 7.9 MiB so far)\n",
      "24/11/22 04:09:28 WARN BlockManager: Persisting block rdd_253_60 to disk instead.\n",
      "24/11/22 04:09:29 WARN MemoryStore: Not enough space to cache rdd_253_61 in memory! (computed 63.6 MiB so far)\n",
      "24/11/22 04:09:29 WARN BlockManager: Persisting block rdd_253_61 to disk instead.\n",
      "24/11/22 04:09:30 WARN MemoryStore: Not enough space to cache rdd_253_60 in memory! (computed 63.6 MiB so far)\n",
      "24/11/22 04:09:30 WARN MemoryStore: Not enough space to cache rdd_253_61 in memory! (computed 7.9 MiB so far)\n",
      "24/11/22 04:09:31 WARN MemoryStore: Not enough space to cache rdd_253_62 in memory! (computed 40.8 MiB so far)\n",
      "24/11/22 04:09:31 WARN BlockManager: Persisting block rdd_253_62 to disk instead.\n",
      "24/11/22 04:09:31 WARN MemoryStore: Not enough space to cache rdd_253_63 in memory! (computed 27.0 MiB so far)\n",
      "24/11/22 04:09:31 WARN BlockManager: Persisting block rdd_253_63 to disk instead.\n",
      "24/11/22 04:09:33 WARN MemoryStore: Not enough space to cache rdd_253_63 in memory! (computed 27.0 MiB so far)\n",
      "24/11/22 04:09:33 WARN MemoryStore: Not enough space to cache rdd_253_62 in memory! (computed 40.8 MiB so far)\n",
      "24/11/22 04:09:35 WARN MemoryStore: Not enough space to cache rdd_253_65 in memory! (computed 27.0 MiB so far)\n",
      "24/11/22 04:09:35 WARN BlockManager: Persisting block rdd_253_65 to disk instead.\n",
      "24/11/22 04:09:35 WARN MemoryStore: Not enough space to cache rdd_253_64 in memory! (computed 63.6 MiB so far)\n",
      "24/11/22 04:09:35 WARN BlockManager: Persisting block rdd_253_64 to disk instead.\n",
      "24/11/22 04:09:36 WARN MemoryStore: Not enough space to cache rdd_253_65 in memory! (computed 27.0 MiB so far)\n",
      "24/11/22 04:09:36 WARN MemoryStore: Not enough space to cache rdd_253_64 in memory! (computed 40.8 MiB so far)\n",
      "24/11/22 04:09:37 WARN MemoryStore: Not enough space to cache rdd_253_66 in memory! (computed 27.0 MiB so far)\n",
      "24/11/22 04:09:37 WARN BlockManager: Persisting block rdd_253_66 to disk instead.\n",
      "24/11/22 04:09:37 WARN MemoryStore: Not enough space to cache rdd_253_67 in memory! (computed 40.8 MiB so far)\n",
      "24/11/22 04:09:37 WARN BlockManager: Persisting block rdd_253_67 to disk instead.\n",
      "24/11/22 04:09:39 WARN MemoryStore: Not enough space to cache rdd_253_66 in memory! (computed 27.0 MiB so far)\n",
      "24/11/22 04:09:39 WARN MemoryStore: Not enough space to cache rdd_253_67 in memory! (computed 40.8 MiB so far)\n",
      "24/11/22 04:09:40 WARN MemoryStore: Not enough space to cache rdd_253_69 in memory! (computed 27.0 MiB so far)\n",
      "24/11/22 04:09:40 WARN BlockManager: Persisting block rdd_253_69 to disk instead.\n",
      "24/11/22 04:09:40 WARN MemoryStore: Not enough space to cache rdd_253_68 in memory! (computed 63.6 MiB so far)\n",
      "24/11/22 04:09:40 WARN BlockManager: Persisting block rdd_253_68 to disk instead.\n",
      "24/11/22 04:09:41 WARN MemoryStore: Not enough space to cache rdd_253_69 in memory! (computed 27.0 MiB so far)\n",
      "24/11/22 04:09:41 WARN MemoryStore: Not enough space to cache rdd_253_68 in memory! (computed 40.8 MiB so far)\n",
      "24/11/22 04:09:43 WARN MemoryStore: Not enough space to cache rdd_253_71 in memory! (computed 27.0 MiB so far)\n",
      "24/11/22 04:09:43 WARN BlockManager: Persisting block rdd_253_71 to disk instead.\n",
      "24/11/22 04:09:43 WARN MemoryStore: Not enough space to cache rdd_253_70 in memory! (computed 40.8 MiB so far)\n",
      "24/11/22 04:09:43 WARN BlockManager: Persisting block rdd_253_70 to disk instead.\n",
      "24/11/22 04:09:45 WARN MemoryStore: Not enough space to cache rdd_253_71 in memory! (computed 7.9 MiB so far)\n",
      "24/11/22 04:09:45 WARN MemoryStore: Not enough space to cache rdd_253_70 in memory! (computed 63.6 MiB so far)\n",
      "24/11/22 04:09:46 WARN MemoryStore: Not enough space to cache rdd_253_72 in memory! (computed 40.8 MiB so far)\n",
      "24/11/22 04:09:46 WARN BlockManager: Persisting block rdd_253_72 to disk instead.\n",
      "24/11/22 04:09:46 WARN MemoryStore: Not enough space to cache rdd_253_73 in memory! (computed 27.0 MiB so far)\n",
      "24/11/22 04:09:46 WARN BlockManager: Persisting block rdd_253_73 to disk instead.\n",
      "24/11/22 04:09:47 WARN MemoryStore: Not enough space to cache rdd_253_72 in memory! (computed 40.8 MiB so far)\n",
      "24/11/22 04:09:47 WARN MemoryStore: Not enough space to cache rdd_253_73 in memory! (computed 27.0 MiB so far)\n",
      "24/11/22 04:09:48 WARN MemoryStore: Not enough space to cache rdd_253_75 in memory! (computed 27.0 MiB so far)\n",
      "24/11/22 04:09:48 WARN BlockManager: Persisting block rdd_253_75 to disk instead.\n",
      "24/11/22 04:09:48 WARN MemoryStore: Not enough space to cache rdd_253_74 in memory! (computed 40.8 MiB so far)\n",
      "24/11/22 04:09:48 WARN BlockManager: Persisting block rdd_253_74 to disk instead.\n",
      "24/11/22 04:09:49 WARN MemoryStore: Not enough space to cache rdd_253_74 in memory! (computed 27.0 MiB so far)\n",
      "24/11/22 04:09:49 WARN MemoryStore: Not enough space to cache rdd_253_76 in memory! (computed 5.3 MiB so far)\n",
      "24/11/22 04:09:49 WARN BlockManager: Persisting block rdd_253_76 to disk instead.\n",
      "24/11/22 04:09:50 WARN MemoryStore: Not enough space to cache rdd_253_76 in memory! (computed 27.0 MiB so far)\n",
      "24/11/22 04:10:04 WARN MemoryStore: Not enough space to cache rdd_253_33 in memory! (computed 27.0 MiB so far)\n",
      "24/11/22 04:10:04 WARN MemoryStore: Not enough space to cache rdd_253_34 in memory! (computed 5.3 MiB so far)\n",
      "24/11/22 04:10:05 WARN MemoryStore: Not enough space to cache rdd_253_35 in memory! (computed 27.0 MiB so far)\n",
      "24/11/22 04:10:06 WARN MemoryStore: Not enough space to cache rdd_253_36 in memory! (computed 5.3 MiB so far)\n",
      "24/11/22 04:10:07 WARN MemoryStore: Not enough space to cache rdd_253_37 in memory! (computed 18.0 MiB so far)\n",
      "24/11/22 04:10:07 WARN MemoryStore: Not enough space to cache rdd_253_38 in memory! (computed 12.0 MiB so far)\n",
      "24/11/22 04:10:09 WARN MemoryStore: Not enough space to cache rdd_253_40 in memory! (computed 5.3 MiB so far)\n",
      "24/11/22 04:10:09 WARN MemoryStore: Not enough space to cache rdd_253_39 in memory! (computed 27.0 MiB so far)\n",
      "24/11/22 04:10:11 WARN MemoryStore: Not enough space to cache rdd_253_42 in memory! (computed 5.3 MiB so far)\n",
      "24/11/22 04:10:11 WARN MemoryStore: Not enough space to cache rdd_253_41 in memory! (computed 27.0 MiB so far)\n",
      "24/11/22 04:10:12 WARN MemoryStore: Not enough space to cache rdd_253_43 in memory! (computed 27.0 MiB so far)\n",
      "24/11/22 04:10:12 WARN MemoryStore: Not enough space to cache rdd_253_44 in memory! (computed 5.3 MiB so far)\n",
      "24/11/22 04:10:14 WARN MemoryStore: Not enough space to cache rdd_253_45 in memory! (computed 27.0 MiB so far)\n",
      "24/11/22 04:10:14 WARN MemoryStore: Not enough space to cache rdd_253_46 in memory! (computed 5.3 MiB so far)\n",
      "24/11/22 04:10:17 WARN MemoryStore: Not enough space to cache rdd_253_48 in memory! (computed 5.3 MiB so far)\n",
      "24/11/22 04:10:17 WARN MemoryStore: Not enough space to cache rdd_253_47 in memory! (computed 27.0 MiB so far)\n",
      "24/11/22 04:10:18 WARN MemoryStore: Not enough space to cache rdd_253_49 in memory! (computed 27.0 MiB so far)\n",
      "24/11/22 04:10:18 WARN MemoryStore: Not enough space to cache rdd_253_50 in memory! (computed 5.3 MiB so far)\n",
      "24/11/22 04:10:19 WARN MemoryStore: Not enough space to cache rdd_253_51 in memory! (computed 27.0 MiB so far)\n",
      "24/11/22 04:10:19 WARN MemoryStore: Not enough space to cache rdd_253_52 in memory! (computed 5.3 MiB so far)\n",
      "24/11/22 04:10:20 WARN MemoryStore: Not enough space to cache rdd_253_53 in memory! (computed 18.0 MiB so far)\n",
      "24/11/22 04:10:21 WARN MemoryStore: Not enough space to cache rdd_253_54 in memory! (computed 12.0 MiB so far)\n",
      "24/11/22 04:10:22 WARN MemoryStore: Not enough space to cache rdd_253_56 in memory! (computed 5.3 MiB so far)\n",
      "24/11/22 04:10:22 WARN MemoryStore: Not enough space to cache rdd_253_55 in memory! (computed 27.0 MiB so far)\n",
      "24/11/22 04:10:24 WARN MemoryStore: Not enough space to cache rdd_253_57 in memory! (computed 27.0 MiB so far)\n",
      "24/11/22 04:10:24 WARN MemoryStore: Not enough space to cache rdd_253_58 in memory! (computed 5.3 MiB so far)\n",
      "24/11/22 04:10:25 WARN MemoryStore: Not enough space to cache rdd_253_59 in memory! (computed 27.0 MiB so far)\n",
      "24/11/22 04:10:25 WARN MemoryStore: Not enough space to cache rdd_253_60 in memory! (computed 5.3 MiB so far)\n",
      "24/11/22 04:10:26 WARN MemoryStore: Not enough space to cache rdd_253_61 in memory! (computed 27.0 MiB so far)\n",
      "24/11/22 04:10:26 WARN MemoryStore: Not enough space to cache rdd_253_62 in memory! (computed 5.3 MiB so far)\n",
      "24/11/22 04:10:28 WARN MemoryStore: Not enough space to cache rdd_253_63 in memory! (computed 27.0 MiB so far)\n",
      "24/11/22 04:10:28 WARN MemoryStore: Not enough space to cache rdd_253_64 in memory! (computed 5.3 MiB so far)\n",
      "24/11/22 04:10:29 WARN MemoryStore: Not enough space to cache rdd_253_65 in memory! (computed 27.0 MiB so far)\n",
      "24/11/22 04:10:29 WARN MemoryStore: Not enough space to cache rdd_253_66 in memory! (computed 5.3 MiB so far)\n",
      "24/11/22 04:10:30 WARN MemoryStore: Not enough space to cache rdd_253_67 in memory! (computed 27.0 MiB so far)\n",
      "24/11/22 04:10:30 WARN MemoryStore: Not enough space to cache rdd_253_68 in memory! (computed 5.3 MiB so far)\n",
      "24/11/22 04:10:32 WARN MemoryStore: Not enough space to cache rdd_253_69 in memory! (computed 27.0 MiB so far)\n",
      "24/11/22 04:10:32 WARN MemoryStore: Not enough space to cache rdd_253_70 in memory! (computed 5.3 MiB so far)\n",
      "24/11/22 04:10:34 WARN MemoryStore: Not enough space to cache rdd_253_71 in memory! (computed 27.0 MiB so far)\n",
      "24/11/22 04:10:34 WARN MemoryStore: Not enough space to cache rdd_253_72 in memory! (computed 5.3 MiB so far)\n",
      "24/11/22 04:10:35 WARN MemoryStore: Not enough space to cache rdd_253_73 in memory! (computed 27.0 MiB so far)\n",
      "24/11/22 04:10:35 WARN MemoryStore: Not enough space to cache rdd_253_74 in memory! (computed 5.3 MiB so far)\n",
      "24/11/22 04:10:36 WARN MemoryStore: Not enough space to cache rdd_253_76 in memory! (computed 27.0 MiB so far)\n",
      "24/11/22 04:10:57 WARN MemoryStore: Not enough space to cache rdd_253_33 in memory! (computed 27.0 MiB so far)\n",
      "24/11/22 04:10:58 WARN MemoryStore: Not enough space to cache rdd_253_34 in memory! (computed 27.0 MiB so far)\n",
      "24/11/22 04:10:58 WARN MemoryStore: Not enough space to cache rdd_253_35 in memory! (computed 5.3 MiB so far)\n",
      "24/11/22 04:11:01 WARN MemoryStore: Not enough space to cache rdd_253_36 in memory! (computed 27.0 MiB so far)\n",
      "24/11/22 04:11:01 WARN MemoryStore: Not enough space to cache rdd_253_37 in memory! (computed 27.0 MiB so far)\n",
      "24/11/22 04:11:02 WARN MemoryStore: Not enough space to cache rdd_253_38 in memory! (computed 27.0 MiB so far)\n",
      "24/11/22 04:11:03 WARN MemoryStore: Not enough space to cache rdd_253_39 in memory! (computed 27.0 MiB so far)\n",
      "24/11/22 04:11:04 WARN MemoryStore: Not enough space to cache rdd_253_40 in memory! (computed 27.0 MiB so far)\n",
      "24/11/22 04:11:05 WARN MemoryStore: Not enough space to cache rdd_253_41 in memory! (computed 5.3 MiB so far)\n",
      "24/11/22 04:11:06 WARN MemoryStore: Not enough space to cache rdd_253_42 in memory! (computed 27.0 MiB so far)\n",
      "24/11/22 04:11:07 WARN MemoryStore: Not enough space to cache rdd_253_43 in memory! (computed 5.3 MiB so far)\n",
      "24/11/22 04:11:08 WARN MemoryStore: Not enough space to cache rdd_253_44 in memory! (computed 27.0 MiB so far)\n",
      "24/11/22 04:11:09 WARN MemoryStore: Not enough space to cache rdd_253_45 in memory! (computed 5.3 MiB so far)\n",
      "24/11/22 04:11:10 WARN MemoryStore: Not enough space to cache rdd_253_46 in memory! (computed 27.0 MiB so far)\n",
      "24/11/22 04:11:10 WARN MemoryStore: Not enough space to cache rdd_253_47 in memory! (computed 5.3 MiB so far)\n",
      "24/11/22 04:11:12 WARN MemoryStore: Not enough space to cache rdd_253_48 in memory! (computed 27.0 MiB so far)\n",
      "24/11/22 04:11:13 WARN MemoryStore: Not enough space to cache rdd_253_49 in memory! (computed 27.0 MiB so far)\n",
      "24/11/22 04:11:15 WARN MemoryStore: Not enough space to cache rdd_253_50 in memory! (computed 27.0 MiB so far)\n",
      "24/11/22 04:11:15 WARN MemoryStore: Not enough space to cache rdd_253_51 in memory! (computed 27.0 MiB so far)\n",
      "24/11/22 04:11:16 WARN MemoryStore: Not enough space to cache rdd_253_52 in memory! (computed 27.0 MiB so far)\n",
      "24/11/22 04:11:17 WARN MemoryStore: Not enough space to cache rdd_253_53 in memory! (computed 27.0 MiB so far)\n",
      "24/11/22 04:11:18 WARN MemoryStore: Not enough space to cache rdd_253_54 in memory! (computed 5.3 MiB so far)\n",
      "24/11/22 04:11:19 WARN MemoryStore: Not enough space to cache rdd_253_55 in memory! (computed 27.0 MiB so far)\n",
      "24/11/22 04:11:20 WARN MemoryStore: Not enough space to cache rdd_253_56 in memory! (computed 5.3 MiB so far)\n",
      "24/11/22 04:11:21 WARN MemoryStore: Not enough space to cache rdd_253_57 in memory! (computed 27.0 MiB so far)\n",
      "24/11/22 04:11:22 WARN MemoryStore: Not enough space to cache rdd_253_58 in memory! (computed 5.3 MiB so far)\n",
      "24/11/22 04:11:23 WARN MemoryStore: Not enough space to cache rdd_253_59 in memory! (computed 27.0 MiB so far)\n",
      "24/11/22 04:11:23 WARN MemoryStore: Not enough space to cache rdd_253_60 in memory! (computed 5.3 MiB so far)\n",
      "24/11/22 04:11:24 WARN MemoryStore: Not enough space to cache rdd_253_61 in memory! (computed 27.0 MiB so far)\n",
      "24/11/22 04:11:25 WARN MemoryStore: Not enough space to cache rdd_253_62 in memory! (computed 5.3 MiB so far)\n",
      "24/11/22 04:11:27 WARN MemoryStore: Not enough space to cache rdd_253_63 in memory! (computed 27.0 MiB so far)\n",
      "24/11/22 04:11:27 WARN MemoryStore: Not enough space to cache rdd_253_64 in memory! (computed 5.3 MiB so far)\n",
      "24/11/22 04:11:28 WARN MemoryStore: Not enough space to cache rdd_253_65 in memory! (computed 27.0 MiB so far)\n",
      "24/11/22 04:11:29 WARN MemoryStore: Not enough space to cache rdd_253_66 in memory! (computed 5.3 MiB so far)\n",
      "24/11/22 04:11:30 WARN MemoryStore: Not enough space to cache rdd_253_67 in memory! (computed 27.0 MiB so far)\n",
      "24/11/22 04:11:31 WARN MemoryStore: Not enough space to cache rdd_253_68 in memory! (computed 27.0 MiB so far)\n",
      "24/11/22 04:11:33 WARN MemoryStore: Not enough space to cache rdd_253_69 in memory! (computed 27.0 MiB so far)\n",
      "24/11/22 04:11:34 WARN MemoryStore: Not enough space to cache rdd_253_70 in memory! (computed 27.0 MiB so far)\n",
      "24/11/22 04:11:35 WARN MemoryStore: Not enough space to cache rdd_253_71 in memory! (computed 27.0 MiB so far)\n",
      "24/11/22 04:11:35 WARN MemoryStore: Not enough space to cache rdd_253_72 in memory! (computed 5.3 MiB so far)\n",
      "24/11/22 04:11:37 WARN MemoryStore: Not enough space to cache rdd_253_73 in memory! (computed 27.0 MiB so far)\n",
      "24/11/22 04:11:37 WARN MemoryStore: Not enough space to cache rdd_253_74 in memory! (computed 27.0 MiB so far)\n",
      "24/11/22 04:11:39 WARN MemoryStore: Not enough space to cache rdd_253_76 in memory! (computed 27.0 MiB so far)\n",
      "24/11/22 04:12:04 WARN MemoryStore: Not enough space to cache rdd_253_33 in memory! (computed 27.0 MiB so far)\n",
      "24/11/22 04:12:04 WARN MemoryStore: Not enough space to cache rdd_253_34 in memory! (computed 5.3 MiB so far)\n",
      "24/11/22 04:12:06 WARN MemoryStore: Not enough space to cache rdd_253_35 in memory! (computed 27.0 MiB so far)\n",
      "24/11/22 04:12:06 WARN MemoryStore: Not enough space to cache rdd_253_36 in memory! (computed 5.3 MiB so far)\n",
      "24/11/22 04:12:08 WARN MemoryStore: Not enough space to cache rdd_253_37 in memory! (computed 27.0 MiB so far)\n",
      "24/11/22 04:12:08 WARN MemoryStore: Not enough space to cache rdd_253_38 in memory! (computed 5.3 MiB so far)\n",
      "24/11/22 04:12:10 WARN MemoryStore: Not enough space to cache rdd_253_39 in memory! (computed 27.0 MiB so far)\n",
      "24/11/22 04:12:10 WARN MemoryStore: Not enough space to cache rdd_253_40 in memory! (computed 5.3 MiB so far)\n",
      "24/11/22 04:12:12 WARN MemoryStore: Not enough space to cache rdd_253_41 in memory! (computed 27.0 MiB so far)\n",
      "24/11/22 04:12:12 WARN MemoryStore: Not enough space to cache rdd_253_42 in memory! (computed 5.3 MiB so far)\n",
      "24/11/22 04:12:14 WARN MemoryStore: Not enough space to cache rdd_253_43 in memory! (computed 27.0 MiB so far)\n",
      "24/11/22 04:12:14 WARN MemoryStore: Not enough space to cache rdd_253_44 in memory! (computed 5.3 MiB so far)\n",
      "24/11/22 04:12:16 WARN MemoryStore: Not enough space to cache rdd_253_45 in memory! (computed 27.0 MiB so far)\n",
      "24/11/22 04:12:16 WARN MemoryStore: Not enough space to cache rdd_253_46 in memory! (computed 5.3 MiB so far)\n",
      "24/11/22 04:12:18 WARN MemoryStore: Not enough space to cache rdd_253_47 in memory! (computed 27.0 MiB so far)\n",
      "24/11/22 04:12:18 WARN MemoryStore: Not enough space to cache rdd_253_48 in memory! (computed 5.3 MiB so far)\n",
      "24/11/22 04:12:21 WARN MemoryStore: Not enough space to cache rdd_253_49 in memory! (computed 27.0 MiB so far)\n",
      "24/11/22 04:12:21 WARN MemoryStore: Not enough space to cache rdd_253_50 in memory! (computed 5.3 MiB so far)\n",
      "24/11/22 04:12:24 WARN MemoryStore: Not enough space to cache rdd_253_51 in memory! (computed 27.0 MiB so far)\n",
      "24/11/22 04:12:24 WARN MemoryStore: Not enough space to cache rdd_253_52 in memory! (computed 5.3 MiB so far)\n",
      "24/11/22 04:12:26 WARN MemoryStore: Not enough space to cache rdd_253_53 in memory! (computed 27.0 MiB so far)\n",
      "24/11/22 04:12:27 WARN MemoryStore: Not enough space to cache rdd_253_54 in memory! (computed 5.3 MiB so far)\n",
      "24/11/22 04:12:29 WARN MemoryStore: Not enough space to cache rdd_253_55 in memory! (computed 27.0 MiB so far)\n",
      "24/11/22 04:12:31 WARN MemoryStore: Not enough space to cache rdd_253_56 in memory! (computed 27.0 MiB so far)\n",
      "24/11/22 04:12:32 WARN MemoryStore: Not enough space to cache rdd_253_57 in memory! (computed 27.0 MiB so far)\n",
      "24/11/22 04:12:33 WARN MemoryStore: Not enough space to cache rdd_253_58 in memory! (computed 27.0 MiB so far)\n",
      "24/11/22 04:12:34 WARN MemoryStore: Not enough space to cache rdd_253_59 in memory! (computed 27.0 MiB so far)\n",
      "24/11/22 04:12:35 WARN MemoryStore: Not enough space to cache rdd_253_60 in memory! (computed 27.0 MiB so far)\n",
      "24/11/22 04:12:36 WARN MemoryStore: Not enough space to cache rdd_253_61 in memory! (computed 27.0 MiB so far)\n",
      "24/11/22 04:12:37 WARN MemoryStore: Not enough space to cache rdd_253_62 in memory! (computed 27.0 MiB so far)\n",
      "24/11/22 04:12:38 WARN MemoryStore: Not enough space to cache rdd_253_63 in memory! (computed 27.0 MiB so far)\n",
      "24/11/22 04:12:39 WARN MemoryStore: Not enough space to cache rdd_253_64 in memory! (computed 27.0 MiB so far)\n",
      "24/11/22 04:12:40 WARN MemoryStore: Not enough space to cache rdd_253_65 in memory! (computed 27.0 MiB so far)\n",
      "24/11/22 04:12:41 WARN MemoryStore: Not enough space to cache rdd_253_66 in memory! (computed 27.0 MiB so far)\n",
      "24/11/22 04:12:42 WARN MemoryStore: Not enough space to cache rdd_253_67 in memory! (computed 27.0 MiB so far)\n",
      "24/11/22 04:12:44 WARN MemoryStore: Not enough space to cache rdd_253_68 in memory! (computed 27.0 MiB so far)\n",
      "24/11/22 04:12:45 WARN MemoryStore: Not enough space to cache rdd_253_69 in memory! (computed 27.0 MiB so far)\n",
      "24/11/22 04:12:46 WARN MemoryStore: Not enough space to cache rdd_253_70 in memory! (computed 27.0 MiB so far)\n",
      "24/11/22 04:12:47 WARN MemoryStore: Not enough space to cache rdd_253_71 in memory! (computed 27.0 MiB so far)\n",
      "24/11/22 04:12:48 WARN MemoryStore: Not enough space to cache rdd_253_72 in memory! (computed 27.0 MiB so far)\n",
      "24/11/22 04:12:49 WARN MemoryStore: Not enough space to cache rdd_253_73 in memory! (computed 27.0 MiB so far)\n",
      "24/11/22 04:12:51 WARN MemoryStore: Not enough space to cache rdd_253_74 in memory! (computed 27.0 MiB so far)\n",
      "24/11/22 04:12:52 WARN MemoryStore: Not enough space to cache rdd_253_76 in memory! (computed 27.0 MiB so far)\n",
      "24/11/22 04:13:21 WARN MemoryStore: Not enough space to cache rdd_253_33 in memory! (computed 27.0 MiB so far)\n",
      "24/11/22 04:13:23 WARN MemoryStore: Not enough space to cache rdd_253_34 in memory! (computed 27.0 MiB so far)\n",
      "24/11/22 04:13:24 WARN MemoryStore: Not enough space to cache rdd_253_35 in memory! (computed 5.3 MiB so far)\n",
      "24/11/22 04:13:26 WARN MemoryStore: Not enough space to cache rdd_253_36 in memory! (computed 27.0 MiB so far)\n",
      "24/11/22 04:13:26 WARN MemoryStore: Not enough space to cache rdd_253_37 in memory! (computed 5.3 MiB so far)\n",
      "24/11/22 04:13:28 WARN MemoryStore: Not enough space to cache rdd_253_38 in memory! (computed 27.0 MiB so far)\n",
      "24/11/22 04:13:30 WARN MemoryStore: Not enough space to cache rdd_253_39 in memory! (computed 27.0 MiB so far)\n",
      "24/11/22 04:13:31 WARN MemoryStore: Not enough space to cache rdd_253_40 in memory! (computed 27.0 MiB so far)\n",
      "24/11/22 04:13:33 WARN MemoryStore: Not enough space to cache rdd_253_41 in memory! (computed 27.0 MiB so far)\n",
      "24/11/22 04:13:34 WARN MemoryStore: Not enough space to cache rdd_253_42 in memory! (computed 27.0 MiB so far)\n",
      "24/11/22 04:13:35 WARN MemoryStore: Not enough space to cache rdd_253_43 in memory! (computed 27.0 MiB so far)\n",
      "24/11/22 04:13:37 WARN MemoryStore: Not enough space to cache rdd_253_44 in memory! (computed 27.0 MiB so far)\n",
      "24/11/22 04:13:39 WARN MemoryStore: Not enough space to cache rdd_253_45 in memory! (computed 27.0 MiB so far)\n",
      "24/11/22 04:13:40 WARN MemoryStore: Not enough space to cache rdd_253_46 in memory! (computed 27.0 MiB so far)\n",
      "24/11/22 04:13:41 WARN MemoryStore: Not enough space to cache rdd_253_47 in memory! (computed 27.0 MiB so far)\n",
      "24/11/22 04:13:43 WARN MemoryStore: Not enough space to cache rdd_253_48 in memory! (computed 27.0 MiB so far)\n",
      "24/11/22 04:13:44 WARN MemoryStore: Not enough space to cache rdd_253_49 in memory! (computed 27.0 MiB so far)\n",
      "24/11/22 04:13:45 WARN MemoryStore: Not enough space to cache rdd_253_50 in memory! (computed 5.3 MiB so far)\n",
      "24/11/22 04:13:47 WARN MemoryStore: Not enough space to cache rdd_253_51 in memory! (computed 27.0 MiB so far)\n",
      "24/11/22 04:13:47 WARN MemoryStore: Not enough space to cache rdd_253_52 in memory! (computed 5.3 MiB so far)\n",
      "24/11/22 04:13:49 WARN MemoryStore: Not enough space to cache rdd_253_53 in memory! (computed 27.0 MiB so far)\n",
      "24/11/22 04:13:50 WARN MemoryStore: Not enough space to cache rdd_253_54 in memory! (computed 5.3 MiB so far)\n",
      "24/11/22 04:13:52 WARN MemoryStore: Not enough space to cache rdd_253_55 in memory! (computed 27.0 MiB so far)\n",
      "24/11/22 04:13:53 WARN MemoryStore: Not enough space to cache rdd_253_56 in memory! (computed 5.3 MiB so far)\n",
      "24/11/22 04:13:55 WARN MemoryStore: Not enough space to cache rdd_253_57 in memory! (computed 27.0 MiB so far)\n",
      "24/11/22 04:13:56 WARN MemoryStore: Not enough space to cache rdd_253_58 in memory! (computed 5.3 MiB so far)\n",
      "24/11/22 04:13:58 WARN MemoryStore: Not enough space to cache rdd_253_59 in memory! (computed 27.0 MiB so far)\n",
      "24/11/22 04:13:58 WARN MemoryStore: Not enough space to cache rdd_253_60 in memory! (computed 5.3 MiB so far)\n",
      "24/11/22 04:14:01 WARN MemoryStore: Not enough space to cache rdd_253_62 in memory! (computed 5.3 MiB so far)\n",
      "24/11/22 04:14:01 WARN MemoryStore: Not enough space to cache rdd_253_61 in memory! (computed 27.0 MiB so far)\n",
      "24/11/22 04:14:04 WARN MemoryStore: Not enough space to cache rdd_253_64 in memory! (computed 12.0 MiB so far)\n",
      "24/11/22 04:14:04 WARN MemoryStore: Not enough space to cache rdd_253_63 in memory! (computed 18.0 MiB so far)\n",
      "24/11/22 04:14:06 WARN MemoryStore: Not enough space to cache rdd_253_65 in memory! (computed 27.0 MiB so far)\n",
      "24/11/22 04:14:06 WARN MemoryStore: Not enough space to cache rdd_253_66 in memory! (computed 5.3 MiB so far)\n",
      "24/11/22 04:14:09 WARN MemoryStore: Not enough space to cache rdd_253_67 in memory! (computed 27.0 MiB so far)\n",
      "24/11/22 04:14:09 WARN MemoryStore: Not enough space to cache rdd_253_68 in memory! (computed 5.3 MiB so far)\n",
      "24/11/22 04:14:12 WARN MemoryStore: Not enough space to cache rdd_253_69 in memory! (computed 27.0 MiB so far)\n",
      "24/11/22 04:14:13 WARN MemoryStore: Not enough space to cache rdd_253_70 in memory! (computed 5.3 MiB so far)\n",
      "24/11/22 04:14:15 WARN MemoryStore: Not enough space to cache rdd_253_71 in memory! (computed 27.0 MiB so far)\n",
      "24/11/22 04:14:16 WARN MemoryStore: Not enough space to cache rdd_253_72 in memory! (computed 5.3 MiB so far)\n",
      "24/11/22 04:14:18 WARN MemoryStore: Not enough space to cache rdd_253_73 in memory! (computed 27.0 MiB so far)\n",
      "24/11/22 04:14:20 WARN MemoryStore: Not enough space to cache rdd_253_74 in memory! (computed 5.3 MiB so far)\n",
      "24/11/22 04:14:23 WARN MemoryStore: Not enough space to cache rdd_253_76 in memory! (computed 27.0 MiB so far)\n",
      "                                                                                \r"
     ]
    }
   ],
   "source": [
    "model = ml_class.fit(train)"
   ]
  },
  {
   "cell_type": "code",
   "execution_count": 120,
   "metadata": {},
   "outputs": [
    {
     "name": "stderr",
     "output_type": "stream",
     "text": [
      "                                                                                \r"
     ]
    }
   ],
   "source": [
    "model.write().overwrite().save(\"RandomForest_model\")"
   ]
  },
  {
   "cell_type": "code",
   "execution_count": 121,
   "metadata": {},
   "outputs": [],
   "source": [
    "#evaluar modelo\n",
    "prediction = model.transform(test)"
   ]
  },
  {
   "cell_type": "code",
   "execution_count": 122,
   "metadata": {},
   "outputs": [],
   "source": [
    "evaluator = pyml.evaluation.BinaryClassificationEvaluator(\n",
    "    labelCol=\"Cancelled\",\n",
    "    rawPredictionCol = \"prediction\",\n",
    "    metricName=\"areaUnderROC\"\n",
    ")"
   ]
  },
  {
   "cell_type": "code",
   "execution_count": 123,
   "metadata": {},
   "outputs": [
    {
     "name": "stderr",
     "output_type": "stream",
     "text": [
      "                                                                                \r"
     ]
    }
   ],
   "source": [
    "AUC = evaluator.evaluate(prediction)"
   ]
  },
  {
   "cell_type": "code",
   "execution_count": 124,
   "metadata": {},
   "outputs": [
    {
     "data": {
      "text/plain": [
       "0.7282688942849"
      ]
     },
     "execution_count": 124,
     "metadata": {},
     "output_type": "execute_result"
    }
   ],
   "source": [
    "AUC"
   ]
  },
  {
   "cell_type": "code",
   "execution_count": 125,
   "metadata": {},
   "outputs": [
    {
     "name": "stderr",
     "output_type": "stream",
     "text": [
      "                                                                                \r"
     ]
    }
   ],
   "source": [
    "#true positive, true negative, false positive, false negative\n",
    "\n",
    "tp = prediction.filter((pysqlfun.col(\"Cancelled\") == 1) & (pysqlfun.col(\"prediction\") == 1)).count()\n",
    "tn = prediction.filter((pysqlfun.col(\"Cancelled\") == 0) & (pysqlfun.col(\"prediction\") == 0)).count()\n",
    "fp = prediction.filter((pysqlfun.col(\"Cancelled\") == 0) & (pysqlfun.col(\"prediction\") == 1)).count()\n",
    "fn = prediction.filter((pysqlfun.col(\"Cancelled\") == 1) & (pysqlfun.col(\"prediction\") == 0)).count()"
   ]
  },
  {
   "cell_type": "code",
   "execution_count": 126,
   "metadata": {},
   "outputs": [
    {
     "name": "stdout",
     "output_type": "stream",
     "text": [
      "Accuracy: 0.8699598316854157\n"
     ]
    }
   ],
   "source": [
    "#accuracy\n",
    "accuracy = (tp + tn) / (tp + tn + fp + fn)\n",
    "print(f\"Accuracy: {accuracy}\")"
   ]
  },
  {
   "cell_type": "code",
   "execution_count": 127,
   "metadata": {},
   "outputs": [
    {
     "name": "stdout",
     "output_type": "stream",
     "text": [
      "Precision: 0.11528245853623705\n"
     ]
    }
   ],
   "source": [
    "#precision\n",
    "precision = tp / (tp + fp)\n",
    "print(f\"Precision: {precision}\")"
   ]
  },
  {
   "cell_type": "code",
   "execution_count": 128,
   "metadata": {},
   "outputs": [
    {
     "name": "stdout",
     "output_type": "stream",
     "text": [
      "Recall: 0.5785694630206767\n"
     ]
    }
   ],
   "source": [
    "#recall\n",
    "recall = tp / (tp + fn)\n",
    "print(f\"Recall: {recall}\")"
   ]
  },
  {
   "cell_type": "code",
   "execution_count": 129,
   "metadata": {},
   "outputs": [
    {
     "name": "stdout",
     "output_type": "stream",
     "text": [
      "F1: 0.19225690110175203\n"
     ]
    }
   ],
   "source": [
    "#F1\n",
    "\n",
    "f1 = 2 *(precision * recall) / (precision + recall)\n",
    "\n",
    "print(f\"F1: {f1}\")"
   ]
  },
  {
   "cell_type": "code",
   "execution_count": 15,
   "metadata": {},
   "outputs": [],
   "source": [
    "spark.stop()"
   ]
  }
 ],
 "metadata": {
  "kernelspec": {
   "display_name": ".venv",
   "language": "python",
   "name": "python3"
  },
  "language_info": {
   "codemirror_mode": {
    "name": "ipython",
    "version": 3
   },
   "file_extension": ".py",
   "mimetype": "text/x-python",
   "name": "python",
   "nbconvert_exporter": "python",
   "pygments_lexer": "ipython3",
   "version": "3.12.3"
  }
 },
 "nbformat": 4,
 "nbformat_minor": 2
}
