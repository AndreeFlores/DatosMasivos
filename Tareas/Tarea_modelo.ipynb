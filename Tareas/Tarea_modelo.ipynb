{
 "cells": [
  {
   "cell_type": "code",
   "execution_count": 1,
   "metadata": {},
   "outputs": [],
   "source": [
    "import findspark\n",
    "findspark.init()\n",
    "findspark.find()\n",
    "\n",
    "from pyspark import SparkContext\n",
    "\n",
    "from pyspark.sql import SparkSession\n",
    "\n",
    "from pyspark import SparkConf\n",
    "\n",
    "import pyspark.sql as pysql\n",
    "\n",
    "from pyspark import StorageLevel\n"
   ]
  },
  {
   "cell_type": "code",
   "execution_count": 2,
   "metadata": {},
   "outputs": [],
   "source": [
    "import pyspark.ml as pyml\n",
    "import pyspark.sql.functions as pysqlfun\n"
   ]
  },
  {
   "cell_type": "code",
   "execution_count": 3,
   "metadata": {},
   "outputs": [],
   "source": [
    "import os\n",
    "import sys\n",
    "\n",
    "#os.environ['PYSPARK_PYTHON'] = sys.executable\n",
    "#os.environ['PYSPARK_DRIVER_PYTHON'] = sys.executable"
   ]
  },
  {
   "cell_type": "code",
   "execution_count": 4,
   "metadata": {},
   "outputs": [],
   "source": [
    "conf = SparkConf().setAppName(\"Tarea\") \\\n",
    "    .setMaster(\"local[8]\") \\\n",
    "    .set(\"spark.executor.cores\",\"2\") \\\n",
    "    .set(\"spark.executor.memory\", \"4g\") \\\n",
    "    .set(\"spark.driver.memory\",\"4g\")"
   ]
  },
  {
   "cell_type": "code",
   "execution_count": 5,
   "metadata": {},
   "outputs": [
    {
     "name": "stderr",
     "output_type": "stream",
     "text": [
      "Setting default log level to \"WARN\".\n",
      "To adjust logging level use sc.setLogLevel(newLevel). For SparkR, use setLogLevel(newLevel).\n",
      "24/11/18 22:01:14 WARN NativeCodeLoader: Unable to load native-hadoop library for your platform... using builtin-java classes where applicable\n"
     ]
    }
   ],
   "source": [
    "spark : SparkSession = SparkSession.builder.config(conf=conf).getOrCreate()"
   ]
  },
  {
   "cell_type": "code",
   "execution_count": 6,
   "metadata": {},
   "outputs": [],
   "source": [
    "columnas = [\n",
    "    'Airline', # Aerolinea\n",
    "    'CRSDepTime', #Hora de salida programada\n",
    "    'DepTime', #Hora de salida actual\n",
    "    'DepDelay', #Diferencia en minutos entre CRSDepTime y DepTime, tiempos negativos significa salidas tempranas\n",
    "    'CRSArrTime', #Hora de llegada programada\n",
    "    'ArrTime', #Hora de llegada\n",
    "    'ArrDelay', #Diferencia de minutos entre la llegada programada y la hora de llegada, tiempos negativos significa llegadas tempranas\n",
    "    'ActualElapsedTime', #Tiempo de vuelo verdadero\n",
    "    'CRSElapsedTime', #Tiempo de vuelo programado\n",
    "    'Distance', #Distancia entre aeropuertos en millas\n",
    "    'Year', #Año del vuelo\n",
    "    'Month', #Mes del vuelo\n",
    "    'DayofMonth', #Dia del mes del vuelo\n",
    "    'DayOfWeek', #Dia de la semana del vuelo\n",
    "    'Tail_Number', #Numero de la cola, código para identificar la aeronave\n",
    "    'Flight_Number_Operating_Airline', #Numero del vuelo\n",
    "    \n",
    "    'Origin', #Aeropuerto de origen\n",
    "    'OriginAirportID', 'OriginAirportSeqID', #codigos del aeropuerto de origen\n",
    "    'OriginCityName', #Nombre de la ciudad del aeropuerto de origen\n",
    "    'OriginStateName', #Nombre de estado del aeropuerto de origen\n",
    "    \n",
    "    'Dest', #Aeropuerto de destino\n",
    "    'DestAirportID', 'DestAirportSeqID', #codigos del aeropuerto de destino\n",
    "    'DestCityName', #Nombre de la ciudad del aeropuerto de destino\n",
    "    'DestStateName', #Nombre de estado del aeropuerto de destino\n",
    "    \n",
    "    'Cancelled', #El vuelo fue cancelado, 1 = Sí\n",
    "    \n",
    "    'Diverted', #Si el vuelo fue desviado, 1 = Sí\n",
    "]"
   ]
  },
  {
   "cell_type": "code",
   "execution_count": 7,
   "metadata": {},
   "outputs": [],
   "source": [
    "import zipfile\n",
    "import pathlib\n",
    "\n",
    "direccion = pathlib.Path.cwd()\n",
    "\n",
    "path_datos_zip = pathlib.Path.joinpath(direccion.parent, 'Datos', 'data.zip')\n",
    "\n",
    "path_guardar = pathlib.Path.joinpath(direccion.parent, 'Datos')\n",
    "\n",
    "archivos_datos = [\n",
    "    pathlib.Path.joinpath(direccion.parent, 'Datos', 'Combined_Flights_2022.csv').as_posix(),\n",
    "    pathlib.Path.joinpath(direccion.parent, 'Datos', 'Combined_Flights_2021.csv').as_posix(),\n",
    "    pathlib.Path.joinpath(direccion.parent, 'Datos', 'Combined_Flights_2020.csv').as_posix(),\n",
    "    pathlib.Path.joinpath(direccion.parent, 'Datos', 'Combined_Flights_2019.csv').as_posix(),\n",
    "    pathlib.Path.joinpath(direccion.parent, 'Datos', 'Combined_Flights_2018.csv').as_posix()\n",
    "]\n",
    "\n",
    "archivos_datos_en_zip  = [\n",
    "    'Combined_Flights_2022.csv',\n",
    "    'Combined_Flights_2021.csv',\n",
    "    'Combined_Flights_2020.csv',\n",
    "    'Combined_Flights_2019.csv',\n",
    "    'Combined_Flights_2018.csv'\n",
    "]"
   ]
  },
  {
   "cell_type": "code",
   "execution_count": 8,
   "metadata": {},
   "outputs": [],
   "source": [
    "with zipfile.ZipFile(path_datos_zip, mode=\"r\") as archivo_zip:\n",
    "    for archivo in archivos_datos_en_zip:\n",
    "        \n",
    "        if os.path.isfile(path=pathlib.Path.joinpath(path_guardar,archivo).as_posix()):\n",
    "            continue\n",
    "        \n",
    "        archivo_zip.extract(archivo, path_guardar)"
   ]
  },
  {
   "cell_type": "code",
   "execution_count": 9,
   "metadata": {},
   "outputs": [],
   "source": [
    "df = spark.read.option(\"header\",\"true\").csv(archivos_datos)"
   ]
  },
  {
   "cell_type": "code",
   "execution_count": 10,
   "metadata": {},
   "outputs": [],
   "source": [
    "df = df.select(columnas)"
   ]
  },
  {
   "cell_type": "code",
   "execution_count": 11,
   "metadata": {},
   "outputs": [
    {
     "name": "stderr",
     "output_type": "stream",
     "text": [
      "24/11/18 22:01:27 WARN SparkStringUtils: Truncated the string representation of a plan since it was too large. This behavior can be adjusted by setting 'spark.sql.debug.maxToStringFields'.\n"
     ]
    }
   ],
   "source": [
    "df = df.persist(StorageLevel.DISK_ONLY)"
   ]
  },
  {
   "cell_type": "code",
   "execution_count": 12,
   "metadata": {},
   "outputs": [
    {
     "name": "stderr",
     "output_type": "stream",
     "text": [
      "24/11/18 22:01:28 WARN GarbageCollectionMetrics: To enable non-built-in garbage collector(s) List(G1 Concurrent GC), users should configure it(them) to spark.eventLog.gcMetrics.youngGenerationGarbageCollectors or spark.eventLog.gcMetrics.oldGenerationGarbageCollectors\n"
     ]
    }
   ],
   "source": [
    "df = df.withColumn(\"CRSDepTime\", df[\"CRSDepTime\"].cast(pysql.types.FloatType()))\n",
    "df = df.withColumn(\"DepTime\", df[\"DepTime\"].cast(pysql.types.FloatType()))\n",
    "df = df.withColumn(\"DepDelay\", df[\"DepDelay\"].cast(pysql.types.FloatType()))\n",
    "df = df.withColumn(\"ArrTime\", df[\"ArrTime\"].cast(pysql.types.FloatType()))\n",
    "df = df.withColumn(\"ArrDelay\", df[\"ArrDelay\"].cast(pysql.types.FloatType()))\n",
    "df = df.withColumn(\"ActualElapsedTime\", df[\"ActualElapsedTime\"].cast(pysql.types.FloatType()))\n",
    "df = df.withColumn(\"CRSElapsedTime\", df[\"CRSElapsedTime\"].cast(pysql.types.FloatType()))\n",
    "df = df.withColumn(\"Distance\", df[\"Distance\"].cast(pysql.types.FloatType()))\n",
    "df = df.withColumn(\"Year\", df[\"Year\"].cast(pysql.types.IntegerType()))\n",
    "df = df.withColumn(\"Month\", df[\"Month\"].cast(pysql.types.IntegerType()))\n",
    "df = df.withColumn(\"DayofMonth\", df[\"DayofMonth\"].cast(pysql.types.IntegerType()))\n",
    "df = df.withColumn(\"DayOfWeek\", df[\"DayOfWeek\"].cast(pysql.types.IntegerType()))\n",
    "\n",
    "df = df.withColumn(\"Cancelled\", pysql.functions.when(df[\"Cancelled\"] == \"False\",0).otherwise(1))\n",
    "df = df.withColumn(\"Diverted\", pysql.functions.when(df[\"Diverted\"] == \"False\",0).otherwise(1))"
   ]
  },
  {
   "cell_type": "code",
   "execution_count": 13,
   "metadata": {},
   "outputs": [],
   "source": [
    "#cambiar None a Otros\n",
    "\n",
    "for columna in ['Airline','Tail_Number','Flight_Number_Operating_Airline',\n",
    "                'Origin','OriginAirportID', 'OriginAirportSeqID',\n",
    "                'OriginCityName','OriginStateName','Dest','DestAirportID',\n",
    "                'DestAirportSeqID','DestCityName','DestStateName']:\n",
    "\n",
    "    df = df.withColumn(columna,pysqlfun.when(\n",
    "        df[columna].isNull() | (df[columna] == \"None\"),\"Otros\").otherwise(df[columna]))\n",
    "\n"
   ]
  },
  {
   "cell_type": "code",
   "execution_count": 14,
   "metadata": {},
   "outputs": [],
   "source": [
    "#df.select(['Airline']).distinct().toPandas().to_csv(\"airlines.csv\", header=True, index=False)\n",
    "#\n",
    "#df.select([\n",
    "#    'Origin', #Aeropuerto de origen\n",
    "#    'OriginAirportID', 'OriginAirportSeqID', #codigos del aeropuerto de origen\n",
    "#    'OriginCityName', #Nombre de la ciudad del aeropuerto de origen\n",
    "#    'OriginStateName', #Nombre de estado del aeropuerto de origen\n",
    "#]).distinct().toPandas().to_csv(\"airports_origin.csv\", header=True, index=False)\n",
    "\n",
    "#df.select([\n",
    "#    'Dest', #Aeropuerto de destino\n",
    "#    'DestAirportID', 'DestAirportSeqID', #codigos del aeropuerto de destino\n",
    "#    'DestCityName', #Nombre de la ciudad del aeropuerto de destino\n",
    "#    'DestStateName', #Nombre de estado del aeropuerto de destino\n",
    "#]).distinct().toPandas().to_csv(\"airports_dest.csv\", header=True, index=False)\n"
   ]
  },
  {
   "cell_type": "markdown",
   "metadata": {},
   "source": [
    "## String a categorico"
   ]
  },
  {
   "cell_type": "markdown",
   "metadata": {},
   "source": [
    "Tail_Number"
   ]
  },
  {
   "cell_type": "code",
   "execution_count": 15,
   "metadata": {},
   "outputs": [],
   "source": [
    "df_tail_number = df.groupBy(\"Tail_Number\").count() \\\n",
    "    .sort(\"count\", ascending = False).persist(StorageLevel.DISK_ONLY)"
   ]
  },
  {
   "cell_type": "code",
   "execution_count": 16,
   "metadata": {},
   "outputs": [],
   "source": [
    "df_tail_number = df_tail_number.withColumn(\n",
    "    \"Tail_Number_Grupo\", pysqlfun.when((df_tail_number[\"Tail_Number\"] == \"Otros\"), \"0\")\n",
    "    .when(df_tail_number[\"count\"] < 100, \"1\")\n",
    "    .when((df_tail_number[\"count\"] >= 100) & (df_tail_number[\"count\"] < 1000), \"2\")\n",
    "    .when((df_tail_number[\"count\"] >= 1000) & (df_tail_number[\"count\"] < 10000), \"3\")\n",
    "    .when((df_tail_number[\"count\"] >= 10000) & (df_tail_number[\"count\"] < 100000), \"4\")\n",
    "    .otherwise(\"5\")\n",
    ")"
   ]
  },
  {
   "cell_type": "code",
   "execution_count": 17,
   "metadata": {},
   "outputs": [],
   "source": [
    "#df_tail_number.toPandas().to_csv(\"df_tail_number.csv\", header=True, index=False)"
   ]
  },
  {
   "cell_type": "code",
   "execution_count": 18,
   "metadata": {},
   "outputs": [],
   "source": [
    "df = df.join(other=df_tail_number,on=\"Tail_Number\",how=\"left\")"
   ]
  },
  {
   "cell_type": "markdown",
   "metadata": {},
   "source": [
    "Aeropuerto de origen"
   ]
  },
  {
   "cell_type": "code",
   "execution_count": 19,
   "metadata": {},
   "outputs": [],
   "source": [
    "df_origin = df.groupBy(\"Origin\").count() \\\n",
    "    .sort(\"count\", ascending = False).persist(StorageLevel.DISK_ONLY)"
   ]
  },
  {
   "cell_type": "code",
   "execution_count": 20,
   "metadata": {},
   "outputs": [],
   "source": [
    "df_origin = df_origin.withColumn(\n",
    "    \"Origin_Grupo\", pysqlfun.when((df_origin[\"Origin\"] == \"Otros\"), \"0\")\n",
    "    .when((df_origin[\"count\"] < 1000), \"1\")\n",
    "    .when((df_origin[\"count\"] >= 1000) & (df_origin[\"count\"] < 5000), \"2\")\n",
    "    .when((df_origin[\"count\"] >= 5000) & (df_origin[\"count\"] < 10000), \"3\")\n",
    "    .when((df_origin[\"count\"] >= 10000) & (df_origin[\"count\"] < 50000), \"4\")\n",
    "    .when((df_origin[\"count\"] >= 50000) & (df_origin[\"count\"] < 100000), \"5\")\n",
    "    .when((df_origin[\"count\"] >= 100000) & (df_origin[\"count\"] < 500000), \"6\")\n",
    "    .when((df_origin[\"count\"] >= 500000) & (df_origin[\"count\"] < 1000000), \"7\")\n",
    "    .when((df_origin[\"count\"] >= 1000000) & (df_origin[\"count\"] < 5000000), \"8\")\n",
    "    .otherwise(\"9\")\n",
    ")"
   ]
  },
  {
   "cell_type": "code",
   "execution_count": 21,
   "metadata": {},
   "outputs": [],
   "source": [
    "#df_origin.toPandas().to_csv(\"df_origin.csv\", header=True, index=False)"
   ]
  },
  {
   "cell_type": "code",
   "execution_count": 22,
   "metadata": {},
   "outputs": [],
   "source": [
    "df = df.join(other=df_origin,on=\"Origin\",how=\"left\")"
   ]
  },
  {
   "cell_type": "markdown",
   "metadata": {},
   "source": [
    "Aeropuerto de destino"
   ]
  },
  {
   "cell_type": "code",
   "execution_count": 23,
   "metadata": {},
   "outputs": [],
   "source": [
    "df_dest = df.groupBy(\"Dest\").count() \\\n",
    "    .sort(\"count\", ascending = False).persist(StorageLevel.DISK_ONLY)"
   ]
  },
  {
   "cell_type": "code",
   "execution_count": 24,
   "metadata": {},
   "outputs": [],
   "source": [
    "df_dest = df_dest.withColumn(\n",
    "    \"Dest_Grupo\", pysqlfun.when((df_dest[\"Dest\"] == \"Otros\"), \"0\")\n",
    "    .when((df_dest[\"count\"] < 1000), \"1\")\n",
    "    .when((df_dest[\"count\"] >= 1000) & (df_dest[\"count\"] < 5000), \"2\")\n",
    "    .when((df_dest[\"count\"] >= 5000) & (df_dest[\"count\"] < 10000), \"3\")\n",
    "    .when((df_dest[\"count\"] >= 10000) & (df_dest[\"count\"] < 50000), \"4\")\n",
    "    .when((df_dest[\"count\"] >= 50000) & (df_dest[\"count\"] < 100000), \"5\")\n",
    "    .when((df_dest[\"count\"] >= 100000) & (df_dest[\"count\"] < 500000), \"6\")\n",
    "    .when((df_dest[\"count\"] >= 500000) & (df_dest[\"count\"] < 1000000), \"7\")\n",
    "    .when((df_dest[\"count\"] >= 1000000) & (df_dest[\"count\"] < 5000000), \"8\")\n",
    "    .otherwise(\"9\")\n",
    ")"
   ]
  },
  {
   "cell_type": "code",
   "execution_count": 25,
   "metadata": {},
   "outputs": [],
   "source": [
    "#df_dest.toPandas().to_csv(\"df_dest.csv\", header=True, index=False)"
   ]
  },
  {
   "cell_type": "code",
   "execution_count": 26,
   "metadata": {},
   "outputs": [],
   "source": [
    "df = df.join(other=df_dest,on=\"Dest\",how=\"left\")"
   ]
  },
  {
   "cell_type": "markdown",
   "metadata": {},
   "source": [
    "Estado de origen"
   ]
  },
  {
   "cell_type": "code",
   "execution_count": 27,
   "metadata": {},
   "outputs": [],
   "source": [
    "df_origin_state = df.groupBy(\"OriginStateName\").agg({\"Cancelled\" : \"avg\"}) \\\n",
    "    .sort(\"avg(Cancelled)\", ascending = False).persist(StorageLevel.DISK_ONLY)"
   ]
  },
  {
   "cell_type": "code",
   "execution_count": 28,
   "metadata": {},
   "outputs": [],
   "source": [
    "df_origin_state = df_origin_state.withColumn(\n",
    "    \"OriginStateName_Grupo\", pysqlfun.when((df_origin_state[\"OriginStateName\"] == \"Otros\"), \"0\")\n",
    "    .when((df_origin_state[\"avg(Cancelled)\"] < 0.01), \"1\")\n",
    "    .when((df_origin_state[\"avg(Cancelled)\"] >= 0.010) & (df_origin_state[\"avg(Cancelled)\"] < 0.015), \"2\")\n",
    "    .when((df_origin_state[\"avg(Cancelled)\"] >= 0.015) & (df_origin_state[\"avg(Cancelled)\"] < 0.020), \"3\")\n",
    "    .when((df_origin_state[\"avg(Cancelled)\"] >= 0.020) & (df_origin_state[\"avg(Cancelled)\"] < 0.025), \"4\")\n",
    "    .when((df_origin_state[\"avg(Cancelled)\"] >= 0.025) & (df_origin_state[\"avg(Cancelled)\"] < 0.030), \"5\")\n",
    "    .when((df_origin_state[\"avg(Cancelled)\"] >= 0.030) & (df_origin_state[\"avg(Cancelled)\"] < 0.035), \"6\")\n",
    "    .when((df_origin_state[\"avg(Cancelled)\"] >= 0.035) & (df_origin_state[\"avg(Cancelled)\"] < 0.040), \"7\")\n",
    "    .otherwise(\"8\")\n",
    ")"
   ]
  },
  {
   "cell_type": "code",
   "execution_count": 29,
   "metadata": {},
   "outputs": [],
   "source": [
    "#df_origin_state.toPandas().to_csv(\"df_origin_state.csv\", header=True, index=False)"
   ]
  },
  {
   "cell_type": "code",
   "execution_count": 30,
   "metadata": {},
   "outputs": [],
   "source": [
    "df = df.join(other=df_origin_state,on=\"OriginStateName\",how=\"left\")"
   ]
  },
  {
   "cell_type": "markdown",
   "metadata": {},
   "source": [
    "Estado de destino"
   ]
  },
  {
   "cell_type": "code",
   "execution_count": 31,
   "metadata": {},
   "outputs": [],
   "source": [
    "df_dest_state = df.groupBy(\"DestStateName\").agg({\"Cancelled\" : \"avg\"}) \\\n",
    "    .sort(\"avg(Cancelled)\", ascending = False).persist(StorageLevel.DISK_ONLY)"
   ]
  },
  {
   "cell_type": "code",
   "execution_count": 32,
   "metadata": {},
   "outputs": [],
   "source": [
    "df_dest_state = df_dest_state.withColumn(\n",
    "    \"DestStateName_Grupo\", pysqlfun.when((df_dest_state[\"DestStateName\"] == \"Otros\"), \"0\")\n",
    "    .when((df_dest_state[\"avg(Cancelled)\"] < 0.01), \"1\")\n",
    "    .when((df_dest_state[\"avg(Cancelled)\"] >= 0.010) & (df_dest_state[\"avg(Cancelled)\"] < 0.015), \"2\")\n",
    "    .when((df_dest_state[\"avg(Cancelled)\"] >= 0.015) & (df_dest_state[\"avg(Cancelled)\"] < 0.020), \"3\")\n",
    "    .when((df_dest_state[\"avg(Cancelled)\"] >= 0.020) & (df_dest_state[\"avg(Cancelled)\"] < 0.025), \"4\")\n",
    "    .when((df_dest_state[\"avg(Cancelled)\"] >= 0.025) & (df_dest_state[\"avg(Cancelled)\"] < 0.030), \"5\")\n",
    "    .when((df_dest_state[\"avg(Cancelled)\"] >= 0.030) & (df_dest_state[\"avg(Cancelled)\"] < 0.035), \"6\")\n",
    "    .when((df_dest_state[\"avg(Cancelled)\"] >= 0.035) & (df_dest_state[\"avg(Cancelled)\"] < 0.040), \"7\")\n",
    "    .otherwise(\"8\")\n",
    ")"
   ]
  },
  {
   "cell_type": "code",
   "execution_count": 33,
   "metadata": {},
   "outputs": [],
   "source": [
    "#df_dest_state.toPandas().to_csv(\"df_dest_state.csv\", header=True, index=False)"
   ]
  },
  {
   "cell_type": "code",
   "execution_count": 34,
   "metadata": {},
   "outputs": [],
   "source": [
    "df = df.join(other=df_dest_state,on=\"DestStateName\",how=\"left\")"
   ]
  },
  {
   "cell_type": "code",
   "execution_count": 35,
   "metadata": {},
   "outputs": [],
   "source": [
    "df_seleccion = df.select([\"Cancelled\",\"Distance\",\"CRSDepTime\",\"CRSArrTime\",\n",
    "                          \"Year\",\"Month\",\"DayOfWeek\",\"DayofMonth\",\"Airline\",\n",
    "                          \"Tail_Number_Grupo\",\"origin_Grupo\",\"Dest_Grupo\",\n",
    "                          \"OriginStateName_Grupo\",\"DestStateName_Grupo\"])"
   ]
  },
  {
   "cell_type": "code",
   "execution_count": 36,
   "metadata": {},
   "outputs": [],
   "source": [
    "df_seleccion = df_seleccion.persist(StorageLevel.DISK_ONLY)"
   ]
  },
  {
   "cell_type": "code",
   "execution_count": 37,
   "metadata": {},
   "outputs": [],
   "source": [
    "indexer = pyml.feature.StringIndexer(\n",
    "    inputCols=[\"Airline\",\"Tail_Number_Grupo\",\"origin_Grupo\",\n",
    "               \"Dest_Grupo\",\"OriginStateName_Grupo\",\"DestStateName_Grupo\"],\n",
    "    outputCols=[\"Airline_indexado\",\"Tail_Number_indexado\",\"Origin_indexado\",\n",
    "                \"Dest_indexado\",\"OriginStateName_indexado\",\"DestStateName_indexado\"])"
   ]
  },
  {
   "cell_type": "code",
   "execution_count": 38,
   "metadata": {},
   "outputs": [
    {
     "name": "stderr",
     "output_type": "stream",
     "text": [
      "                                                                                \r"
     ]
    }
   ],
   "source": [
    "df_indexado = indexer.fit(df_seleccion) \\\n",
    "    .transform(df_seleccion).persist(StorageLevel.DISK_ONLY)"
   ]
  },
  {
   "cell_type": "code",
   "execution_count": 39,
   "metadata": {},
   "outputs": [],
   "source": [
    "assembler = pyml.feature.VectorAssembler(\n",
    "    inputCols=[\n",
    "        \"Distance\",\n",
    "        #\"CRSDepTime\",\n",
    "        #\"CRSArrTime\",\n",
    "        \"Year\",\n",
    "        \"Month\",\n",
    "        \"DayofMonth\",\n",
    "        \"DayOfWeek\",\n",
    "        \"Airline_indexado\",\n",
    "        \"Tail_Number_indexado\",\n",
    "        \"Origin_indexado\",\n",
    "        \"Dest_indexado\",\n",
    "        \"OriginStateName_indexado\",\n",
    "        \"DestStateName_indexado\"\n",
    "    ],\n",
    "    outputCol=\"features\"\n",
    ")"
   ]
  },
  {
   "cell_type": "code",
   "execution_count": 40,
   "metadata": {},
   "outputs": [],
   "source": [
    "df_with_features = assembler.transform(df_indexado)"
   ]
  },
  {
   "cell_type": "code",
   "execution_count": 41,
   "metadata": {},
   "outputs": [],
   "source": [
    "train, test = df_with_features.randomSplit([0.8,0.2], seed = 42)"
   ]
  },
  {
   "cell_type": "code",
   "execution_count": 42,
   "metadata": {},
   "outputs": [],
   "source": [
    "train = train.persist(StorageLevel.DISK_ONLY)"
   ]
  },
  {
   "cell_type": "code",
   "execution_count": 43,
   "metadata": {},
   "outputs": [],
   "source": [
    "test = test.persist(StorageLevel.DISK_ONLY)"
   ]
  },
  {
   "cell_type": "code",
   "execution_count": 44,
   "metadata": {},
   "outputs": [
    {
     "name": "stderr",
     "output_type": "stream",
     "text": [
      "                                                                                \r"
     ]
    }
   ],
   "source": [
    "cantidad_total = train.count()"
   ]
  },
  {
   "cell_type": "code",
   "execution_count": 45,
   "metadata": {},
   "outputs": [
    {
     "name": "stderr",
     "output_type": "stream",
     "text": [
      "                                                                                \r"
     ]
    }
   ],
   "source": [
    "cantidad_cancelados = train.filter(train[\"Cancelled\"] == 1).count()"
   ]
  },
  {
   "cell_type": "code",
   "execution_count": 46,
   "metadata": {},
   "outputs": [
    {
     "name": "stdout",
     "output_type": "stream",
     "text": [
      "23351864 621004\n"
     ]
    }
   ],
   "source": [
    "print(cantidad_total, cantidad_cancelados)"
   ]
  },
  {
   "cell_type": "code",
   "execution_count": 47,
   "metadata": {},
   "outputs": [],
   "source": [
    "weight_cancelled = cantidad_total / (2 * cantidad_cancelados)\n",
    "\n",
    "weight_no_cancelled = cantidad_total / (2 * (cantidad_total - cantidad_cancelados))"
   ]
  },
  {
   "cell_type": "code",
   "execution_count": 48,
   "metadata": {},
   "outputs": [
    {
     "name": "stdout",
     "output_type": "stream",
     "text": [
      "18.801701760375135 0.5136599319163463\n"
     ]
    }
   ],
   "source": [
    "print(weight_cancelled, weight_no_cancelled)"
   ]
  },
  {
   "cell_type": "code",
   "execution_count": 49,
   "metadata": {},
   "outputs": [],
   "source": [
    "train = train.withColumn(\"weight\", pysqlfun.when(\n",
    "    train[\"Cancelled\"] == 1, weight_cancelled).otherwise(weight_no_cancelled))"
   ]
  },
  {
   "cell_type": "code",
   "execution_count": 50,
   "metadata": {},
   "outputs": [],
   "source": [
    "ml_class = pyml.classification.RandomForestClassifier(\n",
    "    featuresCol=\"features\",\n",
    "    labelCol=\"Cancelled\",\n",
    "    weightCol=\"weight\", seed= 255\n",
    ")"
   ]
  },
  {
   "cell_type": "code",
   "execution_count": 51,
   "metadata": {},
   "outputs": [
    {
     "name": "stderr",
     "output_type": "stream",
     "text": [
      "24/11/18 22:13:05 WARN MemoryStore: Not enough space to cache rdd_241_33 in memory! (computed 18.0 MiB so far)\n",
      "24/11/18 22:13:05 WARN MemoryStore: Not enough space to cache rdd_241_32 in memory! (computed 27.0 MiB so far)\n",
      "24/11/18 22:13:05 WARN BlockManager: Persisting block rdd_241_32 to disk instead.\n",
      "24/11/18 22:13:05 WARN MemoryStore: Not enough space to cache rdd_241_34 in memory! (computed 18.0 MiB so far)\n",
      "24/11/18 22:13:05 WARN BlockManager: Persisting block rdd_241_34 to disk instead.\n",
      "24/11/18 22:13:05 WARN BlockManager: Persisting block rdd_241_33 to disk instead.\n",
      "24/11/18 22:13:05 WARN MemoryStore: Not enough space to cache rdd_241_36 in memory! (computed 27.0 MiB so far)\n",
      "24/11/18 22:13:05 WARN BlockManager: Persisting block rdd_241_36 to disk instead.\n",
      "24/11/18 22:13:05 WARN MemoryStore: Not enough space to cache rdd_241_35 in memory! (computed 27.0 MiB so far)\n",
      "24/11/18 22:13:05 WARN BlockManager: Persisting block rdd_241_35 to disk instead.\n",
      "24/11/18 22:13:07 WARN MemoryStore: Not enough space to cache rdd_241_39 in memory! (computed 27.0 MiB so far)\n",
      "24/11/18 22:13:07 WARN BlockManager: Persisting block rdd_241_39 to disk instead.\n",
      "24/11/18 22:13:07 WARN MemoryStore: Not enough space to cache rdd_241_38 in memory! (computed 40.8 MiB so far)\n",
      "24/11/18 22:13:07 WARN BlockManager: Persisting block rdd_241_38 to disk instead.\n",
      "24/11/18 22:13:07 WARN MemoryStore: Not enough space to cache rdd_241_37 in memory! (computed 63.6 MiB so far)\n",
      "24/11/18 22:13:07 WARN BlockManager: Persisting block rdd_241_37 to disk instead.\n",
      "24/11/18 22:13:10 WARN MemoryStore: Not enough space to cache rdd_241_35 in memory! (computed 2.3 MiB so far)\n",
      "24/11/18 22:13:10 WARN MemoryStore: Not enough space to cache rdd_241_33 in memory! (computed 3.5 MiB so far)\n",
      "24/11/18 22:13:11 WARN MemoryStore: Failed to reserve initial memory threshold of 1024.0 KiB for computing block rdd_241_37 in memory.\n",
      "24/11/18 22:13:11 WARN MemoryStore: Not enough space to cache rdd_241_37 in memory! (computed 384.0 B so far)\n",
      "24/11/18 22:13:11 WARN MemoryStore: Not enough space to cache rdd_241_36 in memory! (computed 27.0 MiB so far)\n",
      "24/11/18 22:13:11 WARN MemoryStore: Not enough space to cache rdd_241_34 in memory! (computed 40.8 MiB so far)\n",
      "24/11/18 22:13:12 WARN MemoryStore: Not enough space to cache rdd_241_38 in memory! (computed 40.8 MiB so far)\n",
      "24/11/18 22:13:12 WARN MemoryStore: Not enough space to cache rdd_241_39 in memory! (computed 27.0 MiB so far)\n",
      "24/11/18 22:13:13 WARN MemoryStore: Not enough space to cache rdd_241_43 in memory! (computed 12.0 MiB so far)\n",
      "24/11/18 22:13:13 WARN BlockManager: Persisting block rdd_241_43 to disk instead.\n",
      "24/11/18 22:13:13 WARN MemoryStore: Not enough space to cache rdd_241_46 in memory! (computed 1544.0 KiB so far)\n",
      "24/11/18 22:13:13 WARN BlockManager: Persisting block rdd_241_46 to disk instead.\n",
      "24/11/18 22:13:13 WARN MemoryStore: Not enough space to cache rdd_241_42 in memory! (computed 12.0 MiB so far)\n",
      "24/11/18 22:13:13 WARN BlockManager: Persisting block rdd_241_42 to disk instead.\n",
      "24/11/18 22:13:14 WARN MemoryStore: Not enough space to cache rdd_241_44 in memory! (computed 7.9 MiB so far)\n",
      "24/11/18 22:13:14 WARN BlockManager: Persisting block rdd_241_44 to disk instead.\n",
      "24/11/18 22:13:14 WARN MemoryStore: Not enough space to cache rdd_241_41 in memory! (computed 18.0 MiB so far)\n",
      "24/11/18 22:13:14 WARN BlockManager: Persisting block rdd_241_41 to disk instead.\n",
      "24/11/18 22:13:14 WARN MemoryStore: Not enough space to cache rdd_241_40 in memory! (computed 18.0 MiB so far)\n",
      "24/11/18 22:13:14 WARN BlockManager: Persisting block rdd_241_40 to disk instead.\n",
      "24/11/18 22:13:14 WARN MemoryStore: Failed to reserve initial memory threshold of 1024.0 KiB for computing block rdd_241_47 in memory.\n",
      "24/11/18 22:13:14 WARN MemoryStore: Not enough space to cache rdd_241_45 in memory! (computed 2.3 MiB so far)\n",
      "24/11/18 22:13:14 WARN MemoryStore: Not enough space to cache rdd_241_47 in memory! (computed 384.0 B so far)\n",
      "24/11/18 22:13:14 WARN BlockManager: Persisting block rdd_241_47 to disk instead.\n",
      "24/11/18 22:13:14 WARN BlockManager: Persisting block rdd_241_45 to disk instead.\n",
      "24/11/18 22:13:18 WARN MemoryStore: Not enough space to cache rdd_241_47 in memory! (computed 7.9 MiB so far)\n",
      "24/11/18 22:13:18 WARN MemoryStore: Not enough space to cache rdd_241_41 in memory! (computed 7.9 MiB so far)\n",
      "24/11/18 22:13:19 WARN MemoryStore: Not enough space to cache rdd_241_40 in memory! (computed 2.3 MiB so far)\n",
      "24/11/18 22:13:19 WARN MemoryStore: Not enough space to cache rdd_241_44 in memory! (computed 40.8 MiB so far)\n",
      "24/11/18 22:13:19 WARN MemoryStore: Not enough space to cache rdd_241_43 in memory! (computed 27.0 MiB so far)\n",
      "24/11/18 22:13:19 WARN MemoryStore: Not enough space to cache rdd_241_46 in memory! (computed 2.3 MiB so far)\n",
      "24/11/18 22:13:19 WARN MemoryStore: Not enough space to cache rdd_241_45 in memory! (computed 1025.6 KiB so far)\n",
      "24/11/18 22:13:19 WARN MemoryStore: Not enough space to cache rdd_241_42 in memory! (computed 2.3 MiB so far)\n",
      "24/11/18 22:13:22 WARN MemoryStore: Not enough space to cache rdd_241_48 in memory! (computed 18.0 MiB so far)\n",
      "24/11/18 22:13:22 WARN MemoryStore: Not enough space to cache rdd_241_49 in memory! (computed 12.0 MiB so far)\n",
      "24/11/18 22:13:22 WARN BlockManager: Persisting block rdd_241_49 to disk instead.\n",
      "24/11/18 22:13:22 WARN BlockManager: Persisting block rdd_241_48 to disk instead.\n",
      "24/11/18 22:13:22 WARN MemoryStore: Not enough space to cache rdd_241_50 in memory! (computed 18.0 MiB so far)\n",
      "24/11/18 22:13:22 WARN BlockManager: Persisting block rdd_241_50 to disk instead.\n",
      "24/11/18 22:13:22 WARN MemoryStore: Not enough space to cache rdd_241_54 in memory! (computed 2.3 MiB so far)\n",
      "24/11/18 22:13:22 WARN BlockManager: Persisting block rdd_241_54 to disk instead.\n",
      "24/11/18 22:13:23 WARN MemoryStore: Not enough space to cache rdd_241_52 in memory! (computed 18.0 MiB so far)\n",
      "24/11/18 22:13:23 WARN BlockManager: Persisting block rdd_241_52 to disk instead.\n",
      "24/11/18 22:13:23 WARN MemoryStore: Not enough space to cache rdd_241_51 in memory! (computed 27.0 MiB so far)\n",
      "24/11/18 22:13:23 WARN BlockManager: Persisting block rdd_241_51 to disk instead.\n",
      "24/11/18 22:13:23 WARN MemoryStore: Not enough space to cache rdd_241_55 in memory! (computed 5.3 MiB so far)\n",
      "24/11/18 22:13:23 WARN BlockManager: Persisting block rdd_241_55 to disk instead.\n",
      "24/11/18 22:13:23 WARN MemoryStore: Not enough space to cache rdd_241_53 in memory! (computed 18.0 MiB so far)\n",
      "24/11/18 22:13:23 WARN BlockManager: Persisting block rdd_241_53 to disk instead.\n",
      "24/11/18 22:13:26 WARN MemoryStore: Not enough space to cache rdd_241_50 in memory! (computed 27.0 MiB so far)\n",
      "24/11/18 22:13:26 WARN MemoryStore: Not enough space to cache rdd_241_49 in memory! (computed 27.0 MiB so far)\n",
      "24/11/18 22:13:26 WARN MemoryStore: Not enough space to cache rdd_241_48 in memory! (computed 12.0 MiB so far)\n",
      "24/11/18 22:13:26 WARN MemoryStore: Not enough space to cache rdd_241_54 in memory! (computed 3.5 MiB so far)\n",
      "24/11/18 22:13:27 WARN MemoryStore: Failed to reserve initial memory threshold of 1024.0 KiB for computing block rdd_241_52 in memory.\n",
      "24/11/18 22:13:27 WARN MemoryStore: Not enough space to cache rdd_241_52 in memory! (computed 384.0 B so far)\n",
      "24/11/18 22:13:27 WARN MemoryStore: Not enough space to cache rdd_241_53 in memory! (computed 1025.6 KiB so far)\n",
      "24/11/18 22:13:28 WARN MemoryStore: Not enough space to cache rdd_241_51 in memory! (computed 40.8 MiB so far)\n",
      "24/11/18 22:13:28 WARN MemoryStore: Not enough space to cache rdd_241_55 in memory! (computed 27.0 MiB so far)\n",
      "24/11/18 22:13:28 WARN MemoryStore: Not enough space to cache rdd_241_57 in memory! (computed 1025.6 KiB so far)\n",
      "24/11/18 22:13:28 WARN BlockManager: Persisting block rdd_241_57 to disk instead.\n",
      "24/11/18 22:13:28 WARN MemoryStore: Not enough space to cache rdd_241_56 in memory! (computed 2.3 MiB so far)\n",
      "24/11/18 22:13:28 WARN BlockManager: Persisting block rdd_241_56 to disk instead.\n",
      "24/11/18 22:13:30 WARN MemoryStore: Not enough space to cache rdd_241_58 in memory! (computed 18.0 MiB so far)\n",
      "24/11/18 22:13:30 WARN MemoryStore: Not enough space to cache rdd_241_59 in memory! (computed 18.0 MiB so far)\n",
      "24/11/18 22:13:30 WARN BlockManager: Persisting block rdd_241_59 to disk instead.\n",
      "24/11/18 22:13:30 WARN BlockManager: Persisting block rdd_241_58 to disk instead.\n",
      "24/11/18 22:13:30 WARN MemoryStore: Not enough space to cache rdd_241_60 in memory! (computed 18.0 MiB so far)\n",
      "24/11/18 22:13:30 WARN BlockManager: Persisting block rdd_241_60 to disk instead.\n",
      "24/11/18 22:13:30 WARN MemoryStore: Not enough space to cache rdd_241_61 in memory! (computed 12.0 MiB so far)\n",
      "24/11/18 22:13:30 WARN BlockManager: Persisting block rdd_241_61 to disk instead.\n",
      "24/11/18 22:13:30 WARN MemoryStore: Not enough space to cache rdd_241_63 in memory! (computed 2.3 MiB so far)\n",
      "24/11/18 22:13:30 WARN BlockManager: Persisting block rdd_241_63 to disk instead.\n",
      "24/11/18 22:13:31 WARN MemoryStore: Not enough space to cache rdd_241_62 in memory! (computed 3.5 MiB so far)\n",
      "24/11/18 22:13:31 WARN BlockManager: Persisting block rdd_241_62 to disk instead.\n",
      "24/11/18 22:13:33 WARN MemoryStore: Not enough space to cache rdd_241_57 in memory! (computed 5.3 MiB so far)\n",
      "24/11/18 22:13:33 WARN MemoryStore: Not enough space to cache rdd_241_58 in memory! (computed 12.0 MiB so far)\n",
      "24/11/18 22:13:33 WARN MemoryStore: Not enough space to cache rdd_241_59 in memory! (computed 12.0 MiB so far)\n",
      "24/11/18 22:13:33 WARN MemoryStore: Not enough space to cache rdd_241_60 in memory! (computed 12.0 MiB so far)\n",
      "24/11/18 22:13:33 WARN MemoryStore: Not enough space to cache rdd_241_61 in memory! (computed 2.3 MiB so far)\n",
      "24/11/18 22:13:33 WARN MemoryStore: Not enough space to cache rdd_241_56 in memory! (computed 27.0 MiB so far)\n",
      "24/11/18 22:13:34 WARN MemoryStore: Not enough space to cache rdd_241_63 in memory! (computed 40.8 MiB so far)\n",
      "24/11/18 22:13:34 WARN MemoryStore: Not enough space to cache rdd_241_62 in memory! (computed 2.3 MiB so far)\n",
      "24/11/18 22:13:36 WARN MemoryStore: Not enough space to cache rdd_241_65 in memory! (computed 2.3 MiB so far)\n",
      "24/11/18 22:13:36 WARN BlockManager: Persisting block rdd_241_65 to disk instead.\n",
      "24/11/18 22:13:36 WARN MemoryStore: Not enough space to cache rdd_241_66 in memory! (computed 7.9 MiB so far)\n",
      "24/11/18 22:13:36 WARN BlockManager: Persisting block rdd_241_66 to disk instead.\n",
      "24/11/18 22:13:36 WARN MemoryStore: Not enough space to cache rdd_241_69 in memory! (computed 7.9 MiB so far)\n",
      "24/11/18 22:13:36 WARN BlockManager: Persisting block rdd_241_69 to disk instead.\n",
      "24/11/18 22:13:36 WARN MemoryStore: Not enough space to cache rdd_241_67 in memory! (computed 7.9 MiB so far)\n",
      "24/11/18 22:13:36 WARN MemoryStore: Not enough space to cache rdd_241_70 in memory! (computed 5.3 MiB so far)\n",
      "24/11/18 22:13:36 WARN BlockManager: Persisting block rdd_241_70 to disk instead.\n",
      "24/11/18 22:13:36 WARN BlockManager: Persisting block rdd_241_67 to disk instead.\n",
      "24/11/18 22:13:36 WARN MemoryStore: Not enough space to cache rdd_241_64 in memory! (computed 27.0 MiB so far)\n",
      "24/11/18 22:13:36 WARN BlockManager: Persisting block rdd_241_64 to disk instead.\n",
      "24/11/18 22:13:37 WARN MemoryStore: Not enough space to cache rdd_241_71 in memory! (computed 2.3 MiB so far)\n",
      "24/11/18 22:13:37 WARN BlockManager: Persisting block rdd_241_71 to disk instead.\n",
      "24/11/18 22:13:39 WARN MemoryStore: Not enough space to cache rdd_241_68 in memory! (computed 63.6 MiB so far)\n",
      "24/11/18 22:13:39 WARN BlockManager: Persisting block rdd_241_68 to disk instead.\n",
      "24/11/18 22:13:41 WARN MemoryStore: Not enough space to cache rdd_241_67 in memory! (computed 1025.6 KiB so far)\n",
      "24/11/18 22:13:41 WARN MemoryStore: Failed to reserve initial memory threshold of 1024.0 KiB for computing block rdd_241_65 in memory.\n",
      "24/11/18 22:13:41 WARN MemoryStore: Not enough space to cache rdd_241_65 in memory! (computed 384.0 B so far)\n",
      "24/11/18 22:13:41 WARN MemoryStore: Not enough space to cache rdd_241_69 in memory! (computed 2.3 MiB so far)\n",
      "24/11/18 22:13:41 WARN MemoryStore: Not enough space to cache rdd_241_68 in memory! (computed 27.0 MiB so far)\n",
      "24/11/18 22:13:41 WARN MemoryStore: Not enough space to cache rdd_241_66 in memory! (computed 2.3 MiB so far)\n",
      "24/11/18 22:13:41 WARN MemoryStore: Not enough space to cache rdd_241_64 in memory! (computed 40.8 MiB so far)\n",
      "24/11/18 22:13:42 WARN MemoryStore: Not enough space to cache rdd_241_71 in memory! (computed 12.0 MiB so far)\n",
      "24/11/18 22:13:42 WARN MemoryStore: Not enough space to cache rdd_241_70 in memory! (computed 18.0 MiB so far)\n",
      "24/11/18 22:13:43 WARN MemoryStore: Not enough space to cache rdd_241_73 in memory! (computed 18.0 MiB so far)\n",
      "24/11/18 22:13:43 WARN BlockManager: Persisting block rdd_241_73 to disk instead.\n",
      "24/11/18 22:13:43 WARN MemoryStore: Not enough space to cache rdd_241_76 in memory! (computed 7.9 MiB so far)\n",
      "24/11/18 22:13:44 WARN BlockManager: Persisting block rdd_241_76 to disk instead.\n",
      "24/11/18 22:13:43 WARN MemoryStore: Not enough space to cache rdd_241_75 in memory! (computed 7.9 MiB so far)\n",
      "24/11/18 22:13:44 WARN BlockManager: Persisting block rdd_241_75 to disk instead.\n",
      "24/11/18 22:13:44 WARN MemoryStore: Not enough space to cache rdd_241_74 in memory! (computed 18.0 MiB so far)\n",
      "24/11/18 22:13:44 WARN BlockManager: Persisting block rdd_241_74 to disk instead.\n",
      "24/11/18 22:13:44 WARN MemoryStore: Not enough space to cache rdd_241_72 in memory! (computed 18.0 MiB so far)\n",
      "24/11/18 22:13:44 WARN BlockManager: Persisting block rdd_241_72 to disk instead.\n",
      "24/11/18 22:13:46 WARN MemoryStore: Not enough space to cache rdd_241_74 in memory! (computed 7.9 MiB so far)\n",
      "24/11/18 22:13:46 WARN MemoryStore: Not enough space to cache rdd_241_75 in memory! (computed 27.0 MiB so far)\n",
      "24/11/18 22:13:46 WARN MemoryStore: Not enough space to cache rdd_241_72 in memory! (computed 3.5 MiB so far)\n",
      "24/11/18 22:13:46 WARN MemoryStore: Not enough space to cache rdd_241_73 in memory! (computed 3.5 MiB so far)\n",
      "24/11/18 22:13:55 WARN MemoryStore: Not enough space to cache rdd_241_35 in memory! (computed 7.9 MiB so far)\n",
      "24/11/18 22:13:55 WARN MemoryStore: Not enough space to cache rdd_241_34 in memory! (computed 5.3 MiB so far)\n",
      "24/11/18 22:13:55 WARN MemoryStore: Not enough space to cache rdd_241_36 in memory! (computed 3.5 MiB so far)\n",
      "24/11/18 22:13:55 WARN MemoryStore: Not enough space to cache rdd_241_37 in memory! (computed 3.5 MiB so far)\n",
      "24/11/18 22:13:55 WARN MemoryStore: Not enough space to cache rdd_241_38 in memory! (computed 3.5 MiB so far)\n",
      "24/11/18 22:13:56 WARN MemoryStore: Not enough space to cache rdd_241_33 in memory! (computed 27.0 MiB so far)\n",
      "24/11/18 22:13:56 WARN MemoryStore: Not enough space to cache rdd_241_39 in memory! (computed 7.9 MiB so far)\n",
      "24/11/18 22:13:57 WARN MemoryStore: Not enough space to cache rdd_241_40 in memory! (computed 27.0 MiB so far)\n",
      "24/11/18 22:14:00 WARN MemoryStore: Not enough space to cache rdd_241_41 in memory! (computed 27.0 MiB so far)\n",
      "24/11/18 22:14:00 WARN MemoryStore: Not enough space to cache rdd_241_42 in memory! (computed 1025.6 KiB so far)\n",
      "24/11/18 22:14:00 WARN MemoryStore: Not enough space to cache rdd_241_44 in memory! (computed 2.3 MiB so far)\n",
      "24/11/18 22:14:00 WARN MemoryStore: Failed to reserve initial memory threshold of 1024.0 KiB for computing block rdd_241_45 in memory.\n",
      "24/11/18 22:14:00 WARN MemoryStore: Not enough space to cache rdd_241_43 in memory! (computed 5.3 MiB so far)\n",
      "24/11/18 22:14:00 WARN MemoryStore: Not enough space to cache rdd_241_45 in memory! (computed 384.0 B so far)\n",
      "24/11/18 22:14:00 WARN MemoryStore: Not enough space to cache rdd_241_46 in memory! (computed 5.3 MiB so far)\n",
      "24/11/18 22:14:01 WARN MemoryStore: Not enough space to cache rdd_241_47 in memory! (computed 7.9 MiB so far)\n",
      "24/11/18 22:14:01 WARN MemoryStore: Failed to reserve initial memory threshold of 1024.0 KiB for computing block rdd_241_48 in memory.\n",
      "24/11/18 22:14:01 WARN MemoryStore: Not enough space to cache rdd_241_48 in memory! (computed 384.0 B so far)\n",
      "24/11/18 22:14:04 WARN MemoryStore: Not enough space to cache rdd_241_49 in memory! (computed 27.0 MiB so far)\n",
      "24/11/18 22:14:04 WARN MemoryStore: Not enough space to cache rdd_241_50 in memory! (computed 7.9 MiB so far)\n",
      "24/11/18 22:14:04 WARN MemoryStore: Failed to reserve initial memory threshold of 1024.0 KiB for computing block rdd_241_51 in memory.\n",
      "24/11/18 22:14:04 WARN MemoryStore: Not enough space to cache rdd_241_51 in memory! (computed 384.0 B so far)\n",
      "24/11/18 22:14:05 WARN MemoryStore: Not enough space to cache rdd_241_53 in memory! (computed 3.5 MiB so far)\n",
      "24/11/18 22:14:05 WARN MemoryStore: Not enough space to cache rdd_241_52 in memory! (computed 3.5 MiB so far)\n",
      "24/11/18 22:14:05 WARN MemoryStore: Not enough space to cache rdd_241_54 in memory! (computed 1544.0 KiB so far)\n",
      "24/11/18 22:14:06 WARN MemoryStore: Not enough space to cache rdd_241_55 in memory! (computed 18.0 MiB so far)\n",
      "24/11/18 22:14:06 WARN MemoryStore: Not enough space to cache rdd_241_56 in memory! (computed 12.0 MiB so far)\n",
      "24/11/18 22:14:09 WARN MemoryStore: Not enough space to cache rdd_241_59 in memory! (computed 12.0 MiB so far)\n",
      "24/11/18 22:14:09 WARN MemoryStore: Not enough space to cache rdd_241_58 in memory! (computed 12.0 MiB so far)\n",
      "24/11/18 22:14:09 WARN MemoryStore: Not enough space to cache rdd_241_57 in memory! (computed 7.9 MiB so far)\n",
      "24/11/18 22:14:11 WARN MemoryStore: Not enough space to cache rdd_241_60 in memory! (computed 12.0 MiB so far)\n",
      "24/11/18 22:14:11 WARN MemoryStore: Not enough space to cache rdd_241_61 in memory! (computed 18.0 MiB so far)\n",
      "24/11/18 22:14:12 WARN MemoryStore: Not enough space to cache rdd_241_63 in memory! (computed 12.0 MiB so far)\n",
      "24/11/18 22:14:12 WARN MemoryStore: Not enough space to cache rdd_241_62 in memory! (computed 18.0 MiB so far)\n",
      "24/11/18 22:14:14 WARN MemoryStore: Not enough space to cache rdd_241_64 in memory! (computed 27.0 MiB so far)\n",
      "24/11/18 22:14:14 WARN MemoryStore: Not enough space to cache rdd_241_65 in memory! (computed 7.9 MiB so far)\n",
      "24/11/18 22:14:14 WARN MemoryStore: Failed to reserve initial memory threshold of 1024.0 KiB for computing block rdd_241_66 in memory.\n",
      "24/11/18 22:14:14 WARN MemoryStore: Not enough space to cache rdd_241_66 in memory! (computed 384.0 B so far)\n",
      "24/11/18 22:14:14 WARN MemoryStore: Failed to reserve initial memory threshold of 1024.0 KiB for computing block rdd_241_67 in memory.\n",
      "24/11/18 22:14:14 WARN MemoryStore: Not enough space to cache rdd_241_67 in memory! (computed 384.0 B so far)\n",
      "24/11/18 22:14:15 WARN MemoryStore: Not enough space to cache rdd_241_68 in memory! (computed 5.3 MiB so far)\n",
      "24/11/18 22:14:16 WARN MemoryStore: Not enough space to cache rdd_241_69 in memory! (computed 27.0 MiB so far)\n",
      "24/11/18 22:14:18 WARN MemoryStore: Failed to reserve initial memory threshold of 1024.0 KiB for computing block rdd_241_72 in memory.\n",
      "24/11/18 22:14:18 WARN MemoryStore: Not enough space to cache rdd_241_72 in memory! (computed 384.0 B so far)\n",
      "24/11/18 22:14:19 WARN MemoryStore: Not enough space to cache rdd_241_70 in memory! (computed 7.9 MiB so far)\n",
      "24/11/18 22:14:19 WARN MemoryStore: Not enough space to cache rdd_241_71 in memory! (computed 27.0 MiB so far)\n",
      "24/11/18 22:14:21 WARN MemoryStore: Not enough space to cache rdd_241_74 in memory! (computed 12.0 MiB so far)\n",
      "24/11/18 22:14:21 WARN MemoryStore: Not enough space to cache rdd_241_73 in memory! (computed 7.9 MiB so far)\n",
      "24/11/18 22:14:21 WARN MemoryStore: Not enough space to cache rdd_241_75 in memory! (computed 12.0 MiB so far)\n",
      "24/11/18 22:14:34 WARN MemoryStore: Not enough space to cache rdd_241_36 in memory! (computed 3.5 MiB so far)\n",
      "24/11/18 22:14:34 WARN MemoryStore: Not enough space to cache rdd_241_33 in memory! (computed 18.0 MiB so far)\n",
      "24/11/18 22:14:34 WARN MemoryStore: Not enough space to cache rdd_241_34 in memory! (computed 12.0 MiB so far)\n",
      "24/11/18 22:14:34 WARN MemoryStore: Failed to reserve initial memory threshold of 1024.0 KiB for computing block rdd_241_37 in memory.\n",
      "24/11/18 22:14:34 WARN MemoryStore: Not enough space to cache rdd_241_35 in memory! (computed 2.3 MiB so far)\n",
      "24/11/18 22:14:34 WARN MemoryStore: Not enough space to cache rdd_241_37 in memory! (computed 384.0 B so far)\n",
      "24/11/18 22:14:36 WARN MemoryStore: Not enough space to cache rdd_241_38 in memory! (computed 27.0 MiB so far)\n",
      "24/11/18 22:14:36 WARN MemoryStore: Not enough space to cache rdd_241_40 in memory! (computed 5.3 MiB so far)\n",
      "24/11/18 22:14:36 WARN MemoryStore: Not enough space to cache rdd_241_39 in memory! (computed 2.3 MiB so far)\n",
      "24/11/18 22:14:40 WARN MemoryStore: Not enough space to cache rdd_241_41 in memory! (computed 27.0 MiB so far)\n",
      "24/11/18 22:14:41 WARN MemoryStore: Not enough space to cache rdd_241_42 in memory! (computed 7.9 MiB so far)\n",
      "24/11/18 22:14:41 WARN MemoryStore: Failed to reserve initial memory threshold of 1024.0 KiB for computing block rdd_241_43 in memory.\n",
      "24/11/18 22:14:41 WARN MemoryStore: Not enough space to cache rdd_241_43 in memory! (computed 384.0 B so far)\n",
      "24/11/18 22:14:41 WARN MemoryStore: Failed to reserve initial memory threshold of 1024.0 KiB for computing block rdd_241_44 in memory.\n",
      "24/11/18 22:14:41 WARN MemoryStore: Not enough space to cache rdd_241_44 in memory! (computed 384.0 B so far)\n",
      "24/11/18 22:14:42 WARN MemoryStore: Failed to reserve initial memory threshold of 1024.0 KiB for computing block rdd_241_45 in memory.\n",
      "24/11/18 22:14:42 WARN MemoryStore: Not enough space to cache rdd_241_45 in memory! (computed 384.0 B so far)\n",
      "24/11/18 22:14:42 WARN MemoryStore: Failed to reserve initial memory threshold of 1024.0 KiB for computing block rdd_241_46 in memory.\n",
      "24/11/18 22:14:42 WARN MemoryStore: Not enough space to cache rdd_241_46 in memory! (computed 384.0 B so far)\n",
      "24/11/18 22:14:43 WARN MemoryStore: Not enough space to cache rdd_241_47 in memory! (computed 7.9 MiB so far)\n",
      "24/11/18 22:14:43 WARN MemoryStore: Not enough space to cache rdd_241_48 in memory! (computed 27.0 MiB so far)\n",
      "24/11/18 22:14:47 WARN MemoryStore: Not enough space to cache rdd_241_49 in memory! (computed 27.0 MiB so far)\n",
      "24/11/18 22:14:48 WARN MemoryStore: Not enough space to cache rdd_241_51 in memory! (computed 2.3 MiB so far)\n",
      "24/11/18 22:14:48 WARN MemoryStore: Not enough space to cache rdd_241_50 in memory! (computed 5.3 MiB so far)\n",
      "24/11/18 22:14:49 WARN MemoryStore: Not enough space to cache rdd_241_54 in memory! (computed 3.5 MiB so far)\n",
      "24/11/18 22:14:49 WARN MemoryStore: Not enough space to cache rdd_241_55 in memory! (computed 7.9 MiB so far)\n",
      "24/11/18 22:14:49 WARN MemoryStore: Not enough space to cache rdd_241_52 in memory! (computed 12.0 MiB so far)\n",
      "24/11/18 22:14:49 WARN MemoryStore: Not enough space to cache rdd_241_53 in memory! (computed 12.0 MiB so far)\n",
      "24/11/18 22:14:51 WARN MemoryStore: Not enough space to cache rdd_241_56 in memory! (computed 27.0 MiB so far)\n",
      "24/11/18 22:14:55 WARN MemoryStore: Not enough space to cache rdd_241_58 in memory! (computed 7.9 MiB so far)\n",
      "24/11/18 22:14:55 WARN MemoryStore: Not enough space to cache rdd_241_57 in memory! (computed 27.0 MiB so far)\n",
      "24/11/18 22:14:55 WARN MemoryStore: Failed to reserve initial memory threshold of 1024.0 KiB for computing block rdd_241_59 in memory.\n",
      "24/11/18 22:14:55 WARN MemoryStore: Not enough space to cache rdd_241_59 in memory! (computed 384.0 B so far)\n",
      "24/11/18 22:14:56 WARN MemoryStore: Not enough space to cache rdd_241_61 in memory! (computed 2.3 MiB so far)\n",
      "24/11/18 22:14:56 WARN MemoryStore: Not enough space to cache rdd_241_60 in memory! (computed 5.3 MiB so far)\n",
      "24/11/18 22:14:56 WARN MemoryStore: Not enough space to cache rdd_241_62 in memory! (computed 7.9 MiB so far)\n",
      "24/11/18 22:14:56 WARN MemoryStore: Failed to reserve initial memory threshold of 1024.0 KiB for computing block rdd_241_63 in memory.\n",
      "24/11/18 22:14:56 WARN MemoryStore: Not enough space to cache rdd_241_63 in memory! (computed 384.0 B so far)\n",
      "24/11/18 22:14:58 WARN MemoryStore: Not enough space to cache rdd_241_64 in memory! (computed 27.0 MiB so far)\n",
      "24/11/18 22:15:01 WARN MemoryStore: Failed to reserve initial memory threshold of 1024.0 KiB for computing block rdd_241_67 in memory.\n",
      "24/11/18 22:15:01 WARN MemoryStore: Not enough space to cache rdd_241_67 in memory! (computed 384.0 B so far)\n",
      "24/11/18 22:15:01 WARN MemoryStore: Not enough space to cache rdd_241_66 in memory! (computed 7.9 MiB so far)\n",
      "24/11/18 22:15:01 WARN MemoryStore: Not enough space to cache rdd_241_65 in memory! (computed 27.0 MiB so far)\n",
      "24/11/18 22:15:01 WARN MemoryStore: Failed to reserve initial memory threshold of 1024.0 KiB for computing block rdd_241_68 in memory.\n",
      "24/11/18 22:15:01 WARN MemoryStore: Not enough space to cache rdd_241_68 in memory! (computed 384.0 B so far)\n",
      "24/11/18 22:15:02 WARN MemoryStore: Not enough space to cache rdd_241_70 in memory! (computed 3.5 MiB so far)\n",
      "24/11/18 22:15:02 WARN MemoryStore: Not enough space to cache rdd_241_69 in memory! (computed 3.5 MiB so far)\n",
      "24/11/18 22:15:04 WARN MemoryStore: Not enough space to cache rdd_241_71 in memory! (computed 18.0 MiB so far)\n",
      "24/11/18 22:15:04 WARN MemoryStore: Not enough space to cache rdd_241_72 in memory! (computed 12.0 MiB so far)\n",
      "24/11/18 22:15:07 WARN MemoryStore: Not enough space to cache rdd_241_74 in memory! (computed 12.0 MiB so far)\n",
      "24/11/18 22:15:07 WARN MemoryStore: Not enough space to cache rdd_241_73 in memory! (computed 18.0 MiB so far)\n",
      "24/11/18 22:15:07 WARN MemoryStore: Not enough space to cache rdd_241_75 in memory! (computed 5.3 MiB so far)\n",
      "24/11/18 22:15:24 WARN MemoryStore: Not enough space to cache rdd_241_33 in memory! (computed 18.0 MiB so far)\n",
      "24/11/18 22:15:24 WARN MemoryStore: Not enough space to cache rdd_241_35 in memory! (computed 7.9 MiB so far)\n",
      "24/11/18 22:15:24 WARN MemoryStore: Not enough space to cache rdd_241_34 in memory! (computed 7.9 MiB so far)\n",
      "24/11/18 22:15:24 WARN MemoryStore: Not enough space to cache rdd_241_36 in memory! (computed 12.0 MiB so far)\n",
      "24/11/18 22:15:26 WARN MemoryStore: Not enough space to cache rdd_241_38 in memory! (computed 12.0 MiB so far)\n",
      "24/11/18 22:15:26 WARN MemoryStore: Not enough space to cache rdd_241_37 in memory! (computed 18.0 MiB so far)\n",
      "24/11/18 22:15:28 WARN MemoryStore: Not enough space to cache rdd_241_39 in memory! (computed 12.0 MiB so far)\n",
      "24/11/18 22:15:28 WARN MemoryStore: Not enough space to cache rdd_241_40 in memory! (computed 5.3 MiB so far)\n",
      "24/11/18 22:15:31 WARN MemoryStore: Not enough space to cache rdd_241_42 in memory! (computed 12.0 MiB so far)\n",
      "24/11/18 22:15:31 WARN MemoryStore: Not enough space to cache rdd_241_43 in memory! (computed 5.3 MiB so far)\n",
      "24/11/18 22:15:31 WARN MemoryStore: Failed to reserve initial memory threshold of 1024.0 KiB for computing block rdd_241_44 in memory.\n",
      "24/11/18 22:15:31 WARN MemoryStore: Not enough space to cache rdd_241_41 in memory! (computed 18.0 MiB so far)\n",
      "24/11/18 22:15:31 WARN MemoryStore: Not enough space to cache rdd_241_44 in memory! (computed 384.0 B so far)\n",
      "24/11/18 22:15:34 WARN MemoryStore: Not enough space to cache rdd_241_46 in memory! (computed 12.0 MiB so far)\n",
      "24/11/18 22:15:34 WARN MemoryStore: Not enough space to cache rdd_241_45 in memory! (computed 18.0 MiB so far)\n",
      "24/11/18 22:15:34 WARN MemoryStore: Not enough space to cache rdd_241_47 in memory! (computed 3.5 MiB so far)\n",
      "24/11/18 22:15:34 WARN MemoryStore: Not enough space to cache rdd_241_48 in memory! (computed 2.3 MiB so far)\n",
      "24/11/18 22:15:38 WARN MemoryStore: Not enough space to cache rdd_241_52 in memory! (computed 3.5 MiB so far)\n",
      "24/11/18 22:15:39 WARN MemoryStore: Not enough space to cache rdd_241_51 in memory! (computed 2.3 MiB so far)\n",
      "24/11/18 22:15:39 WARN MemoryStore: Not enough space to cache rdd_241_50 in memory! (computed 12.0 MiB so far)\n",
      "24/11/18 22:15:39 WARN MemoryStore: Not enough space to cache rdd_241_49 in memory! (computed 18.0 MiB so far)\n",
      "24/11/18 22:15:41 WARN MemoryStore: Not enough space to cache rdd_241_53 in memory! (computed 27.0 MiB so far)\n",
      "24/11/18 22:15:42 WARN MemoryStore: Not enough space to cache rdd_241_54 in memory! (computed 7.9 MiB so far)\n",
      "24/11/18 22:15:42 WARN MemoryStore: Failed to reserve initial memory threshold of 1024.0 KiB for computing block rdd_241_55 in memory.\n",
      "24/11/18 22:15:42 WARN MemoryStore: Not enough space to cache rdd_241_55 in memory! (computed 384.0 B so far)\n",
      "24/11/18 22:15:45 WARN MemoryStore: Not enough space to cache rdd_241_56 in memory! (computed 27.0 MiB so far)\n",
      "24/11/18 22:15:46 WARN MemoryStore: Not enough space to cache rdd_241_57 in memory! (computed 5.3 MiB so far)\n",
      "24/11/18 22:15:46 WARN MemoryStore: Not enough space to cache rdd_241_58 in memory! (computed 2.3 MiB so far)\n",
      "24/11/18 22:15:47 WARN MemoryStore: Not enough space to cache rdd_241_59 in memory! (computed 7.9 MiB so far)\n",
      "24/11/18 22:15:47 WARN MemoryStore: Failed to reserve initial memory threshold of 1024.0 KiB for computing block rdd_241_60 in memory.\n",
      "24/11/18 22:15:47 WARN MemoryStore: Not enough space to cache rdd_241_60 in memory! (computed 384.0 B so far)\n",
      "24/11/18 22:15:49 WARN MemoryStore: Not enough space to cache rdd_241_61 in memory! (computed 27.0 MiB so far)\n",
      "24/11/18 22:15:49 WARN MemoryStore: Not enough space to cache rdd_241_62 in memory! (computed 7.9 MiB so far)\n",
      "24/11/18 22:15:53 WARN MemoryStore: Not enough space to cache rdd_241_63 in memory! (computed 27.0 MiB so far)\n",
      "24/11/18 22:15:53 WARN MemoryStore: Not enough space to cache rdd_241_65 in memory! (computed 5.3 MiB so far)\n",
      "24/11/18 22:15:54 WARN MemoryStore: Not enough space to cache rdd_241_64 in memory! (computed 2.3 MiB so far)\n",
      "24/11/18 22:15:55 WARN MemoryStore: Not enough space to cache rdd_241_66 in memory! (computed 7.9 MiB so far)\n",
      "24/11/18 22:15:55 WARN MemoryStore: Failed to reserve initial memory threshold of 1024.0 KiB for computing block rdd_241_67 in memory.\n",
      "24/11/18 22:15:55 WARN MemoryStore: Not enough space to cache rdd_241_67 in memory! (computed 384.0 B so far)\n",
      "24/11/18 22:15:57 WARN MemoryStore: Not enough space to cache rdd_241_68 in memory! (computed 27.0 MiB so far)\n",
      "24/11/18 22:15:58 WARN MemoryStore: Not enough space to cache rdd_241_69 in memory! (computed 7.9 MiB so far)\n",
      "24/11/18 22:16:00 WARN MemoryStore: Not enough space to cache rdd_241_70 in memory! (computed 27.0 MiB so far)\n",
      "24/11/18 22:16:00 WARN MemoryStore: Not enough space to cache rdd_241_71 in memory! (computed 7.9 MiB so far)\n",
      "24/11/18 22:16:02 WARN MemoryStore: Not enough space to cache rdd_241_73 in memory! (computed 7.9 MiB so far)\n",
      "24/11/18 22:16:02 WARN MemoryStore: Not enough space to cache rdd_241_72 in memory! (computed 12.0 MiB so far)\n",
      "24/11/18 22:16:02 WARN MemoryStore: Not enough space to cache rdd_241_75 in memory! (computed 3.5 MiB so far)\n",
      "24/11/18 22:16:03 WARN MemoryStore: Not enough space to cache rdd_241_74 in memory! (computed 12.0 MiB so far)\n",
      "24/11/18 22:16:22 WARN MemoryStore: Not enough space to cache rdd_241_34 in memory! (computed 2.3 MiB so far)\n",
      "24/11/18 22:16:22 WARN MemoryStore: Not enough space to cache rdd_241_35 in memory! (computed 5.3 MiB so far)\n",
      "24/11/18 22:16:23 WARN MemoryStore: Not enough space to cache rdd_241_33 in memory! (computed 27.0 MiB so far)\n",
      "24/11/18 22:16:23 WARN MemoryStore: Not enough space to cache rdd_241_36 in memory! (computed 2.3 MiB so far)\n",
      "24/11/18 22:16:24 WARN MemoryStore: Not enough space to cache rdd_241_37 in memory! (computed 7.9 MiB so far)\n",
      "24/11/18 22:16:25 WARN MemoryStore: Failed to reserve initial memory threshold of 1024.0 KiB for computing block rdd_241_38 in memory.\n",
      "24/11/18 22:16:25 WARN MemoryStore: Not enough space to cache rdd_241_38 in memory! (computed 384.0 B so far)\n",
      "24/11/18 22:16:26 WARN MemoryStore: Not enough space to cache rdd_241_39 in memory! (computed 27.0 MiB so far)\n",
      "24/11/18 22:16:29 WARN MemoryStore: Not enough space to cache rdd_241_40 in memory! (computed 27.0 MiB so far)\n",
      "24/11/18 22:16:29 WARN MemoryStore: Not enough space to cache rdd_241_41 in memory! (computed 7.9 MiB so far)\n",
      "24/11/18 22:16:30 WARN MemoryStore: Not enough space to cache rdd_241_42 in memory! (computed 7.9 MiB so far)\n",
      "24/11/18 22:16:32 WARN MemoryStore: Not enough space to cache rdd_241_43 in memory! (computed 27.0 MiB so far)\n",
      "24/11/18 22:16:32 WARN MemoryStore: Not enough space to cache rdd_241_44 in memory! (computed 7.9 MiB so far)\n",
      "24/11/18 22:16:33 WARN MemoryStore: Failed to reserve initial memory threshold of 1024.0 KiB for computing block rdd_241_45 in memory.\n",
      "24/11/18 22:16:33 WARN MemoryStore: Not enough space to cache rdd_241_45 in memory! (computed 384.0 B so far)\n",
      "24/11/18 22:16:33 WARN MemoryStore: Failed to reserve initial memory threshold of 1024.0 KiB for computing block rdd_241_46 in memory.\n",
      "24/11/18 22:16:33 WARN MemoryStore: Not enough space to cache rdd_241_46 in memory! (computed 384.0 B so far)\n",
      "24/11/18 22:16:34 WARN MemoryStore: Not enough space to cache rdd_241_47 in memory! (computed 7.9 MiB so far)\n",
      "24/11/18 22:16:36 WARN MemoryStore: Not enough space to cache rdd_241_48 in memory! (computed 27.0 MiB so far)\n",
      "24/11/18 22:16:36 WARN MemoryStore: Not enough space to cache rdd_241_49 in memory! (computed 7.9 MiB so far)\n",
      "24/11/18 22:16:40 WARN MemoryStore: Not enough space to cache rdd_241_51 in memory! (computed 5.3 MiB so far)\n",
      "24/11/18 22:16:40 WARN MemoryStore: Not enough space to cache rdd_241_52 in memory! (computed 12.0 MiB so far)\n",
      "24/11/18 22:16:40 WARN MemoryStore: Not enough space to cache rdd_241_50 in memory! (computed 18.0 MiB so far)\n",
      "24/11/18 22:16:42 WARN MemoryStore: Not enough space to cache rdd_241_54 in memory! (computed 5.3 MiB so far)\n",
      "24/11/18 22:16:42 WARN MemoryStore: Not enough space to cache rdd_241_53 in memory! (computed 27.0 MiB so far)\n",
      "24/11/18 22:16:43 WARN MemoryStore: Not enough space to cache rdd_241_55 in memory! (computed 2.3 MiB so far)\n",
      "24/11/18 22:16:43 WARN MemoryStore: Not enough space to cache rdd_241_56 in memory! (computed 7.9 MiB so far)\n",
      "24/11/18 22:16:46 WARN MemoryStore: Not enough space to cache rdd_241_57 in memory! (computed 27.0 MiB so far)\n",
      "24/11/18 22:16:48 WARN MemoryStore: Not enough space to cache rdd_241_58 in memory! (computed 18.0 MiB so far)\n",
      "24/11/18 22:16:48 WARN MemoryStore: Not enough space to cache rdd_241_59 in memory! (computed 12.0 MiB so far)\n",
      "24/11/18 22:16:49 WARN MemoryStore: Failed to reserve initial memory threshold of 1024.0 KiB for computing block rdd_241_61 in memory.\n",
      "24/11/18 22:16:49 WARN MemoryStore: Not enough space to cache rdd_241_61 in memory! (computed 384.0 B so far)\n",
      "24/11/18 22:16:49 WARN MemoryStore: Failed to reserve initial memory threshold of 1024.0 KiB for computing block rdd_241_62 in memory.\n",
      "24/11/18 22:16:49 WARN MemoryStore: Not enough space to cache rdd_241_62 in memory! (computed 384.0 B so far)\n",
      "24/11/18 22:16:49 WARN MemoryStore: Not enough space to cache rdd_241_60 in memory! (computed 5.3 MiB so far)\n",
      "24/11/18 22:16:52 WARN MemoryStore: Not enough space to cache rdd_241_64 in memory! (computed 12.0 MiB so far)\n",
      "24/11/18 22:16:52 WARN MemoryStore: Not enough space to cache rdd_241_63 in memory! (computed 18.0 MiB so far)\n",
      "24/11/18 22:16:53 WARN MemoryStore: Not enough space to cache rdd_241_65 in memory! (computed 12.0 MiB so far)\n",
      "24/11/18 22:16:56 WARN MemoryStore: Not enough space to cache rdd_241_67 in memory! (computed 7.9 MiB so far)\n",
      "24/11/18 22:16:56 WARN MemoryStore: Not enough space to cache rdd_241_66 in memory! (computed 27.0 MiB so far)\n",
      "24/11/18 22:16:57 WARN MemoryStore: Not enough space to cache rdd_241_68 in memory! (computed 7.9 MiB so far)\n",
      "24/11/18 22:17:00 WARN MemoryStore: Not enough space to cache rdd_241_69 in memory! (computed 18.0 MiB so far)\n",
      "24/11/18 22:17:00 WARN MemoryStore: Not enough space to cache rdd_241_70 in memory! (computed 5.3 MiB so far)\n",
      "24/11/18 22:17:00 WARN MemoryStore: Not enough space to cache rdd_241_71 in memory! (computed 12.0 MiB so far)\n",
      "24/11/18 22:17:00 WARN MemoryStore: Failed to reserve initial memory threshold of 1024.0 KiB for computing block rdd_241_72 in memory.\n",
      "24/11/18 22:17:00 WARN MemoryStore: Not enough space to cache rdd_241_72 in memory! (computed 384.0 B so far)\n",
      "24/11/18 22:17:02 WARN MemoryStore: Not enough space to cache rdd_241_73 in memory! (computed 27.0 MiB so far)\n",
      "24/11/18 22:17:03 WARN MemoryStore: Not enough space to cache rdd_241_74 in memory! (computed 7.9 MiB so far)\n",
      "24/11/18 22:17:05 WARN MemoryStore: Not enough space to cache rdd_241_75 in memory! (computed 27.0 MiB so far)\n",
      "                                                                                \r"
     ]
    }
   ],
   "source": [
    "model = ml_class.fit(train)"
   ]
  },
  {
   "cell_type": "code",
   "execution_count": 53,
   "metadata": {},
   "outputs": [
    {
     "name": "stderr",
     "output_type": "stream",
     "text": [
      "                                                                                \r"
     ]
    }
   ],
   "source": [
    "model.save(\"RandomForest_model\")"
   ]
  },
  {
   "cell_type": "code",
   "execution_count": 52,
   "metadata": {},
   "outputs": [],
   "source": [
    "#evaluar modelo\n",
    "prediction = model.transform(test)"
   ]
  },
  {
   "cell_type": "code",
   "execution_count": 53,
   "metadata": {},
   "outputs": [],
   "source": [
    "evaluator = pyml.evaluation.BinaryClassificationEvaluator(\n",
    "    labelCol=\"Cancelled\",\n",
    "    rawPredictionCol = \"prediction\",\n",
    "    metricName=\"areaUnderROC\"\n",
    ")"
   ]
  },
  {
   "cell_type": "code",
   "execution_count": 54,
   "metadata": {},
   "outputs": [
    {
     "name": "stderr",
     "output_type": "stream",
     "text": [
      "                                                                                \r"
     ]
    }
   ],
   "source": [
    "AUC = evaluator.evaluate(prediction)"
   ]
  },
  {
   "cell_type": "code",
   "execution_count": 55,
   "metadata": {},
   "outputs": [
    {
     "data": {
      "text/plain": [
       "0.7282688942849"
      ]
     },
     "execution_count": 55,
     "metadata": {},
     "output_type": "execute_result"
    }
   ],
   "source": [
    "AUC"
   ]
  },
  {
   "cell_type": "code",
   "execution_count": 56,
   "metadata": {},
   "outputs": [
    {
     "name": "stderr",
     "output_type": "stream",
     "text": [
      "                                                                                \r"
     ]
    }
   ],
   "source": [
    "#true positive, true negative, false positive, false negative\n",
    "\n",
    "tp = prediction.filter((pysqlfun.col(\"Cancelled\") == 1) & (pysqlfun.col(\"prediction\") == 1)).count()\n",
    "tn = prediction.filter((pysqlfun.col(\"Cancelled\") == 0) & (pysqlfun.col(\"prediction\") == 0)).count()\n",
    "fp = prediction.filter((pysqlfun.col(\"Cancelled\") == 0) & (pysqlfun.col(\"prediction\") == 1)).count()\n",
    "fn = prediction.filter((pysqlfun.col(\"Cancelled\") == 1) & (pysqlfun.col(\"prediction\") == 0)).count()"
   ]
  },
  {
   "cell_type": "code",
   "execution_count": 57,
   "metadata": {},
   "outputs": [
    {
     "name": "stdout",
     "output_type": "stream",
     "text": [
      "Accuracy: 0.8699598316854157\n"
     ]
    }
   ],
   "source": [
    "#accuracy\n",
    "accuracy = (tp + tn) / (tp + tn + fp + fn)\n",
    "print(f\"Accuracy: {accuracy}\")"
   ]
  },
  {
   "cell_type": "code",
   "execution_count": 58,
   "metadata": {},
   "outputs": [
    {
     "name": "stdout",
     "output_type": "stream",
     "text": [
      "Precision: 0.11528245853623705\n"
     ]
    }
   ],
   "source": [
    "#precision\n",
    "precision = tp / (tp + fp)\n",
    "print(f\"Precision: {precision}\")"
   ]
  },
  {
   "cell_type": "code",
   "execution_count": 59,
   "metadata": {},
   "outputs": [
    {
     "name": "stdout",
     "output_type": "stream",
     "text": [
      "Recall: 0.5785694630206767\n"
     ]
    }
   ],
   "source": [
    "#recall\n",
    "recall = tp / (tp + fn)\n",
    "print(f\"Recall: {recall}\")"
   ]
  },
  {
   "cell_type": "code",
   "execution_count": 60,
   "metadata": {},
   "outputs": [
    {
     "name": "stdout",
     "output_type": "stream",
     "text": [
      "F1: 0.19225690110175203\n"
     ]
    }
   ],
   "source": [
    "#F1\n",
    "\n",
    "f1 = 2 *(precision * recall) / (precision + recall)\n",
    "\n",
    "print(f\"F1: {f1}\")"
   ]
  },
  {
   "cell_type": "code",
   "execution_count": 96,
   "metadata": {},
   "outputs": [],
   "source": [
    "spark.stop()"
   ]
  }
 ],
 "metadata": {
  "kernelspec": {
   "display_name": ".venv",
   "language": "python",
   "name": "python3"
  },
  "language_info": {
   "codemirror_mode": {
    "name": "ipython",
    "version": 3
   },
   "file_extension": ".py",
   "mimetype": "text/x-python",
   "name": "python",
   "nbconvert_exporter": "python",
   "pygments_lexer": "ipython3",
   "version": "3.12.3"
  }
 },
 "nbformat": 4,
 "nbformat_minor": 2
}
